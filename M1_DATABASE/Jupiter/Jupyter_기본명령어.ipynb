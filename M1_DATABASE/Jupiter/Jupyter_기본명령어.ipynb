{
 "cells": [
  {
   "cell_type": "code",
   "execution_count": 1,
   "id": "2f6997f2-303d-47bb-8012-fa54413ad01c",
   "metadata": {},
   "outputs": [
    {
     "name": "stdout",
     "output_type": "stream",
     "text": [
      "Python 3.10.14\n"
     ]
    }
   ],
   "source": [
    "!python --version"
   ]
  },
  {
   "cell_type": "code",
   "execution_count": 2,
   "id": "8ff524f4-56c9-4c4f-9251-c830e2b44983",
   "metadata": {},
   "outputs": [
    {
     "name": "stdout",
     "output_type": "stream",
     "text": [
      "C:\\Users\\Administrator\\anaconda3\\envs\\myenv\\python.exe\n",
      "C:\\Users\\Administrator\\anaconda3\\python.exe\n",
      "C:\\Users\\Administrator\\AppData\\Local\\Microsoft\\WindowsApps\\python.exe\n"
     ]
    }
   ],
   "source": [
    "!where python"
   ]
  },
  {
   "cell_type": "code",
   "execution_count": 3,
   "id": "0c13574a-a20b-4ff1-b81d-82ac299f9f6d",
   "metadata": {},
   "outputs": [
    {
     "name": "stdout",
     "output_type": "stream",
     "text": [
      "Current Directory:\n"
     ]
    },
    {
     "data": {
      "text/plain": [
       "'C:\\\\Users\\\\Administrator'"
      ]
     },
     "execution_count": 3,
     "metadata": {},
     "output_type": "execute_result"
    }
   ],
   "source": [
    "print(\"Current Directory:\")\n",
    "%pwd"
   ]
  },
  {
   "cell_type": "code",
   "execution_count": 4,
   "id": "ac160521-daa3-4857-958a-018787225d33",
   "metadata": {},
   "outputs": [
    {
     "name": "stdout",
     "output_type": "stream",
     "text": [
      " C 드라이브의 볼륨에는 이름이 없습니다.\n",
      " 볼륨 일련 번호: C672-E692\n",
      "\n",
      " C:\\Users\\Administrator 디렉터리\n",
      "\n",
      "2024-05-24  오후 05:21    <DIR>          .\n",
      "2024-05-24  오후 05:21    <DIR>          ..\n",
      "2024-05-23  오후 12:27    <DIR>          .anaconda\n",
      "2024-05-23  오후 03:37    <DIR>          .conda\n",
      "2024-05-23  오후 12:27                25 .condarc\n",
      "2024-05-23  오후 12:27    <DIR>          .continuum\n",
      "2024-05-24  오후 05:15    <DIR>          .ipynb_checkpoints\n",
      "2024-05-23  오후 02:27    <DIR>          .ipython\n",
      "2024-05-23  오후 02:45    <DIR>          .jupyter\n",
      "2024-04-23  오후 05:37    <DIR>          .ms-ad\n",
      "2022-07-01  오후 06:41    <DIR>          3D Objects\n",
      "2024-05-23  오후 03:17    <DIR>          anaconda3\n",
      "2022-07-01  오후 06:41    <DIR>          Contacts\n",
      "2024-05-23  오전 11:26    <DIR>          Desktop\n",
      "2024-05-23  오전 11:56    <DIR>          Documents\n",
      "2024-05-24  오후 05:15    <DIR>          Downloads\n",
      "2022-07-01  오후 06:41    <DIR>          Favorites\n",
      "2022-07-01  오후 06:41    <DIR>          Links\n",
      "2022-07-01  오후 06:41    <DIR>          Music\n",
      "2022-07-01  오후 06:43    <DIR>          OneDrive\n",
      "2022-07-01  오후 06:41    <DIR>          Pictures\n",
      "2022-07-01  오후 06:41    <DIR>          Saved Games\n",
      "2022-07-01  오후 06:41    <DIR>          Searches\n",
      "2024-05-23  오후 02:29               618 Untitled.ipynb\n",
      "2024-05-23  오후 02:45               618 Untitled1.ipynb\n",
      "2024-05-24  오후 05:21             1,777 Untitled2.ipynb\n",
      "2024-05-24  오후 05:15               618 Untitled3.ipynb\n",
      "2024-04-26  오전 08:42    <DIR>          Videos\n",
      "               5개 파일               3,656 바이트\n",
      "              23개 디렉터리  166,534,189,056 바이트 남음\n"
     ]
    }
   ],
   "source": [
    "%ls"
   ]
  },
  {
   "cell_type": "markdown",
   "id": "d40d2315-cdaa-4181-8613-21275ab7f37d",
   "metadata": {},
   "source": [
    "!dir"
   ]
  },
  {
   "cell_type": "markdown",
   "id": "fe3f7388-411f-4edb-b4b7-69d3204ac168",
   "metadata": {},
   "source": [
    "!dir"
   ]
  },
  {
   "cell_type": "code",
   "execution_count": 5,
   "id": "799d44a6-e013-410e-a6cc-4f9f7a37b316",
   "metadata": {},
   "outputs": [
    {
     "name": "stdout",
     "output_type": "stream",
     "text": [
      " C 드라이브의 볼륨에는 이름이 없습니다.\n",
      " 볼륨 일련 번호: C672-E692\n",
      "\n",
      " C:\\Users\\Administrator 디렉터리\n",
      "\n",
      "2024-05-24  오후 05:23    <DIR>          .\n",
      "2024-05-24  오후 05:23    <DIR>          ..\n",
      "2024-05-23  오후 12:27    <DIR>          .anaconda\n",
      "2024-05-23  오후 03:37    <DIR>          .conda\n",
      "2024-05-23  오후 12:27                25 .condarc\n",
      "2024-05-23  오후 12:27    <DIR>          .continuum\n",
      "2024-05-24  오후 05:15    <DIR>          .ipynb_checkpoints\n",
      "2024-05-23  오후 02:27    <DIR>          .ipython\n",
      "2024-05-23  오후 02:45    <DIR>          .jupyter\n",
      "2024-04-23  오후 05:37    <DIR>          .ms-ad\n",
      "2022-07-01  오후 06:41    <DIR>          3D Objects\n",
      "2024-05-23  오후 03:17    <DIR>          anaconda3\n",
      "2022-07-01  오후 06:41    <DIR>          Contacts\n",
      "2024-05-23  오전 11:26    <DIR>          Desktop\n",
      "2024-05-23  오전 11:56    <DIR>          Documents\n",
      "2024-05-24  오후 05:15    <DIR>          Downloads\n",
      "2022-07-01  오후 06:41    <DIR>          Favorites\n",
      "2022-07-01  오후 06:41    <DIR>          Links\n",
      "2022-07-01  오후 06:41    <DIR>          Music\n",
      "2022-07-01  오후 06:43    <DIR>          OneDrive\n",
      "2022-07-01  오후 06:41    <DIR>          Pictures\n",
      "2022-07-01  오후 06:41    <DIR>          Saved Games\n",
      "2022-07-01  오후 06:41    <DIR>          Searches\n",
      "2024-05-23  오후 02:29               618 Untitled.ipynb\n",
      "2024-05-23  오후 02:45               618 Untitled1.ipynb\n",
      "2024-05-24  오후 05:23             4,297 Untitled2.ipynb\n",
      "2024-05-24  오후 05:15               618 Untitled3.ipynb\n",
      "2024-04-26  오전 08:42    <DIR>          Videos\n",
      "               5개 파일               6,176 바이트\n",
      "              23개 디렉터리  166,528,847,872 바이트 남음\n"
     ]
    }
   ],
   "source": [
    "!dir"
   ]
  },
  {
   "cell_type": "markdown",
   "id": "494c355c-2d18-46c0-86d5-1004ee548651",
   "metadata": {},
   "source": [
    "#### !ls vs %ls\r\n",
    "- !ls는 UNIX 계열 시스템에서 셸 명령어 ls를 실행하여 현재 작업 디렉토리의 파일과 디렉토리를 나열\r\n",
    "- Windows에서는 ls 대신 dir 명령어를 사용 (!dir).\r\n",
    "- %ls는 IPython에서 제공하는 매직 명령어로, 파일 및 디렉토리 목록을 표시. 이는 운영 체제에 관계없이 동일한 방식으로 작동"
   ]
  },
  {
   "cell_type": "markdown",
   "id": "6d3b93ef-79b6-407d-a1c7-e733849b1e51",
   "metadata": {},
   "source": [
    "shift enter: 실행 후에 아래 cell 생성\n",
    "ctrl enter: 실행만.."
   ]
  },
  {
   "cell_type": "code",
   "execution_count": 7,
   "id": "0c3ed742-800e-4673-b61d-f7420f9bf2f2",
   "metadata": {},
   "outputs": [
    {
     "data": {
      "text/plain": [
       "'C:\\\\Users\\\\Administrator'"
      ]
     },
     "execution_count": 7,
     "metadata": {},
     "output_type": "execute_result"
    }
   ],
   "source": [
    "%pwd"
   ]
  },
  {
   "cell_type": "code",
   "execution_count": 8,
   "id": "4cbaea63-a1a2-43b7-9241-d030dff38275",
   "metadata": {},
   "outputs": [],
   "source": [
    "# 새파일 생성 쓰기\n",
    "with open('example.txt','w') as file:\n",
    "    file.write(\"this is an example file\")"
   ]
  },
  {
   "cell_type": "code",
   "execution_count": 12,
   "id": "efa23050-3a65-48c7-9b28-98311404842d",
   "metadata": {},
   "outputs": [],
   "source": []
  },
  {
   "cell_type": "code",
   "execution_count": 11,
   "id": "c9518c52-c5b0-4810-9035-074f3d0ae5a0",
   "metadata": {},
   "outputs": [],
   "source": [
    "# 새파일 생성 쓰기\n",
    "with open('example.txt','w') as file:\n",
    "    file.write(\"this is an example file\")"
   ]
  },
  {
   "cell_type": "code",
   "execution_count": 15,
   "id": "6d8fc33a-ab20-4f5e-99f5-ba0cf27c6e74",
   "metadata": {},
   "outputs": [],
   "source": [
    "with open('example.txt','r') as file:\n",
    "    file.read()"
   ]
  },
  {
   "cell_type": "code",
   "execution_count": 17,
   "id": "e216e76e-1e64-4ef5-a451-fc216e34354b",
   "metadata": {},
   "outputs": [],
   "source": [
    "!del example.txt"
   ]
  },
  {
   "cell_type": "code",
   "execution_count": 21,
   "id": "be35163e-7f52-4441-8a60-9e66dfba08cf",
   "metadata": {},
   "outputs": [],
   "source": [
    "!mkdir test_dir"
   ]
  },
  {
   "cell_type": "code",
   "execution_count": 19,
   "id": "0d986c2f-1721-4ab9-97ec-600af343d8e2",
   "metadata": {},
   "outputs": [
    {
     "name": "stdout",
     "output_type": "stream",
     "text": [
      "C:\\Users\\Administrator\\test_dir\n"
     ]
    },
    {
     "name": "stderr",
     "output_type": "stream",
     "text": [
      "C:\\Users\\Administrator\\anaconda3\\envs\\myenv\\lib\\site-packages\\IPython\\core\\magics\\osm.py:417: UserWarning: using dhist requires you to install the `pickleshare` library.\n",
      "  self.shell.db['dhist'] = compress_dhist(dhist)[-100:]\n"
     ]
    },
    {
     "data": {
      "text/plain": [
       "'C:\\\\Users\\\\Administrator\\\\test_dir'"
      ]
     },
     "execution_count": 19,
     "metadata": {},
     "output_type": "execute_result"
    }
   ],
   "source": [
    "%cd test_dir\n",
    "%pwd"
   ]
  },
  {
   "cell_type": "code",
   "execution_count": 22,
   "id": "9eba4c9f-e669-4d3a-b1e7-523e82b20102",
   "metadata": {},
   "outputs": [
    {
     "data": {
      "text/plain": [
       "'C:\\\\Users\\\\Administrator\\\\test_dir'"
      ]
     },
     "execution_count": 22,
     "metadata": {},
     "output_type": "execute_result"
    }
   ],
   "source": [
    "%pwd"
   ]
  },
  {
   "cell_type": "code",
   "execution_count": 23,
   "id": "7b200f70-7987-404f-aee4-19f0d0b4ffd7",
   "metadata": {},
   "outputs": [
    {
     "name": "stdout",
     "output_type": "stream",
     "text": [
      "Collecting pickleshare\n",
      "  Downloading pickleshare-0.7.5-py2.py3-none-any.whl.metadata (1.5 kB)\n",
      "Downloading pickleshare-0.7.5-py2.py3-none-any.whl (6.9 kB)\n",
      "Installing collected packages: pickleshare\n",
      "Successfully installed pickleshare-0.7.5\n"
     ]
    }
   ],
   "source": [
    "!pip install pickleshare"
   ]
  },
  {
   "cell_type": "code",
   "execution_count": 24,
   "id": "1e89ddd1-4e0f-4c60-b110-7ee8ea29980c",
   "metadata": {},
   "outputs": [],
   "source": [
    "# 새파일 생성 쓰기\n",
    "with open('example.txt','w') as file:\n",
    "    file.write(\"this is an example file\")"
   ]
  },
  {
   "cell_type": "code",
   "execution_count": 27,
   "id": "7a1096d4-240a-4ac5-bf5e-146e5df0bd68",
   "metadata": {},
   "outputs": [
    {
     "name": "stdout",
     "output_type": "stream",
     "text": [
      "C:\\Users\\Administrator\n"
     ]
    }
   ],
   "source": [
    "%cd ../"
   ]
  },
  {
   "cell_type": "code",
   "execution_count": 26,
   "id": "04dfc54b-2ad3-4d77-99a7-5431cd52a113",
   "metadata": {},
   "outputs": [
    {
     "data": {
      "text/plain": [
       "'C:\\\\Users\\\\Administrator\\\\test_dir'"
      ]
     },
     "execution_count": 26,
     "metadata": {},
     "output_type": "execute_result"
    }
   ],
   "source": [
    "%pwd"
   ]
  },
  {
   "cell_type": "code",
   "execution_count": 31,
   "id": "56c9f88a-93b1-48a9-aa30-1b41ed3355cb",
   "metadata": {},
   "outputs": [
    {
     "name": "stdout",
     "output_type": "stream",
     "text": [
      " C 드라이브의 볼륨에는 이름이 없습니다.\n",
      " 볼륨 일련 번호: C672-E692\n",
      "\n",
      " C:\\Users\\Administrator 디렉터리\n",
      "\n",
      "2024-05-24  오후 05:37    <DIR>          .\n",
      "2024-05-24  오후 05:37    <DIR>          ..\n",
      "2024-05-23  오후 12:27    <DIR>          .anaconda\n",
      "2024-05-23  오후 03:37    <DIR>          .conda\n",
      "2024-05-23  오후 12:27                25 .condarc\n",
      "2024-05-23  오후 12:27    <DIR>          .continuum\n",
      "2024-05-24  오후 05:15    <DIR>          .ipynb_checkpoints\n",
      "2024-05-23  오후 02:27    <DIR>          .ipython\n",
      "2024-05-23  오후 02:45    <DIR>          .jupyter\n",
      "2024-04-23  오후 05:37    <DIR>          .ms-ad\n",
      "2022-07-01  오후 06:41    <DIR>          3D Objects\n",
      "2024-05-23  오후 03:17    <DIR>          anaconda3\n",
      "2022-07-01  오후 06:41    <DIR>          Contacts\n",
      "2024-05-23  오전 11:26    <DIR>          Desktop\n",
      "2024-05-23  오전 11:56    <DIR>          Documents\n",
      "2024-05-24  오후 05:15    <DIR>          Downloads\n",
      "2022-07-01  오후 06:41    <DIR>          Favorites\n",
      "2022-07-01  오후 06:41    <DIR>          Links\n",
      "2022-07-01  오후 06:41    <DIR>          Music\n",
      "2022-07-01  오후 06:43    <DIR>          OneDrive\n",
      "2022-07-01  오후 06:41    <DIR>          Pictures\n",
      "2022-07-01  오후 06:41    <DIR>          Saved Games\n",
      "2022-07-01  오후 06:41    <DIR>          Searches\n",
      "2024-05-24  오후 05:37    <DIR>          test_dir\n",
      "2024-05-23  오후 02:29               618 Untitled.ipynb\n",
      "2024-05-23  오후 02:45               618 Untitled1.ipynb\n",
      "2024-05-24  오후 05:37            12,303 Untitled2.ipynb\n",
      "2024-05-24  오후 05:15               618 Untitled3.ipynb\n",
      "2024-04-26  오전 08:42    <DIR>          Videos\n",
      "               5개 파일              14,182 바이트\n",
      "              24개 디렉터리  166,537,973,760 바이트 남음\n"
     ]
    }
   ],
   "source": [
    "%ls"
   ]
  },
  {
   "cell_type": "code",
   "execution_count": null,
   "id": "a0002996-61e5-473b-97de-896beda4527f",
   "metadata": {},
   "outputs": [],
   "source": []
  },
  {
   "cell_type": "code",
   "execution_count": 33,
   "id": "42d36fb3-a8ad-4c54-b23b-6d97e143cd7d",
   "metadata": {},
   "outputs": [],
   "source": [
    "with open(\"example.txt\",'w') as file:\n",
    "    file.write(\"this is an example file\")"
   ]
  },
  {
   "cell_type": "code",
   "execution_count": 34,
   "id": "7d22902f-1c8c-4dea-b08e-cbe872ac0f63",
   "metadata": {},
   "outputs": [
    {
     "name": "stdout",
     "output_type": "stream",
     "text": [
      "        1개 파일을 이동했습니다.\n"
     ]
    }
   ],
   "source": [
    "!move example.txt new_example.txt"
   ]
  },
  {
   "cell_type": "code",
   "execution_count": 35,
   "id": "4e23adaf-0da2-45c8-99e2-dd0fadc8442e",
   "metadata": {},
   "outputs": [
    {
     "name": "stderr",
     "output_type": "stream",
     "text": [
      "하위 디렉터리 또는 파일 test_dir이(가) 이미 있습니다.\n"
     ]
    }
   ],
   "source": [
    "!mkdir test_dir"
   ]
  },
  {
   "cell_type": "code",
   "execution_count": 36,
   "id": "c089844e-a6c4-4a90-be38-b6ee0e88bed0",
   "metadata": {},
   "outputs": [
    {
     "name": "stdout",
     "output_type": "stream",
     "text": [
      "        1개 파일이 복사되었습니다.\n"
     ]
    }
   ],
   "source": [
    "!copy new_example.txt .\\test_dir\\copy_example.txt"
   ]
  },
  {
   "cell_type": "code",
   "execution_count": 37,
   "id": "1e25d6e7-79c3-4024-bcc0-1bc7b8812374",
   "metadata": {},
   "outputs": [],
   "source": [
    "!cd ../"
   ]
  },
  {
   "cell_type": "code",
   "execution_count": 38,
   "id": "60ba67fa-4b99-42a6-9dac-0050e85df395",
   "metadata": {},
   "outputs": [
    {
     "data": {
      "text/plain": [
       "'C:\\\\Users\\\\Administrator'"
      ]
     },
     "execution_count": 38,
     "metadata": {},
     "output_type": "execute_result"
    }
   ],
   "source": [
    "%pwd"
   ]
  },
  {
   "cell_type": "code",
   "execution_count": 40,
   "id": "c99d1ba6-d564-4fae-901a-2bf389984647",
   "metadata": {},
   "outputs": [
    {
     "name": "stderr",
     "output_type": "stream",
     "text": [
      "지정된 파일을 찾을 수 없습니다.\n"
     ]
    }
   ],
   "source": [
    "!rmdir /s /q test_dir"
   ]
  },
  {
   "cell_type": "code",
   "execution_count": null,
   "id": "b64045f0-ea15-4cb0-b65b-f0b4c2c197fd",
   "metadata": {},
   "outputs": [],
   "source": []
  }
 ],
 "metadata": {
  "kernelspec": {
   "display_name": "Python 3 (ipykernel)",
   "language": "python",
   "name": "python3"
  },
  "language_info": {
   "codemirror_mode": {
    "name": "ipython",
    "version": 3
   },
   "file_extension": ".py",
   "mimetype": "text/x-python",
   "name": "python",
   "nbconvert_exporter": "python",
   "pygments_lexer": "ipython3",
   "version": "3.10.13"
  }
 },
 "nbformat": 4,
 "nbformat_minor": 5
}
