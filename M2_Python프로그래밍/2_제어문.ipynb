{
  "nbformat": 4,
  "nbformat_minor": 0,
  "metadata": {
    "colab": {
      "provenance": []
    },
    "kernelspec": {
      "name": "python3",
      "display_name": "Python 3"
    },
    "language_info": {
      "name": "python"
    }
  },
  "cells": [
    {
      "cell_type": "markdown",
      "source": [
        "제어문(control statement)은 프로그램의 흐름을 제어하는데 사용\n",
        "\n",
        "#### 조건문 (Conditional Statements):\n",
        "- if: 특정 조건이 참(True)일 때 코드 블록을 실행\n",
        "    - 조건은 비교 연산자(==, !=, <, >, <=, >=)와 논리 연산자(and, or, not)를 사용하여 표현할 수 있다\n",
        "- elif: 이전의 if 또는 elif 조건이 거짓(False)일 때 다른 조건을 검사\n",
        "    - elif는 'else if'의 축약형으로, 이전 if 또는 elif 문의 조건이 거짓(False)일 때 다른 조건을 검사\n",
        "    - 여러 elif 문을 사용하여 다양한 조건을 검사할 수 있다\n",
        "- else:\n",
        "    - 이전의 if 또는 elif 문의 조건이 모두 거짓일 때 실행할 코드 블록을 지정"
      ],
      "metadata": {
        "id": "gUh51yqV822X"
      }
    },
    {
      "cell_type": "code",
      "source": [
        "x=10\n",
        "if x > 5:\n",
        "  print('x는 5보다 큽니다.')\n",
        "elif x==5:\n",
        "  print('x는 5입니다')\n",
        "else: print('x는 5보다 작습니다')\n",
        "\n",
        "if x < 5:\n",
        "  print('x는 5보다 작습니다.')\n",
        "else: print('x는 5보다 크거나 같습니다.')\n",
        "\n",
        "\n",
        "# 각 조건이 서로 독립적일때 if문을 연속해서 사용\n",
        "x=10\n",
        "y=5\n",
        "if x>5: print(\"x는 5보다 큽니다.\")\n",
        "\n",
        "if y<10: print('y는 10보다 작습니다.')\n",
        "\n",
        "if x>y: print('x는 y보다 큽니다.')"
      ],
      "metadata": {
        "colab": {
          "base_uri": "https://localhost:8080/",
          "height": 0
        },
        "id": "Mx-xLG8zR6sP",
        "outputId": "9ce27d1c-e3ff-43ba-ad65-6e880e916219"
      },
      "execution_count": 2,
      "outputs": [
        {
          "output_type": "stream",
          "name": "stdout",
          "text": [
            "x는 5보다 큽니다.\n",
            "x는 5보다 크거나 같습니다.\n",
            "x는 5보다 큽니다.\n",
            "y는 10보다 작습니다.\n",
            "x는 y보다 큽니다.\n"
          ]
        }
      ]
    },
    {
      "cell_type": "code",
      "source": [
        "x=10\n",
        "y=5\n",
        "\n",
        "if x > 5:\n",
        "  if y >=6:\n",
        "    print(\"x는 5보다 크고, y는 6보다 크거나 같습니다.\")\n",
        "  else: print(\"x는 5보다 크고, y는 6보다 작습니다.\")\n",
        "\n",
        "else:\n",
        "  if y >=6:\n",
        "    print(\"x는 5보다 작거나 같고, y는 6보다 크거나 같습니다.\")\n",
        "  else: print(\"x는 5보다 작거나 같고, y는 6보다 작습니다.\")\n",
        "\n",
        "\n",
        "# Q. 이중 조건문을 사용하여 코드를 작성하세요\n",
        "Alice={'name':'Alice', 'gender':'female', 'age':46, 'son':2, 'daugther':1}\n",
        "Tom={'name':'Tom', 'gender':'male', 'age':30, 'son':0, 'daugther':2}\n",
        "Mary={'name':'Mary', 'gender':'female', 'age':23, 'son':0, 'daugther':0}\n",
        "A=[Alice, Tom,Mary]; i=0\n",
        "\n",
        "for person in A:\n",
        "  if A[i]['gender'] == 'male':\n",
        "    if A[i]['son'] > 0:\n",
        "      print(f\"{A[i]['name']} is a male and he has at least one son\")\n",
        "    else: print(f\"{A[i]['name']} is a male and he hasn't a son\")\n",
        "  elif A[i]['gender'] == 'female':\n",
        "    if A[i]['son'] > 0:\n",
        "      print(f\"{A[i]['name']} is a female and she has at least one son\")\n",
        "    else: print(f\"{A[i]['name']} is a female and she hasn't a son\")\n",
        "  else: pass\n",
        "  i+=1\n",
        "\n",
        "\n",
        "listdata=['a', 'b', 'c']\n",
        "if 'a' in listdata:\n",
        "  print('a가 listdata안에 있습니다.')\n",
        "if 'b' in listdata:\n",
        "  print('b가 listdata안에 있습니다.')\n",
        "if 'c' in listdata:\n",
        "  print('c가 listdata안에 있습니다.')\n",
        "\n",
        "\n",
        "for i in listdata:\n",
        "  if i in listdata:\n",
        "    print (f'{i}가 listdata안에 있습니다.')\n",
        "\n"
      ],
      "metadata": {
        "colab": {
          "base_uri": "https://localhost:8080/",
          "height": 0
        },
        "id": "VtT-QHBpTRpX",
        "outputId": "68b29b0f-faec-4c13-d239-4e9fe969cf95"
      },
      "execution_count": 3,
      "outputs": [
        {
          "output_type": "stream",
          "name": "stdout",
          "text": [
            "x는 5보다 크고, y는 6보다 작습니다.\n",
            "Alice is a female and she has at least one son\n",
            "Tom is a male and he hasn't a son\n",
            "Mary is a female and she hasn't a son\n",
            "a가 listdata안에 있습니다.\n",
            "b가 listdata안에 있습니다.\n",
            "c가 listdata안에 있습니다.\n",
            "a가 listdata안에 있습니다.\n",
            "b가 listdata안에 있습니다.\n",
            "c가 listdata안에 있습니다.\n"
          ]
        }
      ]
    },
    {
      "cell_type": "code",
      "source": [
        "# Q. \"돈이 있으면 (>= 10000) 택시를 타고, 돈이 없으면 걸어간다\"를 만족하는 조건문을 작성하세요\n",
        "money=int(input(\"현재 소지하고 있는 돈을 기입하세요:  \"))\n",
        "\n",
        "if money >= 10000:\n",
        "  print(f\"가진돈이 {money}, \\\\10000 이상이므로 택시를 타고 간다.\")\n",
        "else: print(f\"가진돈이 \\\\{money}, \\\\10000 미만이므로 걸어가야 한다.\")\n"
      ],
      "metadata": {
        "colab": {
          "base_uri": "https://localhost:8080/",
          "height": 0
        },
        "id": "UAJ1OrS0aIKV",
        "outputId": "a04d0b24-b464-4c63-ed63-2cc4bf072b8f"
      },
      "execution_count": 4,
      "outputs": [
        {
          "output_type": "stream",
          "name": "stdout",
          "text": [
            "현재 소지하고 있는 돈을 기입하세요:  9000\n",
            "가진돈이 \\9000, \\10000 미만이므로 걸어가야 한다.\n"
          ]
        }
      ]
    },
    {
      "cell_type": "code",
      "source": [
        "# Q. 조건부 표현식을 한줄의 조건문으로 작성하세요\n",
        "score = 70\n",
        "if score >= 60:\n",
        "  message = \"success\"\n",
        "else:\n",
        "  meassage = 'failure'\n",
        "print(message)\n",
        "\n",
        "##### LIST에 넣어서 simpl하게 checking 하는 방법\n",
        "y=[\"success\" if score >= 60 else \"failure\"]\n",
        "#y=[print(\"success\") if score >= 60 else print(\"failure\")]\n"
      ],
      "metadata": {
        "colab": {
          "base_uri": "https://localhost:8080/",
          "height": 0
        },
        "id": "yqof4WTje1n9",
        "outputId": "425a229f-5dc8-4a98-b9aa-7fadf7f21f15"
      },
      "execution_count": 5,
      "outputs": [
        {
          "output_type": "stream",
          "name": "stdout",
          "text": [
            "success\n"
          ]
        }
      ]
    },
    {
      "cell_type": "code",
      "source": [
        "# Q. 수입(income)과 지출(spend)를 비교해서 수입이 많으면 저축 증가, 반대이면 빚이 증가하는 프로그램 작성\n",
        "income=int(input(\"수입을 입력하세요: \"))\n",
        "expense=int(input(\"지출을 입력하세요: \"))\n",
        "y=[print(\"저축증가\") if income > expense else print(\"현상 유지 혹은 빚이 증가\")]\n",
        "\n",
        "if income > expense: print(\"저축 증가\")\n",
        "elif income < expense: print(\"빚 증가\")\n",
        "else: print(\"현상 유지\")"
      ],
      "metadata": {
        "colab": {
          "base_uri": "https://localhost:8080/",
          "height": 0
        },
        "id": "9pbrcgZ6fMSf",
        "outputId": "7216dfcf-7a0a-4654-f298-d6ed96173ae9"
      },
      "execution_count": 6,
      "outputs": [
        {
          "output_type": "stream",
          "name": "stdout",
          "text": [
            "수입을 입력하세요: 4000\n",
            "지출을 입력하세요: 3400\n",
            "저축증가\n",
            "저축 증가\n"
          ]
        }
      ]
    },
    {
      "cell_type": "markdown",
      "source": [
        "#### 반복문 (Loop Statements):\n",
        "- for: 시퀀스(리스트, 튜플, 문자열 등)의 아이템을 순회하면서 코드 블록을 실행\n",
        "- while: 특정 조건이 참인 동안 코드 블록을 반복하여 실행"
      ],
      "metadata": {
        "id": "pV6nf_-AhrYW"
      }
    },
    {
      "cell_type": "code",
      "source": [
        "# for 루프는 시퀀스 (리스트, 튜플, 문자열 등)나 반복 가능한 객체(iterable)의 요소를 순회\n",
        "for i in range(10):\n",
        "  print(i, end=' ')\n",
        "print('\\n')\n",
        "\n",
        "# while 루프는 주어진 조건이 참(True)인 동안 코드 블록을 반복\n",
        "# 조건이 거짓(Faulse)이 되면 루프가 종료\n",
        "count=0\n",
        "while count < 5:\n",
        "  print(count, end=' ')\n",
        "  count += 1"
      ],
      "metadata": {
        "colab": {
          "base_uri": "https://localhost:8080/",
          "height": 0
        },
        "id": "i-JLo1ADhqfJ",
        "outputId": "9b412bea-09fd-45be-9422-017031f648f5"
      },
      "execution_count": 7,
      "outputs": [
        {
          "output_type": "stream",
          "name": "stdout",
          "text": [
            "0 1 2 3 4 5 6 7 8 9 \n",
            "\n",
            "0 1 2 3 4 "
          ]
        }
      ]
    },
    {
      "cell_type": "code",
      "source": [
        "count=0; sum=0\n",
        "while count < 5:\n",
        "  sum += count\n",
        "  print(sum, end=' ')\n",
        "  count += 1"
      ],
      "metadata": {
        "colab": {
          "base_uri": "https://localhost:8080/",
          "height": 0
        },
        "id": "Q5fRVX5JmlGO",
        "outputId": "eab69f09-abdb-4bec-d115-7e7b2542aefa"
      },
      "execution_count": 8,
      "outputs": [
        {
          "output_type": "stream",
          "name": "stdout",
          "text": [
            "0 1 3 6 10 "
          ]
        }
      ]
    },
    {
      "cell_type": "code",
      "source": [
        "# 리스트를 순회하는 예\n",
        "for i in [1,2,3,4,5,6]:\n",
        "  print(i, end=' ')\n",
        "print('\\n')\n",
        "\n",
        "# 문자열을 순회하는 예\n",
        "for charac in \"hello\":\n",
        "  print(charac, end=',')\n",
        "print('\\n')"
      ],
      "metadata": {
        "colab": {
          "base_uri": "https://localhost:8080/",
          "height": 0
        },
        "id": "Li5GW5OllKJd",
        "outputId": "dc6a7a39-eca9-45c1-f749-8a8dea8f1023"
      },
      "execution_count": 9,
      "outputs": [
        {
          "output_type": "stream",
          "name": "stdout",
          "text": [
            "1 2 3 4 5 6 \n",
            "\n",
            "h,e,l,l,o,\n",
            "\n"
          ]
        }
      ]
    },
    {
      "cell_type": "code",
      "source": [
        "\n",
        "# Q. d에서 반복문을 사용하여 97, 98, 99를 출력하세요\n",
        "d={'a':97, 'b':98, 'c':99}\n",
        "\n",
        "for key in d:\n",
        "  print(d[key], end=' ')\n",
        "\n",
        "print('\\n')\n",
        "\n",
        "for value in d.values():\n",
        "  print(value, end=' ')\n",
        "\n",
        "print('\\n')\n",
        "\n",
        "for key, value in d.items():\n",
        "  print(value, end=' ')\n",
        "\n",
        "print('\\n',type(d.keys()))\n",
        "print('\\n',type(d.values()))\n",
        "print('\\n',type(d.items()))"
      ],
      "metadata": {
        "colab": {
          "base_uri": "https://localhost:8080/",
          "height": 0
        },
        "id": "texKw41Rmxgo",
        "outputId": "3da51e08-4117-4f5c-dcb3-dc3e2a7b153c"
      },
      "execution_count": 10,
      "outputs": [
        {
          "output_type": "stream",
          "name": "stdout",
          "text": [
            "97 98 99 \n",
            "\n",
            "97 98 99 \n",
            "\n",
            "97 98 99 \n",
            " <class 'dict_keys'>\n",
            "\n",
            " <class 'dict_values'>\n",
            "\n",
            " <class 'dict_items'>\n"
          ]
        }
      ]
    },
    {
      "cell_type": "markdown",
      "source": [
        "## dict_values 클래스의 이해:\n",
        "- 클래스 정의: 파이썬에서 클래스는 객체를 생성하는 데 사용되는 템플릿. dict_values는 딕셔너리의 값을 보여주는 뷰 객체를 생성하는 특별한 내장 클래스.\n",
        "- 뷰 객체: dict_values 객체는 딕셔너리의 값에 대한 동적인 뷰를 제공. \"뷰(view)\"란 원본 딕셔너리 객체의 값이 변하면 그 변화가 dict_values 객체에도 반영되는, 원본 데이터의 실시간 반영본을 의미. 이는 딕셔너리의 값들이 수정, 추가, 삭제될 때 dict_values 객체가 자동으로 업데이트된다는 의미.\n",
        "- 객체 인스턴스: dict_values 객체는 dict_values 클래스의 인스턴스. 이 클래스는 파이썬의 다른 모든 클래스처럼 특정 데이터 구조와 메서드를 가진다. 예를 들어, dict_values 객체는 순회 가능하며 (iterable), 딕셔너리의 모든 값을 순차적으로 접근할 수 있는 메서드를 제공."
      ],
      "metadata": {
        "id": "jif-9u9txvrX"
      }
    },
    {
      "cell_type": "code",
      "source": [
        "d={'a':97, 'b':98, 'c':99}\n",
        "d['b']=100\n",
        "print(d)\n",
        "print(d.values())"
      ],
      "metadata": {
        "colab": {
          "base_uri": "https://localhost:8080/",
          "height": 0
        },
        "id": "75dNamcnys8C",
        "outputId": "05d906f2-33b7-438f-f5cd-adf04a71f7aa"
      },
      "execution_count": 11,
      "outputs": [
        {
          "output_type": "stream",
          "name": "stdout",
          "text": [
            "{'a': 97, 'b': 100, 'c': 99}\n",
            "dict_values([97, 100, 99])\n"
          ]
        }
      ]
    },
    {
      "cell_type": "markdown",
      "source": [
        "#### 제어문 관련 키워드:\n",
        "- break: 현재의 반복문을 중단하고, 반복문 바깥의 코드를 실행\n",
        "- continue: 반복문의 나머지 부분을 건너뛰고, 다음 반복을 시작"
      ],
      "metadata": {
        "id": "lGrJawSHzD0H"
      }
    },
    {
      "cell_type": "code",
      "source": [
        "for i in range(5):\n",
        "  if i == 3:\n",
        "    break\n",
        "  print(i, end=' ')\n",
        "print('\\n')\n",
        "\n",
        "for i in range(5):\n",
        "  if i == 3:\n",
        "    continue\n",
        "  print(i, end=\" \")"
      ],
      "metadata": {
        "colab": {
          "base_uri": "https://localhost:8080/",
          "height": 0
        },
        "id": "JC_Yd9ZIzRuq",
        "outputId": "4e97b13a-5404-465a-ff22-66b62335558a"
      },
      "execution_count": 12,
      "outputs": [
        {
          "output_type": "stream",
          "name": "stdout",
          "text": [
            "0 1 2 \n",
            "\n",
            "0 1 2 4 "
          ]
        }
      ]
    },
    {
      "cell_type": "code",
      "source": [
        "for i in range(10):\n",
        "  if i == 5:\n",
        "    break\n",
        "  print(i, end=' ')\n",
        "print('\\n')\n",
        "\n",
        "for i in range(10):\n",
        "  if i % 2 == 0:\n",
        "    continue\n",
        "  print(i, end=\" \")"
      ],
      "metadata": {
        "colab": {
          "base_uri": "https://localhost:8080/",
          "height": 0
        },
        "id": "CcSV3SVC0gj8",
        "outputId": "5f7956a5-5349-47c0-d0af-6c31bab9fef0"
      },
      "execution_count": 13,
      "outputs": [
        {
          "output_type": "stream",
          "name": "stdout",
          "text": [
            "0 1 2 3 4 \n",
            "\n",
            "1 3 5 7 9 "
          ]
        }
      ]
    },
    {
      "cell_type": "markdown",
      "source": [
        "- for 또는 while 루프에서 else절을 사용하면, 루프가 정상적으로 완료된 후에 실행할 코드를 입력하여 사용할 수 있다."
      ],
      "metadata": {
        "id": "S7aTcdBM1iYQ"
      }
    },
    {
      "cell_type": "code",
      "source": [
        "for i in range(5):\n",
        "  print(i, end=\" \")\n",
        "else: print(\"루프가 종료되었습니다. \\n\")\n",
        "\n",
        "count=0\n",
        "while count < 5:\n",
        "  print(count, end=' ')\n",
        "  count += 1\n",
        "else: print(\"루프가 완료되었습니다.\\n\")"
      ],
      "metadata": {
        "colab": {
          "base_uri": "https://localhost:8080/",
          "height": 0
        },
        "id": "bUboKyEQ1kS0",
        "outputId": "5ba2d4b5-02d3-42f1-c477-1994e85447f2"
      },
      "execution_count": 14,
      "outputs": [
        {
          "output_type": "stream",
          "name": "stdout",
          "text": [
            "0 1 2 3 4 루프가 종료되었습니다. \n",
            "\n",
            "0 1 2 3 4 루프가 완료되었습니다.\n",
            "\n"
          ]
        }
      ]
    },
    {
      "cell_type": "code",
      "source": [
        "for i in range(5):\n",
        "  if i == 3:\n",
        "    print(f\"{i}에서 루프를 중단합니다.\")\n",
        "    break\n",
        "else: print(\"루프가 정상적으로 종료되었습니다. \\n\")           # break를 쓰게 되면 해당 중단 조건에 해당할 때 loop를 중단하기 때문에 else로 넘어갈 일은 없다\n"
      ],
      "metadata": {
        "colab": {
          "base_uri": "https://localhost:8080/",
          "height": 0
        },
        "id": "5zfmRvLq3b2e",
        "outputId": "bfafc080-3a7e-4186-bbdb-89121cd51792"
      },
      "execution_count": 15,
      "outputs": [
        {
          "output_type": "stream",
          "name": "stdout",
          "text": [
            "3에서 루프를 중단합니다.\n"
          ]
        }
      ]
    },
    {
      "cell_type": "markdown",
      "source": [
        "조건과 반복을 결합"
      ],
      "metadata": {
        "id": "RvRZ5K9A4QkB"
      }
    },
    {
      "cell_type": "code",
      "source": [
        "# 10미만의 홀수만 출력\n",
        "for i in range(10):\n",
        "  if i % 2 != 0:\n",
        "    print(i, end=\" \")"
      ],
      "metadata": {
        "colab": {
          "base_uri": "https://localhost:8080/",
          "height": 0
        },
        "id": "EofyNHyi4Mwm",
        "outputId": "21cb394e-b788-4700-fb26-e130743c240e"
      },
      "execution_count": 16,
      "outputs": [
        {
          "output_type": "stream",
          "name": "stdout",
          "text": [
            "1 3 5 7 9 "
          ]
        }
      ]
    },
    {
      "cell_type": "code",
      "source": [
        "# Q. 1~10 범위의 정수에서 1~5까지만 출력하세요\n",
        "for i in range(1, 11):\n",
        "  if i > 5: break\n",
        "  else: print(i, end=\" \")\n"
      ],
      "metadata": {
        "colab": {
          "base_uri": "https://localhost:8080/",
          "height": 0
        },
        "id": "vTVuL4CP4xc6",
        "outputId": "af196ba9-0d58-4296-e887-87c6c77e3392"
      },
      "execution_count": 17,
      "outputs": [
        {
          "output_type": "stream",
          "name": "stdout",
          "text": [
            "1 2 3 4 5 "
          ]
        }
      ]
    },
    {
      "cell_type": "code",
      "source": [
        "# Q. numbers 리스트에서 15, 20, 25를 출력하세요 (for, if조건 사용)\n",
        "numbers=[5,15, 6, 20, 7, 25]\n",
        "for i in numbers:\n",
        "  #if i % 5 == 0 and i >= 10: print(i, end=\" \")\n",
        "  if i >= 15: print(i, end=\" \")\n"
      ],
      "metadata": {
        "colab": {
          "base_uri": "https://localhost:8080/",
          "height": 0
        },
        "id": "Ne4CxadA5nQ9",
        "outputId": "00fa311b-c95b-42af-ad8c-3a05e800ae74"
      },
      "execution_count": 20,
      "outputs": [
        {
          "output_type": "stream",
          "name": "stdout",
          "text": [
            "15 20 25 "
          ]
        }
      ]
    },
    {
      "cell_type": "code",
      "source": [
        "# 특정 조건을 만족할 때까지 반복\n",
        "count=0\n",
        "while 1:\n",
        "  count += 1\n",
        "  if count >5:\n",
        "    break\n",
        "  print(count, end=\" \")\n",
        "print(\"루프가 종료됨\")"
      ],
      "metadata": {
        "colab": {
          "base_uri": "https://localhost:8080/",
          "height": 0
        },
        "id": "AYCFsfDD-lQV",
        "outputId": "849952ad-0d12-4fb4-8cf8-74392c1a57bd"
      },
      "execution_count": 21,
      "outputs": [
        {
          "output_type": "stream",
          "name": "stdout",
          "text": [
            "1 2 3 4 5 루프가 종료됨\n"
          ]
        }
      ]
    },
    {
      "cell_type": "code",
      "source": [
        "# Q. 리스트에서 특정값 찾기, 찾았으면 값을 찾아습니다. 출력하고 못 찾으면 \"값을 찾지 못했습니다.\"를 출력\n",
        "numbers=[1,2,3,4,5]\n",
        "target=10\n",
        "\n",
        "count=0\n",
        "while count < len(numbers):\n",
        "  if numbers[count] == target:\n",
        "    print(\"target을 찾았습니다.\\n\")\n",
        "    break                                    # break를 쓰지 않으면, 값을 찾은 경우에 찾고 난 이후에도 while 끝까지 돌고 나서 else로 들어가니까 또 찾지 못했다고 msg 또 뿌리는 문제가 있다\n",
        "  count += 1\n",
        "else: print(\"target을 찾지 못했습니다.\")\n",
        "\n",
        "\n",
        "if target in numbers: print(\"target을 찾았습니다.\\n\")\n",
        "else: print(\"target을 찾지 못했습니다.\")"
      ],
      "metadata": {
        "colab": {
          "base_uri": "https://localhost:8080/",
          "height": 0
        },
        "id": "TqVAe5kZAGb7",
        "outputId": "817bdaa6-3773-4323-cf25-74cf58ef7754"
      },
      "execution_count": 22,
      "outputs": [
        {
          "output_type": "stream",
          "name": "stdout",
          "text": [
            "target을 찾지 못했습니다.\n",
            "target을 찾지 못했습니다.\n"
          ]
        }
      ]
    },
    {
      "cell_type": "code",
      "source": [
        "# Q. 1~20사이의 정수에서 10보다 작은 홀수만 출력\n",
        "i=1\n",
        "while i < 20:\n",
        "  if i % 2 == 1 and i < 10:\n",
        "    print (i, end=\" \")\n",
        "  i += 1\n",
        "print('\\n')\n",
        "\n",
        "for i in range(1,20):\n",
        "  if i % 2 == 1 and i < 10: print (i, end=\" \")\n",
        "print('\\n')\n",
        "\n",
        "i=0\n",
        "while i < 20:\n",
        "  i += 1\n",
        "  if i % 2 == 0:\n",
        "    continue\n",
        "  if i >= 10: break\n",
        "  print(i, end=\" \")\n",
        "\n",
        "\n",
        "\n"
      ],
      "metadata": {
        "colab": {
          "base_uri": "https://localhost:8080/",
          "height": 0
        },
        "id": "jcCdVf0yDMjL",
        "outputId": "ad6283fb-5b38-47eb-c1ca-c845f2f44751"
      },
      "execution_count": 23,
      "outputs": [
        {
          "output_type": "stream",
          "name": "stdout",
          "text": [
            "1 3 5 7 9 \n",
            "\n",
            "1 3 5 7 9 \n",
            "\n",
            "1 3 5 7 9 "
          ]
        }
      ]
    },
    {
      "cell_type": "code",
      "source": [
        "# Q. 정수 1부터 n까지 더할 때 그 합이 1000보다 커지게 되는 n과 합을 구하세요 (while~break)\n",
        "i=0; sum1=0\n",
        "while 1:\n",
        "  i += 1; sum1=sum1+i\n",
        "  if sum1 > 1000:\n",
        "    print(i, sum1, end=\" \\n\")\n",
        "    break\n",
        "\n",
        "i=0; sum1=0\n",
        "while sum1 <= 1000:\n",
        "  i += 1; sum1=sum1+i\n",
        "print(i, sum1, end=\" \\n\")\n",
        "\n",
        "# Q. while 문을 사용해 1부터 1000까지의 정수 중 3의 배수의 합을 구해보세요\n",
        "i=0; sum1=0\n",
        "while i <= 1000:\n",
        "  i += 1\n",
        "  if i % 3 == 0:\n",
        "    sum1=sum1+i\n",
        "print (sum1)\n",
        "\n",
        "\n",
        "### alternative method\n",
        "List1=[]\n",
        "List1=list(range(0,1000,3))\n",
        "print(sum(List1))\n",
        "\n",
        "\n",
        "# Q. 정수를 입력하면 홀수 짝수를 판별하는 프로그램 작성\n",
        "# TEST bench: n1='2'; n2='2.3'; n3='adfasdf'; n4=\"4\";\n",
        "# input_num=n1\n",
        "input_num=input(\"정수를 입력하세요: \")\n",
        "\n",
        "if input_num[0].isnumeric():\n",
        "  if \".\" in input_num: print(\"This is not a integer\")\n",
        "  else:\n",
        "    if int(input_num) % 2 == 0: print(\"This value is an even number\")\n",
        "    else: print(\"This value is an odd number\")\n",
        "\n",
        "else:\n",
        "  print(\"This is not a numerical value\")\n",
        "\n",
        "\n",
        "##################### Alternative Method\n",
        "while True:\n",
        "   try:\n",
        "     input_num = int(input(\"정수를 입력하세요: \"))\n",
        "     if int(input_num) % 2 == 0: print(\"This value is an even number\")\n",
        "     else: print(\"This value is an odd number\")\n",
        "     break\n",
        "   except ValueError:\n",
        "     print(\"This is not a numerical value\")\n",
        "     break\n",
        "\n"
      ],
      "metadata": {
        "colab": {
          "base_uri": "https://localhost:8080/",
          "height": 0
        },
        "id": "OjhNkI9BGJ4u",
        "outputId": "11c4f73f-7eaf-4f76-f91e-ad74125f2cc7"
      },
      "execution_count": 3,
      "outputs": [
        {
          "output_type": "stream",
          "name": "stdout",
          "text": [
            "45 1035 \n",
            "45 1035 \n",
            "166833\n",
            "[0, 3, 6, 9, 12, 15, 18, 21, 24, 27, 30, 33, 36, 39, 42, 45, 48, 51, 54, 57, 60, 63, 66, 69, 72, 75, 78, 81, 84, 87, 90, 93, 96, 99, 102, 105, 108, 111, 114, 117, 120, 123, 126, 129, 132, 135, 138, 141, 144, 147, 150, 153, 156, 159, 162, 165, 168, 171, 174, 177, 180, 183, 186, 189, 192, 195, 198, 201, 204, 207, 210, 213, 216, 219, 222, 225, 228, 231, 234, 237, 240, 243, 246, 249, 252, 255, 258, 261, 264, 267, 270, 273, 276, 279, 282, 285, 288, 291, 294, 297, 300, 303, 306, 309, 312, 315, 318, 321, 324, 327, 330, 333, 336, 339, 342, 345, 348, 351, 354, 357, 360, 363, 366, 369, 372, 375, 378, 381, 384, 387, 390, 393, 396, 399, 402, 405, 408, 411, 414, 417, 420, 423, 426, 429, 432, 435, 438, 441, 444, 447, 450, 453, 456, 459, 462, 465, 468, 471, 474, 477, 480, 483, 486, 489, 492, 495, 498, 501, 504, 507, 510, 513, 516, 519, 522, 525, 528, 531, 534, 537, 540, 543, 546, 549, 552, 555, 558, 561, 564, 567, 570, 573, 576, 579, 582, 585, 588, 591, 594, 597, 600, 603, 606, 609, 612, 615, 618, 621, 624, 627, 630, 633, 636, 639, 642, 645, 648, 651, 654, 657, 660, 663, 666, 669, 672, 675, 678, 681, 684, 687, 690, 693, 696, 699, 702, 705, 708, 711, 714, 717, 720, 723, 726, 729, 732, 735, 738, 741, 744, 747, 750, 753, 756, 759, 762, 765, 768, 771, 774, 777, 780, 783, 786, 789, 792, 795, 798, 801, 804, 807, 810, 813, 816, 819, 822, 825, 828, 831, 834, 837, 840, 843, 846, 849, 852, 855, 858, 861, 864, 867, 870, 873, 876, 879, 882, 885, 888, 891, 894, 897, 900, 903, 906, 909, 912, 915, 918, 921, 924, 927, 930, 933, 936, 939, 942, 945, 948, 951, 954, 957, 960, 963, 966, 969, 972, 975, 978, 981, 984, 987, 990, 993, 996, 999]\n",
            "166833\n",
            "정수를 입력하세요: 2\n",
            "This value is an even number\n",
            "정수를 입력하세요: 3\n",
            "This value is an odd number\n"
          ]
        }
      ]
    },
    {
      "cell_type": "code",
      "source": [
        "# Q. 입력 받은 문자열의 각 문자를 그 다음 문자로 변경하여 출력하시오\n",
        "data= input('문자열을 입력: ')\n",
        "for i in range(len(data)):\n",
        "  if i == 0:\n",
        "    continue\n",
        "  print(data[i],end=\"\")\n",
        "else:\n",
        "  print(data[0])\n",
        "\n"
      ],
      "metadata": {
        "colab": {
          "base_uri": "https://localhost:8080/",
          "height": 0
        },
        "id": "IGirHmL9jgHD",
        "outputId": "5884861d-44b1-4f80-a184-5f01c85463dc"
      },
      "execution_count": 3,
      "outputs": [
        {
          "output_type": "stream",
          "name": "stdout",
          "text": [
            "문자열을 입력: adfasgdasdf\n",
            "dfasgdasdfa\n"
          ]
        }
      ]
    },
    {
      "cell_type": "markdown",
      "source": [
        "zip() 함수\n",
        "- 여러 개의 이터러블(리스트, 튜플 등)을 인자로 받아, 동일한 인덱스에 있는 요소들을 하나의 튜플로 묶어서 이터레이터를 반환\n",
        "- 데이터를 병렬로 처리할 때 유용"
      ],
      "metadata": {
        "id": "gOEux52snYzg"
      }
    },
    {
      "cell_type": "code",
      "source": [
        "list1=[1,2,3,4]\n",
        "list2=['a','b','c','d']\n",
        "zipped=zip(list1, list2)\n",
        "print(list(zipped))\n"
      ],
      "metadata": {
        "colab": {
          "base_uri": "https://localhost:8080/",
          "height": 0
        },
        "id": "QFvvEmfjnyq3",
        "outputId": "ff6a118a-2d86-4793-aac1-4e9fd924d9e3"
      },
      "execution_count": 5,
      "outputs": [
        {
          "output_type": "stream",
          "name": "stdout",
          "text": [
            "[(1, 'a'), (2, 'b'), (3, 'c'), (4, 'd')]\n",
            "<zip object at 0x7a8d99981080>\n"
          ]
        }
      ]
    },
    {
      "cell_type": "code",
      "source": [
        "# Q. 두개의 리스트(이름과 성)을 사용하여 각 사람의 전체 이름을 생성하시오\n",
        "first_name = ['John', 'Jane','Corey', 'Travis']\n",
        "last_name = ['Doe','Smith','Turner','Williams']\n",
        "\n",
        "full_name=[first+\" \"+last for first, last in zip(first_name, last_name)]\n",
        "print(full_name,\"\\n\")\n",
        "\n",
        "\n",
        "# Q. 학생들의 수학과 영어 점수를 각각의 리스트로 받아 평균 점수를 계산하시오\n",
        "m_score=[88,92,79,93,85]\n",
        "e_score=[82,95,75,86,74]\n",
        "ever_score=[(MatScore+EnScore)/2 for MatScore, EnScore in zip(m_score, e_score)]\n",
        "print(ever_score,\"\\n\")\n",
        "\n",
        "\n",
        "# Q. 상품 이름과 가격이 각각 다른 리스트에 저장되어 있을때, 상품과 가격을 튜플로 묶어 출력하세요\n",
        "product=['apple','banna','cherry']\n",
        "price=['1.2','0.5','23.5']\n",
        "\n",
        "for pro, pric in zip(product,price):\n",
        "  print(f\"Product: {pro}, Price: ${pric}\")\n",
        "\n",
        "\n"
      ],
      "metadata": {
        "colab": {
          "base_uri": "https://localhost:8080/",
          "height": 0
        },
        "id": "ZNrzujDXoIxK",
        "outputId": "b273746c-422c-4173-f04b-560283a4a833"
      },
      "execution_count": 15,
      "outputs": [
        {
          "output_type": "stream",
          "name": "stdout",
          "text": [
            "['John Doe', 'Jane Smith', 'Corey Turner', 'Travis Williams'] \n",
            "\n",
            "[85.0, 93.5, 77.0, 89.5, 79.5] \n",
            "\n",
            "Product: apple, Price: $1.2\n",
            "Product: banna, Price: $0.5\n",
            "Product: cherry, Price: $23.5\n"
          ]
        }
      ]
    },
    {
      "cell_type": "markdown",
      "source": [
        "#### 파이썬의 random 모듈\n",
        "난수를 생성하기 위한 다양한 함수를 제공\n",
        "- 기본 난수 생성:\n",
        "  - random.random(): 0과 1 사이의 무작위 부동소수점 숫자를 반환.\n",
        "- 범위 지정 난수 생성:\n",
        "  - random.randint(a, b): a와 b 사이의 무작위 정수를 반환(b 포함).\n",
        "  - random.randrange(start, stop[, step]): 지정된 범위에서 무작위 정수를 반환. step을 설정하여 수의 간격을 조정할 수 있다.\n",
        "- 시퀀스용 함수:\n",
        "  - random.choice(sequence): 주어진 시퀀스(리스트, 튜플 등)에서 무작위로 아이템을 선택하여 반환.\n",
        "  - random.shuffle(x[, random]): 리스트의 항목들을 무작위로 섞는다. random은 섞기를 위한 함수를 커스텀할 때 사용.\n",
        "  - random.sample(population, k): 주어진 시퀀스에서 무작위로 k개의 항목을 뽑아 새 리스트로 반환.\n",
        "- 분포 기반 난수 생성:\n",
        "  - random.uniform(a, b): a와 b 사이의 무작위 부동소수점 숫자를 균등 분포로 반환.\n",
        "  - random.gauss(mu, sigma): 평균 mu와 표준편차 sigma를 가지는 정규 분포에서 난수를 반환."
      ],
      "metadata": {
        "id": "2hCaXXS3rpJA"
      }
    },
    {
      "cell_type": "code",
      "source": [
        "import random\n",
        "# 0과 1 사이의 난수 생성\n",
        "print(random.random())\n",
        "\n",
        "# 1과 10사이의 정수 반환 (10 포함)\n",
        "print(random.randint(1,10))\n",
        "\n",
        "# 리스트에서 무작위로 하나의 원소 선택\n",
        "items=[1,2,3,4,5]\n",
        "print(random.choice(items))\n",
        "\n",
        "# 리스트의 원소를 무작위로 섞기\n",
        "random.shuffle(items)\n",
        "print(items)\n",
        "\n",
        "# 정규 분포의 난수 생성\n",
        "mean=0\n",
        "std_dev=1\n",
        "print(random.gauss(mean, std_dev))"
      ],
      "metadata": {
        "colab": {
          "base_uri": "https://localhost:8080/",
          "height": 0
        },
        "id": "1MSAaupesQmD",
        "outputId": "8d43b320-2d99-4e60-d8fa-7a09e27fc9d3"
      },
      "execution_count": 26,
      "outputs": [
        {
          "output_type": "stream",
          "name": "stdout",
          "text": [
            "0.3502979791490044\n",
            "1\n",
            "2\n",
            "[3, 2, 5, 4, 1]\n",
            "-0.5125969590287069\n"
          ]
        }
      ]
    },
    {
      "cell_type": "markdown",
      "source": [
        "Task1_0430. 남녀 파트너 정해주기 프로그램(zip)\n",
        "\n",
        "같은 수의 남녀 모임에서 파트너를 랜덤하게 정해주는 프로그램을 만들어 보세요\n",
        "\n",
        "male = ['철수','갑돌','로미오','이몽룡','온돌']\n",
        "\n",
        "female = ['미미','갑순','줄리엣','성춘향','평강']\n",
        "\n",
        "\n",
        "Task2_0430. 대문자, 소문자, 숫자를 포함하는 8자리 랜덤 비밀번호를 생성하는 프로그램을 작성하세요.\n",
        "\n",
        "\n",
        "Task3_0430. 발표자 수를 랜덤하게 출력하는 프로그램을 작성하세요.(발표자 수 입력)\n",
        "\n",
        "kita = ['김성현','황강민','윤호준','류윤선','이상협','박지환','최환욱','서보선','김한결','김도현','김하준',\n",
        "        '김도원','신현진','소지승','이범석','이현석','이명신','박윤경','이도헌','김홍준']\n",
        "\n",
        "\n",
        " Task4_0430. 사용자로부터 숫자를 입력받아 해당 숫자의 구구단을 출력하는 프로그램을 작성하세요.       \n",
        "\n",
        "\n",
        "\n",
        " Task5_0430. 사용자로부터 숫자를 입력받아 해당 숫자의 팩토리얼을 계산하세요.\n",
        "\n",
        "\n",
        " Task6_0430. 0부터 20까지의 숫자 중에서 짝수와 홀수를 분리하여 두 개의 리스트에 저장하세요.\n",
        "\n",
        " Task7_0430. 주어진 리스트에서 최대값을 찾아 출력하세요.\n",
        " numbers=[34,78,2,45,99,23]\n",
        "\n",
        "Task8_0430.  1부터 10 사이의 임의의 숫자를 맞추는 게임을 만드세요. 사용자가 숫자를 맞출 때까지 입력을 계속 받으며, 정답을 맞추면 게임을 종료하세요.\n",
        "(숫자를 입력하면 target 대비 크다/작다는 hint 제공)\n",
        "\n",
        "Task9_0430. 태어난 연도를 입력받아 띠를 출력하는 프로그램을 작성하세요.\n",
        "\n",
        "Task10_0430. 아래 사항을 반영하여 커피 자판기 프로그램을 작성하세요.\n",
        "- 시나리오 : 자판기 커피 재고 5잔, 커피 1잔 가격 300원, 재고 범위내에서 300원 이상 돈을 넣으면 거스름돈과 커피를 주고 그렇지 않으면 반환하며 재고가 소진되면 안내멘트 출력\n",
        "- 각 Case별 멘트 출력은 상황에 맞게 창작\n",
        "- while, if ~ elif ~ else 제어문을 사용하여 작성"
      ],
      "metadata": {
        "id": "6TKhdRwyz3sR"
      }
    },
    {
      "cell_type": "code",
      "source": [
        "# Task1_0430. 남녀 파트너 정해주기 프로그램(zip) 같은 수의 남녀 모임에서 파트너를 랜덤하게 정해주는 프로그램을 만들어 보세요\n",
        "import random\n",
        "\n",
        "MaleList = ['철수','갑돌','로미오','이몽룡','온돌']\n",
        "FemaleList = ['미미','갑순','줄리엣','성춘향','평강']\n",
        "random.shuffle(MaleList); random.shuffle(FemaleList)\n",
        "CoupleList=[male+\" - \"+female for male, female in zip(MaleList,FemaleList)]\n",
        "\n",
        "print(CoupleList[:],\"\\n\")\n",
        "\n"
      ],
      "metadata": {
        "colab": {
          "base_uri": "https://localhost:8080/",
          "height": 0
        },
        "id": "PfXeA-kgzx5h",
        "outputId": "fc2d20a0-da5b-4bc0-90be-36930552cba0"
      },
      "execution_count": 37,
      "outputs": [
        {
          "output_type": "stream",
          "name": "stdout",
          "text": [
            "['갑돌 - 평강', '로미오 - 미미', '온돌 - 줄리엣', '철수 - 성춘향', '이몽룡 - 갑순'] \n",
            "\n"
          ]
        }
      ]
    },
    {
      "cell_type": "code",
      "source": [
        "# Task2_0430. 대문자, 소문자, 숫자를 포함하는 8자리 랜덤 비밀번호를 생성하는 프로그램을 작성하세요.\n",
        "import random\n",
        "import string\n",
        "\n",
        "for i in range(1,9):\n",
        "  RandomField=random.choice(list(string.ascii_lowercase)+list(string.ascii_uppercase)+list(range(0,10)))\n",
        "  print(RandomField, end=\" \")\n",
        "print(\"\\n\")"
      ],
      "metadata": {
        "colab": {
          "base_uri": "https://localhost:8080/",
          "height": 0
        },
        "id": "SamzoeuF2xx0",
        "outputId": "3c5c28c3-a0da-428c-eb53-d37de1f3e505"
      },
      "execution_count": 12,
      "outputs": [
        {
          "output_type": "stream",
          "name": "stdout",
          "text": [
            "e A a C B 7 3 v \n",
            "\n"
          ]
        }
      ]
    },
    {
      "cell_type": "code",
      "source": [
        "#Task3_0430. 발표자 수를 랜덤하게 출력하는 프로그램을 작성하세요.(발표자 수 입력)\n",
        "\n",
        "kita = ['김성현','황강민','윤호준','류윤선','이상협','박지환','최환욱','서보선','김한결','김도현','김하준', '김도원','신현진','소지승','이범석','이현석','이명신','박윤경','이도헌','김홍준']\n",
        "\n",
        "NoPres=int(input(\"발표자 수를 입력하시오: \"))\n",
        "if NoPres > len(kita):\n",
        "  print(f\"{len(kita)}보다 작은 수를 입력하시오\")\n",
        "else:\n",
        "  print(\"SPEAKERs: \")\n",
        "  for i in range(0,NoPres):\n",
        "    Speaker=random.choice(kita); kita.remove(Speaker)\n",
        "    print(Speaker,end=\" \")"
      ],
      "metadata": {
        "colab": {
          "base_uri": "https://localhost:8080/",
          "height": 0
        },
        "id": "osdX2qkA24ME",
        "outputId": "b2d1535f-b8e9-493b-9400-97c97ac18b7e"
      },
      "execution_count": 50,
      "outputs": [
        {
          "output_type": "stream",
          "name": "stdout",
          "text": [
            "발표자 수를 입력하시오: 3\n",
            "SPEAKERs: \n",
            "황강민 김도원 김한결 "
          ]
        }
      ]
    },
    {
      "cell_type": "code",
      "source": [
        "# Task4_0430. 사용자로부터 숫자를 입력받아 해당 숫자의 구구단을 출력하는 프로그램을 작성하세요.\n",
        "NoMulti=int(input(\"구구단을 위한 수를 입력하시오: \"))\n",
        "if NoMulti >= 10 :\n",
        "  print(\"9단 이하로 선택하시오\\n\")\n",
        "else:\n",
        "  print(f\"구구단 - {NoMulti} 단: \")\n",
        "  for i in range(1,10):\n",
        "    print(f\"{NoMulti} X {i} = {int(NoMulti*i)}\")"
      ],
      "metadata": {
        "colab": {
          "base_uri": "https://localhost:8080/",
          "height": 0
        },
        "id": "9TtHoM0-24D9",
        "outputId": "60b6af1e-9eb3-4df4-b543-0ac786035682"
      },
      "execution_count": 60,
      "outputs": [
        {
          "output_type": "stream",
          "name": "stdout",
          "text": [
            "구구단을 위한 수를 입력하시오: 10\n",
            "9단 이하로 선택하시오\n",
            "\n"
          ]
        }
      ]
    },
    {
      "cell_type": "code",
      "source": [
        "# Task5_0430. 사용자로부터 숫자를 입력받아 해당 숫자의 팩토리얼을 계산하세요.\n",
        "try:\n",
        "  InNum = int(input(\"정수를 입력하세요: \"))\n",
        "  result=1;\n",
        "  for i in range(InNum,0,-1):\n",
        "    result=result*i\n",
        "  print(f\"{InNum}의 팩노리얼 값은: {result}\")\n",
        "except ValueError:\n",
        "  print(\"Error: 정수만 팩토리얼 계산 가능합니다\")"
      ],
      "metadata": {
        "colab": {
          "base_uri": "https://localhost:8080/"
        },
        "id": "vGQcpMhh23NZ",
        "outputId": "db47320d-7d0e-405c-ba7b-73620378c1a2"
      },
      "execution_count": 76,
      "outputs": [
        {
          "output_type": "stream",
          "name": "stdout",
          "text": [
            "정수를 입력하세요: asdf\n",
            "Error: 정수만 팩토리얼 계산 가능합니다\n"
          ]
        }
      ]
    },
    {
      "cell_type": "code",
      "source": [
        "# Task6_0430. 0부터 20까지의 숫자 중에서 짝수와 홀수를 분리하여 두 개의 리스트에 저장하세요.\n",
        "EvenList=[]; OddList=[]\n",
        "for i in range(0, 21):\n",
        "  if i % 2 == 0: EvenList.append(i)\n",
        "  else: OddList.append(i)\n",
        "print(f\"Even Number List:{EvenList}\\tOdd Number List:{OddList}\")"
      ],
      "metadata": {
        "colab": {
          "base_uri": "https://localhost:8080/"
        },
        "id": "6dYvimeu23FI",
        "outputId": "61b81bf9-91a4-4c2b-cd6b-71513f8ae987"
      },
      "execution_count": 79,
      "outputs": [
        {
          "output_type": "stream",
          "name": "stdout",
          "text": [
            "Even Number List:[0, 2, 4, 6, 8, 10, 12, 14, 16, 18, 20]\tOdd Number List:[1, 3, 5, 7, 9, 11, 13, 15, 17, 19]\n"
          ]
        }
      ]
    },
    {
      "cell_type": "code",
      "source": [
        "# Task7_0430. 주어진 리스트에서 최대값을 찾아 출력하세요.\n",
        "numbers=[34,78,2,45,99,23]\n",
        "print(f\"주어진 리스트의 최대값은 {max(numbers)}\")"
      ],
      "metadata": {
        "colab": {
          "base_uri": "https://localhost:8080/"
        },
        "id": "95whWX_L228F",
        "outputId": "031546ae-5e1e-466d-985a-3449ad6be448"
      },
      "execution_count": 80,
      "outputs": [
        {
          "output_type": "stream",
          "name": "stdout",
          "text": [
            "주어진 리스트의 최대값은 99\n"
          ]
        }
      ]
    },
    {
      "cell_type": "code",
      "source": [
        "# Task8_0430. 1부터 10 사이의 임의의 숫자를 맞추는 게임을 만드세요. 사용자가 숫자를 맞출 때까지 입력을 계속 받으며, 정답을 맞추면 게임을 종료하세요. (숫자를 입력하면 target 대비 크다/작다는 hint 제공)\n",
        "RandomNumber=random.choice(list(range(1,11)))\n",
        "try:\n",
        "  while True:\n",
        "    InNumber=int(input(\"1부터 10사이의 숫자를 입력하세요 \"))\n",
        "    if InNumber >= 1 and InNumber <= 10:\n",
        "      if InNumber == RandomNumber:\n",
        "        print(\"정답입니다.\")\n",
        "        break\n",
        "      else:\n",
        "        if InNumber > RandomNumber: print(\"Hint: 입력한 숫자보다 작습니다.\")\n",
        "        else: print(\"Hint: 입력한 숫자보다 큽니다.\")\n",
        "    else:\n",
        "      print(\"Error: 1부터 10사이의 정수만 입력하세요\")\n",
        "      break\n",
        "\n",
        "except ValueError:\n",
        "  print(\"Error: 1부터 10사이의 정수만 입력하세요\")\n",
        "\n"
      ],
      "metadata": {
        "colab": {
          "base_uri": "https://localhost:8080/"
        },
        "id": "7cCss1cW220M",
        "outputId": "51f004bf-00ee-439b-c5a4-37431926b391"
      },
      "execution_count": 110,
      "outputs": [
        {
          "output_type": "stream",
          "name": "stdout",
          "text": [
            "1부터 10사이의 숫자를 입력하세요 5\n",
            "Hint: 입력한 숫자보다 작습니다.\n",
            "1부터 10사이의 숫자를 입력하세요 3\n",
            "정답입니다.\n"
          ]
        }
      ]
    },
    {
      "cell_type": "code",
      "source": [
        "# Task9_0430. 태어난 연도를 입력받아 띠를 출력하는 프로그램을 작성하세요.\n",
        "Zodiac12=['쥐', '소', '호랑이', '토끼', '용', '뱀', '말','양', '원숭이', '닭', '개', '돼지']\n",
        "try:\n",
        "    InYear=int(input(\"태어난 해를 입력하세요: \"))\n",
        "    Residue=(InYear-4)%12\n",
        "    print(f\"입력한 해 {InYear}년의 십이지(띠)는 {Zodiac12[Residue]} 입니다.\")\n",
        "except ValueError:\n",
        "  print(\"Error: 올바른 해를 입력하세요\")"
      ],
      "metadata": {
        "colab": {
          "base_uri": "https://localhost:8080/"
        },
        "id": "uxkv2-wS22pK",
        "outputId": "d501286e-dc60-4318-94da-0170a4cc2737"
      },
      "execution_count": 111,
      "outputs": [
        {
          "output_type": "stream",
          "name": "stdout",
          "text": [
            "태어난 해를 입력하세요: 2032\n",
            "입력한 해 2032의 십이지(띠)는 쥐 입니다.\n"
          ]
        }
      ]
    },
    {
      "cell_type": "code",
      "source": [
        "Task10_0430. 아래 사항을 반영하여 커피 자판기 프로그램을 작성하세요.\n",
        "\n",
        "시나리오 : 자판기 커피 재고 5잔, 커피 1잔 가격 300원, 재고 범위내에서 300원 이상 돈을 넣으면 거스름돈과 커피를 주고 그렇지 않으면 반환하며 재고가 소진되면 안내멘트 출력\n",
        "각 Case별 멘트 출력은 상황에 맞게 창작\n",
        "while, if ~ elif ~ else 제어문을 사용하여 작성"
      ],
      "metadata": {
        "id": "fkYlKBVi22Vt"
      },
      "execution_count": null,
      "outputs": []
    },
    {
      "cell_type": "code",
      "source": [
        "## Gaussian Distribution\n",
        "import random\n",
        "import matplotlib.pyplot as plt\n",
        "import numpy as np\n",
        "x=np.arange(-5, 5, 0.01)\n",
        "def gaussian(x, mean, sigma):\n",
        "  return (1/np.sqrt(2*np.pi*sigma**2))*np.exp(-(x-mean)**2/(2*sigma**2))\n",
        "\n",
        "\n",
        "\n",
        "plt.plot(x,gaussian(x,0,1))\n",
        "\n",
        "#legend=[]\n",
        "# for i in range(1,5):\n",
        "#   legend.append(f\"N(0,{i})\")\n",
        "#   plt.plot(x,gaussian(x,0,i))\n",
        "# plt.xlabel('x')\n",
        "# plt.ylabel('density')\n",
        "# plt.legend(legend)\n",
        "\n",
        "\n",
        "# i=0; mean=0; std_dev=1; gaussian_field=[]\n",
        "# while i < 1000:\n",
        "#   i+=1\n",
        "#   gaussian_field.append(random.gauss(mean, std_dev))\n",
        "\n",
        "# plt.plot(np.random.randn(50).cumsum(), 'k--')\n",
        "\n",
        "# print(gaussian_field)\n"
      ],
      "metadata": {
        "colab": {
          "base_uri": "https://localhost:8080/",
          "height": 448
        },
        "id": "ovnCtHhTvelg",
        "outputId": "f1690516-a537-44dc-f4c2-97e16bbffcc7"
      },
      "execution_count": 33,
      "outputs": [
        {
          "output_type": "execute_result",
          "data": {
            "text/plain": [
              "[<matplotlib.lines.Line2D at 0x7a8d99884eb0>]"
            ]
          },
          "metadata": {},
          "execution_count": 33
        },
        {
          "output_type": "display_data",
          "data": {
            "text/plain": [
              "<Figure size 640x480 with 1 Axes>"
            ],
            "image/png": "[encoded data removed]"
          },
          "metadata": {}
        }
      ]
    },
    {
      "cell_type": "code",
      "source": [
        "import random\n",
        "male=['철수', '갑돌', '로미오','이몽룡','온돌']\n",
        "random.shuffle(male)\n",
        "male"
      ],
      "metadata": {
        "colab": {
          "base_uri": "https://localhost:8080/",
          "height": 0
        },
        "id": "-0JXqsDwv8Fd",
        "outputId": "535d8bc1-4c86-4297-bcbe-19b66c17b6c4"
      },
      "execution_count": 27,
      "outputs": [
        {
          "output_type": "execute_result",
          "data": {
            "text/plain": [
              "['로미오', '온돌', '갑돌', '이몽룡', '철수']"
            ]
          },
          "metadata": {},
          "execution_count": 27
        }
      ]
    },
    {
      "cell_type": "code",
      "source": [
        "from random import shuffle          #### random 모듈로부터 shffle만 가져왔으니 random.shuffle이라 할 필요 X, 그냥 shuffle만 써도 됨.\n",
        "male=['철수', '갑돌', '로미오','이몽룡','온돌']\n",
        "shuffle(male)\n",
        "male"
      ],
      "metadata": {
        "colab": {
          "base_uri": "https://localhost:8080/",
          "height": 0
        },
        "id": "5R2wH3aJwQ8X",
        "outputId": "5a2a3af7-dfa7-4391-a013-076963cb0ca7"
      },
      "execution_count": 29,
      "outputs": [
        {
          "output_type": "execute_result",
          "data": {
            "text/plain": [
              "['갑돌', '이몽룡', '온돌', '철수', '로미오']"
            ]
          },
          "metadata": {},
          "execution_count": 29
        }
      ]
    }
  ]
}