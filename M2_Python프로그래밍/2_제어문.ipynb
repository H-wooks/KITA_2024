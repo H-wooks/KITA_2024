{
  "nbformat": 4,
  "nbformat_minor": 0,
  "metadata": {
    "colab": {
      "provenance": [],
      "toc_visible": true
    },
    "kernelspec": {
      "name": "python3",
      "display_name": "Python 3"
    },
    "language_info": {
      "name": "python"
    }
  },
  "cells": [
    {
      "cell_type": "markdown",
      "source": [
        "제어문(control statement)은 프로그램의 흐름을 제어하는데 사용\n",
        "\n",
        "#### 조건문 (Conditional Statements):\n",
        "- if: 특정 조건이 참(True)일 때 코드 블록을 실행\n",
        "    - 조건은 비교 연산자(==, !=, <, >, <=, >=)와 논리 연산자(and, or, not)를 사용하여 표현할 수 있다\n",
        "- elif: 이전의 if 또는 elif 조건이 거짓(False)일 때 다른 조건을 검사\n",
        "    - elif는 'else if'의 축약형으로, 이전 if 또는 elif 문의 조건이 거짓(False)일 때 다른 조건을 검사\n",
        "    - 여러 elif 문을 사용하여 다양한 조건을 검사할 수 있다\n",
        "- else:\n",
        "    - 이전의 if 또는 elif 문의 조건이 모두 거짓일 때 실행할 코드 블록을 지정"
      ],
      "metadata": {
        "id": "gUh51yqV822X"
      }
    },
    {
      "cell_type": "code",
      "source": [
        "x=10\n",
        "if x > 5:\n",
        "  print('x는 5보다 큽니다.')\n",
        "elif x==5:\n",
        "  print('x는 5입니다')\n",
        "else: print('x는 5보다 작습니다')\n",
        "\n",
        "if x < 5:\n",
        "  print('x는 5보다 작습니다.')\n",
        "else: print('x는 5보다 크거나 같습니다.')\n",
        "\n",
        "\n",
        "# 각 조건이 서로 독립적일때 if문을 연속해서 사용\n",
        "x=10\n",
        "y=5\n",
        "if x>5: print(\"x는 5보다 큽니다.\")\n",
        "\n",
        "if y<10: print('y는 10보다 작습니다.')\n",
        "\n",
        "if x>y: print('x는 y보다 큽니다.')"
      ],
      "metadata": {
        "colab": {
          "base_uri": "https://localhost:8080/"
        },
        "id": "Mx-xLG8zR6sP",
        "outputId": "19cf4a62-9557-45a3-bef9-318a955716c4"
      },
      "execution_count": 4,
      "outputs": [
        {
          "output_type": "stream",
          "name": "stdout",
          "text": [
            "x는 5보다 큽니다.\n",
            "x는 5보다 크거나 같습니다.\n",
            "x는 5보다 큽니다.\n",
            "y는 10보다 작습니다.\n",
            "x는 y보다 큽니다.\n"
          ]
        }
      ]
    },
    {
      "cell_type": "code",
      "source": [
        "x=10\n",
        "y=5\n",
        "\n",
        "if x > 5:\n",
        "  if y >=6:\n",
        "    print(\"x는 5보다 크고, y는 6보다 크거나 같습니다.\")\n",
        "  else: print(\"x는 5보다 크고, y는 6보다 작습니다.\")\n",
        "\n",
        "else:\n",
        "  if y >=6:\n",
        "    print(\"x는 5보다 작거나 같고, y는 6보다 크거나 같습니다.\")\n",
        "  else: print(\"x는 5보다 작거나 같고, y는 6보다 작습니다.\")\n",
        "\n",
        "\n",
        "# Q. 이중 조건문을 사용하여 코드를 작성하세요\n",
        "Alice={'name':'Alice', 'gender':'female', 'age':46, 'son':2, 'daugther':1}\n",
        "Tom={'name':'Tom', 'gender':'male', 'age':30, 'son':0, 'daugther':2}\n",
        "Mary={'name':'Mary', 'gender':'female', 'age':23, 'son':0, 'daugther':0}\n",
        "A=[Alice, Tom,Mary]; i=0\n",
        "\n",
        "for person in A:\n",
        "  if A[i]['gender'] == 'male':\n",
        "    if A[i]['son'] > 0:\n",
        "      print(f\"{A[i]['name']} is a male and he has at least one son\")\n",
        "    else: print(f\"{A[i]['name']} is a male and he hasn't a son\")\n",
        "  elif A[i]['gender'] == 'female':\n",
        "    if A[i]['son'] > 0:\n",
        "      print(f\"{A[i]['name']} is a female and she has at least one son\")\n",
        "    else: print(f\"{A[i]['name']} is a female and she hasn't a son\")\n",
        "  else: pass\n",
        "  i+=1\n",
        "\n",
        "\n",
        "listdata=['a', 'b', 'c']\n",
        "if 'a' in listdata:\n",
        "  print('a가 listdata안에 있습니다.')\n",
        "if 'b' in listdata:\n",
        "  print('b가 listdata안에 있습니다.')\n",
        "if 'c' in listdata:\n",
        "  print('c가 listdata안에 있습니다.')\n",
        "\n",
        "\n",
        "for i in listdata:\n",
        "  if i in listdata:\n",
        "    print (f'{i}가 listdata안에 있습니다.')\n",
        "\n"
      ],
      "metadata": {
        "colab": {
          "base_uri": "https://localhost:8080/"
        },
        "id": "VtT-QHBpTRpX",
        "outputId": "3c4dea9d-7f26-4738-f7cc-a551d8719fc7"
      },
      "execution_count": 25,
      "outputs": [
        {
          "output_type": "stream",
          "name": "stdout",
          "text": [
            "x는 5보다 크고, y는 6보다 작습니다.\n",
            "Alice is a female and she has at least one son\n",
            "Tom is a male and he hasn't a son\n",
            "Mary is a female and she hasn't a son\n",
            "a가 listdata안에 있습니다.\n",
            "b가 listdata안에 있습니다.\n",
            "c가 listdata안에 있습니다.\n",
            "a가 listdata안에 있습니다.\n",
            "b가 listdata안에 있습니다.\n",
            "c가 listdata안에 있습니다.\n"
          ]
        }
      ]
    },
    {
      "cell_type": "code",
      "source": [
        "# Q. \"돈이 있으면 (>= 10000) 택시를 타고, 돈이 없으면 걸어간다\"를 만족하는 조건문을 작성하세요\n",
        "money=int(input(\"현재 소지하고 있는 돈을 기입하세요:  \"))\n",
        "\n",
        "if money >= 10000:\n",
        "  print(f\"가진돈이 {money}, \\\\10000 이상이므로 택시를 타고 간다.\")\n",
        "else: print(f\"가진돈이 \\\\{money}, \\\\10000 미만이므로 걸어가야 한다.\")\n"
      ],
      "metadata": {
        "colab": {
          "base_uri": "https://localhost:8080/"
        },
        "id": "UAJ1OrS0aIKV",
        "outputId": "e7186cfe-80c6-45b7-e2d3-bf0e7afcec5c"
      },
      "execution_count": 31,
      "outputs": [
        {
          "output_type": "stream",
          "name": "stdout",
          "text": [
            "현재 소지하고 있는 돈을 기입하세요:  9000\n",
            "가진돈이 \\9000, \\10000 미만이므로 걸어가야 한다.\n"
          ]
        }
      ]
    },
    {
      "cell_type": "code",
      "source": [
        "# Q. 조건부 표현식을 한줄의 조건문으로 작성하세요\n",
        "score = 70\n",
        "if score >= 60:\n",
        "  message = \"success\"\n",
        "else:\n",
        "  meassage = 'failure'\n",
        "print(message)\n",
        "\n",
        "##### LIST에 넣어서 simpl하게 checking 하는 방법\n",
        "y=[\"success\" if score >= 60 else \"failure\"]\n",
        "#y=[print(\"success\") if score >= 60 else print(\"failure\")]\n"
      ],
      "metadata": {
        "colab": {
          "base_uri": "https://localhost:8080/"
        },
        "id": "yqof4WTje1n9",
        "outputId": "910c5e99-2651-4a59-91ba-7843fc315bab"
      },
      "execution_count": 38,
      "outputs": [
        {
          "output_type": "stream",
          "name": "stdout",
          "text": [
            "success\n"
          ]
        }
      ]
    },
    {
      "cell_type": "code",
      "source": [
        "# Q. 수입(income)과 지출(spend)를 비교해서 수입이 많으면 저축 증가, 반대이면 빚이 증가하는 프로그램 작성\n",
        "income=int(input(\"수입을 입력하세요: \"))\n",
        "expense=int(input(\"지출을 입력하세요: \"))\n",
        "y=[print(\"저축증가\") if income > expense else print(\"현상 유지 혹은 빚이 증가\")]\n",
        "\n",
        "if income > expense: print(\"저축 증가\")\n",
        "elif income < expense: print(\"빚 증가\")\n",
        "else: print(\"현상 유지\")"
      ],
      "metadata": {
        "colab": {
          "base_uri": "https://localhost:8080/"
        },
        "id": "9pbrcgZ6fMSf",
        "outputId": "2a8f51ff-9201-4deb-e05b-0f027ea6a765"
      },
      "execution_count": 43,
      "outputs": [
        {
          "output_type": "stream",
          "name": "stdout",
          "text": [
            "수입을 입력하세요: 5000\n",
            "지출을 입력하세요: 9000\n",
            "현상 유지 혹은 빚이 증가\n",
            "빚 증가\n"
          ]
        }
      ]
    },
    {
      "cell_type": "markdown",
      "source": [
        "#### 반복문 (Loop Statements):\n",
        "- for: 시퀀스(리스트, 튜플, 문자열 등)의 아이템을 순회하면서 코드 블록을 실행\n",
        "- while: 특정 조건이 참인 동안 코드 블록을 반복하여 실행"
      ],
      "metadata": {
        "id": "pV6nf_-AhrYW"
      }
    },
    {
      "cell_type": "code",
      "source": [
        "# for 루프는 시퀀스 (리스트, 튜플, 문자열 등)나 반복 가능한 객체(iterable)의 요소를 순회\n",
        "for i in range(10):\n",
        "  print(i, end=' ')\n",
        "print('\\n')\n",
        "\n",
        "# while 루프는 주어진 조건이 참(True)인 동안 코드 블록을 반복\n",
        "# 조건이 거짓(Faulse)이 되면 루프가 종료\n",
        "count=0\n",
        "while count < 5:\n",
        "  print(count, end=' ')\n",
        "  count += 1"
      ],
      "metadata": {
        "colab": {
          "base_uri": "https://localhost:8080/"
        },
        "id": "i-JLo1ADhqfJ",
        "outputId": "edfdd25a-bbda-4a1f-9df2-e9359461e4d5"
      },
      "execution_count": 48,
      "outputs": [
        {
          "output_type": "stream",
          "name": "stdout",
          "text": [
            "0 1 2 3 4 5 6 7 8 9 \n",
            "\n",
            "0 1 2 3 4 "
          ]
        }
      ]
    },
    {
      "cell_type": "code",
      "source": [
        "count=0; sum=0\n",
        "while count < 5:\n",
        "  sum += count\n",
        "  print(sum, end=' ')\n",
        "  count += 1"
      ],
      "metadata": {
        "colab": {
          "base_uri": "https://localhost:8080/"
        },
        "id": "Q5fRVX5JmlGO",
        "outputId": "a32a1dca-46fd-4f07-c185-54f7b9cdb173"
      },
      "execution_count": 51,
      "outputs": [
        {
          "output_type": "stream",
          "name": "stdout",
          "text": [
            "0 1 3 6 10 "
          ]
        }
      ]
    },
    {
      "cell_type": "code",
      "source": [
        "# 리스트를 순회하는 예\n",
        "for i in [1,2,3,4,5,6]:\n",
        "  print(i, end=' ')\n",
        "print('\\n')\n",
        "\n",
        "# 문자열을 순회하는 예\n",
        "for charac in \"hello\":\n",
        "  print(charac, end=',')\n",
        "print('\\n')"
      ],
      "metadata": {
        "colab": {
          "base_uri": "https://localhost:8080/"
        },
        "id": "Li5GW5OllKJd",
        "outputId": "9a85c7bd-a731-4a4c-9417-f5d3d6107fb6"
      },
      "execution_count": 49,
      "outputs": [
        {
          "output_type": "stream",
          "name": "stdout",
          "text": [
            "1 2 3 4 5 6 \n",
            "\n",
            "h,e,l,l,o,\n",
            "\n"
          ]
        }
      ]
    },
    {
      "cell_type": "code",
      "source": [
        "\n",
        "# Q. d에서 반복문을 사용하여 97, 98, 99를 출력하세요\n",
        "d={'a':97, 'b':98, 'c':99}\n",
        "\n",
        "for key in d:\n",
        "  print(d[key], end=' ')\n",
        "\n",
        "print('\\n')\n",
        "\n",
        "for value in d.values():\n",
        "  print(value, end=' ')\n",
        "\n",
        "print('\\n')\n",
        "\n",
        "for key, value in d.items():\n",
        "  print(value, end=' ')\n",
        "\n",
        "print('\\n',type(d.keys()))\n",
        "print('\\n',type(d.values()))\n",
        "print('\\n',type(d.items()))"
      ],
      "metadata": {
        "colab": {
          "base_uri": "https://localhost:8080/"
        },
        "id": "texKw41Rmxgo",
        "outputId": "687ce1e3-25a8-4bd5-ac27-c011f0c9b9c3"
      },
      "execution_count": 62,
      "outputs": [
        {
          "output_type": "stream",
          "name": "stdout",
          "text": [
            "97 98 99 \n",
            "\n",
            "97 98 99 \n",
            "\n",
            "97 98 99 \n",
            " <class 'dict_keys'>\n",
            "\n",
            " <class 'dict_values'>\n",
            "\n",
            " <class 'dict_items'>\n"
          ]
        }
      ]
    }
  ]
}