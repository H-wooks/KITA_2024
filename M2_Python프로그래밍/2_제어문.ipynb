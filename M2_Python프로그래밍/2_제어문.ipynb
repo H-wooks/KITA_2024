{
  "nbformat": 4,
  "nbformat_minor": 0,
  "metadata": {
    "colab": {
      "provenance": []
    },
    "kernelspec": {
      "name": "python3",
      "display_name": "Python 3"
    },
    "language_info": {
      "name": "python"
    }
  },
  "cells": [
    {
      "cell_type": "markdown",
      "source": [
        "제어문(control statement)은 프로그램의 흐름을 제어하는데 사용\n",
        "\n",
        "#### 조건문 (Conditional Statements):\n",
        "- if: 특정 조건이 참(True)일 때 코드 블록을 실행\n",
        "    - 조건은 비교 연산자(==, !=, <, >, <=, >=)와 논리 연산자(and, or, not)를 사용하여 표현할 수 있다\n",
        "- elif: 이전의 if 또는 elif 조건이 거짓(False)일 때 다른 조건을 검사\n",
        "    - elif는 'else if'의 축약형으로, 이전 if 또는 elif 문의 조건이 거짓(False)일 때 다른 조건을 검사\n",
        "    - 여러 elif 문을 사용하여 다양한 조건을 검사할 수 있다\n",
        "- else:\n",
        "    - 이전의 if 또는 elif 문의 조건이 모두 거짓일 때 실행할 코드 블록을 지정"
      ],
      "metadata": {
        "id": "gUh51yqV822X"
      }
    },
    {
      "cell_type": "code",
      "source": [
        "x=10\n",
        "if x > 5:\n",
        "  print('x는 5보다 큽니다.')\n",
        "elif x==5:\n",
        "  print('x는 5입니다')\n",
        "else: print('x는 5보다 작습니다')\n",
        "\n",
        "if x < 5:\n",
        "  print('x는 5보다 작습니다.')\n",
        "else: print('x는 5보다 크거나 같습니다.')\n",
        "\n",
        "\n",
        "# 각 조건이 서로 독립적일때 if문을 연속해서 사용\n",
        "x=10\n",
        "y=5\n",
        "if x>5: print(\"x는 5보다 큽니다.\")\n",
        "\n",
        "if y<10: print('y는 10보다 작습니다.')\n",
        "\n",
        "if x>y: print('x는 y보다 큽니다.')"
      ],
      "metadata": {
        "colab": {
          "base_uri": "https://localhost:8080/"
        },
        "id": "Mx-xLG8zR6sP",
        "outputId": "9ce27d1c-e3ff-43ba-ad65-6e880e916219"
      },
      "execution_count": null,
      "outputs": [
        {
          "output_type": "stream",
          "name": "stdout",
          "text": [
            "x는 5보다 큽니다.\n",
            "x는 5보다 크거나 같습니다.\n",
            "x는 5보다 큽니다.\n",
            "y는 10보다 작습니다.\n",
            "x는 y보다 큽니다.\n"
          ]
        }
      ]
    },
    {
      "cell_type": "code",
      "source": [
        "x=10\n",
        "y=5\n",
        "\n",
        "if x > 5:\n",
        "  if y >=6:\n",
        "    print(\"x는 5보다 크고, y는 6보다 크거나 같습니다.\")\n",
        "  else: print(\"x는 5보다 크고, y는 6보다 작습니다.\")\n",
        "\n",
        "else:\n",
        "  if y >=6:\n",
        "    print(\"x는 5보다 작거나 같고, y는 6보다 크거나 같습니다.\")\n",
        "  else: print(\"x는 5보다 작거나 같고, y는 6보다 작습니다.\")\n",
        "\n",
        "\n",
        "# Q. 이중 조건문을 사용하여 코드를 작성하세요\n",
        "Alice={'name':'Alice', 'gender':'female', 'age':46, 'son':2, 'daugther':1}\n",
        "Tom={'name':'Tom', 'gender':'male', 'age':30, 'son':0, 'daugther':2}\n",
        "Mary={'name':'Mary', 'gender':'female', 'age':23, 'son':0, 'daugther':0}\n",
        "A=[Alice, Tom,Mary]; i=0\n",
        "\n",
        "for person in A:\n",
        "  if A[i]['gender'] == 'male':\n",
        "    if A[i]['son'] > 0:\n",
        "      print(f\"{A[i]['name']} is a male and he has at least one son\")\n",
        "    else: print(f\"{A[i]['name']} is a male and he hasn't a son\")\n",
        "  elif A[i]['gender'] == 'female':\n",
        "    if A[i]['son'] > 0:\n",
        "      print(f\"{A[i]['name']} is a female and she has at least one son\")\n",
        "    else: print(f\"{A[i]['name']} is a female and she hasn't a son\")\n",
        "  else: pass\n",
        "  i+=1\n",
        "\n",
        "\n",
        "listdata=['a', 'b', 'c']\n",
        "if 'a' in listdata:\n",
        "  print('a가 listdata안에 있습니다.')\n",
        "if 'b' in listdata:\n",
        "  print('b가 listdata안에 있습니다.')\n",
        "if 'c' in listdata:\n",
        "  print('c가 listdata안에 있습니다.')\n",
        "\n",
        "\n",
        "for i in listdata:\n",
        "  if i in listdata:\n",
        "    print (f'{i}가 listdata안에 있습니다.')\n",
        "\n"
      ],
      "metadata": {
        "colab": {
          "base_uri": "https://localhost:8080/"
        },
        "id": "VtT-QHBpTRpX",
        "outputId": "68b29b0f-faec-4c13-d239-4e9fe969cf95"
      },
      "execution_count": null,
      "outputs": [
        {
          "output_type": "stream",
          "name": "stdout",
          "text": [
            "x는 5보다 크고, y는 6보다 작습니다.\n",
            "Alice is a female and she has at least one son\n",
            "Tom is a male and he hasn't a son\n",
            "Mary is a female and she hasn't a son\n",
            "a가 listdata안에 있습니다.\n",
            "b가 listdata안에 있습니다.\n",
            "c가 listdata안에 있습니다.\n",
            "a가 listdata안에 있습니다.\n",
            "b가 listdata안에 있습니다.\n",
            "c가 listdata안에 있습니다.\n"
          ]
        }
      ]
    },
    {
      "cell_type": "code",
      "source": [
        "# Q. \"돈이 있으면 (>= 10000) 택시를 타고, 돈이 없으면 걸어간다\"를 만족하는 조건문을 작성하세요\n",
        "money=int(input(\"현재 소지하고 있는 돈을 기입하세요:  \"))\n",
        "\n",
        "if money >= 10000:\n",
        "  print(f\"가진돈이 {money}, \\\\10000 이상이므로 택시를 타고 간다.\")\n",
        "else: print(f\"가진돈이 \\\\{money}, \\\\10000 미만이므로 걸어가야 한다.\")\n"
      ],
      "metadata": {
        "colab": {
          "base_uri": "https://localhost:8080/"
        },
        "id": "UAJ1OrS0aIKV",
        "outputId": "a04d0b24-b464-4c63-ed63-2cc4bf072b8f"
      },
      "execution_count": null,
      "outputs": [
        {
          "output_type": "stream",
          "name": "stdout",
          "text": [
            "현재 소지하고 있는 돈을 기입하세요:  9000\n",
            "가진돈이 \\9000, \\10000 미만이므로 걸어가야 한다.\n"
          ]
        }
      ]
    },
    {
      "cell_type": "code",
      "source": [
        "# Q. 조건부 표현식을 한줄의 조건문으로 작성하세요\n",
        "score = 70\n",
        "if score >= 60:\n",
        "  message = \"success\"\n",
        "else:\n",
        "  meassage = 'failure'\n",
        "print(message)\n",
        "\n",
        "##### LIST에 넣어서 simpl하게 checking 하는 방법\n",
        "y=[\"success\" if score >= 60 else \"failure\"]\n",
        "#y=[print(\"success\") if score >= 60 else print(\"failure\")]\n"
      ],
      "metadata": {
        "colab": {
          "base_uri": "https://localhost:8080/"
        },
        "id": "yqof4WTje1n9",
        "outputId": "425a229f-5dc8-4a98-b9aa-7fadf7f21f15"
      },
      "execution_count": null,
      "outputs": [
        {
          "output_type": "stream",
          "name": "stdout",
          "text": [
            "success\n"
          ]
        }
      ]
    },
    {
      "cell_type": "code",
      "source": [
        "# Q. 수입(income)과 지출(spend)를 비교해서 수입이 많으면 저축 증가, 반대이면 빚이 증가하는 프로그램 작성\n",
        "income=int(input(\"수입을 입력하세요: \"))\n",
        "expense=int(input(\"지출을 입력하세요: \"))\n",
        "y=[print(\"저축증가\") if income > expense else print(\"현상 유지 혹은 빚이 증가\")]\n",
        "\n",
        "if income > expense: print(\"저축 증가\")\n",
        "elif income < expense: print(\"빚 증가\")\n",
        "else: print(\"현상 유지\")"
      ],
      "metadata": {
        "colab": {
          "base_uri": "https://localhost:8080/"
        },
        "id": "9pbrcgZ6fMSf",
        "outputId": "7216dfcf-7a0a-4654-f298-d6ed96173ae9"
      },
      "execution_count": null,
      "outputs": [
        {
          "output_type": "stream",
          "name": "stdout",
          "text": [
            "수입을 입력하세요: 4000\n",
            "지출을 입력하세요: 3400\n",
            "저축증가\n",
            "저축 증가\n"
          ]
        }
      ]
    },
    {
      "cell_type": "markdown",
      "source": [
        "#### 반복문 (Loop Statements):\n",
        "- for: 시퀀스(리스트, 튜플, 문자열 등)의 아이템을 순회하면서 코드 블록을 실행\n",
        "- while: 특정 조건이 참인 동안 코드 블록을 반복하여 실행"
      ],
      "metadata": {
        "id": "pV6nf_-AhrYW"
      }
    },
    {
      "cell_type": "code",
      "source": [
        "# for 루프는 시퀀스 (리스트, 튜플, 문자열 등)나 반복 가능한 객체(iterable)의 요소를 순회\n",
        "for i in range(10):\n",
        "  print(i, end=' ')\n",
        "print('\\n')\n",
        "\n",
        "# while 루프는 주어진 조건이 참(True)인 동안 코드 블록을 반복\n",
        "# 조건이 거짓(Faulse)이 되면 루프가 종료\n",
        "count=0\n",
        "while count < 5:\n",
        "  print(count, end=' ')\n",
        "  count += 1"
      ],
      "metadata": {
        "colab": {
          "base_uri": "https://localhost:8080/"
        },
        "id": "i-JLo1ADhqfJ",
        "outputId": "9b412bea-09fd-45be-9422-017031f648f5"
      },
      "execution_count": null,
      "outputs": [
        {
          "output_type": "stream",
          "name": "stdout",
          "text": [
            "0 1 2 3 4 5 6 7 8 9 \n",
            "\n",
            "0 1 2 3 4 "
          ]
        }
      ]
    },
    {
      "cell_type": "code",
      "source": [
        "count=0; sum=0\n",
        "while count < 5:\n",
        "  sum += count\n",
        "  print(sum, end=' ')\n",
        "  count += 1"
      ],
      "metadata": {
        "colab": {
          "base_uri": "https://localhost:8080/"
        },
        "id": "Q5fRVX5JmlGO",
        "outputId": "eab69f09-abdb-4bec-d115-7e7b2542aefa"
      },
      "execution_count": null,
      "outputs": [
        {
          "output_type": "stream",
          "name": "stdout",
          "text": [
            "0 1 3 6 10 "
          ]
        }
      ]
    },
    {
      "cell_type": "code",
      "source": [
        "# 리스트를 순회하는 예\n",
        "for i in [1,2,3,4,5,6]:\n",
        "  print(i, end=' ')\n",
        "print('\\n')\n",
        "\n",
        "# 문자열을 순회하는 예\n",
        "for charac in \"hello\":\n",
        "  print(charac, end=',')\n",
        "print('\\n')"
      ],
      "metadata": {
        "colab": {
          "base_uri": "https://localhost:8080/"
        },
        "id": "Li5GW5OllKJd",
        "outputId": "dc6a7a39-eca9-45c1-f749-8a8dea8f1023"
      },
      "execution_count": null,
      "outputs": [
        {
          "output_type": "stream",
          "name": "stdout",
          "text": [
            "1 2 3 4 5 6 \n",
            "\n",
            "h,e,l,l,o,\n",
            "\n"
          ]
        }
      ]
    },
    {
      "cell_type": "code",
      "source": [
        "\n",
        "# Q. d에서 반복문을 사용하여 97, 98, 99를 출력하세요\n",
        "d={'a':97, 'b':98, 'c':99}\n",
        "\n",
        "for key in d:\n",
        "  print(d[key], end=' ')\n",
        "\n",
        "print('\\n')\n",
        "\n",
        "for value in d.values():\n",
        "  print(value, end=' ')\n",
        "\n",
        "print('\\n')\n",
        "\n",
        "for key, value in d.items():\n",
        "  print(value, end=' ')\n",
        "\n",
        "print('\\n',type(d.keys()))\n",
        "print('\\n',type(d.values()))\n",
        "print('\\n',type(d.items()))"
      ],
      "metadata": {
        "colab": {
          "base_uri": "https://localhost:8080/"
        },
        "id": "texKw41Rmxgo",
        "outputId": "3da51e08-4117-4f5c-dcb3-dc3e2a7b153c"
      },
      "execution_count": null,
      "outputs": [
        {
          "output_type": "stream",
          "name": "stdout",
          "text": [
            "97 98 99 \n",
            "\n",
            "97 98 99 \n",
            "\n",
            "97 98 99 \n",
            " <class 'dict_keys'>\n",
            "\n",
            " <class 'dict_values'>\n",
            "\n",
            " <class 'dict_items'>\n"
          ]
        }
      ]
    },
    {
      "cell_type": "markdown",
      "source": [
        "## dict_values 클래스의 이해:\n",
        "- 클래스 정의: 파이썬에서 클래스는 객체를 생성하는 데 사용되는 템플릿. dict_values는 딕셔너리의 값을 보여주는 뷰 객체를 생성하는 특별한 내장 클래스.\n",
        "- 뷰 객체: dict_values 객체는 딕셔너리의 값에 대한 동적인 뷰를 제공. \"뷰(view)\"란 원본 딕셔너리 객체의 값이 변하면 그 변화가 dict_values 객체에도 반영되는, 원본 데이터의 실시간 반영본을 의미. 이는 딕셔너리의 값들이 수정, 추가, 삭제될 때 dict_values 객체가 자동으로 업데이트된다는 의미.\n",
        "- 객체 인스턴스: dict_values 객체는 dict_values 클래스의 인스턴스. 이 클래스는 파이썬의 다른 모든 클래스처럼 특정 데이터 구조와 메서드를 가진다. 예를 들어, dict_values 객체는 순회 가능하며 (iterable), 딕셔너리의 모든 값을 순차적으로 접근할 수 있는 메서드를 제공."
      ],
      "metadata": {
        "id": "jif-9u9txvrX"
      }
    },
    {
      "cell_type": "code",
      "source": [
        "d={'a':97, 'b':98, 'c':99}\n",
        "d['b']=100\n",
        "print(d)\n",
        "print(d.values())"
      ],
      "metadata": {
        "colab": {
          "base_uri": "https://localhost:8080/"
        },
        "id": "75dNamcnys8C",
        "outputId": "05d906f2-33b7-438f-f5cd-adf04a71f7aa"
      },
      "execution_count": null,
      "outputs": [
        {
          "output_type": "stream",
          "name": "stdout",
          "text": [
            "{'a': 97, 'b': 100, 'c': 99}\n",
            "dict_values([97, 100, 99])\n"
          ]
        }
      ]
    },
    {
      "cell_type": "markdown",
      "source": [
        "#### 제어문 관련 키워드:\n",
        "- break: 현재의 반복문을 중단하고, 반복문 바깥의 코드를 실행\n",
        "- continue: 반복문의 나머지 부분을 건너뛰고, 다음 반복을 시작"
      ],
      "metadata": {
        "id": "lGrJawSHzD0H"
      }
    },
    {
      "cell_type": "code",
      "source": [
        "for i in range(5):\n",
        "  if i == 3:\n",
        "    break\n",
        "  print(i, end=' ')\n",
        "print('\\n')\n",
        "\n",
        "for i in range(5):\n",
        "  if i == 3:\n",
        "    continue\n",
        "  print(i, end=\" \")"
      ],
      "metadata": {
        "colab": {
          "base_uri": "https://localhost:8080/"
        },
        "id": "JC_Yd9ZIzRuq",
        "outputId": "4e97b13a-5404-465a-ff22-66b62335558a"
      },
      "execution_count": null,
      "outputs": [
        {
          "output_type": "stream",
          "name": "stdout",
          "text": [
            "0 1 2 \n",
            "\n",
            "0 1 2 4 "
          ]
        }
      ]
    },
    {
      "cell_type": "code",
      "source": [
        "for i in range(10):\n",
        "  if i == 5:\n",
        "    break\n",
        "  print(i, end=' ')\n",
        "print('\\n')\n",
        "\n",
        "for i in range(10):\n",
        "  if i % 2 == 0:\n",
        "    continue\n",
        "  print(i, end=\" \")"
      ],
      "metadata": {
        "colab": {
          "base_uri": "https://localhost:8080/"
        },
        "id": "CcSV3SVC0gj8",
        "outputId": "5f7956a5-5349-47c0-d0af-6c31bab9fef0"
      },
      "execution_count": null,
      "outputs": [
        {
          "output_type": "stream",
          "name": "stdout",
          "text": [
            "0 1 2 3 4 \n",
            "\n",
            "1 3 5 7 9 "
          ]
        }
      ]
    },
    {
      "cell_type": "markdown",
      "source": [
        "- for 또는 while 루프에서 else절을 사용하면, 루프가 정상적으로 완료된 후에 실행할 코드를 입력하여 사용할 수 있다."
      ],
      "metadata": {
        "id": "S7aTcdBM1iYQ"
      }
    },
    {
      "cell_type": "code",
      "source": [
        "for i in range(5):\n",
        "  print(i, end=\" \")\n",
        "else: print(\"루프가 종료되었습니다. \\n\")\n",
        "\n",
        "count=0\n",
        "while count < 5:\n",
        "  print(count, end=' ')\n",
        "  count += 1\n",
        "else: print(\"루프가 완료되었습니다.\\n\")"
      ],
      "metadata": {
        "colab": {
          "base_uri": "https://localhost:8080/"
        },
        "id": "bUboKyEQ1kS0",
        "outputId": "5ba2d4b5-02d3-42f1-c477-1994e85447f2"
      },
      "execution_count": null,
      "outputs": [
        {
          "output_type": "stream",
          "name": "stdout",
          "text": [
            "0 1 2 3 4 루프가 종료되었습니다. \n",
            "\n",
            "0 1 2 3 4 루프가 완료되었습니다.\n",
            "\n"
          ]
        }
      ]
    },
    {
      "cell_type": "code",
      "source": [
        "for i in range(5):\n",
        "  if i == 3:\n",
        "    print(f\"{i}에서 루프를 중단합니다.\")\n",
        "    break\n",
        "else: print(\"루프가 정상적으로 종료되었습니다. \\n\")           # break를 쓰게 되면 해당 중단 조건에 해당할 때 loop를 중단하기 때문에 else로 넘어갈 일은 없다\n"
      ],
      "metadata": {
        "colab": {
          "base_uri": "https://localhost:8080/"
        },
        "id": "5zfmRvLq3b2e",
        "outputId": "bfafc080-3a7e-4186-bbdb-89121cd51792"
      },
      "execution_count": null,
      "outputs": [
        {
          "output_type": "stream",
          "name": "stdout",
          "text": [
            "3에서 루프를 중단합니다.\n"
          ]
        }
      ]
    },
    {
      "cell_type": "markdown",
      "source": [
        "조건과 반복을 결합"
      ],
      "metadata": {
        "id": "RvRZ5K9A4QkB"
      }
    },
    {
      "cell_type": "code",
      "source": [
        "# 10미만의 홀수만 출력\n",
        "for i in range(10):\n",
        "  if i % 2 != 0:\n",
        "    print(i, end=\" \")"
      ],
      "metadata": {
        "colab": {
          "base_uri": "https://localhost:8080/"
        },
        "id": "EofyNHyi4Mwm",
        "outputId": "21cb394e-b788-4700-fb26-e130743c240e"
      },
      "execution_count": null,
      "outputs": [
        {
          "output_type": "stream",
          "name": "stdout",
          "text": [
            "1 3 5 7 9 "
          ]
        }
      ]
    },
    {
      "cell_type": "code",
      "source": [
        "# Q. 1~10 범위의 정수에서 1~5까지만 출력하세요\n",
        "for i in range(1, 11):\n",
        "  if i > 5: break\n",
        "  else: print(i, end=\" \")\n"
      ],
      "metadata": {
        "colab": {
          "base_uri": "https://localhost:8080/"
        },
        "id": "vTVuL4CP4xc6",
        "outputId": "af196ba9-0d58-4296-e887-87c6c77e3392"
      },
      "execution_count": null,
      "outputs": [
        {
          "output_type": "stream",
          "name": "stdout",
          "text": [
            "1 2 3 4 5 "
          ]
        }
      ]
    },
    {
      "cell_type": "code",
      "source": [
        "# Q. numbers 리스트에서 15, 20, 25를 출력하세요 (for, if조건 사용)\n",
        "numbers=[5,15, 6, 20, 7, 25]\n",
        "for i in numbers:\n",
        "  #if i % 5 == 0 and i >= 10: print(i, end=\" \")\n",
        "  if i >= 15: print(i, end=\" \")\n"
      ],
      "metadata": {
        "colab": {
          "base_uri": "https://localhost:8080/"
        },
        "id": "Ne4CxadA5nQ9",
        "outputId": "00fa311b-c95b-42af-ad8c-3a05e800ae74"
      },
      "execution_count": null,
      "outputs": [
        {
          "output_type": "stream",
          "name": "stdout",
          "text": [
            "15 20 25 "
          ]
        }
      ]
    },
    {
      "cell_type": "code",
      "source": [
        "# 특정 조건을 만족할 때까지 반복\n",
        "count=0\n",
        "while 1:\n",
        "  count += 1\n",
        "  if count >5:\n",
        "    break\n",
        "  print(count, end=\" \")\n",
        "print(\"루프가 종료됨\")"
      ],
      "metadata": {
        "colab": {
          "base_uri": "https://localhost:8080/"
        },
        "id": "AYCFsfDD-lQV",
        "outputId": "849952ad-0d12-4fb4-8cf8-74392c1a57bd"
      },
      "execution_count": null,
      "outputs": [
        {
          "output_type": "stream",
          "name": "stdout",
          "text": [
            "1 2 3 4 5 루프가 종료됨\n"
          ]
        }
      ]
    },
    {
      "cell_type": "code",
      "source": [
        "# Q. 리스트에서 특정값 찾기, 찾았으면 값을 찾아습니다. 출력하고 못 찾으면 \"값을 찾지 못했습니다.\"를 출력\n",
        "numbers=[1,2,3,4,5]\n",
        "target=10\n",
        "\n",
        "count=0\n",
        "while count < len(numbers):\n",
        "  if numbers[count] == target:\n",
        "    print(\"target을 찾았습니다.\\n\")\n",
        "    break                                    # break를 쓰지 않으면, 값을 찾은 경우에 찾고 난 이후에도 while 끝까지 돌고 나서 else로 들어가니까 또 찾지 못했다고 msg 또 뿌리는 문제가 있다\n",
        "  count += 1\n",
        "else: print(\"target을 찾지 못했습니다.\")\n",
        "\n",
        "\n",
        "if target in numbers: print(\"target을 찾았습니다.\\n\")\n",
        "else: print(\"target을 찾지 못했습니다.\")"
      ],
      "metadata": {
        "colab": {
          "base_uri": "https://localhost:8080/"
        },
        "id": "TqVAe5kZAGb7",
        "outputId": "817bdaa6-3773-4323-cf25-74cf58ef7754"
      },
      "execution_count": null,
      "outputs": [
        {
          "output_type": "stream",
          "name": "stdout",
          "text": [
            "target을 찾지 못했습니다.\n",
            "target을 찾지 못했습니다.\n"
          ]
        }
      ]
    },
    {
      "cell_type": "code",
      "source": [
        "# Q. 1~20사이의 정수에서 10보다 작은 홀수만 출력\n",
        "i=1\n",
        "while i < 20:\n",
        "  if i % 2 == 1 and i < 10:\n",
        "    print (i, end=\" \")\n",
        "  i += 1\n",
        "print('\\n')\n",
        "\n",
        "for i in range(1,20):\n",
        "  if i % 2 == 1 and i < 10: print (i, end=\" \")\n",
        "print('\\n')\n",
        "\n",
        "i=0\n",
        "while i < 20:\n",
        "  i += 1\n",
        "  if i % 2 == 0:\n",
        "    continue\n",
        "  if i >= 10: break\n",
        "  print(i, end=\" \")\n",
        "\n",
        "\n",
        "\n"
      ],
      "metadata": {
        "colab": {
          "base_uri": "https://localhost:8080/"
        },
        "id": "jcCdVf0yDMjL",
        "outputId": "ad6283fb-5b38-47eb-c1ca-c845f2f44751"
      },
      "execution_count": null,
      "outputs": [
        {
          "output_type": "stream",
          "name": "stdout",
          "text": [
            "1 3 5 7 9 \n",
            "\n",
            "1 3 5 7 9 \n",
            "\n",
            "1 3 5 7 9 "
          ]
        }
      ]
    },
    {
      "cell_type": "code",
      "source": [
        "# Q. 정수 1부터 n까지 더할 때 그 합이 1000보다 커지게 되는 n과 합을 구하세요 (while~break)\n",
        "i=0; sum1=0\n",
        "while 1:\n",
        "  i += 1; sum1=sum1+i\n",
        "  if sum1 > 1000:\n",
        "    print(i, sum1, end=\" \\n\")\n",
        "    break\n",
        "\n",
        "i=0; sum1=0\n",
        "while sum1 <= 1000:\n",
        "  i += 1; sum1=sum1+i\n",
        "print(i, sum1, end=\" \\n\")\n",
        "\n",
        "# Q. while 문을 사용해 1부터 1000까지의 정수 중 3의 배수의 합을 구해보세요\n",
        "i=0; sum1=0\n",
        "while i <= 1000:\n",
        "  i += 1\n",
        "  if i % 3 == 0:\n",
        "    sum1=sum1+i\n",
        "print (sum1)\n",
        "\n",
        "\n",
        "### alternative method\n",
        "List1=[]\n",
        "List1=list(range(0,1000,3))\n",
        "print(sum(List1))\n",
        "\n",
        "\n",
        "# Q. 정수를 입력하면 홀수 짝수를 판별하는 프로그램 작성\n",
        "# TEST bench: n1='2'; n2='2.3'; n3='adfasdf'; n4=\"4\";\n",
        "# input_num=n1\n",
        "input_num=input(\"정수를 입력하세요: \")\n",
        "\n",
        "if input_num[0].isnumeric():\n",
        "  if \".\" in input_num: print(\"This is not a integer\")\n",
        "  else:\n",
        "    if int(input_num) % 2 == 0: print(\"This value is an even number\")\n",
        "    else: print(\"This value is an odd number\")\n",
        "\n",
        "else:\n",
        "  print(\"This is not a numerical value\")\n",
        "\n",
        "\n",
        "##################### Alternative Method\n",
        "while True:\n",
        "   try:\n",
        "     input_num = int(input(\"정수를 입력하세요: \"))\n",
        "     if int(input_num) % 2 == 0: print(\"This value is an even number\")\n",
        "     else: print(\"This value is an odd number\")\n",
        "     break\n",
        "   except ValueError:\n",
        "     print(\"This is not a numerical value\")\n",
        "     break\n",
        "\n"
      ],
      "metadata": {
        "colab": {
          "base_uri": "https://localhost:8080/"
        },
        "id": "OjhNkI9BGJ4u",
        "outputId": "11c4f73f-7eaf-4f76-f91e-ad74125f2cc7"
      },
      "execution_count": null,
      "outputs": [
        {
          "output_type": "stream",
          "name": "stdout",
          "text": [
            "45 1035 \n",
            "45 1035 \n",
            "166833\n",
            "[0, 3, 6, 9, 12, 15, 18, 21, 24, 27, 30, 33, 36, 39, 42, 45, 48, 51, 54, 57, 60, 63, 66, 69, 72, 75, 78, 81, 84, 87, 90, 93, 96, 99, 102, 105, 108, 111, 114, 117, 120, 123, 126, 129, 132, 135, 138, 141, 144, 147, 150, 153, 156, 159, 162, 165, 168, 171, 174, 177, 180, 183, 186, 189, 192, 195, 198, 201, 204, 207, 210, 213, 216, 219, 222, 225, 228, 231, 234, 237, 240, 243, 246, 249, 252, 255, 258, 261, 264, 267, 270, 273, 276, 279, 282, 285, 288, 291, 294, 297, 300, 303, 306, 309, 312, 315, 318, 321, 324, 327, 330, 333, 336, 339, 342, 345, 348, 351, 354, 357, 360, 363, 366, 369, 372, 375, 378, 381, 384, 387, 390, 393, 396, 399, 402, 405, 408, 411, 414, 417, 420, 423, 426, 429, 432, 435, 438, 441, 444, 447, 450, 453, 456, 459, 462, 465, 468, 471, 474, 477, 480, 483, 486, 489, 492, 495, 498, 501, 504, 507, 510, 513, 516, 519, 522, 525, 528, 531, 534, 537, 540, 543, 546, 549, 552, 555, 558, 561, 564, 567, 570, 573, 576, 579, 582, 585, 588, 591, 594, 597, 600, 603, 606, 609, 612, 615, 618, 621, 624, 627, 630, 633, 636, 639, 642, 645, 648, 651, 654, 657, 660, 663, 666, 669, 672, 675, 678, 681, 684, 687, 690, 693, 696, 699, 702, 705, 708, 711, 714, 717, 720, 723, 726, 729, 732, 735, 738, 741, 744, 747, 750, 753, 756, 759, 762, 765, 768, 771, 774, 777, 780, 783, 786, 789, 792, 795, 798, 801, 804, 807, 810, 813, 816, 819, 822, 825, 828, 831, 834, 837, 840, 843, 846, 849, 852, 855, 858, 861, 864, 867, 870, 873, 876, 879, 882, 885, 888, 891, 894, 897, 900, 903, 906, 909, 912, 915, 918, 921, 924, 927, 930, 933, 936, 939, 942, 945, 948, 951, 954, 957, 960, 963, 966, 969, 972, 975, 978, 981, 984, 987, 990, 993, 996, 999]\n",
            "166833\n",
            "정수를 입력하세요: 2\n",
            "This value is an even number\n",
            "정수를 입력하세요: 3\n",
            "This value is an odd number\n"
          ]
        }
      ]
    },
    {
      "cell_type": "code",
      "source": [
        "# Q. 입력 받은 문자열의 각 문자를 그 다음 문자로 변경하여 출력하시오\n",
        "data= input('문자열을 입력: ')\n",
        "for i in range(len(data)):\n",
        "  if i == 0:\n",
        "    continue\n",
        "  print(data[i],end=\"\")\n",
        "else:\n",
        "  print(data[0])\n",
        "\n"
      ],
      "metadata": {
        "colab": {
          "base_uri": "https://localhost:8080/"
        },
        "id": "IGirHmL9jgHD",
        "outputId": "5884861d-44b1-4f80-a184-5f01c85463dc"
      },
      "execution_count": null,
      "outputs": [
        {
          "output_type": "stream",
          "name": "stdout",
          "text": [
            "문자열을 입력: adfasgdasdf\n",
            "dfasgdasdfa\n"
          ]
        }
      ]
    },
    {
      "cell_type": "markdown",
      "source": [
        "zip() 함수\n",
        "- 여러 개의 이터러블(리스트, 튜플 등)을 인자로 받아, 동일한 인덱스에 있는 요소들을 하나의 튜플로 묶어서 이터레이터를 반환 (단 이터레이터는 한번만 반환)\n",
        "- 데이터를 병렬로 처리할 때 유용"
      ],
      "metadata": {
        "id": "gOEux52snYzg"
      }
    },
    {
      "cell_type": "code",
      "source": [
        "list1=[1,2,3,4]\n",
        "list2=['a','b','c','d']\n",
        "zipped=zip(list1, list2)\n",
        "print(list(zipped))\n"
      ],
      "metadata": {
        "colab": {
          "base_uri": "https://localhost:8080/"
        },
        "id": "QFvvEmfjnyq3",
        "outputId": "ff6a118a-2d86-4793-aac1-4e9fd924d9e3"
      },
      "execution_count": null,
      "outputs": [
        {
          "output_type": "stream",
          "name": "stdout",
          "text": [
            "[(1, 'a'), (2, 'b'), (3, 'c'), (4, 'd')]\n",
            "<zip object at 0x7a8d99981080>\n"
          ]
        }
      ]
    },
    {
      "cell_type": "code",
      "source": [
        "# Q. 두개의 리스트(이름과 성)을 사용하여 각 사람의 전체 이름을 생성하시오\n",
        "first_name = ['John', 'Jane','Corey', 'Travis']\n",
        "last_name = ['Doe','Smith','Turner','Williams']\n",
        "\n",
        "full_name=[first+\" \"+last for first, last in zip(first_name, last_name)]\n",
        "print(full_name,\"\\n\")\n",
        "\n",
        "\n",
        "# Q. 학생들의 수학과 영어 점수를 각각의 리스트로 받아 평균 점수를 계산하시오\n",
        "m_score=[88,92,79,93,85]\n",
        "e_score=[82,95,75,86,74]\n",
        "ever_score=[(MatScore+EnScore)/2 for MatScore, EnScore in zip(m_score, e_score)]\n",
        "print(ever_score,\"\\n\")\n",
        "\n",
        "\n",
        "# Q. 상품 이름과 가격이 각각 다른 리스트에 저장되어 있을때, 상품과 가격을 튜플로 묶어 출력하세요\n",
        "product=['apple','banna','cherry']\n",
        "price=['1.2','0.5','23.5']\n",
        "\n",
        "for pro, pric in zip(product,price):\n",
        "  print(f\"Product: {pro}, Price: ${pric}\")\n",
        "\n",
        "\n"
      ],
      "metadata": {
        "colab": {
          "base_uri": "https://localhost:8080/"
        },
        "id": "ZNrzujDXoIxK",
        "outputId": "b273746c-422c-4173-f04b-560283a4a833"
      },
      "execution_count": null,
      "outputs": [
        {
          "output_type": "stream",
          "name": "stdout",
          "text": [
            "['John Doe', 'Jane Smith', 'Corey Turner', 'Travis Williams'] \n",
            "\n",
            "[85.0, 93.5, 77.0, 89.5, 79.5] \n",
            "\n",
            "Product: apple, Price: $1.2\n",
            "Product: banna, Price: $0.5\n",
            "Product: cherry, Price: $23.5\n"
          ]
        }
      ]
    },
    {
      "cell_type": "markdown",
      "source": [
        "#### 파이썬의 random 모듈\n",
        "난수를 생성하기 위한 다양한 함수를 제공\n",
        "- 기본 난수 생성:\n",
        "  - random.random(): 0과 1 사이의 무작위 부동소수점 숫자를 반환.\n",
        "- 범위 지정 난수 생성:\n",
        "  - random.randint(a, b): a와 b 사이의 무작위 정수를 반환(b 포함).\n",
        "  - random.randrange(start, stop[, step]): 지정된 범위에서 무작위 정수를 반환. step을 설정하여 수의 간격을 조정할 수 있다.\n",
        "- 시퀀스용 함수:\n",
        "  - random.choice(sequence): 주어진 시퀀스(리스트, 튜플 등)에서 무작위로 아이템을 선택하여 반환.\n",
        "  - random.shuffle(x[, random]): 리스트의 항목들을 무작위로 섞는다. random은 섞기를 위한 함수를 커스텀할 때 사용.\n",
        "  - random.sample(population, k): 주어진 시퀀스에서 무작위로 k개의 항목을 뽑아 새 리스트로 반환.\n",
        "- 분포 기반 난수 생성:\n",
        "  - random.uniform(a, b): a와 b 사이의 무작위 부동소수점 숫자를 균등 분포로 반환.\n",
        "  - random.gauss(mu, sigma): 평균 mu와 표준편차 sigma를 가지는 정규 분포에서 난수를 반환."
      ],
      "metadata": {
        "id": "2hCaXXS3rpJA"
      }
    },
    {
      "cell_type": "code",
      "source": [
        "import random\n",
        "# 0과 1 사이의 난수 생성\n",
        "print(random.random())\n",
        "\n",
        "# 1과 10사이의 정수 반환 (10 포함)\n",
        "print(random.randint(1,10))\n",
        "\n",
        "# 리스트에서 무작위로 하나의 원소 선택\n",
        "items=[1,2,3,4,5]\n",
        "print(random.choice(items))\n",
        "\n",
        "# 리스트의 원소를 무작위로 섞기\n",
        "random.shuffle(items)\n",
        "print(items)\n",
        "\n",
        "# 정규 분포의 난수 생성\n",
        "mean=0\n",
        "std_dev=1\n",
        "print(random.gauss(mean, std_dev))"
      ],
      "metadata": {
        "colab": {
          "base_uri": "https://localhost:8080/"
        },
        "id": "1MSAaupesQmD",
        "outputId": "8d43b320-2d99-4e60-d8fa-7a09e27fc9d3"
      },
      "execution_count": null,
      "outputs": [
        {
          "output_type": "stream",
          "name": "stdout",
          "text": [
            "0.3502979791490044\n",
            "1\n",
            "2\n",
            "[3, 2, 5, 4, 1]\n",
            "-0.5125969590287069\n"
          ]
        }
      ]
    },
    {
      "cell_type": "code",
      "source": [
        "import random\n",
        "male=['철수', '갑돌', '로미오','이몽룡','온돌']\n",
        "random.shuffle(male)\n",
        "male"
      ],
      "metadata": {
        "colab": {
          "base_uri": "https://localhost:8080/"
        },
        "id": "-0JXqsDwv8Fd",
        "outputId": "535d8bc1-4c86-4297-bcbe-19b66c17b6c4"
      },
      "execution_count": null,
      "outputs": [
        {
          "output_type": "execute_result",
          "data": {
            "text/plain": [
              "['로미오', '온돌', '갑돌', '이몽룡', '철수']"
            ]
          },
          "metadata": {},
          "execution_count": 27
        }
      ]
    },
    {
      "cell_type": "code",
      "source": [
        "from random import shuffle          #### random 모듈로부터 shffle만 가져왔으니 random.shuffle이라 할 필요 X, 그냥 shuffle만 써도 됨.\n",
        "male=['철수', '갑돌', '로미오','이몽룡','온돌']\n",
        "shuffle(male)\n",
        "male"
      ],
      "metadata": {
        "colab": {
          "base_uri": "https://localhost:8080/"
        },
        "id": "5R2wH3aJwQ8X",
        "outputId": "5a2a3af7-dfa7-4391-a013-076963cb0ca7"
      },
      "execution_count": null,
      "outputs": [
        {
          "output_type": "execute_result",
          "data": {
            "text/plain": [
              "['갑돌', '이몽룡', '온돌', '철수', '로미오']"
            ]
          },
          "metadata": {},
          "execution_count": 29
        }
      ]
    },
    {
      "cell_type": "markdown",
      "source": [
        "Task1_0430. 남녀 파트너 정해주기 프로그램(zip)\n",
        "\n",
        "같은 수의 남녀 모임에서 파트너를 랜덤하게 정해주는 프로그램을 만들어 보세요\n",
        "\n",
        "male = ['철수','갑돌','로미오','이몽룡','온돌']\n",
        "\n",
        "female = ['미미','갑순','줄리엣','성춘향','평강']\n",
        "\n",
        "\n",
        "Task2_0430. 대문자, 소문자, 숫자를 포함하는 8자리 랜덤 비밀번호를 생성하는 프로그램을 작성하세요.\n",
        "\n",
        "\n",
        "Task3_0430. 발표자 수를 랜덤하게 출력하는 프로그램을 작성하세요.(발표자 수 입력)\n",
        "\n",
        "kita = ['김성현','황강민','윤호준','류윤선','이상협','박지환','최환욱','서보선','김한결','김도현','김하준',\n",
        "        '김도원','신현진','소지승','이범석','이현석','이명신','박윤경','이도헌','김홍준']\n",
        "\n",
        "\n",
        " Task4_0430. 사용자로부터 숫자를 입력받아 해당 숫자의 구구단을 출력하는 프로그램을 작성하세요.       \n",
        "\n",
        "\n",
        "\n",
        " Task5_0430. 사용자로부터 숫자를 입력받아 해당 숫자의 팩토리얼을 계산하세요.\n",
        "\n",
        "\n",
        " Task6_0430. 0부터 20까지의 숫자 중에서 짝수와 홀수를 분리하여 두 개의 리스트에 저장하세요.\n",
        "\n",
        " Task7_0430. 주어진 리스트에서 최대값을 찾아 출력하세요.\n",
        " numbers=[34,78,2,45,99,23]\n",
        "\n",
        "Task8_0430.  1부터 10 사이의 임의의 숫자를 맞추는 게임을 만드세요. 사용자가 숫자를 맞출 때까지 입력을 계속 받으며, 정답을 맞추면 게임을 종료하세요.\n",
        "(숫자를 입력하면 target 대비 크다/작다는 hint 제공)\n",
        "\n",
        "Task9_0430. 태어난 연도를 입력받아 띠를 출력하는 프로그램을 작성하세요.\n",
        "\n",
        "Task10_0430. 아래 사항을 반영하여 커피 자판기 프로그램을 작성하세요.\n",
        "- 시나리오 : 자판기 커피 재고 5잔, 커피 1잔 가격 300원, 재고 범위내에서 300원 이상 돈을 넣으면 거스름돈과 커피를 주고 그렇지 않으면 반환하며 재고가 소진되면 안내멘트 출력\n",
        "- 각 Case별 멘트 출력은 상황에 맞게 창작\n",
        "- while, if ~ elif ~ else 제어문을 사용하여 작성"
      ],
      "metadata": {
        "id": "6TKhdRwyz3sR"
      }
    },
    {
      "cell_type": "code",
      "source": [
        "# Task1_0430. 남녀 파트너 정해주기 프로그램(zip) 같은 수의 남녀 모임에서 파트너를 랜덤하게 정해주는 프로그램을 만들어 보세요\n",
        "import random\n",
        "\n",
        "MaleList = ['철수','갑돌','로미오','이몽룡','온돌']\n",
        "FemaleList = ['미미','갑순','줄리엣','성춘향','평강']\n",
        "random.shuffle(MaleList); random.shuffle(FemaleList)\n",
        "CoupleList=[male+\" - \"+female for male, female in zip(MaleList,FemaleList)]\n",
        "\n",
        "print(f\"랜덤 커플 결과: {CoupleList[:]} \\n\")"
      ],
      "metadata": {
        "colab": {
          "base_uri": "https://localhost:8080/"
        },
        "id": "PfXeA-kgzx5h",
        "outputId": "4e047bc9-577c-42d8-8238-47f5de805590"
      },
      "execution_count": null,
      "outputs": [
        {
          "output_type": "stream",
          "name": "stdout",
          "text": [
            "랜덤 커플 결과: ['로미오 - 평강', '이몽룡 - 미미', '철수 - 줄리엣', '온돌 - 갑순', '갑돌 - 성춘향'] \n",
            "\n"
          ]
        }
      ]
    },
    {
      "cell_type": "code",
      "source": [
        "# Task1_0430. 강사님 모범 답안\n",
        "import random\n",
        "\n",
        "MaleList = ['철수','갑돌','로미오','이몽룡','온돌']\n",
        "FemaleList = ['미미','갑순','줄리엣','성춘향','평강']\n",
        "random.shuffle(MaleList); random.shuffle(FemaleList)\n",
        "couples=zip(MaleList,FemaleList)\n",
        "for i, couple in enumerate(couples):\n",
        "  print(f\"커플{i+1}: {couple[0]}, {couple[1]}\")"
      ],
      "metadata": {
        "colab": {
          "base_uri": "https://localhost:8080/"
        },
        "id": "X751IyVqtINJ",
        "outputId": "b64ef14a-a002-4fa8-a208-c4e4fee7c44f"
      },
      "execution_count": null,
      "outputs": [
        {
          "output_type": "stream",
          "name": "stdout",
          "text": [
            "커플1: 철수, 성춘향\n",
            "커플2: 온돌, 미미\n",
            "커플3: 이몽룡, 줄리엣\n",
            "커플4: 갑돌, 갑순\n",
            "커플5: 로미오, 평강\n"
          ]
        }
      ]
    },
    {
      "cell_type": "code",
      "source": [
        "# ZIP / List ??\n",
        "import random\n",
        "\n",
        "MaleList = ['철수','갑돌','로미오','이몽룡','온돌']\n",
        "FemaleList = ['미미','갑순','줄리엣','성춘향','평강']\n",
        "random.shuffle(MaleList); random.shuffle(FemaleList)\n",
        "couples=zip(MaleList,FemaleList)\n",
        "print(list(couples))                                # zip으로 묶인 결과를 보기위해서 list로 묶어서 print해서 이터레이터를 한번 소비하면 아래 for 루프는 돌 수가 없다.\n",
        "for i, couple in enumerate(couples):\n",
        "  print(f\"커플{i+1}: {couple[0]}, {couple[1]}\")"
      ],
      "metadata": {
        "colab": {
          "base_uri": "https://localhost:8080/"
        },
        "id": "QZ_DaGdN2veJ",
        "outputId": "8e28e81f-9e23-4c3d-bfa3-9dbcd5f7d45a"
      },
      "execution_count": null,
      "outputs": [
        {
          "output_type": "stream",
          "name": "stdout",
          "text": [
            "[('로미오', '평강'), ('온돌', '갑순'), ('철수', '미미'), ('갑돌', '줄리엣'), ('이몽룡', '성춘향')]\n"
          ]
        }
      ]
    },
    {
      "cell_type": "code",
      "source": [
        "# ZIP / List ??\n",
        "import random\n",
        "\n",
        "MaleList = ['철수','갑돌','로미오','이몽룡','온돌']\n",
        "FemaleList = ['미미','갑순','줄리엣','성춘향','평강']\n",
        "random.shuffle(MaleList); random.shuffle(FemaleList)\n",
        "couples1=zip(MaleList,FemaleList)\n",
        "couples=list(couples1)                                # 위와 같은 문제를 해결하기 위해서는 한번에 소비 하지 않고, zip 결과를 list로 해서 다른 객체에 할당을 하고 그것을 여러번 사용할 수 있다\n",
        "print(couples)\n",
        "for i, couple in enumerate(couples):\n",
        "  print(f\"커플{i+1}: {couple[0]}, {couple[1]}\")"
      ],
      "metadata": {
        "colab": {
          "base_uri": "https://localhost:8080/"
        },
        "outputId": "561d1fdd-0730-442c-a33f-5464768e8752",
        "id": "XAbZE-Lo8zba"
      },
      "execution_count": null,
      "outputs": [
        {
          "output_type": "stream",
          "name": "stdout",
          "text": [
            "[('로미오', '평강'), ('철수', '갑순'), ('온돌', '줄리엣'), ('이몽룡', '성춘향'), ('갑돌', '미미')]\n",
            "커플1: 로미오, 평강\n",
            "커플2: 철수, 갑순\n",
            "커플3: 온돌, 줄리엣\n",
            "커플4: 이몽룡, 성춘향\n",
            "커플5: 갑돌, 미미\n"
          ]
        }
      ]
    },
    {
      "cell_type": "code",
      "source": [
        "# Task2_0430. 대문자, 소문자, 숫자를 포함하는 8자리 랜덤 비밀번호를 생성하는 프로그램을 작성하세요.\n",
        "import random\n",
        "import string\n",
        "print(f\"8-Digits PassCode: \")\n",
        "for i in range(1,9):\n",
        "  RandomField=random.choice(list(string.ascii_lowercase)+list(string.ascii_uppercase)+list(range(0,10)))\n",
        "  print(RandomField, end=\" \")\n",
        "print(\"\\n\")"
      ],
      "metadata": {
        "colab": {
          "base_uri": "https://localhost:8080/"
        },
        "id": "SamzoeuF2xx0",
        "outputId": "7fe9143a-9223-48a6-d184-e5ea80f365be"
      },
      "execution_count": null,
      "outputs": [
        {
          "output_type": "stream",
          "name": "stdout",
          "text": [
            "8-Digits PassCode: \n",
            "k V y 5 p A u 9 \n",
            "\n"
          ]
        }
      ]
    },
    {
      "cell_type": "code",
      "source": [
        "# Task2_0430. 강사님 모범 답안\n",
        "import random\n",
        "import string\n",
        "characters=string.ascii_letters+string.digits     # 소문자 + 대문자 + 0-9\n",
        "password = ''.join(random.choice(characters) for i in range(8))        # join하는 규칙은 .join 앞에 있는 ''\n",
        "print(\"랜덤 비밀번호:\", password)"
      ],
      "metadata": {
        "colab": {
          "base_uri": "https://localhost:8080/"
        },
        "id": "C2lI0dP1tGqM",
        "outputId": "020810c2-92de-40f1-810b-e46fd301d951"
      },
      "execution_count": null,
      "outputs": [
        {
          "output_type": "stream",
          "name": "stdout",
          "text": [
            "랜덤 비밀번호: jtY9a6oL\n"
          ]
        }
      ]
    },
    {
      "cell_type": "code",
      "source": [
        "# Task2_0430. 추가 강사님 모범 답안 적어도 소문자, 대문자, digit\n",
        "import random\n",
        "import string\n",
        "\n",
        "lower=random.choice(string.ascii_lowercase); upper=random.choice(string.ascii_uppercase); digit=random.choice(string.digits)\n",
        "characters=string.ascii_letters+string.digits\n",
        "rest=''.join(random.choice(characters) for i in range(5))\n",
        "password = upper + lower + digit + rest\n",
        "print(password)\n",
        "password = ''.join(random.sample(password, len(password)))\n",
        "print(\"랜덤 비밀번호:\", password)"
      ],
      "metadata": {
        "colab": {
          "base_uri": "https://localhost:8080/"
        },
        "id": "jJ2v062716nA",
        "outputId": "d9a952c5-c361-4151-b2b4-2a1738528921"
      },
      "execution_count": null,
      "outputs": [
        {
          "output_type": "stream",
          "name": "stdout",
          "text": [
            "Yw4QJldW\n",
            "랜덤 비밀번호: YlQWdw4J\n"
          ]
        }
      ]
    },
    {
      "cell_type": "code",
      "source": [
        "#Task3_0430. 발표자 수를 랜덤하게 출력하는 프로그램을 작성하세요.(발표자 수 입력)\n",
        "kita = ['김성현','황강민','윤호준','류윤선','이상협','박지환','최환욱','서보선','김한결','김도현','김하준', '김도원','신현진','소지승','이범석','이현석','이명신','박윤경','이도헌','김홍준']\n",
        "\n",
        "import random\n",
        "NoPres=int(input(\"발표자 수를 입력하시오: \"))\n",
        "if NoPres > len(kita):\n",
        "  print(f\"{len(kita)}보다 작은 수를 입력하시오\")\n",
        "else:\n",
        "  print(\"SPEAKERs: \")\n",
        "  for i in range(0,NoPres):\n",
        "    Speaker=random.choice(kita); kita.remove(Speaker)\n",
        "    print(Speaker,end=\" \")"
      ],
      "metadata": {
        "colab": {
          "base_uri": "https://localhost:8080/"
        },
        "id": "osdX2qkA24ME",
        "outputId": "b2d1535f-b8e9-493b-9400-97c97ac18b7e"
      },
      "execution_count": null,
      "outputs": [
        {
          "output_type": "stream",
          "name": "stdout",
          "text": [
            "발표자 수를 입력하시오: 3\n",
            "SPEAKERs: \n",
            "황강민 김도원 김한결 "
          ]
        }
      ]
    },
    {
      "cell_type": "code",
      "source": [
        "#Task3_0430. 강사님 모범 답안\n",
        "kita = ['김성현','황강민','윤호준','류윤선','이상협','박지환','최환욱','서보선','김한결','김도현','김하준', '김도원','신현진','소지승','이범석','이현석','이명신','박윤경','이도헌','김홍준']\n",
        "\n",
        "import random\n",
        "NoPres=int(input(\"발표자 수를 입력하시오: \"))\n",
        "if NoPres > len(kita):\n",
        "  print(f\"{len(kita)}보다 작은 수를 입력하시오\")\n",
        "else:\n",
        "  print(\"SPEAKERs: \")\n",
        "  SPKs=random.sample(kita,NoPres)        # 중복 없이 뽑아준다.\n",
        "  print(SPKs)"
      ],
      "metadata": {
        "colab": {
          "base_uri": "https://localhost:8080/"
        },
        "id": "ZVeYXI756Mau",
        "outputId": "345b0195-9187-46bd-c2d9-8dd560bd8c18"
      },
      "execution_count": null,
      "outputs": [
        {
          "output_type": "stream",
          "name": "stdout",
          "text": [
            "발표자 수를 입력하시오: 3\n",
            "SPEAKERs: \n",
            "['소지승', '김성현', '최환욱']\n"
          ]
        }
      ]
    },
    {
      "cell_type": "code",
      "source": [
        "# Task4_0430. 사용자로부터 숫자를 입력받아 해당 숫자의 구구단을 출력하는 프로그램을 작성하세요.\n",
        "NoMulti=int(input(\"구구단을 위한 수를 입력하시오: \"))\n",
        "if NoMulti >= 10 :\n",
        "  print(\"9단 이하로 선택하시오\\n\")\n",
        "else:\n",
        "  print(f\"구구단 - {NoMulti} 단: \")\n",
        "  for i in range(1,10):\n",
        "    print(f\"{NoMulti} X {i} = {int(NoMulti*i)}\")"
      ],
      "metadata": {
        "colab": {
          "base_uri": "https://localhost:8080/"
        },
        "id": "9TtHoM0-24D9",
        "outputId": "5d3a7ca3-ff4e-4560-e385-4f366621dad7"
      },
      "execution_count": null,
      "outputs": [
        {
          "output_type": "stream",
          "name": "stdout",
          "text": [
            "구구단을 위한 수를 입력하시오: 9\n",
            "구구단 - 9 단: \n",
            "9 X 1 = 9\n",
            "9 X 2 = 18\n",
            "9 X 3 = 27\n",
            "9 X 4 = 36\n",
            "9 X 5 = 45\n",
            "9 X 6 = 54\n",
            "9 X 7 = 63\n",
            "9 X 8 = 72\n",
            "9 X 9 = 81\n"
          ]
        }
      ]
    },
    {
      "cell_type": "code",
      "source": [
        "# Task4_0430. Extra\n",
        "for i in range(1,10):\n",
        "  print(f\"구구단 - {i} 단: \")\n",
        "  for k in range(1,10):\n",
        "     print(f\"{i} X {k} = {int(i*k)}\")"
      ],
      "metadata": {
        "colab": {
          "base_uri": "https://localhost:8080/"
        },
        "id": "gblCzBth7o0v",
        "outputId": "51161e98-d2e2-4ce5-e67e-464430698a37"
      },
      "execution_count": null,
      "outputs": [
        {
          "output_type": "stream",
          "name": "stdout",
          "text": [
            "구구단 - 1 단: \n",
            "1 X 1 = 1\n",
            "1 X 2 = 2\n",
            "1 X 3 = 3\n",
            "1 X 4 = 4\n",
            "1 X 5 = 5\n",
            "1 X 6 = 6\n",
            "1 X 7 = 7\n",
            "1 X 8 = 8\n",
            "1 X 9 = 9\n",
            "구구단 - 2 단: \n",
            "2 X 1 = 2\n",
            "2 X 2 = 4\n",
            "2 X 3 = 6\n",
            "2 X 4 = 8\n",
            "2 X 5 = 10\n",
            "2 X 6 = 12\n",
            "2 X 7 = 14\n",
            "2 X 8 = 16\n",
            "2 X 9 = 18\n",
            "구구단 - 3 단: \n",
            "3 X 1 = 3\n",
            "3 X 2 = 6\n",
            "3 X 3 = 9\n",
            "3 X 4 = 12\n",
            "3 X 5 = 15\n",
            "3 X 6 = 18\n",
            "3 X 7 = 21\n",
            "3 X 8 = 24\n",
            "3 X 9 = 27\n",
            "구구단 - 4 단: \n",
            "4 X 1 = 4\n",
            "4 X 2 = 8\n",
            "4 X 3 = 12\n",
            "4 X 4 = 16\n",
            "4 X 5 = 20\n",
            "4 X 6 = 24\n",
            "4 X 7 = 28\n",
            "4 X 8 = 32\n",
            "4 X 9 = 36\n",
            "구구단 - 5 단: \n",
            "5 X 1 = 5\n",
            "5 X 2 = 10\n",
            "5 X 3 = 15\n",
            "5 X 4 = 20\n",
            "5 X 5 = 25\n",
            "5 X 6 = 30\n",
            "5 X 7 = 35\n",
            "5 X 8 = 40\n",
            "5 X 9 = 45\n",
            "구구단 - 6 단: \n",
            "6 X 1 = 6\n",
            "6 X 2 = 12\n",
            "6 X 3 = 18\n",
            "6 X 4 = 24\n",
            "6 X 5 = 30\n",
            "6 X 6 = 36\n",
            "6 X 7 = 42\n",
            "6 X 8 = 48\n",
            "6 X 9 = 54\n",
            "구구단 - 7 단: \n",
            "7 X 1 = 7\n",
            "7 X 2 = 14\n",
            "7 X 3 = 21\n",
            "7 X 4 = 28\n",
            "7 X 5 = 35\n",
            "7 X 6 = 42\n",
            "7 X 7 = 49\n",
            "7 X 8 = 56\n",
            "7 X 9 = 63\n",
            "구구단 - 8 단: \n",
            "8 X 1 = 8\n",
            "8 X 2 = 16\n",
            "8 X 3 = 24\n",
            "8 X 4 = 32\n",
            "8 X 5 = 40\n",
            "8 X 6 = 48\n",
            "8 X 7 = 56\n",
            "8 X 8 = 64\n",
            "8 X 9 = 72\n",
            "구구단 - 9 단: \n",
            "9 X 1 = 9\n",
            "9 X 2 = 18\n",
            "9 X 3 = 27\n",
            "9 X 4 = 36\n",
            "9 X 5 = 45\n",
            "9 X 6 = 54\n",
            "9 X 7 = 63\n",
            "9 X 8 = 72\n",
            "9 X 9 = 81\n"
          ]
        }
      ]
    },
    {
      "cell_type": "code",
      "source": [
        "# Task4_0430. Extra 횡방향\n",
        "for i in range(0,10):\n",
        "  for j in range(2,10):           ## J단 출력\n",
        "    if i == 0:\n",
        "      print(f\"     {j}단\\t\", end='')\n",
        "    else: print(f\"{j} X {i} = {j*i}\\t\",end='')                      # 다음단으로 넘어갈때 종으로 배치되지 않게 하기 위해서 end='' 써줘야한다.\n",
        "  print()                                                     # print에는 자동으로 개행이 있으니 print()는 개행 한번, print(\"\\n\")은 개행 두번이 있다\n"
      ],
      "metadata": {
        "colab": {
          "base_uri": "https://localhost:8080/"
        },
        "id": "vMy0UYvM_Beo",
        "outputId": "3ddd345c-e865-42a5-ed81-5bfc2a5d1ba6"
      },
      "execution_count": null,
      "outputs": [
        {
          "output_type": "stream",
          "name": "stdout",
          "text": [
            "     2단\t     3단\t     4단\t     5단\t     6단\t     7단\t     8단\t     9단\t\n",
            "2 X 1 = 2\t3 X 1 = 3\t4 X 1 = 4\t5 X 1 = 5\t6 X 1 = 6\t7 X 1 = 7\t8 X 1 = 8\t9 X 1 = 9\t\n",
            "2 X 2 = 4\t3 X 2 = 6\t4 X 2 = 8\t5 X 2 = 10\t6 X 2 = 12\t7 X 2 = 14\t8 X 2 = 16\t9 X 2 = 18\t\n",
            "2 X 3 = 6\t3 X 3 = 9\t4 X 3 = 12\t5 X 3 = 15\t6 X 3 = 18\t7 X 3 = 21\t8 X 3 = 24\t9 X 3 = 27\t\n",
            "2 X 4 = 8\t3 X 4 = 12\t4 X 4 = 16\t5 X 4 = 20\t6 X 4 = 24\t7 X 4 = 28\t8 X 4 = 32\t9 X 4 = 36\t\n",
            "2 X 5 = 10\t3 X 5 = 15\t4 X 5 = 20\t5 X 5 = 25\t6 X 5 = 30\t7 X 5 = 35\t8 X 5 = 40\t9 X 5 = 45\t\n",
            "2 X 6 = 12\t3 X 6 = 18\t4 X 6 = 24\t5 X 6 = 30\t6 X 6 = 36\t7 X 6 = 42\t8 X 6 = 48\t9 X 6 = 54\t\n",
            "2 X 7 = 14\t3 X 7 = 21\t4 X 7 = 28\t5 X 7 = 35\t6 X 7 = 42\t7 X 7 = 49\t8 X 7 = 56\t9 X 7 = 63\t\n",
            "2 X 8 = 16\t3 X 8 = 24\t4 X 8 = 32\t5 X 8 = 40\t6 X 8 = 48\t7 X 8 = 56\t8 X 8 = 64\t9 X 8 = 72\t\n",
            "2 X 9 = 18\t3 X 9 = 27\t4 X 9 = 36\t5 X 9 = 45\t6 X 9 = 54\t7 X 9 = 63\t8 X 9 = 72\t9 X 9 = 81\t\n"
          ]
        }
      ]
    },
    {
      "cell_type": "code",
      "source": [
        "# 각 구구단 결과를 횡으로 출력\n",
        "## ~ 단 출력\n",
        "for i in range(2, 10):\n",
        "  print(f\"{' '*5}{i}단{' '*4}\", end='\\t')\n",
        "print()\n",
        "\n",
        "# 구분선 출력\n",
        "for i in range(2, 10):\n",
        "  print(f\"{'='*12}\", end='\\t')\n",
        "print()\n",
        "\n",
        "# 구구단 출력\n",
        "for i in range(1,10):\n",
        "  for j in range(2,10):           ## J단 출력\n",
        "    print(f\"{j} X {i} = {j*i}\\t\",end='')                      # 다음단으로 넘어갈때 종으로 배치되지 않게 하기 위해서 end='' 써줘야한다.\n",
        "  print()\n"
      ],
      "metadata": {
        "colab": {
          "base_uri": "https://localhost:8080/"
        },
        "id": "_b6yp4ONEaJe",
        "outputId": "840e67d5-6ef4-401e-f61c-87ee82d9e84c"
      },
      "execution_count": null,
      "outputs": [
        {
          "output_type": "stream",
          "name": "stdout",
          "text": [
            "     2단    \t     3단    \t     4단    \t     5단    \t     6단    \t     7단    \t     8단    \t     9단    \t\n",
            "============\t============\t============\t============\t============\t============\t============\t============\t\n",
            "2 X 1 = 2\t3 X 1 = 3\t4 X 1 = 4\t5 X 1 = 5\t6 X 1 = 6\t7 X 1 = 7\t8 X 1 = 8\t9 X 1 = 9\t\n",
            "2 X 2 = 4\t3 X 2 = 6\t4 X 2 = 8\t5 X 2 = 10\t6 X 2 = 12\t7 X 2 = 14\t8 X 2 = 16\t9 X 2 = 18\t\n",
            "2 X 3 = 6\t3 X 3 = 9\t4 X 3 = 12\t5 X 3 = 15\t6 X 3 = 18\t7 X 3 = 21\t8 X 3 = 24\t9 X 3 = 27\t\n",
            "2 X 4 = 8\t3 X 4 = 12\t4 X 4 = 16\t5 X 4 = 20\t6 X 4 = 24\t7 X 4 = 28\t8 X 4 = 32\t9 X 4 = 36\t\n",
            "2 X 5 = 10\t3 X 5 = 15\t4 X 5 = 20\t5 X 5 = 25\t6 X 5 = 30\t7 X 5 = 35\t8 X 5 = 40\t9 X 5 = 45\t\n",
            "2 X 6 = 12\t3 X 6 = 18\t4 X 6 = 24\t5 X 6 = 30\t6 X 6 = 36\t7 X 6 = 42\t8 X 6 = 48\t9 X 6 = 54\t\n",
            "2 X 7 = 14\t3 X 7 = 21\t4 X 7 = 28\t5 X 7 = 35\t6 X 7 = 42\t7 X 7 = 49\t8 X 7 = 56\t9 X 7 = 63\t\n",
            "2 X 8 = 16\t3 X 8 = 24\t4 X 8 = 32\t5 X 8 = 40\t6 X 8 = 48\t7 X 8 = 56\t8 X 8 = 64\t9 X 8 = 72\t\n",
            "2 X 9 = 18\t3 X 9 = 27\t4 X 9 = 36\t5 X 9 = 45\t6 X 9 = 54\t7 X 9 = 63\t8 X 9 = 72\t9 X 9 = 81\t\n"
          ]
        }
      ]
    },
    {
      "cell_type": "markdown",
      "source": [
        "### f-string내에서 {}안에는 변수 뿐만 아니라 Python 표현식도 올 수 있음\n",
        "#### 표현식(Expression)\n",
        "- 하나 이상의 값, 변수, 연산자, 함수 호출 등을 조합하여 평가(evaluate)될 때 값을 생성하거나 반환하는 코드\n",
        "- 표현식은 계산되어 값이 되는 모든 것을 의미\n",
        "\n",
        "표현식의 예시:\n",
        "- 수치 계산: 2 + 3는 5라는 값을 반환\n",
        "- 문자열 조합: \"Hello \" + \"World\"는 \"Hello World\"라는 문자열을 생성\n",
        "- 논리 연산: x > 5는 x의 값에 따라 True 또는 False를 반환\n",
        "- 함수 호출: sum([1, 2, 3])은 리스트의 합인 6을 반환\n",
        "- 조건식: x if x > 0 else -x는 x가 양수면 x를, 음수면 -x를 반환"
      ],
      "metadata": {
        "id": "u17cn6lUF00s"
      }
    },
    {
      "cell_type": "code",
      "source": [
        "# Task5_0430. 사용자로부터 숫자를 입력받아 해당 숫자의 팩토리얼을 계산하세요.\n",
        "try:\n",
        "  InNum = int(input(\"정수를 입력하세요: \"))\n",
        "  result=1;\n",
        "  for i in range(InNum,0,-1):\n",
        "    result *= i\n",
        "  print(f\"{InNum}의 팩노리얼 값은: {result}\")\n",
        "except ValueError:\n",
        "  print(\"Error: 정수만 팩토리얼 계산 가능합니다\")"
      ],
      "metadata": {
        "colab": {
          "base_uri": "https://localhost:8080/"
        },
        "id": "vGQcpMhh23NZ",
        "outputId": "b3b8d578-4573-4ab3-ffc2-107b846295ef"
      },
      "execution_count": null,
      "outputs": [
        {
          "output_type": "stream",
          "name": "stdout",
          "text": [
            "정수를 입력하세요: 20\n",
            "20의 팩노리얼 값은: 2432902008176640000\n"
          ]
        }
      ]
    },
    {
      "cell_type": "code",
      "source": [
        "# Task6_0430. 0부터 20까지의 숫자 중에서 짝수와 홀수를 분리하여 두 개의 리스트에 저장하세요.\n",
        "EvenList=[]; OddList=[]\n",
        "for i in range(0, 21):\n",
        "  if i % 2 == 0: EvenList.append(i)\n",
        "  else: OddList.append(i)\n",
        "print(f\"Even Number List:{EvenList}\\tOdd Number List:{OddList}\")"
      ],
      "metadata": {
        "colab": {
          "base_uri": "https://localhost:8080/"
        },
        "id": "6dYvimeu23FI",
        "outputId": "61b81bf9-91a4-4c2b-cd6b-71513f8ae987"
      },
      "execution_count": null,
      "outputs": [
        {
          "output_type": "stream",
          "name": "stdout",
          "text": [
            "Even Number List:[0, 2, 4, 6, 8, 10, 12, 14, 16, 18, 20]\tOdd Number List:[1, 3, 5, 7, 9, 11, 13, 15, 17, 19]\n"
          ]
        }
      ]
    },
    {
      "cell_type": "code",
      "source": [
        "# Task7_0430. 주어진 리스트에서 최대값을 찾아 출력하세요.\n",
        "numbers=[34,78,2,45,99,23]\n",
        "print(f\"주어진 리스트의 최대값은 {max(numbers)}\")"
      ],
      "metadata": {
        "colab": {
          "base_uri": "https://localhost:8080/"
        },
        "id": "95whWX_L228F",
        "outputId": "031546ae-5e1e-466d-985a-3449ad6be448"
      },
      "execution_count": null,
      "outputs": [
        {
          "output_type": "stream",
          "name": "stdout",
          "text": [
            "주어진 리스트의 최대값은 99\n"
          ]
        }
      ]
    },
    {
      "cell_type": "code",
      "source": [
        "# Task8_0430. 1부터 10 사이의 임의의 숫자를 맞추는 게임을 만드세요. 사용자가 숫자를 맞출 때까지 입력을 계속 받으며, 정답을 맞추면 게임을 종료하세요. (숫자를 입력하면 target 대비 크다/작다는 hint 제공)\n",
        "import random\n",
        "# RandomNumber=random.choice(list(range(1,11)))\n",
        "RandomNumber=random.randint(1,10)\n",
        "try:\n",
        "  while True:\n",
        "    InNumber=int(input(\"1부터 10사이의 숫자를 입력하세요 \"))\n",
        "    if InNumber >= 1 and InNumber <= 10:\n",
        "      if InNumber == RandomNumber:\n",
        "        print(\"정답입니다.\")\n",
        "        break\n",
        "      else:\n",
        "        if InNumber > RandomNumber: print(\"Hint: 입력한 숫자보다 작습니다.\")\n",
        "        else: print(\"Hint: 입력한 숫자보다 큽니다.\")\n",
        "    else:\n",
        "      print(\"Error: 1부터 10사이의 정수만 입력하세요\")\n",
        "      break\n",
        "\n",
        "except ValueError:\n",
        "  print(\"Error: 1부터 10사이의 정수만 입력하세요\")\n",
        "\n"
      ],
      "metadata": {
        "colab": {
          "base_uri": "https://localhost:8080/"
        },
        "id": "7cCss1cW220M",
        "outputId": "30a05922-d530-470c-a48c-a5409a8cd040"
      },
      "execution_count": null,
      "outputs": [
        {
          "output_type": "stream",
          "name": "stdout",
          "text": [
            "1부터 10사이의 숫자를 입력하세요 5\n",
            "Hint: 입력한 숫자보다 큽니다.\n",
            "1부터 10사이의 숫자를 입력하세요 8\n",
            "정답입니다.\n"
          ]
        }
      ]
    },
    {
      "cell_type": "code",
      "source": [
        "# Task9_0430. 태어난 연도를 입력받아 띠를 출력하는 프로그램을 작성하세요.\n",
        "Zodiac12=['쥐', '소', '호랑이', '토끼', '용', '뱀', '말','양', '원숭이', '닭', '개', '돼지']\n",
        "try:\n",
        "    InYear=int(input(\"태어난 해를 입력하세요: \"))\n",
        "    Residue=(InYear-4)%12\n",
        "    print(f\"입력한 해 {InYear}년의 십이지(띠)는 {Zodiac12[Residue]} 입니다.\")\n",
        "except ValueError:\n",
        "  print(\"Error: 올바른 해를 입력하세요\")"
      ],
      "metadata": {
        "colab": {
          "base_uri": "https://localhost:8080/"
        },
        "id": "uxkv2-wS22pK",
        "outputId": "f62f6307-d646-4b8a-f661-ae8dcacaf7a9"
      },
      "execution_count": null,
      "outputs": [
        {
          "output_type": "stream",
          "name": "stdout",
          "text": [
            "태어난 해를 입력하세요: 2020\n",
            "입력한 해 2020년의 십이지(띠)는 쥐 입니다.\n"
          ]
        }
      ]
    },
    {
      "cell_type": "code",
      "source": [
        "# Task10_0430. 아래 사항을 반영하여 커피 자판기 프로그램을 작성하세요.\n",
        "# 시나리오 : 자판기 커피 재고 5잔, 커피 1잔 가격 300원, 재고 범위내에서 300원 이상 돈을 넣으면 거스름돈과 커피를 주고 그렇지 않으면 반환하며 재고가 소진되면 안내멘트 출력\n",
        "# 각 Case별 멘트 출력은 상황에 맞게 창작\n",
        "# while, if ~ elif ~ else 제어문을 사용하여 작성\n",
        "Stock_Coffee=5; Price_Coffee=300;\n",
        "\n",
        "while Stock_Coffee >= 1:\n",
        "  InsertedCoin=int(input(\"\\t코인을 넣어주세요: \"))\n",
        "  try:\n",
        "    if InsertedCoin < 300:\n",
        "      Change=InsertedCoin\n",
        "      print(f\"\\t커피 가격은 \\\\300입니다.\\n\\t거스름돈 \\\\{Change} 이 반환되었습니다.\")\n",
        "    elif InsertedCoin == 300:\n",
        "      print(\"\\t주문하신 커피 한잔이 나왔습니다.\")\n",
        "      Stock_Coffee += -1\n",
        "    else:\n",
        "      Change=InsertedCoin-300\n",
        "      print(f\"\\t커피값을 제외한 거스름돈 \\\\{Change} 과 주문하신 커피 한잔이 나왔습니다.\")\n",
        "      Stock_Coffee += -1\n",
        "  except ValueError:\n",
        "    print(\"Error: \\t올바른 코인을 넣어주세요\")\n",
        "else: print(\"\\n\\n\\t죄송합니다. 커피가 품절되었습니다.\")"
      ],
      "metadata": {
        "id": "fkYlKBVi22Vt",
        "colab": {
          "base_uri": "https://localhost:8080/"
        },
        "outputId": "e02b2679-e0fd-45e9-fc87-67fa01a7e221"
      },
      "execution_count": null,
      "outputs": [
        {
          "output_type": "stream",
          "name": "stdout",
          "text": [
            "\t코인을 넣어주세요: 250\n",
            "\t커피 가격은 \\300입니다.\n",
            "\t거스름돈 \\250 이 반환되었습니다.\n",
            "\t코인을 넣어주세요: 251\n",
            "\t커피 가격은 \\300입니다.\n",
            "\t거스름돈 \\251 이 반환되었습니다.\n",
            "\t코인을 넣어주세요: 301\n",
            "\t커피값을 제외한 거스름돈 \\1 과 주문하신 커피 한잔이 나왔습니다.\n",
            "\t코인을 넣어주세요: 500\n",
            "\t커피값을 제외한 거스름돈 \\200 과 주문하신 커피 한잔이 나왔습니다.\n",
            "\t코인을 넣어주세요: 541\n",
            "\t커피값을 제외한 거스름돈 \\241 과 주문하신 커피 한잔이 나왔습니다.\n",
            "\t코인을 넣어주세요: 340\n",
            "\t커피값을 제외한 거스름돈 \\40 과 주문하신 커피 한잔이 나왔습니다.\n",
            "\t코인을 넣어주세요: 500\n",
            "\t커피값을 제외한 거스름돈 \\200 과 주문하신 커피 한잔이 나왔습니다.\n",
            "\n",
            "\n",
            "\t죄송합니다. 커피가 품절되었습니다.\n"
          ]
        }
      ]
    },
    {
      "cell_type": "code",
      "source": [
        "# Q. 로또 번호 6개를 6세트 출력하는 코드를 작성하시오 (중복 안됨)\n",
        "import random\n",
        "NoPool=list(range(1,46))\n",
        "for i in range(6):\n",
        "  Lotto=random.sample(NoPool,6)        # 중복 없이 뽑아준다.\n",
        "  print(f\"{i+1}번째 로또 번호는: {Lotto}\")"
      ],
      "metadata": {
        "colab": {
          "base_uri": "https://localhost:8080/"
        },
        "id": "mCSJ7bVATgqV",
        "outputId": "b899ade0-ec15-4f1f-9666-ec7ee8a62a2c"
      },
      "execution_count": null,
      "outputs": [
        {
          "output_type": "stream",
          "name": "stdout",
          "text": [
            "1번째 로또 번호는: [29, 25, 32, 23, 44, 41]\n",
            "2번째 로또 번호는: [3, 40, 32, 1, 10, 15]\n",
            "3번째 로또 번호는: [22, 18, 4, 2, 15, 13]\n",
            "4번째 로또 번호는: [24, 38, 16, 8, 12, 23]\n",
            "5번째 로또 번호는: [22, 34, 10, 29, 16, 38]\n",
            "6번째 로또 번호는: [26, 21, 23, 45, 31, 39]\n"
          ]
        }
      ]
    },
    {
      "cell_type": "code",
      "source": [
        "# Q. n개 그룹으로 분류하는 코드를 작성하세요\n",
        "import random\n",
        "kita = ['김성현','황강민','윤호준','류윤선','이상협','박지환','최환욱','서보선','김한결','김도현','김하준', '김도원','신현진','소지승','이범석','이현석','이명신','박윤경','이도헌','김홍준']\n",
        "No_Grp=int(input(\"나눌 그룹의 수를 입력하세요: \"))\n",
        "Group=[]; No_Pers=int(len(kita)/No_Grp); pool=kita\n",
        "if len(kita)%No_Grp == 0:\n",
        "  for i in range(No_Grp):\n",
        "    pool=list(set(pool)-set(Group))\n",
        "    Group=random.sample(pool, No_Pers)\n",
        "    #print(pool,'\\n',Group)\n",
        "    print(f\"{i+1}번체 그룹: {Group}\")\n",
        "else: print(\"kita 그룹은 총 {len(kita)}입니다. 균등하게 그룹을 나눌 수 있는 숫자를 입력하세요\")"
      ],
      "metadata": {
        "colab": {
          "base_uri": "https://localhost:8080/"
        },
        "id": "LMxwsTldTqV7",
        "outputId": "9c497170-ee44-4469-d40d-c5e76ad9b5f3"
      },
      "execution_count": null,
      "outputs": [
        {
          "output_type": "stream",
          "name": "stdout",
          "text": [
            "나눌 그룹의 수를 입력하세요: 5\n",
            "1번체 그룹: ['신현진', '이범석', '최환욱', '이도헌']\n",
            "2번체 그룹: ['이명신', '김홍준', '김성현', '소지승']\n",
            "3번체 그룹: ['김도현', '김한결', '류윤선', '윤호준']\n",
            "4번체 그룹: ['박윤경', '황강민', '이현석', '이상협']\n",
            "5번체 그룹: ['김하준', '서보선', '박지환', '김도원']\n"
          ]
        }
      ]
    },
    {
      "cell_type": "code",
      "source": [
        "import random\n",
        "kita = ['김성현','황강민','윤호준','류윤선','이상협','박지환','최환욱','서보선','김한결','김도현','김하준', '김도원','신현진','소지승','이범석','이현석','이명신','박윤경','이도헌','김홍준']\n",
        "No_Grp=int(input(\"나눌 그룹의 수를 입력하세요: \"))\n",
        "random.shuffle(kita)\n",
        "\n",
        "groups=[kita[i::No_Grp] for i in range(No_Grp)]\n",
        "for idx, group in enumerate(groups):\n",
        "  print(f\"그룹 {idx+1}: {group}\")"
      ],
      "metadata": {
        "colab": {
          "base_uri": "https://localhost:8080/"
        },
        "id": "nbSI3nhutYS_",
        "outputId": "a3362b43-9961-4c8a-9321-baf7799c53a3"
      },
      "execution_count": null,
      "outputs": [
        {
          "output_type": "stream",
          "name": "stdout",
          "text": [
            "나눌 그룹의 수를 입력하세요: 4\n",
            "그룹 1: ['이상협', '윤호준', '이도헌', '서보선', '김성현']\n",
            "그룹 2: ['이현석', '박지환', '김도원', '김홍준', '최환욱']\n",
            "그룹 3: ['신현진', '박윤경', '류윤선', '김하준', '이범석']\n",
            "그룹 4: ['김도현', '소지승', '황강민', '이명신', '김한결']\n"
          ]
        }
      ]
    },
    {
      "cell_type": "code",
      "source": [
        "# Q. 1부터 100까지의 정수 중 5에서 95까지의 합을 구하세요\n",
        "num_list=list(range(1,101))\n",
        "sum_num=sum(num_list[4:-5])\n",
        "print(f\"5에서 95까지의 정수의 합: {sum_num}\")"
      ],
      "metadata": {
        "colab": {
          "base_uri": "https://localhost:8080/"
        },
        "id": "PFEesGlsTqS-",
        "outputId": "9c1f1469-6f9d-4074-e6a7-4d332db296ce"
      },
      "execution_count": null,
      "outputs": [
        {
          "output_type": "stream",
          "name": "stdout",
          "text": [
            "5에서 95까지의 정수의 합: 4550\n"
          ]
        }
      ]
    },
    {
      "cell_type": "code",
      "source": [
        "# Q. while문을 사용해 1부터 1000까지의 정수 중 3과 5의 공배수의 합을 구하세요\n",
        "i=0; sum=0\n",
        "while i <= 1000:\n",
        "  i += 1\n",
        "  if i%3 == 0 and i%5 == 0:\n",
        "    sum=sum+i\n",
        "\n",
        "print(f\"1부터 1000까지의 정수 중 3과 5의 공배수의 합: {sum}\")"
      ],
      "metadata": {
        "colab": {
          "base_uri": "https://localhost:8080/"
        },
        "id": "aJnQ-XKgTqP6",
        "outputId": "bfd37ffa-db4c-4ef3-f859-027ce7a7eff1"
      },
      "execution_count": null,
      "outputs": [
        {
          "output_type": "stream",
          "name": "stdout",
          "text": [
            "1부터 1000까지의 정수 중 3과 5의 공배수의 합: 33165\n"
          ]
        }
      ]
    },
    {
      "cell_type": "code",
      "source": [
        "# Q. 현재 시각을 오전과 오후로 구분하는 프로그램을 작성하세요.\n",
        "import datetime\n",
        "import pytz\n",
        "\n",
        "tz=pytz.timezone('Asia/Seoul')\n",
        "now=datetime.datetime.now(tz)\n",
        "print(now, now.hour, now.minute)\n",
        "\n",
        "now_time=now.hour; now_min=now.minute; now_sec=now.second\n",
        "#print(now)           # now.year         now.month        now.day          now.hour         now.minute       now.second      now.microsecond\n",
        "\n",
        "\n",
        "if now_time >= 12:\n",
        "  print(f\"현재시간은 오후 {now_time-12}시 {now_min}분 {now_sec}초(PM)\")\n",
        "elif now_time < 12:\n",
        "  print(f\"현재시간은 오전 {now_time}시 {now_min}분 {now_sec}초(AM)\")\n",
        "else: pass"
      ],
      "metadata": {
        "colab": {
          "base_uri": "https://localhost:8080/"
        },
        "id": "Ka30WoLRTqMm",
        "outputId": "4ec50b89-952e-4297-909a-4a52feb2b008"
      },
      "execution_count": null,
      "outputs": [
        {
          "output_type": "stream",
          "name": "stdout",
          "text": [
            "2024-05-02 14:30:35.822996+09:00 14 30\n",
            "현재시간은 오후 2시 30분 35초 (PM)\n"
          ]
        }
      ]
    },
    {
      "cell_type": "code",
      "source": [
        "# Q. 현재 시각을 오전과 오후로 구분하는 프로그램을 작성하세요.\n",
        "time = input(\"현재 시간을 입력하세요(ex. 15시 30분, 15시)\")\n",
        "try:\n",
        "  if time[2] != \"시\":\n",
        "    print(\"형식에 맞춰 작성해 주세요.\")\n",
        "  elif int(time.split('시')[0]) >= 0 and int(time.split('시')[0]) < 12:\n",
        "    print(\"오전 입니다.\")\n",
        "  elif int(time.split('시')[0]) >= 12 and int(time.split('시')[0]) < 24:\n",
        "    print('오후 입니다.')\n",
        "  else: print(\"시간을 다시 입력해 주세요\")\n",
        "except ValueError: print(\"시간을 다시 입력해 주세요\")"
      ],
      "metadata": {
        "colab": {
          "base_uri": "https://localhost:8080/"
        },
        "outputId": "2c26e5aa-3c53-4d76-907a-cc36ac9e0327",
        "id": "qgZUvV-8yeir"
      },
      "execution_count": null,
      "outputs": [
        {
          "output_type": "stream",
          "name": "stdout",
          "text": [
            "현재 시간을 입력하세요(ex. 15시 30분, 15시)16시\n",
            "오후 입니다.\n"
          ]
        }
      ]
    },
    {
      "cell_type": "markdown",
      "source": [
        "## POP\n",
        "- 리스트와 같은 자료 구조에서 주로 사용되는 함수\n",
        "- 이함수는 특정 인덱스에 위치한 요소를 리스트에서 제거하고 해당 요소를 반환\n"
      ],
      "metadata": {
        "id": "s0t8hd832_e2"
      }
    },
    {
      "cell_type": "code",
      "source": [
        "fruits=['apple', 'banana', 'cherry', 'date']\n",
        "\n",
        "removed_fruit=fruits.pop(2)\n",
        "print(removed_fruit)\n",
        "print(fruits)\n",
        "\n",
        "# 리스트의 마지막 요소를 제거하고 반환\n",
        "last_fruit=fruits.pop()\n",
        "print(last_fruit)\n",
        "print(fruits)"
      ],
      "metadata": {
        "colab": {
          "base_uri": "https://localhost:8080/"
        },
        "id": "is2jazpO29vk",
        "outputId": "ee714356-d989-43fd-9b24-adf51207f87f"
      },
      "execution_count": null,
      "outputs": [
        {
          "output_type": "stream",
          "name": "stdout",
          "text": [
            "cherry\n",
            "['apple', 'banana', 'date']\n",
            "date\n",
            "['apple', 'banana']\n"
          ]
        }
      ]
    },
    {
      "cell_type": "code",
      "source": [
        "# Q. 가위 바위 보 게임을 프로그래밍하세요.\n",
        "import random\n",
        "Gesture=['가위', '바위', '보']\n",
        "WinTable={'가위':'보', '바위':'가위', '보':'바위'}\n",
        "while 1:\n",
        "  Random_Gest=random.choice(Gesture)\n",
        "  print(Random_Gest)\n",
        "  In_gest=input(\"가위, 바위 혹은 보 중에 선택해주세요(게임을 중지하고자  할 때는 '중지'를 내세요): \")\n",
        "  if In_gest == '중지': print(\"게임이 사용자에 의해 중지 되었습니다.\"); break\n",
        "  else:\n",
        "    if Random_Gest == In_gest: print(\"비겼습니다.\")\n",
        "    elif Random_Gest == WinTable[In_gest]: print(\"이겼습니다.\")\n",
        "    else: print(\"패배하셨습니다.\")"
      ],
      "metadata": {
        "colab": {
          "base_uri": "https://localhost:8080/"
        },
        "id": "5VAucAE48xv9",
        "outputId": "1433eafa-50b9-40e1-eee4-09148ac7d036"
      },
      "execution_count": null,
      "outputs": [
        {
          "output_type": "stream",
          "name": "stdout",
          "text": [
            "가위\n",
            "가위, 바위 혹은 보 중에 선택해주세요(게임을 중지하고자  할때는 '중지' 내세요): 가위\n",
            "비겼습니다.\n",
            "가위\n",
            "가위, 바위 혹은 보 중에 선택해주세요(게임을 중지하고자  할때는 '중지' 내세요): 바위\n",
            "이겼습니다.\n",
            "바위\n",
            "가위, 바위 혹은 보 중에 선택해주세요(게임을 중지하고자  할때는 '중지' 내세요): 보\n",
            "이겼습니다.\n",
            "보\n",
            "가위, 바위 혹은 보 중에 선택해주세요(게임을 중지하고자  할때는 '중지' 내세요): 바위\n",
            "패배하셨습니다.\n",
            "바위\n",
            "가위, 바위 혹은 보 중에 선택해주세요(게임을 중지하고자  할때는 '중지' 내세요): 바위\n",
            "비겼습니다.\n",
            "보\n",
            "가위, 바위 혹은 보 중에 선택해주세요(게임을 중지하고자  할때는 '중지' 내세요): 중지\n",
            "게임이 사용자에 의해 중지 되었습니다.\n"
          ]
        }
      ]
    },
    {
      "cell_type": "code",
      "source": [
        "# Q. 가위 바위 보 게임을 프로그래밍하세요. 3번 이겨도 게임 중지\n",
        "import random\n",
        "Gesture=['가위', '바위', '보']\n",
        "WinTable={'가위':'보', '바위':'가위', '보':'바위'}\n",
        "Win_Count=0\n",
        "while 1:\n",
        "  Random_Gest=random.choice(Gesture)\n",
        "  print(Random_Gest)\n",
        "  In_gest=input(\"가위, 바위 혹은 보 중에 선택해주세요(게임을 중지하고자 할 때는 '중지'를 내세요): \")\n",
        "  if In_gest == '중지': print(\"게임이 사용자에 의해 중지 되었습니다.\"); break\n",
        "  else:\n",
        "    if Random_Gest == In_gest: print(\"비겼습니다.\")\n",
        "    elif Random_Gest == WinTable[In_gest]: print(\"이겼습니다.\",end=''); Win_Count += 1; print(f\"{Win_Count}승 달성입니다.\")\n",
        "    else: print(\"패배하셨습니다.\")\n",
        "  if Win_Count >= 3: print(\"사용자가 목표(3승) 달성하여 게임을 중지합니다.\"); break"
      ],
      "metadata": {
        "colab": {
          "base_uri": "https://localhost:8080/"
        },
        "id": "4ZWeqZvSEaGG",
        "outputId": "2b6a0914-938b-45b9-f6e2-5b532b9ae994"
      },
      "execution_count": null,
      "outputs": [
        {
          "output_type": "stream",
          "name": "stdout",
          "text": [
            "바위\n",
            "가위, 바위 혹은 보 중에 선택해주세요(게임을 중지하고자 할 때는 '중지'를 내세요): 바위\n",
            "비겼습니다.\n",
            "바위\n",
            "가위, 바위 혹은 보 중에 선택해주세요(게임을 중지하고자 할 때는 '중지'를 내세요): 보\n",
            "이겼습니다.현재 1승 달성입니다.\n",
            "가위\n",
            "가위, 바위 혹은 보 중에 선택해주세요(게임을 중지하고자 할 때는 '중지'를 내세요): 바위\n",
            "이겼습니다.현재 2승 달성입니다.\n",
            "가위\n",
            "가위, 바위 혹은 보 중에 선택해주세요(게임을 중지하고자 할 때는 '중지'를 내세요): 바위\n",
            "이겼습니다.현재 3승 달성입니다.\n",
            "3승이 달성되어 게임을 중지합니다.\n"
          ]
        }
      ]
    },
    {
      "cell_type": "code",
      "source": [
        "# Task1_0502. 짝수와 짝수를 입력하면 곱한 값을 출력하고 홀수와 홀수를 입력하면 덧셈 값을 출력하고 그외는 다시 입력하라는 메시지를 출력하세요.\n",
        "import re\n",
        "while 1:\n",
        "  In_Str=input(\"연산을 위한 정수(짝수 혹은 홀수)의 페어를 입력하세요 (계산을 중지하고자 할 때는 '중지'를 입력하세요): \")\n",
        "  In_Spl=[]; In_Spl=re.split(\"[ ,]+\", In_Str)\n",
        "  if In_Spl[0] == \"중지\": print(\"계산 프로그램이 사용자에 의해 중지 되었습니다.\"); break\n",
        "  else:\n",
        "    if int(In_Spl[0])%2 == 0 and int(In_Spl[1])%2 == 0: print(f\"{In_Spl[0]}X{In_Spl[1]}={int(In_Spl[0])*int(In_Spl[1])}\")\n",
        "    if int(In_Spl[0])%2 == 1 and int(In_Spl[1])%2 == 1: print(f\"{In_Spl[0]}+{In_Spl[1]}={int(In_Spl[0])+int(In_Spl[1])}\")\n",
        "    else: print(\"올바른 연산을 위해 짝수의 정수 페어 혹은 홀수의 정수 페어를 입력하세요\")"
      ],
      "metadata": {
        "colab": {
          "base_uri": "https://localhost:8080/"
        },
        "id": "dbXJWjZk4moW",
        "outputId": "2159cf8f-f494-4913-84c6-72be407bfbdb"
      },
      "execution_count": 10,
      "outputs": [
        {
          "output_type": "stream",
          "name": "stdout",
          "text": [
            "연산을 위한 정수(짝수 혹은 홀수)의 페어를 입력하세요 (계산을 중지하고자 할 때는 '중지'를 입력하세요): 2 3\n",
            "올바른 연산을 위해 짝수의 정수 페어 혹은 홀수의 정수 페어를 입력하세요\n",
            "연산을 위한 정수(짝수 혹은 홀수)의 페어를 입력하세요 (계산을 중지하고자 할 때는 '중지'를 입력하세요): 2, 3\n",
            "올바른 연산을 위해 짝수의 정수 페어 혹은 홀수의 정수 페어를 입력하세요\n",
            "연산을 위한 정수(짝수 혹은 홀수)의 페어를 입력하세요 (계산을 중지하고자 할 때는 '중지'를 입력하세요): 2, 2\n",
            "2X2=4\n",
            "올바른 연산을 위해 짝수의 정수 페어 혹은 홀수의 정수 페어를 입력하세요\n",
            "연산을 위한 정수(짝수 혹은 홀수)의 페어를 입력하세요 (계산을 중지하고자 할 때는 '중지'를 입력하세요): 5 5\n",
            "5+5=10\n",
            "연산을 위한 정수(짝수 혹은 홀수)의 페어를 입력하세요 (계산을 중지하고자 할 때는 '중지'를 입력하세요): 중지\n",
            "계산 프로그램이 사용자에 의해 중지 되었습니다.\n"
          ]
        }
      ]
    },
    {
      "cell_type": "code",
      "source": [
        "# Task2_0502. 현재 계절 구분 프로그램\n",
        "# - 시나리오 : 3 ~ 5월은 봄, 6 ~ 8월은 여름, 9 ~ 11월은 가을, 12 ~ 2월은 겨울로 구분. 지금 계절을 알려주는 프로그램\n",
        "# - 각 계절별 출력 멘트는 계절에 맞게 창작\n",
        "# - if 조건문으로 datetime 모듈을 import해서 datetime.now 함수를 사용해서 작성\n",
        "\n",
        "# Q. 현재 시각을 오전과 오후로 구분하는 프로그램을 작성하세요.\n",
        "import datetime\n",
        "import pytz\n",
        "tz=pytz.timezone('Asia/Seoul')\n",
        "now=datetime.datetime.now(tz)\n",
        "\n",
        "cur_month=now.month\n",
        "if cur_month >= 3 and cur_month <= 5:\n",
        "  cur_season='싱그러운 봄, 봄!'\n",
        "elif cur_month > 5 and cur_month <= 8:\n",
        "  cur_season='생동감이 넘치는 여름, 여름!'\n",
        "elif cur_month > 8 and cur_month <= 11:\n",
        "  cur_season='온 세상이 갈색으로 물드는 가을, 가을!'\n",
        "else: cur_season='손이 시려운지만 눈이 기다려지는 겨울, 겨울!'\n",
        "print(f\"지금은 {cur_month}월이며 계절은 {cur_season}입니다.\")"
      ],
      "metadata": {
        "colab": {
          "base_uri": "https://localhost:8080/"
        },
        "id": "zSM04MUj4mhT",
        "outputId": "844f83a8-9704-41b0-dd18-ef00a303aaec"
      },
      "execution_count": 9,
      "outputs": [
        {
          "output_type": "stream",
          "name": "stdout",
          "text": [
            "지금은 5월이며 계절은 싱그러운 봄, 봄!입니다.\n"
          ]
        }
      ]
    },
    {
      "cell_type": "code",
      "source": [
        "# Task3_0502. 1부터 99까지 아래와 같이 2개의 수를 곱해서 가장 큰 수를 구하세요.\n",
        "# 1*99, 2*98 ...99*1\n",
        "max_num=100\n",
        "max_mult=0\n",
        "in_list=list(range(1,max_num))\n",
        "for i in range(1, max_num):\n",
        "  multi_i=in_list[i-1]*in_list[-i]\n",
        "  #print(in_list[i-1],in_list[-i], multi_i)\n",
        "  if multi_i > max_mult: max_mult=multi_i\n",
        "\n",
        "print(f\"1부터 99까지 1*99, 2*98 ...99*1과 같이 보수의 곱 중 가장 큰 수: {max_mult}\")"
      ],
      "metadata": {
        "colab": {
          "base_uri": "https://localhost:8080/"
        },
        "id": "C3SzOnou4mar",
        "outputId": "b486f1bd-a7cd-473d-9db1-f0bf69de2cce"
      },
      "execution_count": 8,
      "outputs": [
        {
          "output_type": "stream",
          "name": "stdout",
          "text": [
            "1부터 99까지 1*99, 2*98 ...99*1과 같이 보수의 곱 중 가장 큰 수: 2500\n"
          ]
        }
      ]
    },
    {
      "cell_type": "code",
      "source": [
        "# Task4_0502. [    ]을 채워서 아래의 출력과 같이 출력하세요.\n",
        "# numbers = [1,2,3,4,5,6,7,8,9]\n",
        "# output = [[], [], []]\n",
        "\n",
        "numbers = [1,2,3,4,5,6,7,8,9]\n",
        "group_no=3; inter=3\n",
        "Rearranged=[numbers[i::inter] for i in range(group_no)]\n",
        "\n",
        "print(f\"주어진 숫자 리스트에서 3-index interval로 3-groups으로 분리: {Rearranged}\")"
      ],
      "metadata": {
        "colab": {
          "base_uri": "https://localhost:8080/"
        },
        "id": "DMCU-c7c4mTQ",
        "outputId": "f4dbe7f1-e0e4-4830-f86d-aefca41c4f04"
      },
      "execution_count": 7,
      "outputs": [
        {
          "output_type": "stream",
          "name": "stdout",
          "text": [
            "주어진 숫자 리스트에서 3-index interval로 3-groups으로 분리: [[1, 4, 7], [2, 5, 8], [3, 6, 9]]\n"
          ]
        }
      ]
    },
    {
      "cell_type": "code",
      "source": [
        "# Task5_0502. 주어진 리스트에서 중복된 요소를 제거하고, 남은 요소만을 포함하는 새 리스트를 반환합니다. 순서는 유지해야 합니다.\n",
        "input_list = [1, 2, 2, 3, 4, 4, 4, 5, 6, 7, 7]\n",
        "input_set=set(input_list)\n",
        "clear_list=sorted(list(input_set))\n",
        "print(clear_list)"
      ],
      "metadata": {
        "colab": {
          "base_uri": "https://localhost:8080/"
        },
        "id": "fm_kHK034mLh",
        "outputId": "839e02ab-8ed4-4661-cb43-abaee6b93209"
      },
      "execution_count": 6,
      "outputs": [
        {
          "output_type": "stream",
          "name": "stdout",
          "text": [
            "[1, 2, 3, 4, 5, 6, 7]\n"
          ]
        }
      ]
    },
    {
      "cell_type": "code",
      "source": [
        "# Task6_0502. 주어진 문자열을 모스 코드로 변환하는 함수를 작성하세요. 공백은 무시하고 알파벳만 변환하세요\n",
        "# input_text=\"Hello~ World!\"\n",
        "morse_code = {\n",
        "        'A': '.-', 'B': '-...', 'C': '-.-.', 'D': '-..', 'E': '.', 'F': '..-.',\n",
        "        'G': '--.', 'H': '....', 'I': '..', 'J': '.---', 'K': '-.-', 'L': '.-..',\n",
        "        'M': '--', 'N': '-.', 'O': '---', 'P': '.--.', 'Q': '--.-', 'R': '.-.',\n",
        "        'S': '...', 'T': '-', 'U': '..-', 'V': '...-', 'W': '.--', 'X': '-..-',\n",
        "        'Y': '-.--', 'Z': '--..'\n",
        "    }\n",
        "\n",
        "input_str=input(\"모스 코드 변환할 문자열을 입력하세요(알파벳을 제외한 모든 문자는 무시됩니다.): \")\n",
        "input_string= re.sub(r'[ ,~!]+', '', input_str)\n",
        "input_string=input_string.upper()\n",
        "tran_morse=[morse_code[i] for i in input_string]\n",
        "print(f\"주어진 문자열 {input_str}의 변환된 모스 코드: {tran_morse[:]}\")"
      ],
      "metadata": {
        "colab": {
          "base_uri": "https://localhost:8080/"
        },
        "id": "Cacx1sAM4mEj",
        "outputId": "a1d61007-4742-4c27-fdd2-e0628c573927"
      },
      "execution_count": 5,
      "outputs": [
        {
          "output_type": "stream",
          "name": "stdout",
          "text": [
            "모스 코드 변환할 문자열을 입력하세요(알파벳을 제외한 모든 문자는 무시됩니다.): Hello~ World!\n",
            "주어진 문자열 Hello~ World!의 변환된 모스 코드: ['....', '.', '.-..', '.-..', '---', '.--', '---', '.-.', '.-..', '-..']\n"
          ]
        }
      ]
    },
    {
      "cell_type": "code",
      "source": [
        "# Task7_0502. 주어진 비대칭 m×n 매트릭스(2차원 리스트)에서, 모든 대각선 상의 합을 계산하는 함수를 작성하세요. 결과는 각 대각선의 합을 리스트로 반환해야 합니다.\n",
        "input_arr = [\n",
        "    [1, 2, 3],\n",
        "    [4, 5, 6],\n",
        "    [7, 8, 9],\n",
        "    [10, 11, 12]\n",
        "]\n",
        "# input_arr = [\n",
        "#     [1,  2,  3,  7],\n",
        "#     [4,  5,  6,  5],\n",
        "#     [7,  8,  9,  1],\n",
        "#     [10, 11, 12, 2]\n",
        "# ]\n",
        "# input_arr = [\n",
        "    # [1,  2,  3,  7, 20],\n",
        "    # [4,  5,  6,  5, 21],\n",
        "    # [7,  8,  9,  1, 34],\n",
        "    # [10, 11, 12, 2, 23]\n",
        "# ]\n",
        "# input_arr = [\n",
        "    # [1,  2,  3,  7, 20],\n",
        "    # [4,  5,  6,  5, 21],\n",
        "    # [7,  8,  9,  1, 34],\n",
        "    # [10, 11, 12, 2, 23],\n",
        "    # [3,  16, 42, 21,3]\n",
        "# ]\n",
        "\n",
        "def cal_sum_diag(input_arr):\n",
        "  row_n=len(input_arr); col_n=len(input_arr[0]); sum_diag_list=[]\n",
        "  # Calculating along with the most out element in an anticlockwise direction\n",
        "  for i in range(row_n):\n",
        "    sum_diag=0; l=0;\n",
        "    for j in range(0,min(i+1, col_n),1):\n",
        "     sum_diag=sum_diag+input_arr[i-l][j]\n",
        "     l += 1\n",
        "    sum_diag_list.append(sum_diag)\n",
        "\n",
        "  l=0\n",
        "  for j in range(1, col_n):\n",
        "    sum_diag=0; k=0\n",
        "    for i in range(row_n-1,row_n-col_n+l,-1):\n",
        "      sum_diag=sum_diag+input_arr[i][j+k]\n",
        "      k += 1\n",
        "    l += 1\n",
        "    sum_diag_list.append(sum_diag)\n",
        "  return sum_diag_list\n",
        "\n",
        "print(f\"주어진 M x N 매트릭스의 대각선 상에 있는 요소의 합을 계산, 각 대각선의 합을 리스트로 출력: {cal_sum_diag(input_arr)}\")"
      ],
      "metadata": {
        "colab": {
          "base_uri": "https://localhost:8080/"
        },
        "id": "-HngxgOfm-U1",
        "outputId": "4a460141-412b-40d4-db21-4eb91d9ca548"
      },
      "execution_count": 3,
      "outputs": [
        {
          "output_type": "stream",
          "name": "stdout",
          "text": [
            "주어진 M x N 매트릭스의 대각선 상에 있는 요소의 합을 계산, 각 대각선의 합을 리스트로 출력: [1, 6, 15, 24, 20, 12]\n"
          ]
        }
      ]
    }
  ]
}