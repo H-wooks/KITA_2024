{
  "nbformat": 4,
  "nbformat_minor": 0,
  "metadata": {
    "colab": {
      "provenance": []
    },
    "kernelspec": {
      "name": "python3",
      "display_name": "Python 3"
    },
    "language_info": {
      "name": "python"
    }
  },
  "cells": [
    {
      "cell_type": "markdown",
      "source": [
        "#### 파이썬 이란\n",
        "- 1990년 암스테르담의 귀도 반 로섬(Guido Van Rossum)이 개발한 인터프리터 언어\n",
        "- 컴퓨터 프로그래밍 교육을 위해 많이 사용하지만, 기업의 실무를 위해서도 많이 사용하는 언어. 구글에서 만든 소프트웨어의 50%이상이 파이썬으로 작성\n",
        "\n",
        "#### 파이썬의 특징\n",
        "- 파이썬은 인간다운 언어이다\n",
        "- 파이썬은 문법이 쉬워 빠르게 배울 수 있다\n",
        "- 파이썬은 무료이지만 강력하다\n",
        "- 파이썬은 간결하다\n",
        "- 파이썬은 프로그래밍을 즐기게 해준다\n",
        "- 파이썬은 개발 속도가 빠르다\n",
        "\n",
        "#### 파이썬으로 할 수 있는 일\n",
        "- 웹 개발: Django, Flask 등의 프레임워크를 사용하여 웹 애플리케이션을 개발할 수 있습니다.\n",
        "- 데이터 분석: Pandas, NumPy, SciPy와 같은 라이브러리를 사용하여 데이터를 분석하고 처리할 수 있습니다.\n",
        "- 머신 러닝과 인공지능: TensorFlow, PyTorch, Scikit-learn 등의 라이브러리를 활용하여 머신 러닝 모델을 구축하고 훈련시킬 수 있습니다.\n",
        "- 자동화: 파이썬 스크립트를 작성하여 일상적인 작업을 자동화하고, 시스템 관리 작업을 수행할 수 있습니다.\n",
        "- 게임 개발: Pygame과 같은 라이브러리를 사용하여 간단한 게임을 개발할 수 있습니다.\n",
        "- 모바일 애플리케이션 개발: Kivy 또는 BeeWare와 같은 라이브러리를 사용하여 모바일 애플리케이션을 개발할 수 있습니다.\n",
        "- 데스크탑 애플리케이션 개발: PyQt, Tkinter 등의 라이브러리를 활용하여 데스크탑 애플리케이션을 개발할 수 있습니다.\n",
        "- 시스템 스크립팅과 네트워킹: 시스템 유틸리티를 개발하거나 네트워크 프로토콜을 구현할 수 있습니다.\n",
        "- 임베디드 시스템과 하드웨어 제어: 라즈베리 파이와 같은 임베디드 시스템을 제어하고 하드웨어를 프로그래밍할 수 있습니다.\n",
        "- 사이언티픽 컴퓨팅: 과학적 연산과 시뮬레이션을 위해 파이썬을 활용할 수 있습니다.\n",
        "- 교육: 파이썬은 초보자에게 프로그래밍을 가르치는 데 이상적인 언어로 평가받고 있습니다.\n",
        "- 파이썬의 다양한 라이브러리와 프레임워크 덕분에, 이러한 분야에서의 작업이 더욱 쉽고 효율적으로 수행될 수 있습니다."
      ],
      "metadata": {
        "id": "LeXr-pAx7aMh"
      }
    },
    {
      "cell_type": "code",
      "source": [
        "# ! 기호는 클라우드 기반 colab 셀에서 Unix, Linux 셸 명령어 실행시 필요\n",
        "!python  --version\n"
      ],
      "metadata": {
        "colab": {
          "base_uri": "https://localhost:8080/"
        },
        "id": "_xkq9SS5BVfK",
        "outputId": "0446c795-d61b-4ab8-a253-b3891f1de14b"
      },
      "execution_count": null,
      "outputs": [
        {
          "output_type": "stream",
          "name": "stdout",
          "text": [
            "Python 3.10.12\n"
          ]
        }
      ]
    },
    {
      "cell_type": "code",
      "source": [
        "#현재 작업 디렉토리 표시, %는 IPython 환경 (col.포함)에서 제공하는 매직 명령어 실행 시 필요\n",
        "# # 하나는 단일 라인에 대해 실행, %%는 셀 전체에 적용하고자 할 때 사용\n",
        "%pwd\n"
      ],
      "metadata": {
        "colab": {
          "base_uri": "https://localhost:8080/",
          "height": 35
        },
        "id": "Vvsm1P7JBcAf",
        "outputId": "836bff77-f363-44e8-eb4d-c6dd5673a815"
      },
      "execution_count": null,
      "outputs": [
        {
          "output_type": "execute_result",
          "data": {
            "text/plain": [
              "'/content'"
            ],
            "application/vnd.google.colaboratory.intrinsic+json": {
              "type": "string"
            }
          },
          "metadata": {},
          "execution_count": 4
        }
      ]
    },
    {
      "cell_type": "markdown",
      "source": [],
      "metadata": {
        "id": "KjQvznDd8owo"
      }
    },
    {
      "cell_type": "code",
      "source": [
        "%%time\n",
        "sum=0\n",
        "for i in range(1000000):\n",
        "  sum += i\n",
        "\n",
        "print(sum)"
      ],
      "metadata": {
        "colab": {
          "base_uri": "https://localhost:8080/"
        },
        "id": "4BqQcZKeC4HB",
        "outputId": "af0b61b5-53af-4303-ebcb-7ebb44b5f5b2"
      },
      "execution_count": null,
      "outputs": [
        {
          "output_type": "stream",
          "name": "stdout",
          "text": [
            "499999500000\n",
            "CPU times: user 140 ms, sys: 0 ns, total: 140 ms\n",
            "Wall time: 142 ms\n"
          ]
        }
      ]
    },
    {
      "cell_type": "markdown",
      "source": [
        "#### 용어\n",
        "- 식별자 : 프로그램밍 언어에서 이름을 붙일 때 사용하는 단어. 주로 변수 또는 함수 이름 등으로 사용\n",
        "- 주석 : 프로그램을 설명하기 위해 사용. # 기호로 주석 처리\n",
        "- 연산자 : 스스로 값이 되는 것이 아니고 값과 값 사이에 무언가 기능을 적용할 때 사용\n",
        "- 자료 : 리터럴이라고 하는데 숫자이든 문자이든 어떠한 값 자체를 의미. 1, 10, \"Hello\"\n",
        "- 키워드 : 파이썬이 만들어질 때 이미 사용하겠다고 예약해 놓는 것. False, None, True, ...\n",
        "- 프로그램밍 언어에서 사용자가 이름을 정할 때 키워드는 사용할 수 없음\n",
        "\n",
        "#### 식별자\n",
        "count, user_name, _is_valid, calculate_area, Car, model, year, math 및 m 모두 유효한 식별자. 각각의 식별자는 특정한 데이터 또는 기능에 이름을 부여하여 코드 내에서 해당 데이터나 기능을 참조할 수 있게하며 코드의 가독성과 유지 보수성을 높이는 데 중요한 역할"
      ],
      "metadata": {
        "id": "7E7BzVLbDSmV"
      }
    },
    {
      "cell_type": "code",
      "source": [
        "# 변수 식별자\n",
        "count = 0\n",
        "user_name = \"Alice\"\n",
        "_is_valid = True\n",
        "\n",
        "# 함수 식별자\n",
        "def calculate_area(radius):\n",
        "  return 3.14159*radius*radius\n",
        "\n",
        "# 클래스 식별자\n",
        "class Car:\n",
        "  def __init__(self, model, year):\n",
        "    self.model = model\n",
        "    self.year = year\n",
        "\n",
        "# 모듈 식별자\n",
        "import math as m\n",
        "\n"
      ],
      "metadata": {
        "id": "htSCt1LTEQ-b"
      },
      "execution_count": null,
      "outputs": []
    },
    {
      "cell_type": "markdown",
      "source": [
        "#### 식별자 기본 규칙\n",
        "- 키워드를 사용하면 안된다\n",
        "- 특수문자는 언더 바 (_)만 사용\n",
        "- 숫자로 시작하면 안된다\n",
        "- 공백은 포함할 수 없다"
      ],
      "metadata": {
        "id": "NdPIelgBHNvr"
      }
    },
    {
      "cell_type": "code",
      "source": [
        "import keyword\n",
        "print(keyword.kwlist)\n",
        "print(\"\\n\\t\",len(keyword.kwlist))"
      ],
      "metadata": {
        "colab": {
          "base_uri": "https://localhost:8080/"
        },
        "id": "JuYO1z9qEGm3",
        "outputId": "3655bc9e-a629-4d6f-bf7e-5837e69c4c35"
      },
      "execution_count": null,
      "outputs": [
        {
          "output_type": "stream",
          "name": "stdout",
          "text": [
            "['False', 'None', 'True', 'and', 'as', 'assert', 'async', 'await', 'break', 'class', 'continue', 'def', 'del', 'elif', 'else', 'except', 'finally', 'for', 'from', 'global', 'if', 'import', 'in', 'is', 'lambda', 'nonlocal', 'not', 'or', 'pass', 'raise', 'return', 'try', 'while', 'with', 'yield']\n",
            "\n",
            "\t 35\n"
          ]
        }
      ]
    },
    {
      "cell_type": "code",
      "source": [
        "alpha\n",
        "break # 키워드\n",
        "alpha10\n",
        "_alpha\n",
        "273alpha # 숫자로 시작\n",
        "AlpHa\n",
        "ALPHA\n",
        "has space # 공백\n"
      ],
      "metadata": {
        "colab": {
          "base_uri": "https://localhost:8080/",
          "height": 110
        },
        "id": "2fZNppQ5JAsy",
        "outputId": "28349fdb-0d8c-4e43-f213-f62cfce134ea"
      },
      "execution_count": null,
      "outputs": [
        {
          "output_type": "error",
          "ename": "SyntaxError",
          "evalue": "invalid decimal literal (<ipython-input-52-3cf020c5f4ff>, line 5)",
          "traceback": [
            "\u001b[0;36m  File \u001b[0;32m\"<ipython-input-52-3cf020c5f4ff>\"\u001b[0;36m, line \u001b[0;32m5\u001b[0m\n\u001b[0;31m    273alpha # 숫자로 시작\u001b[0m\n\u001b[0m      ^\u001b[0m\n\u001b[0;31mSyntaxError\u001b[0m\u001b[0;31m:\u001b[0m invalid decimal literal\n"
          ]
        }
      ]
    },
    {
      "cell_type": "markdown",
      "source": [
        "Q. 주어진 문자열 리스트에서 유효한 파이썬 변수 이름만을 추출하여 반환하는 함수를 작성하시오"
      ],
      "metadata": {
        "id": "qNxVQjbcJ1z3"
      }
    },
    {
      "cell_type": "code",
      "source": [
        "\n",
        "#### List의 Item을 리무브를 하게 되면 index가 변경되고, 한번에 하나씩 밖에..\n",
        "#### 그보다는 빈 리스트에 append하는 편이 좋다\n",
        "\n",
        "identifies=[\"var1\", \"2things\", \"variable_name\", \"time!\", \"True\", \"test space\"]\n",
        "import keyword\n",
        "import string\n",
        "import re\n",
        "#print(string.punctuation)\n",
        "\n",
        "# 키워드 제거\n",
        "for iden in identifies:\n",
        "  if iden in keyword.kwlist: identifies.remove(iden)\n",
        "\n",
        "# 숫자 prefix 제거\n",
        "for iden in identifies:\n",
        "  if iden[0].isnumeric(): identifies.remove(iden)\n",
        "\n",
        "# 특수 문자 제거\n",
        "for specif in string.punctuation:\n",
        "  for iden in identifies:\n",
        "    if specif in iden and \"_\"  not in specif: identifies.remove(iden)\n",
        "\n",
        "# String 내부 공백 제거\n",
        "for iden in identifies:\n",
        "  if re.search(\"\\s\", iden): identifies.remove(iden)\n",
        "\n",
        "#for iden in identifies:\n",
        "#  if (iden in keyword.kwlist) or (iden[0].isnumeric()) or (re.search(\"\\s\", iden)):\n",
        "#    identifies.remove(iden)\n",
        "\n",
        "\n",
        "print(identifies)"
      ],
      "metadata": {
        "colab": {
          "base_uri": "https://localhost:8080/"
        },
        "id": "ceCuFr4XW7TS",
        "outputId": "4a0e2ac3-194d-408c-ebc7-24f4a97bb925"
      },
      "execution_count": null,
      "outputs": [
        {
          "output_type": "stream",
          "name": "stdout",
          "text": [
            "['var1', 'variable_name']\n"
          ]
        }
      ]
    },
    {
      "cell_type": "code",
      "source": [
        "# isidentifier는 파이썬의 문자열 매서드로 주어진 문자열이 유효한 식별자인지를 확인\n",
        "# isidentifier는 예약어인지는 따로 체크하지는 않음\n",
        "import keyword\n",
        "def valid_identifiers(identifiers):\n",
        "  valid = []\n",
        "  for iden in identifiers:\n",
        "    if iden.isidentifier() and iden not in keyword.kwlist:\n",
        "      valid.append(iden)\n",
        "  return valid\n",
        "\n",
        "identifiers=[\"var1\", \"2things\", \"variable_name\", \"time!\", \"True\", \"test space\"]\n",
        "print(valid_identifiers(identifiers))"
      ],
      "metadata": {
        "colab": {
          "base_uri": "https://localhost:8080/"
        },
        "id": "Ak4wwwiv13fY",
        "outputId": "a391f0cf-2447-485e-ca2e-cfb21e0cd21e"
      },
      "execution_count": null,
      "outputs": [
        {
          "output_type": "stream",
          "name": "stdout",
          "text": [
            "['var1', 'variable_name']\n"
          ]
        }
      ]
    },
    {
      "cell_type": "code",
      "source": [
        "# isidentifier는 파이썬의 문자열 매서드로 주어진 문자열이 유효한 식별자인지를 확인\n",
        "# isidentifier는 예약어인지는 따로 체크하지는 않음\n",
        "\n",
        "import keyword\n",
        "def valid_identifiers(identifiers):\n",
        "  valid = []\n",
        "  for iden in identifiers:\n",
        "    if iden.isidentifier() and not keyword.iskeyword(iden):\n",
        "    #if iden.isidentifier() and iden not in keyword.kwlist:      ## 이것도 가능\n",
        "      valid.append(iden)\n",
        "  return valid\n",
        "\n",
        "identifiers=[\"var1\", \"2things\", \"variable_name\", \"time!\", \"True\", \"test space\"]\n",
        "print(valid_identifiers(identifiers))"
      ],
      "metadata": {
        "colab": {
          "base_uri": "https://localhost:8080/"
        },
        "outputId": "1951076a-a120-4862-b334-c8af03a92d36",
        "id": "QjQ8IExp4npC"
      },
      "execution_count": null,
      "outputs": [
        {
          "output_type": "stream",
          "name": "stdout",
          "text": [
            "['var1', 'variable_name']\n"
          ]
        }
      ]
    },
    {
      "cell_type": "markdown",
      "source": [
        "### 파이썬은 snake_case (_를 활용)와 CamelCase(대/소문자 활용)를 모두 사용\n",
        " - itemlist: item_list ItemList\n",
        " - loginstatus: login_status loginStatus\n",
        " - 캐멀 케이스(대문자로 시작) 클래스\n",
        " - 스네이크 케이스(소문자로 시작) 뒤에 ()가 있다 - 함수\n",
        " - 스네이크 케이스(소문자로 시작) 뒤에 ()가 없다 - 변수\n"
      ],
      "metadata": {
        "id": "K2jyA2nD7dKr"
      }
    },
    {
      "cell_type": "code",
      "source": [
        "# 연산자\n",
        "a=5\n",
        "b=3\n",
        "c=b%a  # residue\n",
        "d=b//a  # 몫\n",
        "e=b/a   # simple divider\n",
        "\n",
        "print(c, d, e)"
      ],
      "metadata": {
        "colab": {
          "base_uri": "https://localhost:8080/"
        },
        "id": "Vm5WiRVM78MZ",
        "outputId": "7f4aca9e-1ebb-4334-c999-45dcc7f97610"
      },
      "execution_count": null,
      "outputs": [
        {
          "output_type": "stream",
          "name": "stdout",
          "text": [
            "3 0 0.6\n"
          ]
        }
      ]
    },
    {
      "cell_type": "code",
      "source": [
        "a=3\n",
        "b=5\n",
        "if a > b:\n",
        "  print(a)\n"
      ],
      "metadata": {
        "id": "4G0gx62lAgbT"
      },
      "execution_count": null,
      "outputs": []
    },
    {
      "cell_type": "markdown",
      "source": [
        "#### 자료형\n",
        "- 자료형 또는 데이터 타입이란 숫자, 문자 등과 같이 여러 종류의 데이터를 구분하기 위한 분류\n",
        "- 파이썬의 자료형은 크게 숫자(numbers), 시퀀스(sequence), 매핑(mapping) 등으로 나눌 수 있다.\n",
        "- 파이썬의 기본 자료형\n",
        "  - 수치형\n",
        "    - 정수형 : int는 정수(integer)를 나타낸다. 양의 정수와 음의 정수, 숫자 0\n",
        "    - 실수형 : float는 원래 부동소수점수(floating-point number)를 가리키는데, 지금은 단순히 소수점 이하를 표현할 수 있는 수이다.\n",
        "    - 복소수형 : 복소수를 complex로 나타내고 제곱하면 -1이 되는 수 i를 ‘허수(imaginary number)’라고 하는데 허수 i를 j로 표현\n",
        "  - 시퀀스 : 문자열(str), 리스트(list), 튜플(tuple), 사용자 정의 클래스가 시퀀스에 속한다. for 문에서 사용할 수 있는 것들이 바로 시퀀스\n",
        "    - 문자열 : 문자를 한 줄로 표현하며 문자열 인덱스를 이용해 문자열의 일부를 복사\n",
        "    - 리스트 : 대괄호([ ])로 감싸 주고 각 요솟값은 쉼표(,)로 구분\n",
        "    - 튜플 : 튜플은 ( )으로 둘러싸고 각 요솟값은 쉼표(,)로 구분\n",
        "  - 매핑\n",
        "    - 사전 : 딕셔너리(dict)는 키(key)와 값(value)의 짝으로 이뤄지는데 이런 것을 매핑\n",
        "  - 집합 : 집합을 표현하는 세트(set)\n",
        "  - 블린 : 참, 거짓을 표현"
      ],
      "metadata": {
        "id": "Wua6xHLfBKCV"
      }
    },
    {
      "cell_type": "code",
      "source": [
        "# 정수형, 실수형\n",
        "i1=3; i2=3.4\n",
        "f1=3.5\n",
        "#print (i1,i2, f1)\n",
        "\n",
        "# 정수 (int)\n",
        "#print(int(True), int(False), int('10'), int(3.14))\n",
        "#print(int('10'), int(i2), float(i1), str(i2))\n",
        "\n",
        "# 실수 (Float)\n",
        "#print(float(True), float(False), float('10'), float(3.14))\n",
        "\n",
        "# 사칙연산 : + * / // % **\n",
        "a=10; b=2.3\n",
        "#print(a+b,\"\\n\", a-b,\"\\n\", a*b,\"\\n\", a/b,\"\\n\", a//b,\"\\n\", a%b,\"\\n\", a**b,\"\\n\")\n",
        "\n",
        "# String\n",
        "string='by hwooks'\n",
        "a=\"5\"; b=0.5\n",
        "\n",
        "# 문자열 합치기\n",
        "#print(a + string)\n",
        "\n",
        "#2 f-string 사용\n",
        "#print(f\"{a}일 동안 매일 비올 확률 {'%.3f' %b}% {string}\")\n",
        "\n",
        "# 사용자 입력\n",
        "# input('인사말을 입력하세요.')  # input 받은 값을 string으로 처리\n",
        "#a=input()\n",
        "#b=input()\n",
        "#print(a+b)\n",
        "\n",
        "\n",
        "# 사용자 입력 ==> 숫자로 type변경\n",
        "#a=input()\n",
        "#b=input()\n",
        "#print(int(a)+int(b))\n",
        "\n",
        "\n",
        "# 사용자 입력 받을 때 guide string함께 출력 ==> 숫자로 type변경\n",
        "a=input(\"첫 번째 숫자:  \")\n",
        "b=input(\"두 번째 숫자:  \")\n",
        "print(int(a)+int(b))"
      ],
      "metadata": {
        "colab": {
          "base_uri": "https://localhost:8080/"
        },
        "id": "n8e4zyidCuwW",
        "outputId": "a2e0d445-2ef7-4c5a-cabf-b389adeca286"
      },
      "execution_count": null,
      "outputs": [
        {
          "output_type": "stream",
          "name": "stdout",
          "text": [
            "첫 번째 숫자:  5\n",
            "두 번째 숫자:  5\n",
            "10\n"
          ]
        }
      ]
    },
    {
      "cell_type": "code",
      "source": [
        "# 실수 + 실수 ==> 실수\n",
        "# 3과 3.3을 입력하고 숫자 연산을 수행하여 6.3을 출력\n",
        "a=input(\"첫 번째 숫자:  \")\n",
        "b=input(\"두 번째 숫자:  \")\n",
        "print(float(a)+float(b))"
      ],
      "metadata": {
        "colab": {
          "base_uri": "https://localhost:8080/"
        },
        "id": "_NWRkug0JNhF",
        "outputId": "2fedce4b-6694-4b60-9138-1e2c6d360e19"
      },
      "execution_count": null,
      "outputs": [
        {
          "output_type": "stream",
          "name": "stdout",
          "text": [
            "첫 번째 숫자:  3\n",
            "두 번째 숫자:  3.3\n",
            "6.3\n"
          ]
        }
      ]
    },
    {
      "cell_type": "code",
      "source": [
        "# 정수 + 실수 ==> 실수\n",
        "# 3과 3.3을 입력하고 숫자 연산을 수행하여 6.3을 출력\n",
        "a=input(\"첫 번째 숫자:  \")\n",
        "b=input(\"두 번째 숫자:  \")\n",
        "print(int3(a)+float(b))\n"
      ],
      "metadata": {
        "colab": {
          "base_uri": "https://localhost:8080/"
        },
        "id": "OGHFekaGH5xz",
        "outputId": "26604f0f-a8cf-43b0-e767-dea6d695a95d"
      },
      "execution_count": null,
      "outputs": [
        {
          "output_type": "stream",
          "name": "stdout",
          "text": [
            "첫 번째 숫자:  3\n",
            "두 번째 숫자:  3.3\n",
            "6.3\n"
          ]
        }
      ]
    },
    {
      "cell_type": "code",
      "source": [
        "# a=52, b=52.273, a+b를 5252.273으로 계산되도록..\n",
        "a=52; b=52.273\n",
        "print(a+b)\n",
        "a=str(52); b=str(52.273)\n",
        "print(a+b)\n"
      ],
      "metadata": {
        "colab": {
          "base_uri": "https://localhost:8080/"
        },
        "id": "orDEcCM8KaYW",
        "outputId": "581f51aa-799f-471d-a3fa-1fc21703868b"
      },
      "execution_count": null,
      "outputs": [
        {
          "output_type": "stream",
          "name": "stdout",
          "text": [
            "104.273\n",
            "5252.273\n"
          ]
        }
      ]
    },
    {
      "cell_type": "code",
      "source": [
        "# 문자열 : \"\", '', \"\"\" \"\"\", ''' '''\n",
        "# p1 = 'python's value is great'\n",
        "p2 = \"python's value is great\"\n",
        "p3 = 'python\\'s value is great'\n",
        "# \\가 waiver로 작용해서 '가 string이 아닌\n",
        "# 자체로 일반 문자로 취급\n",
        "# 이러한 것을 이스케이프라고 함\n",
        "# 인식 추가로 \\s같은 경우 자동 적으로 meta문자로 인식되는데 이경우 \\\\s로 하면 \\s 일반 문자로 적용\n",
        "\n",
        "#print(p1)\n",
        "#print(p2)\n",
        "print(p3)\n"
      ],
      "metadata": {
        "colab": {
          "base_uri": "https://localhost:8080/"
        },
        "id": "HvCLhaWBPeey",
        "outputId": "54856a77-74ed-4ee8-b3c4-7700809b28c1"
      },
      "execution_count": null,
      "outputs": [
        {
          "output_type": "stream",
          "name": "stdout",
          "text": [
            "python's value is great\n"
          ]
        }
      ]
    },
    {
      "cell_type": "code",
      "source": [
        "# \\n 행바꿈\n",
        "y1=\"Once you study data analysis, you will need Python\"\n",
        "y2=\"Once you study data analysis\\nyou will need Python\\n\"\n",
        "y3=\"Once you study data analysis\\tyou will need Python\"\n",
        "#print(y1,\"\\n\", y2)\n",
        "print(y1+\"\\n\"+y2+y3)"
      ],
      "metadata": {
        "colab": {
          "base_uri": "https://localhost:8080/"
        },
        "id": "owWqBwI_RW8h",
        "outputId": "af1a0cde-b759-4b6c-e244-54eb556e241e"
      },
      "execution_count": null,
      "outputs": [
        {
          "output_type": "stream",
          "name": "stdout",
          "text": [
            "Once you study data analysis, you need Python\n",
            "Once you study data analysis\n",
            "you need Python\n",
            "Once you study data analysis\tyou need Python\n"
          ]
        }
      ]
    },
    {
      "cell_type": "code",
      "source": [
        "# multi행 갖는 string에 대해서 문자 그대로 받아들이는 기능 (triple은 string 중간에 '이 있어도 상관 없어)\n",
        "y1 = '''\n",
        "Once you study data analysis\n",
        "you will need Python\n",
        "'''\n",
        "\n",
        "y2 = '''\n",
        "Once you study data analysis\n",
        "you will need Python's power\n",
        "'''\n",
        "\n",
        "y3 = \"\"\"\n",
        "Once you study data analysis\n",
        "you will need Python\n",
        "\"\"\"\n",
        "\n",
        "y4 = \"\"\"\n",
        "Once you study data analysis\n",
        "you will need Python's power\n",
        "\"\"\"\n",
        "\n",
        "\n",
        "print(y1, y2, y3, y4)"
      ],
      "metadata": {
        "colab": {
          "base_uri": "https://localhost:8080/"
        },
        "id": "G_zsYnhDSP-u",
        "outputId": "e4c99687-2f21-4bd6-d4da-905472d6d5cf"
      },
      "execution_count": null,
      "outputs": [
        {
          "output_type": "stream",
          "name": "stdout",
          "text": [
            "\n",
            "Once you study data analysis\n",
            "you will need Python\n",
            " \n",
            "Once you study data analysis\n",
            "you will need Python's power\n",
            " \n",
            "Once you study data analysis\n",
            "you will need Python\n",
            " \n",
            "Once you study data analysis\n",
            "you will need Python's power\n",
            "\n"
          ]
        }
      ]
    },
    {
      "cell_type": "code",
      "source": [
        "a1=\"Python\"; a2=\" is easy to learn\";\n",
        "print(a1+a2)\n",
        "print(\"=\"*33)"
      ],
      "metadata": {
        "colab": {
          "base_uri": "https://localhost:8080/"
        },
        "id": "bPxBRWc7S0Fa",
        "outputId": "dc31f688-4516-4480-f9b0-c3206dfc4a1a"
      },
      "execution_count": null,
      "outputs": [
        {
          "output_type": "stream",
          "name": "stdout",
          "text": [
            "Python is easy to learn\n",
            "=================================\n"
          ]
        }
      ]
    },
    {
      "cell_type": "markdown",
      "source": [
        "Q. 아래와 같이 출력할 수 있는 string을 만드세요.\n",
        "\n",
        "\"What a wonderful world!\"\n",
        "\n",
        "he said loudly"
      ],
      "metadata": {
        "id": "LfI_iWtFUi_u"
      }
    },
    {
      "cell_type": "code",
      "source": [
        "a=\"\"\"\n",
        "\"What a wonderful world!\"\n",
        "he said loudly\n",
        "\"\"\"\n",
        "print(a)"
      ],
      "metadata": {
        "colab": {
          "base_uri": "https://localhost:8080/"
        },
        "id": "E4BIljlnUh0I",
        "outputId": "e88a553c-78a5-499c-8c28-2d2f760f30ee"
      },
      "execution_count": null,
      "outputs": [
        {
          "output_type": "stream",
          "name": "stdout",
          "text": [
            "\n",
            "\"What a wonderful world!\"\n",
            "he said loudly\n",
            "\n"
          ]
        }
      ]
    },
    {
      "cell_type": "markdown",
      "source": [
        "Q. 다른 타입의 숫자 2개를 입력 받아 큰 수를 출력하세요."
      ],
      "metadata": {
        "id": "e_fXRtB-VSOu"
      }
    },
    {
      "cell_type": "code",
      "source": [
        "#a=15; b=14.59\n",
        "#a=14.59; b=14.59\n",
        "a1=14.59; b1=14\n",
        "a2=int(14.59); b2=int(14)\n",
        "#a=input(\"첫 번째 숫자:  \")\n",
        "#b=input(\"두 번째 숫자:  \")\n",
        "#print(max(float(a),float(b)))\n",
        "\n",
        "#a=float(input(\"첫 번째 숫자:  \"))\n",
        "#b=float(input(\"두 번째 숫자:  \"))\n",
        "\n",
        "if a1 > b1: print(a1)\n",
        "elif b1 > a1: print(b1)\n",
        "else: print(\"There's no max no.\")\n",
        "\n",
        "\n",
        "if a2 > b2: print(a2)\n",
        "elif b2 > a2: print(b2)\n",
        "else: print(\"There's no max no.\")"
      ],
      "metadata": {
        "colab": {
          "base_uri": "https://localhost:8080/"
        },
        "id": "8_dxJ6XFVXrB",
        "outputId": "216aec43-a183-46f1-e3cc-592dbfe67fb1"
      },
      "execution_count": null,
      "outputs": [
        {
          "output_type": "stream",
          "name": "stdout",
          "text": [
            "14.59\n",
            "There's no max no.\n"
          ]
        }
      ]
    },
    {
      "cell_type": "markdown",
      "source": [
        "## 자료형 - List\n",
        "- List는 []로 표기하며, []안의 요소는 콤마로 구분하며 순서 있게 나열"
      ],
      "metadata": {
        "id": "d9NCaJxoJ2NN"
      }
    },
    {
      "cell_type": "code",
      "source": [
        "list1=[1,2,3,4,5]\n",
        "list2=['a', 'b', 'c']\n",
        "list3=[1, 'a', 'abc', [1,2,3,4,5], ['a', 'b', 'c']]\n",
        "\n",
        "print(list1,\"\\n\", list2, \"\\n\", list3)"
      ],
      "metadata": {
        "colab": {
          "base_uri": "https://localhost:8080/"
        },
        "id": "DAt8cABaXTeR",
        "outputId": "658318c1-41dd-40f4-a831-f5c736ccab67"
      },
      "execution_count": null,
      "outputs": [
        {
          "output_type": "stream",
          "name": "stdout",
          "text": [
            "[1, 2, 3, 4, 5] \n",
            " ['a', 'b', 'c'] \n",
            " [1, 'a', 'abc', [1, 2, 3, 4, 5], ['a', 'b', 'c']]\n"
          ]
        }
      ]
    },
    {
      "cell_type": "code",
      "source": [
        "# List: 인텍싱\n",
        "list1=[1,2,3,4,5]\n",
        "list1[2]\n",
        "list1[0:2]\n",
        "list1[:4]"
      ],
      "metadata": {
        "colab": {
          "base_uri": "https://localhost:8080/"
        },
        "id": "rou2DybjqGTY",
        "outputId": "1f9d8228-bd8c-4819-ff90-d247594ffba6"
      },
      "execution_count": null,
      "outputs": [
        {
          "output_type": "execute_result",
          "data": {
            "text/plain": [
              "[1, 2, 3, 4]"
            ]
          },
          "metadata": {},
          "execution_count": 79
        }
      ]
    },
    {
      "cell_type": "code",
      "source": [
        "## List: Nested List에서의 indexing\n",
        "list3=[1, 'a', 'abc', [1,2,3,4,5], ['a', 'b', 'c']]\n",
        "\n",
        "print(list3[3], list3[3][2], list3[4][0])\n"
      ],
      "metadata": {
        "colab": {
          "base_uri": "https://localhost:8080/"
        },
        "id": "wXCzuUV3q6U-",
        "outputId": "fea61e12-1a30-4d85-c66e-608d7909f72f"
      },
      "execution_count": null,
      "outputs": [
        {
          "output_type": "stream",
          "name": "stdout",
          "text": [
            "[1, 2, 3, 4, 5] 3 a\n"
          ]
        }
      ]
    },
    {
      "cell_type": "code",
      "source": [
        "# 리스트의 수정, 삭제\n",
        "a=[0,1,2,3,4,5,6,7,8,9]\n",
        "b=['a', 'b', 'c']\n",
        "a[0]=1\n",
        "print(a)\n",
        "b[1]='a'\n",
        "print(b)\n",
        "del a[0]\n",
        "print(a)\n",
        "del b[1]\n",
        "print(b)"
      ],
      "metadata": {
        "colab": {
          "base_uri": "https://localhost:8080/"
        },
        "id": "o8o5VjLUrg1d",
        "outputId": "1b631773-804a-4206-b941-44862aad817e"
      },
      "execution_count": null,
      "outputs": [
        {
          "output_type": "stream",
          "name": "stdout",
          "text": [
            "[1, 1, 2, 3, 4, 5, 6, 7, 8, 9]\n",
            "['a', 'a', 'c']\n",
            "[1, 2, 3, 4, 5, 6, 7, 8, 9]\n",
            "['a', 'c']\n"
          ]
        }
      ]
    },
    {
      "cell_type": "code",
      "source": [
        "# 끝에서부터 indexing -1\n",
        "a=[0,1,2,3,4,5,6,7,8,9]\n",
        "b=['a', 'b', 'c']\n",
        "\n",
        "print(a[-2])\n",
        "print(a[-4:-1])\n",
        "print(a[-4:])"
      ],
      "metadata": {
        "colab": {
          "base_uri": "https://localhost:8080/"
        },
        "id": "yd3bxTENtW44",
        "outputId": "d7a95ae8-f2a7-4c9e-96f9-99c098487634"
      },
      "execution_count": null,
      "outputs": [
        {
          "output_type": "stream",
          "name": "stdout",
          "text": [
            "8\n",
            "[6, 7, 8]\n",
            "[6, 7, 8, 9]\n"
          ]
        }
      ]
    },
    {
      "cell_type": "code",
      "source": [
        "# 리스트의 확장\n",
        "h=[1,2,3]\n",
        "#h.extend([4,5])   # 여러 항목을 추가 (대괄호 필요)\n",
        "h.extend([4,5])   # 여러 항목을 추가 (대괄호 필요)\n",
        "print(h)\n",
        "\n",
        "h.append(6)       # 단일 항목 추가\n",
        "print(h)\n",
        "\n",
        "h.insert(0,5)   # 지정 인덱스에 추가\n",
        "print(h)"
      ],
      "metadata": {
        "colab": {
          "base_uri": "https://localhost:8080/"
        },
        "id": "xIBnGvClt-v1",
        "outputId": "c1e8424d-f19a-4e6e-deb5-35e7e5a606e8"
      },
      "execution_count": null,
      "outputs": [
        {
          "output_type": "stream",
          "name": "stdout",
          "text": [
            "[1, 2, 3, 4, 5]\n",
            "[1, 2, 3, 4, 5, 6]\n",
            "[5, 1, 2, 3, 4, 5, 6]\n"
          ]
        }
      ]
    },
    {
      "cell_type": "markdown",
      "source": [
        "list1에서 다음을 수행하세요\n",
        "- 33을 출력\n",
        "- 82를 리스트에 추가\n",
        "- 87의 인덱스 구하기 - 도전\n",
        "- 인덱스 3에서 10까지의 값을 출력하고 list2에 저장한 후 내림차순 정렬하기 - 도전\n",
        "- 39를 11로 변경\n",
        "- [69,45,58] 출력\n",
        "- 짝수 인덱스의 값으로 구성된 리스트 출력하기\n",
        "- 인덱스가 가장 큰수를 삭제하기\n",
        "- 인덱스 3, 5인 값으로 4칙 연산하기\n",
        "\n",
        "list1 = [58, 45, 69, 19,  4, 87, 29, 13, 39, 15, 54, [8, 33, 11], 27, 49, 63, 98, 22, 82]"
      ],
      "metadata": {
        "id": "YF4Sj_cOv7SJ"
      }
    },
    {
      "cell_type": "code",
      "source": [
        "list1=[58, 45, 69, 19, 4, 87, 29, 13, 39, 15, 54, [8, 33, 11], 27, 49, 63, 98, 22, 82]\n",
        "\n",
        "# 33을 출력\n",
        "print(\"\\nQ.33을 출력\")\n",
        "print(list1[11][1])\n",
        "\n",
        "\n",
        "# 82를 리스트에 추가\n",
        "print(\"\\nQ.82를 리스트에 추가\")\n",
        "list1.append(82)\n",
        "print(list1)\n",
        "\n",
        "#87의 인덱스 구하기\n",
        "print(\"\\nQ.87의 인덱스 구하기\")\n",
        "print(list1.index(87))\n",
        "\n",
        "# 인덱스 3에서 10까지의 값을 출력하고 list2에 저장한 후 내림차순 정렬하기 - 도전\n",
        "print(\"\\nQ.인덱스 3에서 10까지의 값을 출력하고 list2에 저장한 후 내림차순 정렬하기 - 도전\")\n",
        "print(list1[3:11])\n",
        "list2=list1[3:11]\n",
        "print(sorted(list2, reverse=True))\n",
        "list2.sort(reverse=True)\n",
        "print(list2)\n",
        "\n",
        "# 39를 11로 변경\n",
        "print(\"\\nQ.39를 11로 변경\")\n",
        "list1[list1.index(39)]=11\n",
        "print(list1)\n",
        "\n",
        "\n",
        "# [69,45,58] 출력\n",
        "print(\"\\nQ.[69,45,58] 출력\")\n",
        "print(list1[-17::-1])\n",
        "print(list1[2::-1])\n",
        "\n",
        "# 짝수 인덱스의 값으로 구성된 리스트 출력하기\n",
        "print(\"\\nQ.짝수 인덱스의 값으로 구성된 리스트 출력하기\")\n",
        "even_list=[]\n",
        "for i in range(len(list1)):\n",
        "  if i%2==0:  even_list.append(list1[i])\n",
        "print(even_list)\n",
        "print(list1[0::2])\n",
        "\n",
        "# 인덱스가 가장 큰수를 삭제하기\n",
        "print(\"\\nQ.인덱스가 가장 큰수를 삭제하기\")\n",
        "del list1[-1]\n",
        "print(list1)\n",
        "\n",
        "# 인덱스 3, 5인 값으로 4칙 연산하기\n",
        "print(\"\\nQ.인덱스 3, 5인 값으로 4칙 연산하기\")\n",
        "print(list1[3]+list1[5], list1[3]-list1[5], list1[3]*list1[5], list1[3]/list1[5])"
      ],
      "metadata": {
        "colab": {
          "base_uri": "https://localhost:8080/"
        },
        "id": "eT5hatacv7GK",
        "outputId": "d3df35c6-9a19-4f89-b2e2-0f009c02b685"
      },
      "execution_count": null,
      "outputs": [
        {
          "output_type": "stream",
          "name": "stdout",
          "text": [
            "\n",
            "Q.33을 출력\n",
            "33\n",
            "\n",
            "Q.82 를 리스트에 추가\n",
            "[58, 45, 69, 19, 4, 87, 29, 13, 39, 15, 54, [8, 33, 11], 27, 49, 63, 98, 22, 82, 82]\n",
            "\n",
            "Q.87의 인덱스 구하기\n",
            "5\n",
            "\n",
            "Q.인덱스 3에서 10까지의 값을 출력하고 list2에 저장한 후 내림차순 정렬하기 - 도전\n",
            "[19, 4, 87, 29, 13, 39, 15, 54]\n",
            "[87, 54, 39, 29, 19, 15, 13, 4]\n",
            "[87, 54, 39, 29, 19, 15, 13, 4]\n",
            "\n",
            "Q.39를 11로 변경\n",
            "[58, 45, 69, 19, 4, 87, 29, 13, 11, 15, 54, [8, 33, 11], 27, 49, 63, 98, 22, 82, 82]\n",
            "\n",
            "Q.[69,45,58] 출력\n",
            "[69, 45, 58]\n",
            "[69, 45, 58]\n",
            "\n",
            "Q.짝수 인덱스의 값으로 구성된 리스트 출력하기\n",
            "[58, 69, 4, 29, 11, 54, 27, 63, 22, 82]\n",
            "[58, 69, 4, 29, 11, 54, 27, 63, 22, 82]\n",
            "\n",
            "Q.인덱스가 가장 큰수를 삭제하기\n",
            "[58, 45, 69, 19, 4, 87, 29, 13, 11, 15, 54, [8, 33, 11], 27, 49, 63, 98, 22, 82]\n",
            "\n",
            "Q.인덱스 3, 5인 값으로 4칙 연산하기\n",
            "106 -68 1653 0.21839080459770116\n"
          ]
        }
      ]
    },
    {
      "cell_type": "code",
      "source": [
        "list1=[58, 45, 69, 19, 4, 87, 29, 13, 39, 15, 54, [8, 33, 11], 27, 49, 63, 98, 22, 82]\n",
        "print(list1)\n",
        "print(list1[7::-1])\n",
        "print(list1[7::2])\n",
        "print(list1[7::-2])\n"
      ],
      "metadata": {
        "colab": {
          "base_uri": "https://localhost:8080/"
        },
        "id": "lqYuhfzb8-8T",
        "outputId": "8740321d-5204-4904-84d3-65794cb3aab5"
      },
      "execution_count": null,
      "outputs": [
        {
          "output_type": "stream",
          "name": "stdout",
          "text": [
            "[58, 45, 69, 19, 4, 87, 29, 13, 39, 15, 54, [8, 33, 11], 27, 49, 63, 98, 22, 82]\n",
            "[13, 29, 87, 4, 19, 69, 45, 58]\n",
            "[13, 15, [8, 33, 11], 49, 98, 82]\n",
            "[13, 87, 19, 45]\n"
          ]
        }
      ]
    },
    {
      "cell_type": "markdown",
      "source": [
        "#### sort 와 sorted 차이점\n",
        "\n",
        "1. 메서드 vs 함수:\n",
        "- sort(): 리스트 객체의 내장 메서드입니다. 즉, 리스트에서만 사용할 수 있습니다.\n",
        "- sorted(): 내장 함수로, 어떤 반복 가능한(iterable) 객체에도 사용될 수 있습니다. 예를 들면 리스트, 튜플, 딕셔너리, 문자열 등에 사용할 수 있습니다.\n",
        "\n",
        "2. 반환 값:\n",
        "- sort(): 리스트를 원 위치에서(in-place) 정렬하고 None을 반환합니다. 따라서 원래의 리스트 자체가 변경됩니다.\n",
        "- sorted(): 정렬된 새로운 리스트를 반환합니다. 원래의 객체는 변경되지 않습니다.\n",
        "\n",
        "3. 유용성:\n",
        "- sort(): 리스트에서만 작동하기 때문에 리스트만 정렬할 수 있습니다.\n",
        "- sorted(): 다양한 객체를 정렬할 수 있으며 결과는 항상 리스트로 반환됩니다."
      ],
      "metadata": {
        "id": "b9IvLDzI91Qo"
      }
    },
    {
      "cell_type": "code",
      "source": [
        "# sort() Method   :  반환 X, 변환 O, only List to List\n",
        "my_list = [3, 1, 2]\n",
        "my_list.sort()\n",
        "print(my_list)\n",
        "\n",
        "# sorted() function   :  반환 O, 변환 X , not only for List but for everything, to List\n",
        "my_tuple = (3, 1, 2)\n",
        "new_list=sorted(my_tuple)\n",
        "print(my_tuple)\n",
        "print(new_list)\n",
        "\n"
      ],
      "metadata": {
        "colab": {
          "base_uri": "https://localhost:8080/"
        },
        "id": "lElLkvLHAq8f",
        "outputId": "90ce77fb-cff7-4d09-dda2-3a3ae6934303"
      },
      "execution_count": null,
      "outputs": [
        {
          "output_type": "stream",
          "name": "stdout",
          "text": [
            "[1, 2, 3]\n",
            "(3, 1, 2)\n",
            "[1, 2, 3]\n"
          ]
        }
      ]
    },
    {
      "cell_type": "code",
      "source": [
        "## sort() Method\n",
        "list1=[5,6,9,7,8]\n",
        "new_list=list1.sort()\n",
        "print(list1)\n",
        "print(new_list)"
      ],
      "metadata": {
        "colab": {
          "base_uri": "https://localhost:8080/"
        },
        "id": "hV5lmhZsEkvl",
        "outputId": "1c443dc5-e752-44af-9200-4a96960a6e10"
      },
      "execution_count": null,
      "outputs": [
        {
          "output_type": "stream",
          "name": "stdout",
          "text": [
            "[5, 6, 7, 8, 9]\n",
            "None\n"
          ]
        }
      ]
    },
    {
      "cell_type": "code",
      "source": [
        "## sorted() Function\n",
        "list1=[5,6,9,7,8]\n",
        "new_list=sorted(list1)\n",
        "print(list1)\n",
        "print(new_list)"
      ],
      "metadata": {
        "colab": {
          "base_uri": "https://localhost:8080/"
        },
        "id": "E-niRs7-FNVM",
        "outputId": "4d6bf793-be4e-4141-b9fd-70ff11d8f710"
      },
      "execution_count": null,
      "outputs": [
        {
          "output_type": "stream",
          "name": "stdout",
          "text": [
            "[5, 6, 9, 7, 8]\n",
            "[5, 6, 7, 8, 9]\n"
          ]
        }
      ]
    },
    {
      "cell_type": "code",
      "source": [
        "# Sorted 반환 O, 변환 X , not only for List but for everything, to List\n",
        "list1=[58, 45, 69, 19, 4, 87, 29, 13, 39, 15, 54, [8, 33, 11], 27, 49, 63, 98, 22, 82]\n",
        "list2=list1[3:11]\n",
        "l_sorted=sorted(list2, reverse=True)\n",
        "print(l_sorted)\n",
        "\n",
        "# Sort 반환 X, 변환 O, only List to List\n",
        "list3=list1[3:11]\n",
        "l3_sorted=list3.sort(reverse=True)\n",
        "print(l3_sorted, \"\\t\", list3)\n"
      ],
      "metadata": {
        "colab": {
          "base_uri": "https://localhost:8080/"
        },
        "id": "uud4irTzGJdy",
        "outputId": "5c9798c3-a927-478d-daf1-3a4c8df15016"
      },
      "execution_count": null,
      "outputs": [
        {
          "output_type": "stream",
          "name": "stdout",
          "text": [
            "[87, 54, 39, 29, 19, 15, 13, 4]\n",
            "None \t [87, 54, 39, 29, 19, 15, 13, 4]\n"
          ]
        }
      ]
    },
    {
      "cell_type": "markdown",
      "source": [
        "Task1_0425. 주어진 숫자 리스트에서 최소값과 최대값을 찾아 출력하세요.\n",
        "\n",
        "numbers = [58, 45, 69, 19, 4, 87, 29, 13, 39, 15]\n",
        "\n",
        "\n",
        "Task2_0425. 주어진 숫자 리스트의 모든 요소의 합계와 평균을 계산하고 출력하세요\n",
        "\n",
        "numbers = [58, 45, 69, 19, 4, 87, 29, 13, 39, 15]\n",
        "\n",
        "Task3_0425. 주어진 리스트에서 특정 요소가 등장하는 모든 인덱스를 리스트로 만들어 출력하세요.\n",
        "\n",
        "items = ['apple', 'banana', 'cherry', 'apple', 'cherry', 'apple']\n",
        "\n",
        "\n",
        "Task4_0425. 주어진 리스트에서 연속해서 반복되는 요소만 제거하고, 결과 리스트를 반환하세요. 단, 처음 등장하는 요소는 유지해야 합니다.\n",
        "\n",
        "예를 들어, ['a', 'a', 'b', 'c', 'c', 'c', 'd', 'e', 'e']가 입력되면, ['a', 'b', 'c', 'd', 'e']를 출력해야 합니다.\n",
        "\n",
        "Task5_0425 주어진 정수 리스트와 회전 횟수 k에 대해 리스트를 오른쪽으로 k만큼 회전시킨 결과를 반환하세요. k가 리스트의 길이보다 클 수 있으며, 이 경우 k를 리스트 길이로 나눈 나머지만큼 실제 회전시키면 됩니다.\n",
        "\n",
        "예를 들어, [1, 2, 3, 4, 5]와 k=2가 주어지면, 결과는 [4, 5, 1, 2, 3]이 되어야 합니다."
      ],
      "metadata": {
        "id": "xEVB59V8HT26"
      }
    },
    {
      "cell_type": "code",
      "source": [
        "import statistics\n",
        "import re\n",
        "\n",
        "# Task1_0425. 주어진 숫자 리스트에서 최소값과 최대값을 찾아 출력하세요.\n",
        "print(\"\\n Task1_0425. 주어진 숫자 리스트에서 최소값과 최대값을 찾아 출력하세요\")\n",
        "numbers = [58, 45, 69, 19, 4, 87, 29, 13, 39, 15]\n",
        "print(\"\\tnumbers의 최소값은:\", min(numbers), \"numbers의 최대값은:\", max(numbers))\n",
        "\n",
        "\n",
        "# Task2_0425. 주어진 숫자 리스트의 모든 요소의 합계와 평균을 계산하고 출력하세요\n",
        "print(\"\\n Task2_0425. 주어진 숫자 리스트의 모든 요소의 합계와 평균을 계산하고 출력하세요\")\n",
        "numbers = [58, 45, 69, 19, 4, 87, 29, 13, 39, 15]\n",
        "sum_nb=sum(numbers); mean_nb=statistics.mean(numbers)\n",
        "print(\"\\tnumbers의 총합계:\", sum_nb, \"numbers의 평균값은:\", mean_nb)\n",
        "\n",
        "\n",
        "# Task3_0425. 주어진 리스트에서 특정 요소 (target) 가 등장하는 모든 인덱스를 리스트로 만들어 출력하세요.\n",
        "print(\"\\n Task3_0425. 주어진 리스트에서 특정 요소 (target) 가 등장하는 모든 인덱스를 리스트로 만들어 출력하세요\")\n",
        "items = ['apple', 'banana', 'cherry', 'apple', 'cherry', 'apple']\n",
        "target='apple'\n",
        "inx_list=[]; i=0\n",
        "for item in items:\n",
        "  if target == item:  inx_list.append(i)\n",
        "  i=i+1\n",
        "print(\"\\t 주어진 리스트에서\", target, \"이 등장하는 모든 인덱스의 리스트는\", inx_list)\n",
        "\n",
        "# Task4_0425. 주어진 리스트에서 연속해서 반복되는 요소만 제거하고, 결과 리스트를 반환하세요. 단, 처음 등장하는 요소는 유지해야 합니다.\n",
        "# 예를 들어, ['a', 'a', 'b', 'c', 'c', 'c', 'd', 'e', 'e']가 입력되면, ['a', 'b', 'c', 'd', 'e']를 출력해야 합니다.\n",
        "print(\"\\n Task4_0425. 주어진 리스트에서 연속해서 반복되는 요소만 제거하고, 결과 리스트를 반환하세요\")\n",
        "\n",
        "uncl_list=['a', 'a', 'b', 'c', 'c', 'c', 'd', 'e', 'e']\n",
        "cleared_list=[]; i=0\n",
        "for  item in uncl_list:\n",
        "  if item not in cleared_list: cleared_list.append(item)\n",
        "\n",
        "print(\"\\t 반복되는 요소가 제거된 결과 리스트:\", cleared_list)\n",
        "\n",
        "# Task5_0425 주어진 정수 리스트와 회전 횟수 k에 대해 리스트를 오른쪽으로 k만큼 회전시킨 결과를 반환하세요. k가 리스트의 길이보다 클 수 있으며, 이 경우 k를 리스트 길이로 나눈 나머지만큼 실제 회전시키면 됩니다.\n",
        "# 예를 들어, [1, 2, 3, 4, 5]와 k=2가 주어지면, 결과는 [4, 5, 1, 2, 3]이 되어야 합니다.\n",
        "print(\"\\n Task5_0425 주어진 정수 리스트와 회전 횟수 k에 대해 리스트를 오른쪽으로 k만큼 회전시킨 결과를 반환하세요\")\n",
        "test_list=[1, 2, 3, 4, 5]\n",
        "shift=int(input(\"회전횟수:  \"))\n",
        "#shift=3\n",
        "nor_shift=shift%(len(test_list))\n",
        "shifted_list=list(range(len(test_list)))\n",
        "i=0\n",
        "for  item in test_list:\n",
        "  if (i+nor_shift) < len(test_list):\n",
        "    shifted_list[i+nor_shift]=test_list[i]\n",
        "  else:\n",
        "    nor_shift2=(i+nor_shift)%len(test_list)\n",
        "    shifted_list[nor_shift2]=test_list[i]\n",
        "  i=i+1\n",
        "\n",
        "print(\"\\t 원본 리스트는\", test_list, \"\\n\\t\", shift,\"만큼 회전된 리스트는:\", shifted_list)\n"
      ],
      "metadata": {
        "colab": {
          "base_uri": "https://localhost:8080/"
        },
        "id": "IYWY6bdoHksq",
        "outputId": "390f4a44-3b9e-4226-f0b5-3084c6e95a5b"
      },
      "execution_count": null,
      "outputs": [
        {
          "output_type": "stream",
          "name": "stdout",
          "text": [
            "\n",
            " Task1_0425. 주어진 숫자 리스트에서 최소값과 최대값을 찾아 출력하세요\n",
            "\tnumbers의 최소값은: 4 numbers의 최대값은: 87\n",
            "\n",
            " Task2_0425. 주어진 숫자 리스트의 모든 요소의 합계와 평균을 계산하고 출력하세요\n",
            "\tnumbers의 총합계: 378 numbers의 평균값은: 37.8\n",
            "\n",
            " Task3_0425. 주어진 리스트에서 특정 요소 (target) 가 등장하는 모든 인덱스를 리스트로 만들어 출력하세요\n",
            "\t 주어진 리스트에서 apple 이 등장하는 모든 인덱스의 리스트는 [0, 3, 5]\n",
            "\n",
            " Task4_0425. 주어진 리스트에서 연속해서 반복되는 요소만 제거하고, 결과 리스트를 반환하세요\n",
            "\t 반복되는 요소가 제거된 결과 리스트: ['a', 'b', 'c', 'd', 'e']\n",
            "\n",
            " Task5_0425 주어진 정수 리스트와 회전 횟수 k에 대해 리스트를 오른쪽으로 k만큼 회전시킨 결과를 반환하세요\n",
            "회전횟수:  3\n",
            "\t 원본 리스트는 [1, 2, 3, 4, 5] \n",
            "\t 3 만큼 회전된 리스트는: [3, 4, 5, 1, 2]\n"
          ]
        }
      ]
    },
    {
      "cell_type": "code",
      "source": [
        "### Task1_0425 + 강사님 모범 답안\n",
        "\n",
        "# Task1_0425. 주어진 숫자 리스트에서 최소값과 최대값을 찾아 출력하세요.\n",
        "print(\"\\n Task1_0425. 주어진 숫자 리스트에서 최소값과 최대값을 찾아 출력하세요\")\n",
        "numbers = [58, 45, 69, 19, 4, 87, 29, 13, 39, 15]\n",
        "#print(\"\\tnumbers의 최소값은:\", min(numbers), \"numbers의 최대값은:\", max(numbers))\n",
        "print(f\"\\tnumbers의 최소값은:{min(numbers)}, numbers의 최대값은:{max(numbers)}\")\n",
        "\n",
        "# Another Solution\n",
        "min_value=float(\"inf\"); max_value=float(\"-inf\")\n",
        "for item in numbers:\n",
        "  if item < min_value: min_value=item\n",
        "  if item > max_value: max_value=item\n",
        "print(f\"\\tnumbers의 최소값은:{min_value}, numbers의 최대값은:{max_value}\")"
      ],
      "metadata": {
        "colab": {
          "base_uri": "https://localhost:8080/"
        },
        "id": "UeJPANwev1Sb",
        "outputId": "17f038eb-4cf4-4e7e-f367-9cf38f582d2e"
      },
      "execution_count": null,
      "outputs": [
        {
          "output_type": "stream",
          "name": "stdout",
          "text": [
            "\n",
            " Task1_0425. 주어진 숫자 리스트에서 최소값과 최대값을 찾아 출력하세요\n",
            "\tnumbers의 최소값은:4, numbers의 최대값은:87\n",
            "\tnumbers의 최소값은:4, numbers의 최대값은:87\n"
          ]
        }
      ]
    },
    {
      "cell_type": "code",
      "source": [
        "import statistics as stat\n",
        "\n",
        "### Task2_0425 + 강사님 모범 답안\n",
        "# Task2_0425. 주어진 숫자 리스트의 모든 요소의 합계와 평균을 계산하고 출력하세요\n",
        "print(\"\\n Task2_0425. 주어진 숫자 리스트의 모든 요소의 합계와 평균을 계산하고 출력하세요\")\n",
        "numbers = [58, 45, 69, 19, 4, 87, 29, 13, 39, 15]\n",
        "sum_nb=sum(numbers); mean_nb=stat.mean(numbers)\n",
        "print(\"\\tnumbers의 총합계:\", sum_nb, \"numbers의 평균값은:\", mean_nb)\n",
        "\n",
        "## 강사님\n",
        "mean_value=sum_nb/len(numbers)\n",
        "print(f\"\\tnumbers의 총합계: {sum_nb}, numbers의 평균값은: {mean_value}\")\n",
        "\n",
        "## NumPy\n",
        "import numpy as np\n",
        "print(f\"\\tnumbers의 총합계: {sum_nb}, numbers의 평균값은: {np.mean(numbers)}\")"
      ],
      "metadata": {
        "colab": {
          "base_uri": "https://localhost:8080/"
        },
        "id": "97H6EqZgy3-i",
        "outputId": "a5435629-da37-4801-e1c3-0efa242afbf0"
      },
      "execution_count": null,
      "outputs": [
        {
          "output_type": "stream",
          "name": "stdout",
          "text": [
            "\n",
            " Task2_0425. 주어진 숫자 리스트의 모든 요소의 합계와 평균을 계산하고 출력하세요\n",
            "\tnumbers의 총합계: 378 numbers의 평균값은: 37.8\n",
            "\tnumbers의 총합계: 378, numbers의 평균값은: 37.8\n",
            "\tnumbers의 총합계: 378, numbers의 평균값은: 37.8\n"
          ]
        }
      ]
    },
    {
      "cell_type": "code",
      "source": [
        "### Task3_0425 + 강사님 모범 답안\n",
        "# Task3_0425. 주어진 리스트에서 특정 요소 (target) 가 등장하는 모든 인덱스를 리스트로 만들어 출력하세요.\n",
        "print(\"\\n Task3_0425. 주어진 리스트에서 특정 요소 (target) 가 등장하는 모든 인덱스를 리스트로 만들어 출력하세요\")\n",
        "items = ['apple', 'banana', 'cherry', 'apple', 'cherry', 'apple']\n",
        "target='apple'\n",
        "inx_list=[];\n",
        "for item in items:\n",
        "  if target == item:  inx_list.append(i)\n",
        "print(\"\\t 주어진 리스트에서\", target, \"이 등장하는 모든 인덱스의 리스트는\", inx_list)\n",
        "\n",
        "## 강사님\n",
        "## 아래 코드는 for-loop을 돌리는데 (보통 for i in list:)\n",
        "# ==> enumerate(list)에 대해서 for-loop을 돌리는데 index와 value를 반환\n",
        "# 이때 value가 target에 match될때 True이고 이때 index만 return하는 형태\n",
        "# []안에서 for문과 if 조건문과 결과 반환을 동시에 해버리는\n",
        "# 형태 y=[return:(index or value)  for index, value in enumerate(LIST) if value == target]\n",
        "indexes=[index for index, value in enumerate(items) if value == target]\n",
        "print(f\"\\t 주어진 리스트에서 '{target}'이 등장하는 모든 인덱스의 리스트는: {indexes}\")"
      ],
      "metadata": {
        "colab": {
          "base_uri": "https://localhost:8080/"
        },
        "id": "RQH6xcqgy43d",
        "outputId": "102a95f3-3014-472a-9b02-6dba46d569fd"
      },
      "execution_count": null,
      "outputs": [
        {
          "output_type": "stream",
          "name": "stdout",
          "text": [
            "\n",
            " Task3_0425. 주어진 리스트에서 특정 요소 (target) 가 등장하는 모든 인덱스를 리스트로 만들어 출력하세요\n",
            "\t 주어진 리스트에서 apple 이 등장하는 모든 인덱스의 리스트는 [5, 5, 5]\n",
            "\t 주어진 리스트에서 'apple'이 등장하는 모든 인덱스의 리스트는: [0, 3, 5]\n"
          ]
        }
      ]
    },
    {
      "cell_type": "code",
      "source": [
        "### Task4_0425 + 강사님 모범 답안\n",
        "\n",
        "# Task4_0425. 주어진 리스트에서 연속해서 반복되는 요소만 제거하고, 결과 리스트를 반환하세요. 단, 처음 등장하는 요소는 유지해야 합니다.\n",
        "print(\"\\n Task4_0425. 주어진 리스트에서 연속해서 반복되는 요소만 제거하고, 결과 리스트를 반환하세요\")\n",
        "\n",
        "uncl_list=['a', 'a', 'b', 'c', 'c', 'c', 'd', 'e', 'e']\n",
        "## My\n",
        "cleared_list=[];\n",
        "for  item in uncl_list:\n",
        "  if item not in cleared_list: cleared_list.append(item)\n",
        "print(f\"\\t 반복되는 요소가 제거된 결과 리스트: {cleared_list}\")\n",
        "\n",
        "# 강사님\n",
        "result=[uncl_list[0]]\n",
        "for i in uncl_list:\n",
        "  if i != result[-1]:\n",
        "    result.append(i)\n",
        "print(f\"\\t 연속해서 반복되는 요소가 제거된 결과 리스트: {result}\")\n",
        "\n",
        "\n",
        "# 사용자 함수로\n",
        "def remove_consecutive_duplicates(in_list):\n",
        "# 함수 적용 시에 혹시 input arg가 없으면 아래와 같이 EXIT door까지 설정\n",
        "  if not in_list:\n",
        "    return[]\n",
        "\n",
        "  result=[in_list[0]]\n",
        "  for item in in_list:\n",
        "    if item != result[-1]:\n",
        "      result.append(item)\n",
        "  return result\n",
        "\n",
        "result2=remove_consecutive_duplicates(uncl_list)\n",
        "print(f\"\\t 연속해서 반복되는 요소가 제거된 결과 리스트 by FUNC: {result2}\")\n",
        "dummy=[]\n",
        "result3=remove_consecutive_duplicates(dummy) ## blank list를 넣어도 오류 발생하지 않음\n"
      ],
      "metadata": {
        "colab": {
          "base_uri": "https://localhost:8080/"
        },
        "id": "wCMY-SV7y4qk",
        "outputId": "1d5c8a1f-83ad-4291-f31f-c2500fc05935"
      },
      "execution_count": null,
      "outputs": [
        {
          "output_type": "stream",
          "name": "stdout",
          "text": [
            "\n",
            " Task4_0425. 주어진 리스트에서 연속해서 반복되는 요소만 제거하고, 결과 리스트를 반환하세요\n",
            "\t 반복되는 요소가 제거된 결과 리스트: ['a', 'b', 'c', 'd', 'e']\n",
            "\t 연속해서 반복되는 요소가 제거된 결과 리스트: ['a', 'b', 'c', 'd', 'e']\n",
            "\t 연속해서 반복되는 요소가 제거된 결과 리스트 by FUNC: ['a', 'b', 'c', 'd', 'e']\n"
          ]
        }
      ]
    },
    {
      "cell_type": "code",
      "source": [
        "### Task5_0425 + 강사님 모범 답안\n",
        "\n",
        "# Task5_0425 주어진 정수 리스트와 회전 횟수 k에 대해 리스트를 오른쪽으로 k만큼 회전시킨 결과를 반환하세요. k가 리스트의 길이보다 클 수 있으며, 이 경우 k를 리스트 길이로 나눈 나머지만큼 실제 회전시키면 됩니다.\n",
        "# 예를 들어, [1, 2, 3, 4, 5]와 k=2가 주어지면, 결과는 [4, 5, 1, 2, 3]이 되어야 합니다.\n",
        "print(\"\\n Task5_0425 주어진 정수 리스트와 회전 횟수 k에 대해 리스트를 오른쪽으로 k만큼 회전시킨 결과를 반환하세요\")\n",
        "test_list=[1, 2, 3, 4, 5]\n",
        "shift=int(input(\"회전횟수:  \"))\n",
        "#shift=3\n",
        "nor_shift=shift%(len(test_list))\n",
        "shifted_list=list(range(len(test_list)))\n",
        "i=0\n",
        "for  item in test_list:\n",
        "  if (i+nor_shift) < len(test_list):\n",
        "    shifted_list[i+nor_shift]=test_list[i]\n",
        "  else:\n",
        "    nor_shift2=(i+nor_shift)%len(test_list)\n",
        "    shifted_list[nor_shift2]=test_list[i]\n",
        "  i=i+1\n",
        "print(f\"\\n내 답안(only using for/if 구문)\\n\\t원본 리스트는 {test_list}, \\n\\t{shift}만큼 회전된 리스트는: {shifted_list}\")\n",
        "\n",
        "# 강사님 모범답안\n",
        "def rotate_list(in_list, shift):\n",
        "  if not in_list: return nums\n",
        "  nor_shift=shift%(len(in_list))     ### normalized shift\n",
        "  rotate=in_list[-nor_shift:]+in_list[:-nor_shift]        ### shift를 중심으로 2-part를 나누어서 앞 뒤로 SWAP하면 rotate\n",
        "  return rotate\n",
        "print(f\"\\n강사님 모범답안(함수)\\n\\t원본 리스트는 {test_list}, \\n\\t{shift}만큼 회전된 리스트는: {rotate_list(test_list,nor_shift)}\")\n",
        "\n",
        "# Reverse Rotate\n",
        "def rotate_rev(in_list, shift):\n",
        "  if not in_list: return nums\n",
        "  nor_shift=shift%(len(in_list))     ### normalized shift\n",
        "  rotate=in_list[nor_shift:]+in_list[:nor_shift]        ### shift를 중심으로 2-part를 나누어서 앞 뒤로 SWAP하면 rotate\n",
        "  return rotate\n",
        "print(f\"\\n역방향-로테이트(함수)\\n\\t원본 리스트는 {test_list}, \\n\\t{shift}만큼 역회전된 리스트는: {rotate_rev(test_list,nor_shift)}\")\n"
      ],
      "metadata": {
        "colab": {
          "base_uri": "https://localhost:8080/"
        },
        "id": "d0NGuvHqy4jI",
        "outputId": "da8b463f-e035-4f9a-db27-ecd55d22c4b6"
      },
      "execution_count": null,
      "outputs": [
        {
          "output_type": "stream",
          "name": "stdout",
          "text": [
            "\n",
            " Task5_0425 주어진 정수 리스트와 회전 횟수 k에 대해 리스트를 오른쪽으로 k만큼 회전시킨 결과를 반환하세요\n",
            "회전횟수:  4\n",
            "\n",
            "내 답안(only using for/if 구문)\n",
            "\t원본 리스트는 [1, 2, 3, 4, 5], \n",
            "\t4만큼 회전된 리스트는: [2, 3, 4, 5, 1]\n",
            "\n",
            "강사님 모범답안(함수)\n",
            "\t원본 리스트는 [1, 2, 3, 4, 5], \n",
            "\t4만큼 회전된 리스트는: [2, 3, 4, 5, 1]\n",
            "\n",
            "역방향-로테이트(함수)\n",
            "\t원본 리스트는 [1, 2, 3, 4, 5], \n",
            "\t4만큼 역회전된 리스트는: [5, 1, 2, 3, 4]\n"
          ]
        }
      ]
    },
    {
      "cell_type": "markdown",
      "source": [
        "## 자료형 - Tuple\n",
        "- 튜플의 특징은 변경할 수 없는(immutable) 순서가 있는 컬렉션\n",
        "- 프로그램에서 그 값이 항상 변하지 않아야되는 경우 사용"
      ],
      "metadata": {
        "id": "bvFS6iMwJNwn"
      }
    },
    {
      "cell_type": "code",
      "source": [
        "tuple1=(1,2,3,4,5)\n",
        "tuple2=('a', 'b', 'c')\n",
        "tuple3=(1, 'a', 'abc', [1,2,3,4,5],['a', 'b', 'c'])\n",
        "\n",
        "print(tuple1[:])\n",
        "print(tuple2[2])\n",
        "print(tuple2[1])\n",
        "print(tuple3[3][2])\n",
        "print(tuple3[2][1])\n",
        "print(tuple3[4][1])"
      ],
      "metadata": {
        "colab": {
          "base_uri": "https://localhost:8080/"
        },
        "id": "CWIZmRVgJLo0",
        "outputId": "91a7fff8-9bee-4c33-a243-a8ae9846ee43"
      },
      "execution_count": null,
      "outputs": [
        {
          "output_type": "stream",
          "name": "stdout",
          "text": [
            "(1, 2, 3, 4, 5)\n",
            "c\n",
            "b\n",
            "3\n",
            "b\n",
            "b\n"
          ]
        }
      ]
    },
    {
      "cell_type": "code",
      "source": [
        "# List vs. Tuple\n",
        "list1=[1,2,3,4,5]\n",
        "list1[0]=0\n",
        "print(list1)\n",
        "\n",
        "tuple1=(1,2,3,4,5)\n",
        "#tuple1[0]=0           #### 불가능\n",
        "print(tuple1)"
      ],
      "metadata": {
        "colab": {
          "base_uri": "https://localhost:8080/",
          "height": 222
        },
        "id": "CGjGNW5WLD_2",
        "outputId": "dbcab9f1-4a27-4218-b6c5-8ed73d3f4127"
      },
      "execution_count": null,
      "outputs": [
        {
          "output_type": "stream",
          "name": "stdout",
          "text": [
            "[0, 2, 3, 4, 5]\n"
          ]
        },
        {
          "output_type": "error",
          "ename": "TypeError",
          "evalue": "'tuple' object does not support item assignment",
          "traceback": [
            "\u001b[0;31m---------------------------------------------------------------------------\u001b[0m",
            "\u001b[0;31mTypeError\u001b[0m                                 Traceback (most recent call last)",
            "\u001b[0;32m<ipython-input-57-e79d6c30233b>\u001b[0m in \u001b[0;36m<cell line: 7>\u001b[0;34m()\u001b[0m\n\u001b[1;32m      5\u001b[0m \u001b[0;34m\u001b[0m\u001b[0m\n\u001b[1;32m      6\u001b[0m \u001b[0mtuple1\u001b[0m\u001b[0;34m=\u001b[0m\u001b[0;34m(\u001b[0m\u001b[0;36m1\u001b[0m\u001b[0;34m,\u001b[0m\u001b[0;36m2\u001b[0m\u001b[0;34m,\u001b[0m\u001b[0;36m3\u001b[0m\u001b[0;34m,\u001b[0m\u001b[0;36m4\u001b[0m\u001b[0;34m,\u001b[0m\u001b[0;36m5\u001b[0m\u001b[0;34m)\u001b[0m\u001b[0;34m\u001b[0m\u001b[0;34m\u001b[0m\u001b[0m\n\u001b[0;32m----> 7\u001b[0;31m \u001b[0mtuple1\u001b[0m\u001b[0;34m[\u001b[0m\u001b[0;36m0\u001b[0m\u001b[0;34m]\u001b[0m\u001b[0;34m=\u001b[0m\u001b[0;36m0\u001b[0m\u001b[0;34m\u001b[0m\u001b[0;34m\u001b[0m\u001b[0m\n\u001b[0m\u001b[1;32m      8\u001b[0m \u001b[0mprint\u001b[0m\u001b[0;34m(\u001b[0m\u001b[0mtuple1\u001b[0m\u001b[0;34m)\u001b[0m\u001b[0;34m\u001b[0m\u001b[0;34m\u001b[0m\u001b[0m\n",
            "\u001b[0;31mTypeError\u001b[0m: 'tuple' object does not support item assignment"
          ]
        }
      ]
    },
    {
      "cell_type": "code",
      "source": [
        "l1=[1]\n",
        "print(l1)\n",
        "\n",
        "t1=(1)              ###\n",
        "print(t1)           ##  Tuple은 요소가 1개 있으면 자동적으로 int로 인식되기 때문에\n",
        "print(type(t1))     ##  요소가 1개일 때는 뒤에 콤마 붙여야\n",
        "\n",
        "t2=(1,)\n",
        "print(type(t2))\n",
        "\n",
        "t2=1,2,3\n",
        "print(t2, type(t2))\n",
        "\n",
        "print(t1+t2)\n",
        "print(t2*3)\n",
        "\n",
        "print(t1,t2)   # t1과 t2간 type 차이가 있어 연산이 불가능. int vs. tuple"
      ],
      "metadata": {
        "colab": {
          "base_uri": "https://localhost:8080/",
          "height": 314
        },
        "id": "dcqgFPX4L-Uz",
        "outputId": "38347421-69ad-4387-ef9e-0753c82a0fca"
      },
      "execution_count": null,
      "outputs": [
        {
          "output_type": "stream",
          "name": "stdout",
          "text": [
            "[1]\n",
            "1\n",
            "<class 'int'>\n",
            "<class 'tuple'>\n",
            "(1, 2, 3) <class 'tuple'>\n"
          ]
        },
        {
          "output_type": "error",
          "ename": "TypeError",
          "evalue": "unsupported operand type(s) for +: 'int' and 'tuple'",
          "traceback": [
            "\u001b[0;31m---------------------------------------------------------------------------\u001b[0m",
            "\u001b[0;31mTypeError\u001b[0m                                 Traceback (most recent call last)",
            "\u001b[0;32m<ipython-input-65-dccfad54bf1d>\u001b[0m in \u001b[0;36m<cell line: 14>\u001b[0;34m()\u001b[0m\n\u001b[1;32m     12\u001b[0m \u001b[0mprint\u001b[0m\u001b[0;34m(\u001b[0m\u001b[0mt2\u001b[0m\u001b[0;34m,\u001b[0m \u001b[0mtype\u001b[0m\u001b[0;34m(\u001b[0m\u001b[0mt2\u001b[0m\u001b[0;34m)\u001b[0m\u001b[0;34m)\u001b[0m\u001b[0;34m\u001b[0m\u001b[0;34m\u001b[0m\u001b[0m\n\u001b[1;32m     13\u001b[0m \u001b[0;34m\u001b[0m\u001b[0m\n\u001b[0;32m---> 14\u001b[0;31m \u001b[0mprint\u001b[0m\u001b[0;34m(\u001b[0m\u001b[0mt1\u001b[0m\u001b[0;34m+\u001b[0m\u001b[0mt2\u001b[0m\u001b[0;34m)\u001b[0m\u001b[0;34m\u001b[0m\u001b[0;34m\u001b[0m\u001b[0m\n\u001b[0m\u001b[1;32m     15\u001b[0m \u001b[0mprint\u001b[0m\u001b[0;34m(\u001b[0m\u001b[0mt2\u001b[0m\u001b[0;34m*\u001b[0m\u001b[0;36m3\u001b[0m\u001b[0;34m)\u001b[0m\u001b[0;34m\u001b[0m\u001b[0;34m\u001b[0m\u001b[0m\n\u001b[1;32m     16\u001b[0m \u001b[0;34m\u001b[0m\u001b[0m\n",
            "\u001b[0;31mTypeError\u001b[0m: unsupported operand type(s) for +: 'int' and 'tuple'"
          ]
        }
      ]
    },
    {
      "cell_type": "markdown",
      "source": [
        "Q. red, green, blue 값을 갖는 튜플에서 각각을 r,g,b 변수에 할당하고 출력하세요"
      ],
      "metadata": {
        "id": "pEsTsgQ2OioO"
      }
    },
    {
      "cell_type": "code",
      "source": [
        "colors=(\"red\", \"green\", \"blue\")\n",
        "r,g,b=colors\n",
        "print(r)\n",
        "print(g)\n",
        "print(b)\n"
      ],
      "metadata": {
        "colab": {
          "base_uri": "https://localhost:8080/"
        },
        "id": "rnQ75e_AOhkb",
        "outputId": "0b22fdec-9ae4-4379-a61c-59526905ef71"
      },
      "execution_count": null,
      "outputs": [
        {
          "output_type": "stream",
          "name": "stdout",
          "text": [
            "red\n",
            "green\n",
            "blue\n"
          ]
        }
      ]
    },
    {
      "cell_type": "markdown",
      "source": [
        "- 함수에서 여러값을 반환할 때 튜플을 사용하는 것이 일반적입니다.\n",
        "\n",
        "Q. 주어진 리스트의 총합과 평균을 동시에 반환하는 함수를 작성하세요"
      ],
      "metadata": {
        "id": "O-5lFVuXPPwB"
      }
    },
    {
      "cell_type": "code",
      "source": [
        "numbers = [10, 20, 30, 40, 50]\n",
        "\n",
        "def cal_sum_avr(InList):\n",
        "  sum_nb=sum(InList); mean_nb=sum_nb/(len(InList))\n",
        "  return sum_nb, mean_nb\n",
        "\n",
        "\n",
        "total, average=cal_sum_avr(numbers)\n",
        "print(f\"\\tnumbers의 총합계,평균: {cal_sum_avr(numbers)}\")\n",
        "print(f\"\\tnumbers의 총합계,평균: {total}, {average}\")\n",
        "print(type(total))\n",
        "\n",
        "def cal_sum_avr_tuple(InList):\n",
        "  sum_nb=sum(InList); mean_nb=sum_nb/(len(InList))\n",
        "  return (sum_nb, mean_nb)\n",
        "\n",
        "total_t, average_t=cal_sum_avr_tuple(numbers)\n",
        "print(f\"\\tnumbers의 총합계,평균: {total_t}, {average_t}\")\n",
        "print(type(total_t))\n",
        "\n",
        "\n"
      ],
      "metadata": {
        "colab": {
          "base_uri": "https://localhost:8080/"
        },
        "id": "WcfgGjwIPfe5",
        "outputId": "ca693d1a-866b-4b82-a863-b64c792c5e96"
      },
      "execution_count": null,
      "outputs": [
        {
          "output_type": "stream",
          "name": "stdout",
          "text": [
            "\tnumbers의 총합계,평균: (150, 30.0)\n",
            "\tnumbers의 총합계,평균: 150, 30.0\n",
            "<class 'int'>\n",
            "\tnumbers의 총합계,평균: 150, 30.0\n",
            "<class 'int'>\n"
          ]
        }
      ]
    },
    {
      "cell_type": "markdown",
      "source": [
        "## 자료형 - 사전\n",
        "- 키와 값을 하나의 요소로 하는 순서가 없는 집합"
      ],
      "metadata": {
        "id": "ZMitSoPER6j3"
      }
    },
    {
      "cell_type": "code",
      "source": [
        "d1={'a':1, 'b':2, 'c':3, 'd':4, 'e':5}\n",
        "print(d1['a'])\n",
        "print(d1.keys())\n",
        "print(d1.values())\n",
        "print(d1.items())\n",
        "d1['d']=4\n",
        "print(d1)\n",
        "d1['b']=7\n",
        "print(d1)\n",
        "\n",
        "d1['b']='None'\n",
        "print(d1)\n",
        "\n",
        "d1['b']='NaN'\n",
        "print(d1)\n",
        "\n",
        "del d1['d']            # key와 value의 item이 통째로 제거\n",
        "print(d1)\n",
        "\n",
        "dummy=d1.pop('e')     # pop()는 은 키 \"e\"을 제거되면서 value값이 return\n",
        "print(dummy,d1)"
      ],
      "metadata": {
        "colab": {
          "base_uri": "https://localhost:8080/"
        },
        "id": "GCeGPmrxSCVX",
        "outputId": "11fc2de6-6641-40a1-d052-9534982aa37a"
      },
      "execution_count": null,
      "outputs": [
        {
          "output_type": "stream",
          "name": "stdout",
          "text": [
            "1\n",
            "dict_keys(['a', 'b', 'c', 'd', 'e'])\n",
            "dict_values([1, 2, 3, 4, 5])\n",
            "dict_items([('a', 1), ('b', 2), ('c', 3), ('d', 4), ('e', 5)])\n",
            "{'a': 1, 'b': 2, 'c': 3, 'd': 4, 'e': 5}\n",
            "{'a': 1, 'b': 7, 'c': 3, 'd': 4, 'e': 5}\n",
            "{'a': 1, 'b': 'None', 'c': 3, 'd': 4, 'e': 5}\n",
            "{'a': 1, 'b': 'NaN', 'c': 3, 'd': 4, 'e': 5}\n",
            "{'a': 1, 'b': 'NaN', 'c': 3, 'e': 5}\n",
            "5 {'a': 1, 'b': 'NaN', 'c': 3}\n"
          ]
        }
      ]
    },
    {
      "cell_type": "markdown",
      "source": [
        "Q1. 딕셔너리 d1에서 'b'의 값을 확인하면서 그 값을 삭제하세요\n",
        "\n",
        "d1={'a':1, 'b':2, 'c':3, 'd':4, 'e':5}\n",
        "\n",
        "Q2. 다음과 같이 학생의 이름과 점수를 튜플로 묶은 리스트가 있습니다: [(\"Tom\",85), (\"Jane\",90),(\"Bob\", 75)]\n",
        "이 리스트를 사용해 학생이름을 키로 점수를 값으로 하는 딕셔너리를 생성하고 출력하세요.\n",
        "\n",
        "Q3. 튜플의 불변성 때문에 튜플은 딕셔너리의 키로 사용될 수 있습니다. 주어진 위치 자표 리스트에서 각 위치가 몇번 나타나는지 계산하는 딕셔너리를 만드세요.\n",
        "position=[(1,1),(2,2),(1,1),(3,3),(2,2)]"
      ],
      "metadata": {
        "id": "OnQwZniwWnHf"
      }
    },
    {
      "cell_type": "code",
      "source": [
        "# Q1 딕셔너리 d1에서 'b'의 값을 확인하면서 그 값을 삭제하세요\n",
        "d1={'a':1, 'b':2, 'c':3, 'd':4, 'e':5}\n",
        "\n",
        "# dict에서 del을 쓰면 key와 value의 item이 통째로 제거되며 값을 referencing할 수 없는 문제\n",
        "# 반면 pop을 쓰면 value값을 return 받으면서 제거 가능\n",
        "RemovedValue=d1.pop('b')     # pop()는 은 키 \"e\"을 제거되면서 value값이 return\n",
        "print(f\"\\tRemovedValue with Key'b':{RemovedValue}, \\n\\tUpdate된 Dict는 {d1}\")"
      ],
      "metadata": {
        "colab": {
          "base_uri": "https://localhost:8080/"
        },
        "id": "6JI8IK7jX74E",
        "outputId": "a166e411-dbde-4828-cfe3-d59db20e82e0"
      },
      "execution_count": null,
      "outputs": [
        {
          "output_type": "stream",
          "name": "stdout",
          "text": [
            "\tRemovedValue with Key'b':2, \n",
            "\tUpdate된 Dict는 {'a': 1, 'c': 3, 'd': 4, 'e': 5}\n"
          ]
        }
      ]
    },
    {
      "cell_type": "code",
      "source": [
        "# Q2 다음과 같이 학생의 이름과 점수를 튜플로 묶은 리스트가 있습니다:\n",
        "# [(\"Tom\",85), (\"Jane\",90),(\"Bob\", 75)]\n",
        "# 이 리스트를 사용해 학생이름을 키로 점수를 값으로 하는 딕셔너리를 생성하고 출력하세요.\n",
        "a=[(\"Tom\",85), (\"Jane\",90),(\"Bob\", 75)]\n",
        "\n",
        "result={}\n",
        "for item in a:\n",
        "  result[item[0]]=item[1]\n",
        "print(result)\n",
        "\n",
        "## 모범답안\n",
        "stdu_dict=dict(a)\n",
        "print(stdu_dict)\n"
      ],
      "metadata": {
        "colab": {
          "base_uri": "https://localhost:8080/"
        },
        "id": "LukKt4K3ZI89",
        "outputId": "9d129275-c748-40b4-dfce-ea965c2c6654"
      },
      "execution_count": null,
      "outputs": [
        {
          "output_type": "stream",
          "name": "stdout",
          "text": [
            "{'Tom': 85, 'Jane': 90, 'Bob': 75}\n",
            "{'Tom': 85, 'Jane': 90, 'Bob': 75}\n"
          ]
        }
      ]
    },
    {
      "cell_type": "code",
      "source": [
        "test={(1,1):1, (2,2):3}\n",
        "print(test)\n",
        "test[(1,1)]=test[(1,1)]+1\n",
        "print(test)"
      ],
      "metadata": {
        "colab": {
          "base_uri": "https://localhost:8080/"
        },
        "id": "Gt9WBLlYdOjy",
        "outputId": "4f170167-1e58-4ac6-e9b7-85c689268066"
      },
      "execution_count": null,
      "outputs": [
        {
          "output_type": "stream",
          "name": "stdout",
          "text": [
            "{(1, 1): 1, (2, 2): 3}\n",
            "{(1, 1): 2, (2, 2): 3}\n"
          ]
        }
      ]
    },
    {
      "cell_type": "code",
      "source": [
        "# Q3. 튜플의 불변성 때문에 튜플은 딕셔너리의 키로 사용될 수 있습니다.\n",
        "# 주어진 위치 자표 리스트에서 각 위치가\n",
        "# 몇번 나타나는지 계산하는 딕셔너리를 만드세요.\n",
        "positions=[(1,1),(2,2),(1,1),(3,3),(2,2)]\n",
        "\n",
        "# option1\n",
        "result={}\n",
        "for position in positions:\n",
        "  if position in result:\n",
        "    result[position] += 1\n",
        "  else: result[position]=1\n",
        "print(result)\n",
        "\n",
        "# option2\n",
        "result={}\n",
        "  if positions[i] in result:\n",
        "    result[positions[i]] += 1\n",
        "  else: result[positions[i]]=1\n",
        "print(result)"
      ],
      "metadata": {
        "colab": {
          "base_uri": "https://localhost:8080/"
        },
        "id": "8uNcK_AzZ_Xc",
        "outputId": "5546e212-f31f-4c84-8827-192bc0bf73eb"
      },
      "execution_count": null,
      "outputs": [
        {
          "output_type": "stream",
          "name": "stdout",
          "text": [
            "{(1, 1): 2, (2, 2): 2, (3, 3): 1}\n",
            "{(1, 1): 2, (2, 2): 2, (3, 3): 1}\n"
          ]
        }
      ]
    },
    {
      "cell_type": "markdown",
      "source": [
        "## 자료형 - 집합, set\n",
        "- 중복을 허용하지 않으며 순서가 없다."
      ],
      "metadata": {
        "id": "MnlLGYSDzcHR"
      }
    },
    {
      "cell_type": "code",
      "source": [
        "s1=set([1,2,5,4,3])\n",
        "s2=set('hello')\n",
        "print(s1)\n",
        "print(s2)\n",
        "\n",
        "## 순서가 없으니 indexing이 안됨\n",
        "## indexing을 위해서 list로 변환\n",
        "## 중복을 허용하지 않는 성질을 이용하기 위해 많이 사용\n",
        "\n",
        "l1=list(s1)\n",
        "print(l1)\n",
        "print(l1[1])\n",
        "\n",
        "l2=list(s2)\n",
        "indexes=[index for index, value in enumerate(l2) if value == 'h' ]\n",
        "print(l2[indexes[0]])\n",
        "print(indexes[:])\n",
        "indexes=[index for index, value in enumerate(l2) if value == 'o']\n",
        "print(indexes[:], l2[indexes[0]])\n",
        "\n",
        "\n"
      ],
      "metadata": {
        "colab": {
          "base_uri": "https://localhost:8080/"
        },
        "id": "WwfCArFjzjqA",
        "outputId": "4e403d7e-bc74-4786-9a9a-eb4f26e965e1"
      },
      "execution_count": null,
      "outputs": [
        {
          "output_type": "stream",
          "name": "stdout",
          "text": [
            "{1, 2, 3, 4, 5}\n",
            "{'l', 'h', 'e', 'o'}\n",
            "[1, 2, 3, 4, 5]\n",
            "2\n",
            "h\n",
            "[1]\n",
            "[3] o\n"
          ]
        }
      ]
    },
    {
      "cell_type": "code",
      "source": [
        "## Q. 주어진 리스트에서 중복 요소를 제거하고 결과를 출력\n",
        "print(f\"\\n\\nQ. 주어진 리스트 {nums}에서 중복 요소를 제거하고 결과 출력:\")\n",
        "nums=[1,2,2,3,4,4,4,5]\n",
        "set1=set(nums)\n",
        "list1=list(set1)\n",
        "print(set1, list1)\n",
        "\n",
        "## Q. s1, s2의 합집합과 교집합을 각각 리스트로 출력\n",
        "print(f\"\\n\\ns1, s2의 합집합과 교집합을 각각 리스트로 출력:\")\n",
        "s1=set([1,2,3,4,5,6]); s2=set([4,5,6,7,8,9])\n",
        "com1=s1&s2                         ### LIST로는 and  / or logic 허용 ㅌ\n",
        "sum1=s1|s2\n",
        "print(com1, sum1)\n",
        "print(s1 and s2)                  ### and는 논리 AND 연산자 &는 비트 연산자 (Bitwise)\n",
        "\n",
        "## Q. s1, s2의 차집합  출력\n",
        "print(f\"\\n\\ns1, s2의 차집합 출력:\")\n",
        "s1=set([1,2,3,4,5,6]); s2=set([4,5,6,7,8,9])\n",
        "res1=(s1-(s1&s2))|(s2-(s1&s2))\n",
        "print(res1)\n",
        "print(s1.difference(s2))"
      ],
      "metadata": {
        "colab": {
          "base_uri": "https://localhost:8080/"
        },
        "id": "cNeOAo4i3csO",
        "outputId": "e18438fc-c8dc-4900-b208-2ad000c00ca8"
      },
      "execution_count": null,
      "outputs": [
        {
          "output_type": "stream",
          "name": "stdout",
          "text": [
            "\n",
            "\n",
            "Q. 주어진 리스트 [1, 2, 2, 3, 4, 4, 4, 5]에서 중복 요소를 제거하고 결과 출력:\n",
            "{1, 2, 3, 4, 5} [1, 2, 3, 4, 5]\n",
            "\n",
            "\n",
            "s1, s2의 합집합과 교집합을 각각 리스트로 출력:\n",
            "{4, 5, 6} {1, 2, 3, 4, 5, 6, 7, 8, 9}\n",
            "{4, 5, 6, 7, 8, 9}\n",
            "\n",
            "\n",
            "s1, s2의 차집합 출력:\n",
            "{1, 2, 3, 7, 8, 9}\n",
            "{1, 2, 3}\n"
          ]
        }
      ]
    },
    {
      "cell_type": "markdown",
      "source": [
        "## 자료형 - 논리(Bool) True와 False\n",
        "- 파이썬에서 참과 거짓을 나타내는 상수. True는 1, False는 0의 값을 가짐\n",
        "- 조건을 판단해서 그 조건이 참이면 True, 거짓이면 False를 return."
      ],
      "metadata": {
        "id": "QrNq7k787NQe"
      }
    },
    {
      "cell_type": "code",
      "source": [
        "print(bool(0))\n",
        "print(bool(''))\n",
        "print(bool([]))\n",
        "print(bool(1))\n",
        "print(bool(100))"
      ],
      "metadata": {
        "colab": {
          "base_uri": "https://localhost:8080/"
        },
        "id": "gXtc1cb47o2X",
        "outputId": "39ef719a-ff32-4ed7-de1c-88764956e9be"
      },
      "execution_count": null,
      "outputs": [
        {
          "output_type": "stream",
          "name": "stdout",
          "text": [
            "False\n",
            "False\n",
            "False\n",
            "True\n",
            "True\n"
          ]
        }
      ]
    },
    {
      "cell_type": "code",
      "source": [
        "# 관계 연산자\n",
        "x=1; y=2\n",
        "str1='abc'; str2='python'\n",
        "print(x==y)\n",
        "print(x!=y)\n",
        "print(str1==str2)\n",
        "print(str1!=str2)\n",
        "print(str1 == 'python')\n",
        "print(str2== 'python')\n",
        "print(str1 < str2)   # ASCII 코드 상에서 'a'는 97, 'p'는 112이므로 a가 p보다 작으므로..."
      ],
      "metadata": {
        "colab": {
          "base_uri": "https://localhost:8080/"
        },
        "id": "33c6ZkaV9C8D",
        "outputId": "9fb2bc54-0d57-4fe6-d054-22f5b709d8b3"
      },
      "execution_count": null,
      "outputs": [
        {
          "output_type": "stream",
          "name": "stdout",
          "text": [
            "False\n",
            "True\n",
            "False\n",
            "True\n",
            "False\n",
            "True\n",
            "True\n"
          ]
        }
      ]
    },
    {
      "cell_type": "code",
      "source": [
        "# 논리 연산자\n",
        "bool1=True; bool2=False; bool3=True; bool4=False\n",
        "\n",
        "print(bool1 and bool2)\n",
        "print(bool1 or bool2)\n",
        "print(not bool3)\n",
        "print(not bool4)\n",
        "\n",
        "\n",
        "print(\"### AND 연산자 비트 연산자 TEST: and는 논리 AND 연산자 &는 비트 연산자\")\n",
        "print(bool1 & bool2)\n",
        "print(bool1 | bool2)\n",
        "print(~ bool3)\n",
        "print(~ bool4)\n"
      ],
      "metadata": {
        "colab": {
          "base_uri": "https://localhost:8080/"
        },
        "id": "Ps8S-AlWBB_F",
        "outputId": "b34ce14c-218f-459c-85f6-5d9edf0a81f6"
      },
      "execution_count": null,
      "outputs": [
        {
          "output_type": "stream",
          "name": "stdout",
          "text": [
            "False\n",
            "True\n",
            "False\n",
            "True\n",
            "### AND 연산자 비트 연산자 TEST: and는 논리 AND 연산자 &는 비트 연산자\n",
            "False\n",
            "True\n",
            "-2\n",
            "-1\n"
          ]
        }
      ]
    },
    {
      "cell_type": "markdown",
      "source": [
        "#### 파이썬에서 들여쓰기\n",
        "- 파이썬에는 실행 코드 부분을 묶어주는 {} 괄호가 없다.\n",
        "- 대신 들여쓰기(indentation)로 {}를 대신한다.\n",
        "- 제어문이나 함수이름, 클래스 이름 뒤에 콜론(':')으로 제어문, 함수이름, 클래스 이름의 끝을 표시하며 ':' 다음에 실행 코드를 작성"
      ],
      "metadata": {
        "id": "LxpBZIhdC521"
      }
    },
    {
      "cell_type": "code",
      "source": [
        "#if 1> 2: 와 같이 아무런 action이 없으면 에러 발생하는 데 아래와 같이 pass로 waiver 가능하다\n",
        "if 1> 2: pass\n",
        "\n",
        "li=['a', 'b', 'c']\n",
        "if 'a' in li:\n",
        "  print('a가 li에 있습니다.')\n",
        "else:\n",
        "  print('a가 li에 없습니다.')\n"
      ],
      "metadata": {
        "colab": {
          "base_uri": "https://localhost:8080/"
        },
        "id": "I2dJ89wnBBwA",
        "outputId": "0dd47c86-65d0-4c69-e07e-481104a99066"
      },
      "execution_count": null,
      "outputs": [
        {
          "output_type": "stream",
          "name": "stdout",
          "text": [
            "a가 li에 있습니다.\n"
          ]
        }
      ]
    },
    {
      "cell_type": "markdown",
      "source": [
        "#### 사용자 함수"
      ],
      "metadata": {
        "id": "qa8tQOx0FpUI"
      }
    },
    {
      "cell_type": "code",
      "source": [
        "numbers=[1,2,3]\n",
        "sum(numbers)      # 파이썬의 내장 함수\n",
        "\n",
        "# 사용자 함수\n",
        "def add(in1, in2, in3):\n",
        "  return in1+in2+in3\n",
        "\n",
        "add(1,2,3)\n",
        "\n",
        "def mul(a, b, c):\n",
        "  return a*b*c\n",
        "mul(1,2,3)\n",
        "\n",
        "def sub(a, b):\n",
        "  return a-b\n",
        "sub(3,1)\n",
        "\n",
        "def div(a,b,c):\n",
        "  if b == 0 or c == 0:\n",
        "    return \"Error: Division by Zero\"\n",
        "  else:  return a/b/c\n",
        "round(div(1,2,3), 2)\n"
      ],
      "metadata": {
        "colab": {
          "base_uri": "https://localhost:8080/"
        },
        "id": "4_m4bYSOFs33",
        "outputId": "466906e3-9752-4663-80b5-ebd7ce5ac610"
      },
      "execution_count": null,
      "outputs": [
        {
          "output_type": "execute_result",
          "data": {
            "text/plain": [
              "0.17"
            ]
          },
          "metadata": {},
          "execution_count": 201
        }
      ]
    },
    {
      "cell_type": "markdown",
      "source": [
        "#### 클래스"
      ],
      "metadata": {
        "id": "iFlWqkFzJk4p"
      }
    },
    {
      "cell_type": "code",
      "source": [
        "class AddMul:\n",
        "  def add(self,n1,n2):          # self는 자기 자신을 의미하고 객체를 의미하므로 무조건 넣어줘야.\n",
        "    return n1+n2\n",
        "  def mul(self,n1,n2):\n",
        "    return n1*n2\n",
        "\n",
        "obj1 = AddMul()           #obj1은 AddMul의 모든 자원 (메소드)를 쓸 수 있는 객체가 됨\n",
        "print(obj1.add(1,1))\n",
        "\n",
        "obj2 = AddMul()           #obj2라는 붕어빵을 또 찍어내고 AddMul의 모든 자원 (메소드)를 쓸 수 있는 객체가 됨\n",
        "print(obj2.mul(3,2))"
      ],
      "metadata": {
        "colab": {
          "base_uri": "https://localhost:8080/"
        },
        "id": "BnmndPyEJnCR",
        "outputId": "cd8d3324-8963-45ab-b2fd-e1cfa324b8b3"
      },
      "execution_count": null,
      "outputs": [
        {
          "output_type": "stream",
          "name": "stdout",
          "text": [
            "2\n",
            "6\n"
          ]
        }
      ]
    },
    {
      "cell_type": "code",
      "source": [
        "## Task1_0426. 주어진 리스트에서 중복된 요소를 제외하고 고유한 요소의 개수를 세는 프로그램 작성\n",
        "data1=[1,2,1,2,3,2,1,2,3,4,5,5,5,3,5]\n",
        "\n",
        "def CntUniq(InList):\n",
        "  return len(set(InList))\n",
        "Resul=CntUniq(data1)\n",
        "\n",
        "print(f\"\\nTask1_0426. 주어진 리스트 {data1}에서 중복된 요소를 제외하고 고유한 요소의 개수를 프로그램 작성, 실행: \\n\\t고유요소 개수: {Resul}\")\n",
        "\n",
        "\n",
        "## Task2_0426. 두 개의 리스트에서 공통으로 나타나는 요소들을 찾아 리스트로 반환하는 프로그램을 작성하세요.\n",
        "# 예시 입력: list1 = [1, 2, 3, 4, 5], list2 = [4, 5, 6, 7, 8]\n",
        "# 예시 출력: [4, 5]\n",
        "list1 = [1, 2, 3, 4, 5]; list2 = [4, 5, 6, 7, 8]\n",
        "def IntersecList(InList1, InList2):\n",
        "  return list(set(InList1)&set(InList2))\n",
        "IntsecList= IntersecList(list1, list2)\n",
        "\n",
        "print(f\"\\nTask2_0426. 주어진 리스트들 {list1}, {list2}의 공통 요소를 찾아 리스트로 반환하는 프로그램 작성, 실행: \\n\\t{IntsecList}\")\n",
        "\n",
        "\n",
        "# Task3_0426. 주어진 숫자 리스트에서 특정 값보다 큰 요소가 하나라도 존재하는지 검사하고, 그 결과를 불 값으로 반환하는 함수를 작성하세요.\n",
        "numbers = [1, 2, 3, 10, 20]\n",
        "threshold = 15\n",
        "\n",
        "def TH_det(InList, Thresh):\n",
        "  if not InList:\n",
        "    return[]\n",
        "  else:\n",
        "    y=[index  for index, value in enumerate(InList) if value > Thresh]\n",
        "  return y\n",
        "\n",
        "result=[];\n",
        "result.extend(TH_det(numbers, threshold))\n",
        "print(f\"\\nTask3_0426. 주어진 숫자 리스트 {numbers}에서 {threshold}보다 큰 요소가 하나라도 존재하는지 bool값으로 반환하는 함수 작성 출력:\\n\\t{bool(result)}\")\n",
        "\n",
        "# Task4_0426. 주어진 문자열이 특정 문자열을 포함하는지 확인하고 결과를 불 값으로 반환하는 함수를 작성하세요.\n",
        "text = \"hello world\"\n",
        "substring = \"world\" # true\n",
        "\n",
        "import re\n",
        "def MatchString(Str, SubStr):\n",
        "#  if re.search(substring, text):\n",
        "  return(re.search(substring, text))\n",
        "\n",
        "IsMatch=[];\n",
        "IsMatch=MatchString(text, substring)\n",
        "#print(f\"Task4_0426. 주어진 문자열{text}은 {substring} 문자열을 포함하는지 bool값으로 반환하는 함수 작성 출력:\\n\\t{bool(IsMatch)}\")\n",
        "IsMatch=[];\n",
        "IsMatch=MatchString(text, substring).start()          #.start() .end() ==> 시작 index 반환 .group()==> matching_str 반환\n",
        "print(f\"\\nTask4_0426. 주어진 문자열{text}은 {substring} 문자열을 포함하는지 bool값으로 반환하는 함수 작성 출력:\\n\\t{bool(IsMatch)}\")\n",
        "\n",
        "#Task5_0426. 주어진 연도가 윤년인지 판별하는 함수를 작성하세요. 윤년은 다음의 조건을 만족해야 합니다:\n",
        "# 4로 나누어 떨어진다.\n",
        "# 100으로 나누어 떨어지지 않거나, 400으로 나누어 떨어지면 윤년이다. # 두조건을 동시에 만족해야\n",
        "year = 2020;       # 101:F, 104:T, 100: F, 101:F, 200:F 400:T, 800:T\n",
        "\n",
        "def IsLeapYear(InYear):\n",
        "  if (year%4 == 0) and ((year%100 != 0) or (year%400 == 0)): LeapYear_Flag=1\n",
        "#  if (not year%4) and ((year%100) or (not year%400)): LeapYear_Flag=1\n",
        "  else: LeapYear_Flag=0\n",
        "  return LeapYear_Flag\n",
        "\n",
        "print(f\"\\nTask5_0426. 주어진 연도 {year}년이 윤년인지를 판별하는 함수, bool값으로 결과 반환 함수 작성 출력:\\n\\t{bool(IsLeapYear(year))}\")\n",
        "\n",
        "#Task6_0426. calculator 클래스를 작성하고 4칙 연산을 수행하는 객체 4개를 작성하여 결과를 출력하세요\n",
        "class Calculator:\n",
        "  def add(self,n1,n2):\n",
        "    return n1+n2\n",
        "  def sub(self,n1,n2):\n",
        "    return n1-n2\n",
        "  def mul(self,n1,n2):\n",
        "    return n1*n2\n",
        "  def div(self,n1,n2):\n",
        "    if n2 == 0: return \"Error: Divided by Zero\"\n",
        "    else: return round(n1/n2, 3)\n",
        "\n",
        "obj1 = Calculator()           # CLASS Calculator의 모든 자원(메소드)을 쓸 수 있는 객체 define\n",
        "obj2 = Calculator()           # CLASS Calculator의 모든 자원(메소드)을 쓸 수 있는 객체 define\n",
        "obj3 = Calculator()           # CLASS Calculator의 모든 자원(메소드)을 쓸 수 있는 객체 define\n",
        "obj4 = Calculator()           # CLASS Calculator의 모든 자원(메소드)을 쓸 수 있는 객체 define\n",
        "\n",
        "print(f\"\\nTask6_0426. calculator 클래스를 작성, 객체 4개를 생성 시켜 사칙연산 결과 출력:\\n\\t{obj1.add(10,20)}\\n\\t{obj2.sub(10,20)}\\n\\t{obj3.mul(10,20)}\\n\\t{obj4.div(10,20)}\\n\\n\")\n",
        "\n",
        "# Task7_0426. 다음 과제를 수행하세요.\n",
        "# 사용자로 부터 텍스트를 입력 받는다.\n",
        "# 문자을 단어 단위로 분리 : split()\n",
        "# 단어의 빈도수를 저장할 딕셔너리를 생성\n",
        "# 각 단어의 빈도 수를 계산(for 문 / if else문) word=word.lower()\n",
        "# 결과 출력 [ 예시 ]\n",
        "# 문장을 입력하세요: I love apple. I love orange. Apple is tasty\n",
        "# {'i': 2, 'love': 2, 'apple.': 1, 'orange.': 1, 'apple': 1, 'is': 1, 'tasty': 1}\n",
        "# . 삭제하면 {'i': 2, 'love': 2, 'apple': 2, 'orange.': 1, 'is': 1, 'tasty': 1}\n",
        "\n",
        "#InputText=\"I love apple. I love orange. Apple is tasty\"\n",
        "InputText=input(\"Input Your Text:  \")\n",
        "InputText=InputText.lower()\n",
        "# SplitText1=[]\n",
        "# SplitText1 = InputText.split(\" \")\n",
        "# SplitText2 = InputText.replace(\".\", \"\").replace(\",\",\"\").replace(\"!\",\"\").split(\" \")\n",
        "import re\n",
        "## .split, .replace는 정규표현식 허용X, re.split()과 re.sub은 정규 표현식으로 처리 가능\n",
        "\n",
        "class dummy:\n",
        "  def WdCounter(self,InStr):\n",
        "    SplitText=[]; SplitText = re.split('\\s+',InStr)\n",
        "    WordCounter={}\n",
        "    for item in SplitText:\n",
        "      if item in WordCounter: WordCounter[item] += 1\n",
        "      else: WordCounter[item] = 1\n",
        "    return WordCounter\n",
        "\n",
        "  def WdCounterOpt2(self,InStr):\n",
        "    SplitText=[]; SplitText = re.sub(\"[.,!]\", \"\", InStr).split()\n",
        "    WordCounter={}\n",
        "    for item in SplitText:\n",
        "      if item in WordCounter: WordCounter[item] += 1\n",
        "      else: WordCounter[item] = 1\n",
        "    return WordCounter\n",
        "\n",
        "obj1 = dummy()           # CLASS dummy의 모든 자원(메소드)을 쓸 수 있는 객체 define\n",
        "\n",
        "print(f\"\\nTask7_0426. 사용자로부터 입력받은 text에서 단어 단위의 빈도 수를 계산해서 출력: \\n\\t사용자 Input TEXT:{InputText} \\n\\t{obj1.WdCounter(InputText)}\")\n",
        "print(f\"\\nTask7_0426_Option2. 문장부호 생략: \\n\\t사용자 Input TEXT:{InputText} \\n\\t{obj1.WdCounterOpt2(InputText)}\")"
      ],
      "metadata": {
        "colab": {
          "base_uri": "https://localhost:8080/"
        },
        "id": "y5iWVjuf69lf",
        "outputId": "94e5d675-9650-46ad-ecdf-718a0bf31f8e"
      },
      "execution_count": null,
      "outputs": [
        {
          "output_type": "stream",
          "name": "stdout",
          "text": [
            "\n",
            "Task1_0426. 주어진 리스트 [1, 2, 1, 2, 3, 2, 1, 2, 3, 4, 5, 5, 5, 3, 5]에서 중복된 요소를 제외하고 고유한 요소의 개수를 프로그램 작성, 실행: \n",
            "\t고유요소 개수: 5\n",
            "\n",
            "Task2_0426. 주어진 리스트들 [1, 2, 3, 4, 5], [4, 5, 6, 7, 8]의 공통 요소를 찾아 리스트로 반환하는 프로그램 작성, 실행: \n",
            "\t[4, 5]\n",
            "\n",
            "Task3_0426. 주어진 숫자 리스트 [1, 2, 3, 10, 20]에서 15보다 큰 요소가 하나라도 존재하는지 bool값으로 반환하는 함수 작성 출력:\n",
            "\tTrue\n",
            "\n",
            "Task4_0426. 주어진 문자열hello world은 world 문자열을 포함하는지 bool값으로 반환하는 함수 작성 출력:\n",
            "\tTrue\n",
            "\n",
            "Task5_0426. 주어진 연도 2020년이 윤년인지를 판별하는 함수, bool값으로 결과 반환 함수 작성 출력:\n",
            "\tTrue\n",
            "\n",
            "Task6_0426. calculator 클래스를 작성, 객체 4개를 생성 시켜 사칙연산 결과 출력:\n",
            "\t30\n",
            "\t-10\n",
            "\t200\n",
            "\t0.5\n",
            "\n",
            "\n",
            "Input Your Text:  I love apple. I love orange. Apple is tasty\n",
            "\n",
            "Task7_0426. 사용자로부터 입력받은 text에서 단어 단위의 빈도 수를 계산해서 출력: \n",
            "\t사용자 Input TEXT:i love apple. i love orange. apple is tasty \n",
            "\t{'i': 2, 'love': 2, 'apple.': 1, 'orange.': 1, 'apple': 1, 'is': 1, 'tasty': 1}\n",
            "\n",
            "Task7_0426_Option2. 문장부호 생략: \n",
            "\t사용자 Input TEXT:i love apple. i love orange. apple is tasty \n",
            "\t{'i': 2, 'love': 2, 'apple': 2, 'orange': 1, 'is': 1, 'tasty': 1}\n"
          ]
        }
      ]
    },
    {
      "cell_type": "markdown",
      "source": [
        "#### 사용자 함수의 형태 (4-Types)\n",
        "- 입력값, 출력값 모두 있는 경우\n",
        "- 입력값만 있는 경우\n",
        "- 출력값만 있는 경우\n",
        "- 입력값, 출력값 모두 없는 경우"
      ],
      "metadata": {
        "id": "KBU918ThUhEX"
      }
    },
    {
      "cell_type": "code",
      "source": [
        "### 0426 TASK 강사님 모범 답안\n",
        "\n",
        "##### #3\n",
        "numbers = [1, 2, 3, 10, 20]\n",
        "threshold = 12\n",
        "if any(num > 15 for num in numbers):          ### any는 하나로도 해당하면 true\n",
        "  print(True)\n",
        "else:\n",
        "  print(False)\n",
        "\n",
        "##  ===> 위와 같이 simple하게 할 수 있지만 아래와 같이 함수로\n",
        "def CheckGreaterThanThresh(numbers,threshold):\n",
        "  for num in numbers:\n",
        "    if num > threshold:\n",
        "      return True\n",
        "  return False                ## else로 쓰지 않고 이와 같이 한 이유는 function문 안에 if/else를 쓰면 X 왜냐하면 function은 return한번만 하고 끝난다.\n",
        "print(f\"\\nTask3_0426. 주어진 숫자 리스트 {numbers}에서 {threshold}보다 큰 요소가 하나라도 존재하는지 bool값으로 반환하는 함수 작성 출력:\\n\\t{CheckGreaterThanThresh(numbers,threshold)}\")\n",
        "\n",
        "#####  #4\n",
        "text = \"hello world\"\n",
        "substring = \"world\" # true\n",
        "\n",
        "def MatchString(Str, SubStr):\n",
        "  if SubStr in Str:\n",
        "    return True\n",
        "  else: return False\n",
        "print(f\"\\nTask4_0426. 주어진 문자열{text}은 {substring} 문자열을 포함하는지 bool값으로 반환하는 함수 작성 출력:\\n\\t{MatchString(text, substring)}\")\n",
        "\n",
        "#####   #5\n",
        "# 윤년 ? (4로 나누어 떨어진다) & ((100으로 나누어 떨어지지 않는다) or (400으로 나누어 떨어진다))\n",
        "year = 2020;       # 101:F, 104:T, 100: F, 101:F, 200:F 400:T, 800:T\n",
        "\n",
        "def IsLeapYear(InYear):\n",
        "  if (year%4 == 0) and ((year%100 != 0) or (year%400 == 0)): return True\n",
        "#  if (not year%4) and ((year%100) or (not year%400)): return True\n",
        "  else: return False\n",
        "result=IsLeapYear(year)\n",
        "print(f\"\\nTask5_0426. 주어진 연도 {year}년이 윤년인지를 판별하는 함수, bool값으로 결과 반환 함수 작성 출력:\\n\\t{result}\")\n"
      ],
      "metadata": {
        "colab": {
          "base_uri": "https://localhost:8080/"
        },
        "id": "CSTqMokvO3b6",
        "outputId": "585d85a9-0f27-42f4-8697-410203e486f7"
      },
      "execution_count": null,
      "outputs": [
        {
          "output_type": "stream",
          "name": "stdout",
          "text": [
            "True\n",
            "\n",
            "Task3_0426. 주어진 숫자 리스트 [1, 2, 3, 10, 20]에서 12보다 큰 요소가 하나라도 존재하는지 bool값으로 반환하는 함수 작성 출력:\n",
            "\tTrue\n",
            "\n",
            "Task4_0426. 주어진 문자열hello world은 world 문자열을 포함하는지 bool값으로 반환하는 함수 작성 출력:\n",
            "\tTrue\n",
            "\n",
            "Task5_0426. 주어진 연도 800년이 윤년인지를 판별하는 함수, bool값으로 결과 반환 함수 작성 출력:\n",
            "\tTrue\n"
          ]
        }
      ]
    },
    {
      "cell_type": "code",
      "source": [
        "#### split\n",
        "\n",
        "time_str='12:30:55'\n",
        "time_list=[]; time_list=time_str.split(':')\n",
        "time_list\n",
        "\n",
        "# Q. multi-line_text를 아래 리스트로 분리\n",
        "multi_line_text=\"Hello\\nWorld\\nPython\\nProgramming\"\n",
        "print(multi_line_text)\n",
        "\n",
        "result=multi_line_text.split()\n",
        "print(result)"
      ],
      "metadata": {
        "colab": {
          "base_uri": "https://localhost:8080/"
        },
        "id": "YyiDKJX1dUZm",
        "outputId": "deb830b4-4482-45a9-932e-51ba472dc512"
      },
      "execution_count": null,
      "outputs": [
        {
          "output_type": "stream",
          "name": "stdout",
          "text": [
            "Hello\n",
            "World\n",
            "Python\n",
            "Programming\n",
            "['Hello', 'World', 'Python', 'Programming']\n",
            "12\n",
            "10\n",
            "20\n",
            "10.0\n"
          ]
        }
      ]
    },
    {
      "cell_type": "code",
      "source": [
        "## 복합 대입 연산자\n",
        "num=10\n",
        "num += 10\n",
        "num\n",
        "\n",
        "# Q. 복합 대입 연산자를 이용해서 사칙 연산을 수행\n",
        "a=10; b=2\n",
        "a += b\n",
        "print(a)\n",
        "a -= b\n",
        "print(a)\n",
        "a *= b\n",
        "print(a)\n",
        "a /= b\n",
        "print(a)"
      ],
      "metadata": {
        "id": "B5oyKjLun0i-"
      },
      "execution_count": null,
      "outputs": []
    },
    {
      "cell_type": "code",
      "source": [
        "## 소문자, 대문자 변환\n",
        "word='DOG'\n",
        "w1=word.lower();\n",
        "print(w1)\n",
        "w2=w1.upper();\n",
        "print(w2)"
      ],
      "metadata": {
        "colab": {
          "base_uri": "https://localhost:8080/"
        },
        "id": "IflCTmcWn0TI",
        "outputId": "d802e75a-7d19-4ad4-abc1-9278486fa83c"
      },
      "execution_count": null,
      "outputs": [
        {
          "output_type": "stream",
          "name": "stdout",
          "text": [
            "dog\n",
            "DOG\n"
          ]
        }
      ]
    },
    {
      "cell_type": "markdown",
      "source": [
        "## 이스케이프 문자\n",
        "- 키보드로 입력하기 어려운 기호등을 나타낸다.\n",
        "- \\로 시작, \\n,\\t"
      ],
      "metadata": {
        "id": "FwNp0iPBoT15"
      }
    },
    {
      "cell_type": "code",
      "source": [
        "print('나는 파이썬을 사랑합니다.\\n파이썬은 자바보다 훨씬 쉽습니다.')\n",
        "print('나는 파이썬을 사랑합니다.\\t파이썬은 자바보다 훨씬 쉽습니다.')"
      ],
      "metadata": {
        "colab": {
          "base_uri": "https://localhost:8080/"
        },
        "id": "ubclCjamp5ZB",
        "outputId": "24d379d5-90be-4f0d-c448-9054df68fee6"
      },
      "execution_count": null,
      "outputs": [
        {
          "output_type": "stream",
          "name": "stdout",
          "text": [
            "나는 파이썬을 사랑합니다.\n",
            "파이썬은 자바보다 훨씬 쉽습니다.\n",
            "나는 파이썬을 사랑합니다.\t파이썬은 자바보다 훨씬 쉽습니다.\n"
          ]
        }
      ]
    },
    {
      "cell_type": "code",
      "source": [
        "print(\"She said, \\\"Hi!\\\"\")    # 큰 따옴표의 기능이 아니라 문자 자체로 출력하기 위한 waiver\n",
        "print('it\\'s raining.')       # 작 따옴표의 기능이 아니라 문자 자체로 출력하기 위한 waiver\n",
        "print(\"backslash: \\\\\")        # backslash 문자 자체로 출력하기 위한 waiver"
      ],
      "metadata": {
        "colab": {
          "base_uri": "https://localhost:8080/"
        },
        "id": "t0i9OHWvqJ9C",
        "outputId": "4ed6d5f6-775e-4b6c-f5cd-f9faa28a2119"
      },
      "execution_count": null,
      "outputs": [
        {
          "output_type": "stream",
          "name": "stdout",
          "text": [
            "She said, \"Hi!\"\n",
            "it's raining.\n",
            "backslash: \\\n"
          ]
        }
      ]
    },
    {
      "cell_type": "markdown",
      "source": [
        "#### 문자열 포멧\n",
        "- % operator 사용 : % 연산자를 사용하려면 %(VAR_NAME)TYPE 형식으로 적어주며 VAR_NAME 은 바인딩할 변수명을 TYPE 은 변수의 유형을 적어준다.\n",
        "- str.format : str.format() 은 파이썬 표현식 값을 바인딩할 부분을 중괄호 {} 로 표시하고 .format() 뒤에 바인딩할 값을 기술해 준다.\n",
        "- f-string : 문자열에 f 나 F 접두사를 붙이고 표현식을 {expr} 형식으로 작성하면 출력 문자열이 파이썬 표현식의 값으로 바뀐다."
      ],
      "metadata": {
        "id": "R-wqhtzgrNsr"
      }
    },
    {
      "cell_type": "code",
      "source": [
        "#1. % operator 사용 : % 연산자를 사용하려면 %(VAR_NAME)TYPE 형식으로 적어주며 VAR_NAME 은 바인딩할 변수명을 TYPE 은 변수의 유형\n",
        "print('%(num)d, %(float)f, %(string)s' %{\"num\":3, \"float\":3, \"string\":'hello'})"
      ],
      "metadata": {
        "colab": {
          "base_uri": "https://localhost:8080/"
        },
        "id": "v0LLmMk2sQRw",
        "outputId": "78f37252-2a8f-44b9-d286-55abf89e5f80"
      },
      "execution_count": null,
      "outputs": [
        {
          "output_type": "stream",
          "name": "stdout",
          "text": [
            "3, 3.000000, hello\n"
          ]
        }
      ]
    },
    {
      "cell_type": "code",
      "source": [
        "txt1='자바'; txt2='파이썬'\n",
        "num1=5; num2=10\n",
        "print('나는 %s 보다 %s에 더 익숙합니다.' %(txt1,txt2))\n",
        "\n",
        "print('%s은 %s보다 %d배 더 쉽습니다.' %(txt1, txt2, num1))\n",
        "\n",
        "print('%d + %d = %d'%(num1, num2, num1+num2))\n",
        "\n",
        "print('작년 세계 경제 성장률은 전년에 비해 %d%% 포인트 증가했다.'%num1)"
      ],
      "metadata": {
        "colab": {
          "base_uri": "https://localhost:8080/"
        },
        "id": "5pkQ8VzAshmu",
        "outputId": "47644a23-4c1c-408c-b8de-f801370ef7a6"
      },
      "execution_count": null,
      "outputs": [
        {
          "output_type": "stream",
          "name": "stdout",
          "text": [
            "나는 자바 보다 파이썬에 더 익숙합니다.\n",
            "자바은 파이썬보다 5배 더 쉽습니다.\n",
            "5 + 10 = 15\n",
            "작년 세계 경제 성장률은 전년에 비해 5% 포인트 증가했다.\n"
          ]
        }
      ]
    },
    {
      "cell_type": "code",
      "source": [
        "# 2. str.format : str.format() 은 파이썬 표현식 값을 바인딩할 부분을 중괄호 {} 로 표시하고 .format() 뒤에 바인딩할 값을 기술해 준다.\n",
        "print('We are the {} who say \"{}!\"'.format('knights', 'Ni'))"
      ],
      "metadata": {
        "colab": {
          "base_uri": "https://localhost:8080/"
        },
        "id": "7q2pT_MxtFgQ",
        "outputId": "69fdd759-abe4-4f6f-c809-e9b1051b2199"
      },
      "execution_count": null,
      "outputs": [
        {
          "output_type": "stream",
          "name": "stdout",
          "text": [
            "We are the knights who say \"Ni!\"\n"
          ]
        }
      ]
    },
    {
      "cell_type": "code",
      "source": [
        "# 3. f-string : 문자열에 f 나 F 접두사를 붙이고 표현식을 {expr} 형식으로 작성하면 출력 문자열이 파이썬 표현식의 값으로 바뀐다.\n",
        "name='홍길동'\n",
        "age=30\n",
        "f'나의 이름은 {name}입니다. 나이는 {age}입니다.'"
      ],
      "metadata": {
        "colab": {
          "base_uri": "https://localhost:8080/",
          "height": 35
        },
        "id": "7ckjhs_Gurvw",
        "outputId": "45a5eb67-12e8-4a43-bc87-51ec8362d21e"
      },
      "execution_count": null,
      "outputs": [
        {
          "output_type": "execute_result",
          "data": {
            "text/plain": [
              "'나의 이름은 홍길동입니다. 나이는 30입니다.'"
            ],
            "application/vnd.google.colaboratory.intrinsic+json": {
              "type": "string"
            }
          },
          "metadata": {},
          "execution_count": 74
        }
      ]
    },
    {
      "cell_type": "code",
      "source": [
        "table={'Tom':1234, 'Jack': 4518, 'Eddie': 9638}\n",
        "for name,phone in table.items():      #\n",
        "  print(f'{name:5} ==> {phone:5d}')   # 최소 5개 문자 너비"
      ],
      "metadata": {
        "colab": {
          "base_uri": "https://localhost:8080/"
        },
        "id": "xFiytutWvTC2",
        "outputId": "472af08a-1dbb-4f29-81be-e1dcd70c227f"
      },
      "execution_count": null,
      "outputs": [
        {
          "output_type": "stream",
          "name": "stdout",
          "text": [
            "Tom   ==>  1234\n",
            "Jack  ==>  4518\n",
            "Eddie ==>  9638\n"
          ]
        }
      ]
    },
    {
      "cell_type": "code",
      "source": [
        "# 소수점 4자리까지만 표현\n",
        "y=3.421345\n",
        "f'{y:0.4f}'"
      ],
      "metadata": {
        "colab": {
          "base_uri": "https://localhost:8080/",
          "height": 35
        },
        "id": "2uS9Y4PtxB0L",
        "outputId": "02eda9a3-19a2-4179-b3d0-b890fa78cd98"
      },
      "execution_count": null,
      "outputs": [
        {
          "output_type": "execute_result",
          "data": {
            "text/plain": [
              "'3.4213'"
            ],
            "application/vnd.google.colaboratory.intrinsic+json": {
              "type": "string"
            }
          },
          "metadata": {},
          "execution_count": 79
        }
      ]
    },
    {
      "cell_type": "code",
      "source": [
        "# 소수점 4자리까지만 표현하면서 총 자리수를 10으로 맞춤\n",
        "y=3.421345\n",
        "f'{y:10.4f}'"
      ],
      "metadata": {
        "colab": {
          "base_uri": "https://localhost:8080/",
          "height": 35
        },
        "id": "Zz3fXf_4xLDp",
        "outputId": "b9a692c4-4db7-4a1e-ad83-3cb9adfa79c2"
      },
      "execution_count": null,
      "outputs": [
        {
          "output_type": "execute_result",
          "data": {
            "text/plain": [
              "'    3.4213'"
            ],
            "application/vnd.google.colaboratory.intrinsic+json": {
              "type": "string"
            }
          },
          "metadata": {},
          "execution_count": 81
        }
      ]
    },
    {
      "cell_type": "code",
      "source": [
        "# Q. num1=12345, num2=12.345679를 아래와 같이 출력하세요\n",
        "num1=12345; num2=12.345679\n",
        "print(f'{num1:5d}')\n",
        "print(f'{num1:10d}')\n",
        "print(f'{num2:9.6f}')\n",
        "print(f'{num2:16.3f}')"
      ],
      "metadata": {
        "colab": {
          "base_uri": "https://localhost:8080/"
        },
        "id": "aaRMZXOTy8PO",
        "outputId": "dea2f330-032c-429e-fe44-fd9153729a5f"
      },
      "execution_count": null,
      "outputs": [
        {
          "output_type": "stream",
          "name": "stdout",
          "text": [
            "12345\n",
            "     12345\n",
            "12.345679\n",
            "          12.346\n"
          ]
        }
      ]
    },
    {
      "cell_type": "markdown",
      "source": [
        "#### 2진수, 8진수, 16진수의 데이터 표현 방법\n",
        "\n",
        "- 우리가 프로그래밍을 하면서 변수에 어떤 값을 저장할 때 10진수는 일상적 표현을 그대로 대입한다.\n",
        "- 예를들어 15를 저장하고 싶다면 int a= 15; 와 같이 15라는 숫자를 그대로 대입하면 된다.\n",
        "- 하지만 2진수, 8진수, 16진수는 표현법이 따로 정해져있다.<br><br>  \n",
        "\n",
        "- 2진수는 대입하고자 하는 값 앞에 0b를 붙인다. (숫자0과 영문자b)\n",
        "- 8진수는 대입하고자 하는 값 앞에 0o 을 붙인다. (숫자0 영문자o)\n",
        "- 16진수는 대입하고자 하는 값 앞에 0x 를 붙인다. (숫자0과 영문자x)\n",
        "\n",
        "아래의 예시를 보자.\n",
        "변수 a,b,c,d 는 모두 10진수 122 이라는 값을 저장하는 코드이다.\n",
        "\n",
        "122는\n",
        "- 2진수로 1111010\n",
        "- 8진수로 172\n",
        "- 16진수로 7A 이다."
      ],
      "metadata": {
        "id": "AEwubctz0_kP"
      }
    },
    {
      "cell_type": "code",
      "source": [
        "# 122에 대해서..\n",
        "a=0o172\n",
        "b=0x7A\n",
        "c=0b1111010\n",
        "print (a, b, c)\n",
        "\n",
        "n1=122\n",
        "print(f\"16진수: {hex(n1)}\")\n",
        "print(f\"8진수: {oct(n1)}\")\n",
        "print(f\"2진수: {bin(n1)}\")"
      ],
      "metadata": {
        "colab": {
          "base_uri": "https://localhost:8080/"
        },
        "id": "tXhPirwD1YFH",
        "outputId": "89460a44-c5dd-4933-849e-b4f8f6c59561"
      },
      "execution_count": null,
      "outputs": [
        {
          "output_type": "stream",
          "name": "stdout",
          "text": [
            "122 122 122\n",
            "16진수: 0x7a\n",
            "8진수: 0o172\n",
            "2진수: 0b1111010\n"
          ]
        }
      ]
    },
    {
      "cell_type": "code",
      "source": [
        "# Q. 10을 10진수, 2진수, 8진수, 16진수로 출력하시오\n",
        "n2=10\n",
        "print(f\"10진수: {int(n2)}\")\n",
        "print(f\"2진수: {bin(n2)}\")\n",
        "print(f\"8진수: {oct(n2)}\")\n",
        "print(f\"16진수: {hex(n2)}\\n\")\n",
        "\n",
        "print(f\"10진수: {10}\")\n",
        "print(f\"2진수: {0b10}\")\n",
        "print(f\"8진수: {0o10}\")\n",
        "print(f\"16진수: {0x10}\")\n"
      ],
      "metadata": {
        "colab": {
          "base_uri": "https://localhost:8080/"
        },
        "id": "tau4YWak2k_w",
        "outputId": "f619a6cb-0f7f-4760-bfda-484902683a36"
      },
      "execution_count": null,
      "outputs": [
        {
          "output_type": "stream",
          "name": "stdout",
          "text": [
            "10진수: 10\n",
            "2진수: 0b1010\n",
            "8진수: 0o12\n",
            "16진수: 0xa\n",
            "\n",
            "10진수: 10\n",
            "2진수: 2\n",
            "8진수: 8\n",
            "16진수: 16\n"
          ]
        }
      ]
    },
    {
      "cell_type": "code",
      "source": [
        "# 파이썬 자료형 - 숫자형(정수, 실수, 8진수, 16진수)\n",
        "e=0o177   # 8진수\n",
        "f=0xABC   #16진수\n",
        "g=0b101010  #2진수\n",
        "\n",
        "print(e)\n",
        "print(f)\n",
        "print(g)"
      ],
      "metadata": {
        "colab": {
          "base_uri": "https://localhost:8080/"
        },
        "id": "DQIcxxIZ3WZf",
        "outputId": "2b316c72-a069-419e-e2ea-f8698b14531a"
      },
      "execution_count": null,
      "outputs": [
        {
          "output_type": "stream",
          "name": "stdout",
          "text": [
            "127\n",
            "2748\n",
            "42\n"
          ]
        }
      ]
    },
    {
      "cell_type": "code",
      "source": [
        "# 2진수를 10진수로 표현\n",
        "g1=0b1000\n",
        "g2=0b100\n",
        "g3=0b10\n",
        "print(g1,g2,g3)\n",
        "\n",
        "# 16진수를 10진수로 표현\n",
        "# 1~9 A B C D E F\n",
        "f1=0xA\n",
        "f2=0xF\n",
        "f3=0xAB\n",
        "print(f1, f2, f3)\n",
        "print(16*10+11)     #0xAB와 동일\n",
        "\n",
        "f4=0xABF\n",
        "print(f4)\n",
        "print(16*16*10+16*11+15)    #0xABF의 계산"
      ],
      "metadata": {
        "colab": {
          "base_uri": "https://localhost:8080/"
        },
        "id": "8dNsIknc4SGf",
        "outputId": "a007fbe4-8043-4d07-b393-3f016e050f43"
      },
      "execution_count": null,
      "outputs": [
        {
          "output_type": "stream",
          "name": "stdout",
          "text": [
            "8 4 2\n",
            "10 15 171\n",
            "171\n",
            "2751\n",
            "2751\n"
          ]
        }
      ]
    },
    {
      "cell_type": "code",
      "source": [
        "#Q. 0xABC를 계산하시오\n",
        "f5=0xABC\n",
        "print(f5)\n",
        "print(16*16*10+16*11+12)    #0xABF의 계산"
      ],
      "metadata": {
        "colab": {
          "base_uri": "https://localhost:8080/"
        },
        "id": "TN5fed1p6BCw",
        "outputId": "242fa40b-15e1-46e1-de12-0ffcbc0886e9"
      },
      "execution_count": null,
      "outputs": [
        {
          "output_type": "stream",
          "name": "stdout",
          "text": [
            "2748\n",
            "2748\n"
          ]
        }
      ]
    },
    {
      "cell_type": "code",
      "source": [
        "\n",
        "# Task1_0429. input_str을 아래와 같이 단어로 분리하여 출력하세요.\n",
        "import re\n",
        "input_str='Hello, world! How are you today? I am Fine. Thank you!'\n",
        "result=re.split('[ ,.!?#~]+', input_str)\n",
        "print(\"Task1_0429. String을 단어별로 분리:\", result)\n",
        "\n",
        "# Task2_0429. 십진수 122를 2진수, 8진수, 16진수로 변경하여 출력하세요\n",
        "n1=122\n",
        "print(\"\\nTask2_0429.122의 2진수, 8진수, 16진수 표기\")\n",
        "print(f\"2진수: \\t\\t{bin(n1)}\")\n",
        "print(f\"8진수: \\t\\t{oct(n1)}\")\n",
        "print(f\"16진수: \\t{hex(n1)}\\n\")\n",
        "\n",
        "# Task3_0429. 두 수의 곱셈 결과를 계산하고, 그 결과에 10을 더하세요.\n",
        "n1=0xF\n",
        "n2=0xAB\n",
        "res=n1*n2+10\n",
        "print(f\"Task3_0429. N1*N2+10 (where, N1={hex(n1)}, N2={hex(n2)})의 결과는 {res:5d}(Decimal), {hex(res)}(Hexadecimal)\\n\")\n",
        "#print(16**2*10+15)\n",
        "\n",
        "# Task4_0429. 주어진 리스트에서 두 번째 요소를 삭제하고, 마지막에 새로운 요소 'Python'을 추가하세요.\n",
        "#리스트: ['Java', 'C', 'JavaScript']\n",
        "list1=['Java', 'C', 'JavaScript']\n",
        "del list1[1];                       #result=list1.remove('C')\n",
        "list1.append('Python')              #list1.insert(-1,'Python')  insert로는 특정 index 앞에 넣는다.. end에는 불가능\n",
        "print(f\"Task4_0429. 새로운 요소가 추가된 리스트는 {list1}\\n\")\n",
        "\n",
        "# Task5_0429. 주어진 문자열에서 처음 세 글자와 마지막 세 글자를 연결하여 새로운 문자열을 만드세요.\n",
        "#문자열: 'Incredible'\n",
        "list_str='Incredible'\n",
        "print(f\"Task5_0429. 새로운 문자열: {list_str[:3]+list_str[-3:]}\\n\")\n",
        "\n",
        "# Task6_0429. 사용자의 이름과 이메일을 딕셔너리로 저장하고, 이름을 입력받아 해당하는 이메일을 출력하세요.\n",
        "#사용자 정보: 이름 - 'Alice', 이메일 - 'alice@example.com'\n",
        "DataBase={\"Tom\":'tom@example.com',\"Alice\":'alice@example.com', \"Jane\":'Janematha@example.com', \"Mary\":'Mary@example.com'}\n",
        "print(f\"Task6_0429.\")\n",
        "### 이름/이메일 입력 받기\n",
        "Name=input(\"사용자 이름:  \")              ### 사용자 이름:  David\n",
        "MailAddr=input(\"사용자 이메일:  \")        ### 사용자 이메일:  david.hue@example.com\n",
        "#Name='David'              ### 사용자 이름:  David\n",
        "#MailAddr='david.hue@example.com'\n",
        "\n",
        "### 입력 받은 data 저장\n",
        "DataBase[Name]=MailAddr\n",
        "\n",
        "### 출력을 원하는 이메일의 사용자 입력 받기\n",
        "Name_Print=input(\"출력 하고자 하는 사용자 이름:  \")              ### 사용자 이름:  Tom\n",
        "if Name_Print in DataBase:\n",
        "  print(f\"{Name_Print}의 메일 주소는: {DataBase[Name_Print]}\")\n",
        "else: print(f\"존재하지 않는 이름입니다.\")\n",
        "\n",
        "# Task7_0429. 주어진 두 튜플에서 공통 요소만을 찾아 집합으로 만드세요.\n",
        "#튜플: (1, 2, 3, 4, 5)와 (4, 5, 6, 7, 8)\n",
        "Tup1=(1, 2, 3, 4, 5); Tup2=(4, 5, 6, 7, 8)\n",
        "Common=set(Tup1)&set(Tup2)                  # LIST나 Tuple에서는 & 로 하면 error 발생\n",
        "print(f\"\\nTask7_0429. {Tup1}과 {Tup2}의 공통 요소를 집합으로 나타내면: {Common}\")\n",
        "\n",
        "# Task8_Challenge_0429. 다음 요구 사항을 충족하는 프로그램을 작성하세요:\n",
        "# - 사용자로부터 이름, 나이, 좋아하는 색상을 입력받습니다.\n",
        "# - 입력받은 정보를 딕셔너리로 저장하고, 모든 사용자 정보를 리스트에 저장합니다.\n",
        "# - 이름이 'John'인 사용자의 정보만 출력하세요.\n",
        "# - 전체 사용자의 평균 나이를 계산하고 출력하세요.\n",
        "#1. 사용자 데이터:\n",
        "#- 이름: John\n",
        "#- 나이: 28\n",
        "#- 좋아하는 색상: Blue\n",
        "#2. 사용자 데이터:\n",
        "#- 이름: Alice\n",
        "#- 나이: 24\n",
        "#- 좋아하는 색상: Red\n",
        "#3. 사용자 데이터:\n",
        "#- 이름: Maria\n",
        "#- 나이: 32\n",
        "#- 좋아하는 색상: Green\n",
        "\n",
        "John={'Name':'John', 'Age':28, 'Fav_Col':'Blue'}\n",
        "Alice={'Name':'Alice', 'Age':24, 'Fav_Col':'Red'}\n",
        "Maria={'Name':'Maria', 'Age':32, 'Fav_Col':'Green'}\n",
        "DataBase=[John, Alice, Maria]\n",
        "\n",
        "print(f\"\\nTask8_0429. List에 저장되어 있는 사용자 정보는: {DataBase}\")\n",
        "i=0; age_sum=0\n",
        "for Litem in DataBase:\n",
        "  if DataBase[i]['Name'] == 'John':\n",
        "    print(f\"John의 사용자 정보는: {DataBase[i]}\")\n",
        "  age_sum += DataBase[i]['Age']\n",
        "  i += 1\n",
        "aver_age=age_sum/(i)\n",
        "print(f\"모든 사용자의 평균 나이는 {aver_age}\")"
      ],
      "metadata": {
        "colab": {
          "base_uri": "https://localhost:8080/"
        },
        "id": "0RZDTY_kuh1U",
        "outputId": "e7f29782-80ab-4832-f9ed-fb463a4dc91d"
      },
      "execution_count": null,
      "outputs": [
        {
          "output_type": "stream",
          "name": "stdout",
          "text": [
            "Task1_0429. String을 단어별로 분리: ['Hello', 'world', 'How', 'are', 'you', 'today?', 'I', 'am', 'Fine', 'Thank', 'you', '']\n",
            "\n",
            "Task2_0429.122의 2진수, 8진수, 16진수 표기\n",
            "2진수: \t\t0b1111010\n",
            "8진수: \t\t0o172\n",
            "16진수: \t0x7a\n",
            "\n",
            "Task3_0429. N1*N2+10 (where, N1=0xf, N2=0xab)의 결과는  2575(Decimal), 0xa0f(Hexadecimal)\n",
            "\n",
            "Task4_0429. 새로운 요소가 추가된 리스트는 ['Java', 'JavaScript', 'Python']\n",
            "\n",
            "Task5_0429. 새로운 문자열: Incble\n",
            "\n",
            "Task6_0429.\n",
            "사용자 이름:  David\n",
            "사용자 이메일:  david.hugh@example.com\n",
            "출력 하고자 하는 사용자 이름:  David\n",
            "David의 메일 주소는: david.hugh@example.com\n",
            "\n",
            "Task7_0429. (1, 2, 3, 4, 5)과 (4, 5, 6, 7, 8)의 공통 요소를 집합으로 나타내면: {4, 5}\n",
            "\n",
            "Task8_0429. List에 저장되어 있는 사용자 정보는: [{'Name': 'John', 'Age': 28, 'Fav_Col': 'Blue'}, {'Name': 'Alice', 'Age': 24, 'Fav_Col': 'Red'}, {'Name': 'Maria', 'Age': 32, 'Fav_Col': 'Green'}]\n",
            "John의 사용자 정보는: {'Name': 'John', 'Age': 28, 'Fav_Col': 'Blue'}\n",
            "모든 사용자의 평균 나이는 28.0\n"
          ]
        }
      ]
    },
    {
      "cell_type": "markdown",
      "source": [
        "re.split() 함수의 동작:\n",
        "- 주어진 문자열에서 공백, 쉼표, 마침표, 물음표, 느낌표를 포함하여 연속된 어떤 조합이라도 하나의 구분자로 취급하고, 이에 따라 문자열을 분리\n",
        "\n",
        "정규 표현식 구성 요소:\n",
        "- 대괄호([ ]): 대괄호는 문자 클래스를 만들며 대괄호 안에 포함된 어떤 문자와도 일치할 수 있다. 여기서는 공백( ), 쉼표(,), 마침표(.), 물음표(?), 느낌표(!)가 포함되어 있어 이 중 어떤 한 문자와도 일치할 수 있다.\n",
        "- 플러스 기호(+): 이 기호는 직전의 요소가 하나 이상 반복될 때 사용. 즉, `[ ,.?!]+`는 공백, 쉼표, 마침표, 물음표, 느낌표 중 하나 이상 연속된 시퀀스와 일치. 이를 통해 문자열을 분리할 때 하나의 구분자만이 아닌, 여러 구분자가 연속적으로 위치해 있는 경우에도 단일 구분점으로 취급할 수 있다."
      ],
      "metadata": {
        "id": "m0SXrV8DXnvb"
      }
    },
    {
      "cell_type": "code",
      "source": [
        "### 04_29 TASK 강사님 모범 답안\n",
        "\n",
        "# Task1_0429. input_str을 아래와 같이 단어로 분리하여 출력하세요.\n",
        "import re\n",
        "input_str='Hello, world! How are you today? I am Fine. Thank you!'\n",
        "results=re.split('[ ,.!?#~]+', test)\n",
        "#results=[result for result in results if result]\n",
        "results=list(filter(None, results))\n",
        "print(\"Task1_0429. String을 단어별로 분리:\", results)"
      ],
      "metadata": {
        "colab": {
          "base_uri": "https://localhost:8080/"
        },
        "id": "zMi8AtEuVLMW",
        "outputId": "3ee80666-19c3-469a-a15b-c6213029279e"
      },
      "execution_count": 20,
      "outputs": [
        {
          "output_type": "stream",
          "name": "stdout",
          "text": [
            "Task1_0429. String을 단어별로 분리: ['Hello', 'world', 'How', 'are', 'you', 'today', 'I', 'am', 'Fine', 'Thank', 'you']\n"
          ]
        }
      ]
    },
    {
      "cell_type": "code",
      "source": [
        "# Task4_0429. 주어진 리스트에서 두 번째 요소를 삭제하고, 마지막에 새로운 요소 'Python'을 추가하세요.\n",
        "#리스트: ['Java', 'C', 'JavaScript']\n",
        "list1=['Java', 'C', 'JavaScript']\n",
        "list1.pop();                       #del list1[-1], result=list1.remove('C')\n",
        "list1.append('Python')              #list1.insert(-1,'Python')  insert로는 특정 index 앞에 넣는다.. end에는 불가능\n",
        "print(f\"Task4_0429. 새로운 요소가 추가된 리스트는 {list1}\\n\")\n"
      ],
      "metadata": {
        "colab": {
          "base_uri": "https://localhost:8080/"
        },
        "id": "JCdoCTJrZ70v",
        "outputId": "bdb7fef1-23e1-42e2-d3c0-e71614b8a036"
      },
      "execution_count": 14,
      "outputs": [
        {
          "output_type": "stream",
          "name": "stdout",
          "text": [
            "Task4_0429. 새로운 요소가 추가된 리스트는 ['Java', 'C', 'Python']\n",
            "\n"
          ]
        }
      ]
    },
    {
      "cell_type": "code",
      "source": [
        "# Task8_Challenge_0429. 다음 요구 사항을 충족하는 프로그램을 작성하세요:\n",
        "# - 사용자로부터 이름, 나이, 좋아하는 색상을 입력받습니다.\n",
        "# - 입력받은 정보를 딕셔너리로 저장하고, 모든 사용자 정보를 리스트에 저장합니다.\n",
        "# - 이름이 'John'인 사용자의 정보만 출력하세요.\n",
        "# - 전체 사용자의 평균 나이를 계산하고 출력하세요.\n",
        "#1. 사용자 데이터:\n",
        "#- 이름: John\n",
        "#- 나이: 28\n",
        "#- 좋아하는 색상: Blue\n",
        "#2. 사용자 데이터:\n",
        "#- 이름: Alice\n",
        "#- 나이: 24\n",
        "#- 좋아하는 색상: Red\n",
        "#3. 사용자 데이터:\n",
        "#- 이름: Maria\n",
        "#- 나이: 32\n",
        "#- 좋아하는 색상: Green\n",
        "users=[]\n",
        "for _ in range(3):                  # _ 는 형식적인 for-loop\n",
        "  name = input('이름을 입력하세요: ')\n",
        "  age = int(input(\"나이를 입력하세요: \"))\n",
        "  fav_col=input(\"좋아하는 색상을 입력하세요: \")\n",
        "\n",
        "  #users[user][Name]=name; users[user][Age]=age; users[user][Fav_Col]=fav_col;\n",
        "  user_info={'Name':name, \"Age\":age, 'Fav_Col':fav_col}\n",
        "  users.append(user_info)\n",
        "for user in users:\n",
        "  if user['Name']=='John':\n",
        "    print(f'John\\'s info: {user}')\n",
        "\n",
        "age_sum=sum(user['Age'] for user in users)\n",
        "aver_age=age_sum/len(users)\n",
        "print(f\"모든 사용자의 평균 나이는 {aver_age}\")"
      ],
      "metadata": {
        "colab": {
          "base_uri": "https://localhost:8080/"
        },
        "id": "WuL0sue3i9gQ",
        "outputId": "347823e3-dd03-4624-cccb-4fc674ff379b"
      },
      "execution_count": 23,
      "outputs": [
        {
          "output_type": "stream",
          "name": "stdout",
          "text": [
            "이름을 입력하세요: John\n",
            "나이를 입력하세요: 28\n",
            "좋아하는 색상을 입력하세요: Blue\n",
            "이름을 입력하세요: Alice\n",
            "나이를 입력하세요: 24\n",
            "좋아하는 색상을 입력하세요: Red\n",
            "이름을 입력하세요: Maria\n",
            "나이를 입력하세요: 32\n",
            "좋아하는 색상을 입력하세요: Green\n",
            "John's info: {'Name': 'John', 'Age': 28, 'Fav_Col': 'Blue'}\n",
            "모든 사용자의 평균 나이는 28.0\n"
          ]
        }
      ]
    },
    {
      "cell_type": "markdown",
      "source": [
        "#### 파이썬에서 \"모든 것이 객체\"\n",
        "파이썬 내에서 데이터와 함수, 모듈, 클래스 등 모든 것이 객체로 취급된다는 것을 의미\n",
        "- 기본 데이터 타입(예: 정수, 실수, 문자열 등)을 포함하여 모든 데이터가 객체. 각 데이터 타입은 특정 클래스의 인스턴스로, 해당 데이터 타입의 메소드와 속성을 가진다. 예를 들어, 정수는 int 클래스의 인스턴스로, 여러 가지 메소드(예: bit_length(), __add__() 등)를 사용할 수 있습니다."
      ],
      "metadata": {
        "id": "fvxim7QFm3Vh"
      }
    },
    {
      "cell_type": "code",
      "source": [
        "x=10\n",
        "print(x.bit_length())         # x라는 정수 자체도 int 클래스로서 여러가지 method를 .xx type으로 연산이 가능"
      ],
      "metadata": {
        "colab": {
          "base_uri": "https://localhost:8080/"
        },
        "id": "zbHRrXgHoEqk",
        "outputId": "4da3de7f-af3d-4b0c-85b6-e7cfe6ea2855"
      },
      "execution_count": 24,
      "outputs": [
        {
          "output_type": "stream",
          "name": "stdout",
          "text": [
            "4\n"
          ]
        }
      ]
    },
    {
      "cell_type": "markdown",
      "source": [
        "- 파이썬에서 함수도 객체로 취급. 이는 함수를 변수에 할당하거나, 다른 함수의 인자로 전달하거나, 리스트나 딕셔너리 같은 데이터 구조에 저장할 수 있음을 의미"
      ],
      "metadata": {
        "id": "pH9A-aaaolWU"
      }
    },
    {
      "cell_type": "code",
      "source": [
        "def greet():\n",
        "  print(\"Hello! world!\")\n",
        "\n",
        "print(greet.__name__)         # 함수 이름 출력 greet 함수도 객체로 취급하고 __name__은 함수 이름을 의미함"
      ],
      "metadata": {
        "colab": {
          "base_uri": "https://localhost:8080/"
        },
        "id": "WcvYwLe3or7c",
        "outputId": "80b30d7b-13be-470f-aa9e-ec654f9994c1"
      },
      "execution_count": 25,
      "outputs": [
        {
          "output_type": "stream",
          "name": "stdout",
          "text": [
            "greet\n"
          ]
        }
      ]
    },
    {
      "cell_type": "markdown",
      "source": [
        "- 파이썬에서 클래스와 모듈 또한 객체. 클래스는 type의 인스턴스로, 메소드와 속성을 포함할 수 있다. 모듈도 객체로 취급되어, 모듈 내의 함수나 변수 등을 속성으로 가질 수 있다."
      ],
      "metadata": {
        "id": "ttZi3nGhovWi"
      }
    },
    {
      "cell_type": "code",
      "source": [
        "import math\n",
        "\n",
        "print(type(math))       #<class 'module'>\n",
        "print(math.sqrt(4))     #모듈의 메소드 사용"
      ],
      "metadata": {
        "colab": {
          "base_uri": "https://localhost:8080/"
        },
        "id": "-zzsn4ixowNJ",
        "outputId": "2357a308-e64e-47a9-fbbd-a34427f80f33"
      },
      "execution_count": 26,
      "outputs": [
        {
          "output_type": "stream",
          "name": "stdout",
          "text": [
            "<class 'module'>\n",
            "2.0\n"
          ]
        }
      ]
    },
    {
      "cell_type": "markdown",
      "source": [
        "- type 함수가 반환하는 결과가 클래스 이름(예: <class 'list'>)으로 나오는 것은, 해당 객체가 해당 클래스의 인스턴스라는 것을 의미"
      ],
      "metadata": {
        "id": "W3ajrRvaoy4z"
      }
    },
    {
      "cell_type": "code",
      "source": [
        "x=1\n",
        "print(type(x))              # <class 'int'> x는 클래스 int로 만들어진 객체\n",
        "\n",
        "y='hello'\n",
        "print(type(y))              # <class 'str'> y는 클래스 str로 만들어진 객체\n",
        "\n",
        "def func():\n",
        "  pass\n",
        "\n",
        "print(type(func))           # <class 'function'> func는 function이라는 클래스로 만들어진 객체"
      ],
      "metadata": {
        "colab": {
          "base_uri": "https://localhost:8080/"
        },
        "id": "dsjXcUbeqbXO",
        "outputId": "74cd6099-7b3b-4e99-c821-8909316963d5"
      },
      "execution_count": 27,
      "outputs": [
        {
          "output_type": "stream",
          "name": "stdout",
          "text": [
            "<class 'int'>\n",
            "<class 'str'>\n",
            "<class 'function'>\n"
          ]
        }
      ]
    },
    {
      "cell_type": "code",
      "source": [
        "list=[1,2,3,4]\n",
        "print(type(list))             <class 'list'>\n",
        "\n",
        "tup1=(1,2,3,4)\n",
        "print(type(tup1))             <class 'tuple'>\n",
        "\n",
        "dict1={'key':'value'}\n",
        "print(type(dict1))            <class 'dict'>"
      ],
      "metadata": {
        "colab": {
          "base_uri": "https://localhost:8080/"
        },
        "id": "6U8VSEb3rTK-",
        "outputId": "79ab54ea-50c6-4958-b745-3fb56523dc05"
      },
      "execution_count": 28,
      "outputs": [
        {
          "output_type": "stream",
          "name": "stdout",
          "text": [
            "<class 'list'>\n",
            "<class 'tuple'>\n",
            "<class 'dict'>\n"
          ]
        }
      ]
    },
    {
      "cell_type": "code",
      "source": [
        "## 사용자가 직접 작성한 클래스에서 객체를 만들 경우\n",
        "class Car:\n",
        "  def __init__(self, model):        # __init__ 은 파이썬에서 클래스의 생성자(constructor) 메소드; 클래스의 인스턴스를 생성할 때 자동으로 호출되며, 인스턴스가 생성될 때 초기화 작업을 수행하는 메소드\n",
        "    self.model=model                # agu. model을 받아서 self 객체로 self.model로 define\n",
        "\n",
        "my_car=Car(\"Toyota\")\n",
        "print(type(my_car))                 # <class '__main__.Car'>  cf) print(greet.__name__)   # 함수 이름 출력할때 __name__은 함수 greet의 이름을 의미함"
      ],
      "metadata": {
        "colab": {
          "base_uri": "https://localhost:8080/"
        },
        "id": "ykGeA5TssObp",
        "outputId": "275b1964-5990-4699-9d43-002ebf44f735"
      },
      "execution_count": 30,
      "outputs": [
        {
          "output_type": "stream",
          "name": "stdout",
          "text": [
            "<class '__main__.Car'>\n"
          ]
        }
      ]
    },
    {
      "cell_type": "markdown",
      "source": [
        "## Class\n",
        "- \\__init__은 파이썬에서 클래스의 생성자(constructor) 메소드입니다. 클래스의 인스턴스를 생성할 때 자동으로 호출되며, 인스턴스가 생성될 때 초기화 작업을 수행하는 메소드입니다. \\__init__ 메소드는 클래스 내에 정의된 다른 메소드와 마찬가지로 첫 번째 매개변수로 self를 사용합니다. self를 통해 인스턴스 변수를 초기화하고, 필요한 경우 다른 초기화 작업을 수행할 수 있습니다.\n",
        "- 어떤 스크립트 파일이든 파이썬 인터프리터가 최초로 실행한 스크립트 파일의 \\__name__ 에는 \\__main__ 이 들어간다. 이는 프로그램의 시작점(entry point)이라는 뜻이다. 파이썬의 코드 실행방식과 연관되어 파이썬은 최초로 시작하는 스크립트 파일과 모듈의 차이가 없다\n",
        "\n",
        "- self는 파이썬에서 클래스의 인스턴스(instance)를 나타내는 예약어입니다. 클래스를 정의할 때, 메소드의 첫 번째 매개변수로 self를 사용하는 것이 일반적입니다.( self 대신 다른 임의의 단어를 사용해도 오류 없이 잘 작동합니다. 그러나, 이러한 코드는 파이썬에서 권장하는 관례와 달라서 이 코드를 읽는 다른 개발자들에게 혼동을 줄 수 있습니다.) self를 사용하면 인스턴스 변수(instance variable)와 인스턴스 메소드(instance method)에 접근할 수 있습니다.\n",
        "\n",
        "- 아래 코드에서 person1은 Person 클래스의 인스턴스입니다. Person 클래스의\\__init__ 메소드를 호출하여 인스턴스 변수 name과 age를 초기화합니다. 이후 say_hello 메소드를 호출하여 인스턴스 변수 name과 age를 출력하고 more 메소드를 호출하여 say_hello 메소드를 한 번 더 사용합니다. 마지막 프린트 문에서 name 과 age가 인스턴스 변수로 저장된 것을 알 수 있습니다.  "
      ],
      "metadata": {
        "id": "johEzdEduMO3"
      }
    },
    {
      "cell_type": "code",
      "source": [
        "class Person:\n",
        "    def __init__(self, name, age):\n",
        "        self.name = name\n",
        "        self.age = age\n",
        "\n",
        "    def say_hello(self):\n",
        "        print(\"안녕하세요! 제 이름은 {}입니다. {}살입니다.\".format(self.name, self.age))\n",
        "\n",
        "    def more(self):\n",
        "        print(\"one more!\")\n",
        "        self.say_hello()\n",
        "\n",
        "person1 = Person(\"Alice\", 20)\n",
        "person1.say_hello()\n",
        "\n",
        "person1.more()\n",
        "print(person1.name, person1.age)"
      ],
      "metadata": {
        "colab": {
          "base_uri": "https://localhost:8080/"
        },
        "id": "LPXnPaaBurFo",
        "outputId": "20e1cacf-0164-4695-e784-781737fb5f6b"
      },
      "execution_count": 31,
      "outputs": [
        {
          "output_type": "stream",
          "name": "stdout",
          "text": [
            "안녕하세요! 제 이름은 Alice입니다. 20살입니다.\n",
            "one more!\n",
            "안녕하세요! 제 이름은 Alice입니다. 20살입니다.\n",
            "Alice 20\n"
          ]
        }
      ]
    },
    {
      "cell_type": "code",
      "source": [
        "print(dir(int)); print(dir(list))         # 객체에 대해서 사용가능한 메소드들을 모두 나열"
      ],
      "metadata": {
        "colab": {
          "base_uri": "https://localhost:8080/"
        },
        "id": "oV4YI2rKvwBl",
        "outputId": "28f107eb-299a-428f-ffb4-89dbf6f0d146"
      },
      "execution_count": 33,
      "outputs": [
        {
          "output_type": "stream",
          "name": "stdout",
          "text": [
            "['__abs__', '__add__', '__and__', '__bool__', '__ceil__', '__class__', '__delattr__', '__dir__', '__divmod__', '__doc__', '__eq__', '__float__', '__floor__', '__floordiv__', '__format__', '__ge__', '__getattribute__', '__getnewargs__', '__gt__', '__hash__', '__index__', '__init__', '__init_subclass__', '__int__', '__invert__', '__le__', '__lshift__', '__lt__', '__mod__', '__mul__', '__ne__', '__neg__', '__new__', '__or__', '__pos__', '__pow__', '__radd__', '__rand__', '__rdivmod__', '__reduce__', '__reduce_ex__', '__repr__', '__rfloordiv__', '__rlshift__', '__rmod__', '__rmul__', '__ror__', '__round__', '__rpow__', '__rrshift__', '__rshift__', '__rsub__', '__rtruediv__', '__rxor__', '__setattr__', '__sizeof__', '__str__', '__sub__', '__subclasshook__', '__truediv__', '__trunc__', '__xor__', 'as_integer_ratio', 'bit_count', 'bit_length', 'conjugate', 'denominator', 'from_bytes', 'imag', 'numerator', 'real', 'to_bytes']\n",
            "['__add__', '__class__', '__class_getitem__', '__contains__', '__delattr__', '__delitem__', '__dir__', '__doc__', '__eq__', '__format__', '__ge__', '__getattribute__', '__getitem__', '__gt__', '__hash__', '__iadd__', '__imul__', '__init__', '__init_subclass__', '__iter__', '__le__', '__len__', '__lt__', '__mul__', '__ne__', '__new__', '__reduce__', '__reduce_ex__', '__repr__', '__reversed__', '__rmul__', '__setattr__', '__setitem__', '__sizeof__', '__str__', '__subclasshook__', 'append', 'clear', 'copy', 'count', 'extend', 'index', 'insert', 'pop', 'remove', 'reverse', 'sort']\n"
          ]
        }
      ]
    },
    {
      "cell_type": "code",
      "source": [
        "#### table형태로 입력 받아서 DB 만들고, 출력하는 거 연습해보자\n",
        "## input file User_DataBase\n",
        "## Name Age Favor_Color\n",
        "\n",
        "import os\n",
        "cur_path=os.getcwd()\n",
        "os.chdir('/content/drive/MyDrive/00_KITA_2404/M2_Program')\n",
        "cur_path=os.getcwd();\n",
        "current_file=current_path+'/'+'User_DataBase.txt'\n",
        "f_name = open(current_file, 'r')\n",
        "f = open(\"C:/doit/새파일.txt\", 'r')\n",
        "lines = f.readlines()\n",
        "for line in lines:\n",
        "    print(line)\n",
        "f.close()\n",
        "\n",
        "\n"
      ],
      "metadata": {
        "id": "UGKhtBXq3xar"
      },
      "execution_count": 16,
      "outputs": []
    }
  ]
}