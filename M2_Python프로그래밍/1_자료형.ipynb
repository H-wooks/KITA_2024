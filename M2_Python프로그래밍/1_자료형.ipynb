{
  "nbformat": 4,
  "nbformat_minor": 0,
  "metadata": {
    "colab": {
      "provenance": [],
      "toc_visible": true
    },
    "kernelspec": {
      "name": "python3",
      "display_name": "Python 3"
    },
    "language_info": {
      "name": "python"
    }
  },
  "cells": [
    {
      "cell_type": "markdown",
      "source": [
        "#### 파이썬 이란\n",
        "- 1990년 암스테르담의 귀도 반 로섬(Guido Van Rossum)이 개발한 인터프리터 언어\n",
        "- 컴퓨터 프로그래밍 교육을 위해 많이 사용하지만, 기업의 실무를 위해서도 많이 사용하는 언어. 구글에서 만든 소프트웨어의 50%이상이 파이썬으로 작성\n",
        "\n",
        "#### 파이썬의 특징\n",
        "- 파이썬은 인간다운 언어이다\n",
        "- 파이썬은 문법이 쉬워 빠르게 배울 수 있다\n",
        "- 파이썬은 무료이지만 강력하다\n",
        "- 파이썬은 간결하다\n",
        "- 파이썬은 프로그래밍을 즐기게 해준다\n",
        "- 파이썬은 개발 속도가 빠르다\n",
        "\n",
        "#### 파이썬으로 할 수 있는 일\n",
        "- 웹 개발: Django, Flask 등의 프레임워크를 사용하여 웹 애플리케이션을 개발할 수 있습니다.\n",
        "- 데이터 분석: Pandas, NumPy, SciPy와 같은 라이브러리를 사용하여 데이터를 분석하고 처리할 수 있습니다.\n",
        "- 머신 러닝과 인공지능: TensorFlow, PyTorch, Scikit-learn 등의 라이브러리를 활용하여 머신 러닝 모델을 구축하고 훈련시킬 수 있습니다.\n",
        "- 자동화: 파이썬 스크립트를 작성하여 일상적인 작업을 자동화하고, 시스템 관리 작업을 수행할 수 있습니다.\n",
        "- 게임 개발: Pygame과 같은 라이브러리를 사용하여 간단한 게임을 개발할 수 있습니다.\n",
        "- 모바일 애플리케이션 개발: Kivy 또는 BeeWare와 같은 라이브러리를 사용하여 모바일 애플리케이션을 개발할 수 있습니다.\n",
        "- 데스크탑 애플리케이션 개발: PyQt, Tkinter 등의 라이브러리를 활용하여 데스크탑 애플리케이션을 개발할 수 있습니다.\n",
        "- 시스템 스크립팅과 네트워킹: 시스템 유틸리티를 개발하거나 네트워크 프로토콜을 구현할 수 있습니다.\n",
        "- 임베디드 시스템과 하드웨어 제어: 라즈베리 파이와 같은 임베디드 시스템을 제어하고 하드웨어를 프로그래밍할 수 있습니다.\n",
        "- 사이언티픽 컴퓨팅: 과학적 연산과 시뮬레이션을 위해 파이썬을 활용할 수 있습니다.\n",
        "- 교육: 파이썬은 초보자에게 프로그래밍을 가르치는 데 이상적인 언어로 평가받고 있습니다.\n",
        "- 파이썬의 다양한 라이브러리와 프레임워크 덕분에, 이러한 분야에서의 작업이 더욱 쉽고 효율적으로 수행될 수 있습니다."
      ],
      "metadata": {
        "id": "LeXr-pAx7aMh"
      }
    },
    {
      "cell_type": "code",
      "source": [
        "# ! 기호는 클라우드 기반 colab 셀에서 Unix, Linux 셸 명령어 실행시 필요\n",
        "!python  --version\n"
      ],
      "metadata": {
        "colab": {
          "base_uri": "https://localhost:8080/"
        },
        "id": "_xkq9SS5BVfK",
        "outputId": "0446c795-d61b-4ab8-a253-b3891f1de14b"
      },
      "execution_count": null,
      "outputs": [
        {
          "output_type": "stream",
          "name": "stdout",
          "text": [
            "Python 3.10.12\n"
          ]
        }
      ]
    },
    {
      "cell_type": "code",
      "source": [
        "#현재 작업 디렉토리 표시, %는 IPython 환경 (col.포함)에서 제공하는 매직 명령어 실행 시 필요\n",
        "# # 하나는 단일 라인에 대해 실행, %%는 셀 전체에 적용하고자 할 때 사용\n",
        "%pwd\n"
      ],
      "metadata": {
        "colab": {
          "base_uri": "https://localhost:8080/",
          "height": 35
        },
        "id": "Vvsm1P7JBcAf",
        "outputId": "836bff77-f363-44e8-eb4d-c6dd5673a815"
      },
      "execution_count": null,
      "outputs": [
        {
          "output_type": "execute_result",
          "data": {
            "text/plain": [
              "'/content'"
            ],
            "application/vnd.google.colaboratory.intrinsic+json": {
              "type": "string"
            }
          },
          "metadata": {},
          "execution_count": 4
        }
      ]
    },
    {
      "cell_type": "markdown",
      "source": [],
      "metadata": {
        "id": "KjQvznDd8owo"
      }
    },
    {
      "cell_type": "code",
      "source": [
        "%%time\n",
        "sum=0\n",
        "for i in range(1000000):\n",
        "  sum += i\n",
        "\n",
        "print(sum)"
      ],
      "metadata": {
        "colab": {
          "base_uri": "https://localhost:8080/"
        },
        "id": "4BqQcZKeC4HB",
        "outputId": "af0b61b5-53af-4303-ebcb-7ebb44b5f5b2"
      },
      "execution_count": null,
      "outputs": [
        {
          "output_type": "stream",
          "name": "stdout",
          "text": [
            "499999500000\n",
            "CPU times: user 140 ms, sys: 0 ns, total: 140 ms\n",
            "Wall time: 142 ms\n"
          ]
        }
      ]
    },
    {
      "cell_type": "markdown",
      "source": [
        "#### 용어\n",
        "- 식별자 : 프로그램밍 언어에서 이름을 붙일 때 사용하는 단어. 주로 변수 또는 함수 이름 등으로 사용\n",
        "- 주석 : 프로그램을 설명하기 위해 사용. # 기호로 주석 처리\n",
        "- 연산자 : 스스로 값이 되는 것이 아니고 값과 값 사이에 무언가 기능을 적용할 때 사용\n",
        "- 자료 : 리터럴이라고 하는데 숫자이든 문자이든 어떠한 값 자체를 의미. 1, 10, \"Hello\"\n",
        "- 키워드 : 파이썬이 만들어질 때 이미 사용하겠다고 예약해 놓는 것. False, None, True, ...\n",
        "- 프로그램밍 언어에서 사용자가 이름을 정할 때 키워드는 사용할 수 없음\n",
        "\n",
        "#### 식별자\n",
        "count, user_name, _is_valid, calculate_area, Car, model, year, math 및 m 모두 유효한 식별자. 각각의 식별자는 특정한 데이터 또는 기능에 이름을 부여하여 코드 내에서 해당 데이터나 기능을 참조할 수 있게하며 코드의 가독성과 유지 보수성을 높이는 데 중요한 역할"
      ],
      "metadata": {
        "id": "7E7BzVLbDSmV"
      }
    },
    {
      "cell_type": "code",
      "source": [
        "# 변수 식별자\n",
        "count = 0\n",
        "user_name = \"Alice\"\n",
        "_is_valid = True\n",
        "\n",
        "# 함수 식별자\n",
        "def calculate_area(radius):\n",
        "  return 3.14159*radius*radius\n",
        "\n",
        "# 클래스 식별자\n",
        "class Car:\n",
        "  def __init__(self, model, year):\n",
        "    self.model = model\n",
        "    self.year = year\n",
        "\n",
        "# 모듈 식별자\n",
        "import math as m\n",
        "\n"
      ],
      "metadata": {
        "id": "htSCt1LTEQ-b"
      },
      "execution_count": null,
      "outputs": []
    },
    {
      "cell_type": "markdown",
      "source": [
        "#### 식별자 기본 규칙\n",
        "- 키워드를 사용하면 안된다\n",
        "- 특수문자는 언더 바 (_)만 사용\n",
        "- 숫자로 시작하면 안된다\n",
        "- 공백은 포함할 수 없다"
      ],
      "metadata": {
        "id": "NdPIelgBHNvr"
      }
    },
    {
      "cell_type": "code",
      "source": [
        "import keyword\n",
        "print(keyword.kwlist)\n",
        "print(\"\\n\\t\",len(keyword.kwlist))"
      ],
      "metadata": {
        "colab": {
          "base_uri": "https://localhost:8080/"
        },
        "id": "JuYO1z9qEGm3",
        "outputId": "3655bc9e-a629-4d6f-bf7e-5837e69c4c35"
      },
      "execution_count": null,
      "outputs": [
        {
          "output_type": "stream",
          "name": "stdout",
          "text": [
            "['False', 'None', 'True', 'and', 'as', 'assert', 'async', 'await', 'break', 'class', 'continue', 'def', 'del', 'elif', 'else', 'except', 'finally', 'for', 'from', 'global', 'if', 'import', 'in', 'is', 'lambda', 'nonlocal', 'not', 'or', 'pass', 'raise', 'return', 'try', 'while', 'with', 'yield']\n",
            "\n",
            "\t 35\n"
          ]
        }
      ]
    },
    {
      "cell_type": "code",
      "source": [
        "alpha\n",
        "break # 키워드\n",
        "alpha10\n",
        "_alpha\n",
        "273alpha # 숫자로 시작\n",
        "AlpHa\n",
        "ALPHA\n",
        "has space # 공백\n"
      ],
      "metadata": {
        "colab": {
          "base_uri": "https://localhost:8080/",
          "height": 110
        },
        "id": "2fZNppQ5JAsy",
        "outputId": "28349fdb-0d8c-4e43-f213-f62cfce134ea"
      },
      "execution_count": null,
      "outputs": [
        {
          "output_type": "error",
          "ename": "SyntaxError",
          "evalue": "invalid decimal literal (<ipython-input-52-3cf020c5f4ff>, line 5)",
          "traceback": [
            "\u001b[0;36m  File \u001b[0;32m\"<ipython-input-52-3cf020c5f4ff>\"\u001b[0;36m, line \u001b[0;32m5\u001b[0m\n\u001b[0;31m    273alpha # 숫자로 시작\u001b[0m\n\u001b[0m      ^\u001b[0m\n\u001b[0;31mSyntaxError\u001b[0m\u001b[0;31m:\u001b[0m invalid decimal literal\n"
          ]
        }
      ]
    },
    {
      "cell_type": "markdown",
      "source": [
        "Q. 주어진 문자열 리스트에서 유효한 파이썬 변수 이름만을 추출하여 반환하는 함수를 작성하시오"
      ],
      "metadata": {
        "id": "qNxVQjbcJ1z3"
      }
    },
    {
      "cell_type": "code",
      "source": [
        "\n",
        "#### List의 Item을 리무브를 하게 되면 index가 변경되고, 한번에 하나씩 밖에..\n",
        "#### 그보다는 빈 리스트에 append하는 편이 좋다\n",
        "\n",
        "identifies=[\"var1\", \"2things\", \"variable_name\", \"time!\", \"True\", \"test space\"]\n",
        "import keyword\n",
        "import string\n",
        "import re\n",
        "#print(string.punctuation)\n",
        "\n",
        "# 키워드 제거\n",
        "for iden in identifies:\n",
        "  if iden in keyword.kwlist: identifies.remove(iden)\n",
        "\n",
        "# 숫자 prefix 제거\n",
        "for iden in identifies:\n",
        "  if iden[0].isnumeric(): identifies.remove(iden)\n",
        "\n",
        "# 특수 문자 제거\n",
        "for specif in string.punctuation:\n",
        "  for iden in identifies:\n",
        "    if specif in iden and \"_\"  not in specif: identifies.remove(iden)\n",
        "\n",
        "# String 내부 공백 제거\n",
        "for iden in identifies:\n",
        "  if re.search(\"\\s\", iden): identifies.remove(iden)\n",
        "\n",
        "#for iden in identifies:\n",
        "#  if (iden in keyword.kwlist) or (iden[0].isnumeric()) or (re.search(\"\\s\", iden)):\n",
        "#    identifies.remove(iden)\n",
        "\n",
        "\n",
        "print(identifies)"
      ],
      "metadata": {
        "colab": {
          "base_uri": "https://localhost:8080/"
        },
        "id": "ceCuFr4XW7TS",
        "outputId": "4a0e2ac3-194d-408c-ebc7-24f4a97bb925"
      },
      "execution_count": null,
      "outputs": [
        {
          "output_type": "stream",
          "name": "stdout",
          "text": [
            "['var1', 'variable_name']\n"
          ]
        }
      ]
    },
    {
      "cell_type": "code",
      "source": [
        "# isidentifier는 파이썬의 문자열 매서드로 주어진 문자열이 유효한 식별자인지를 확인\n",
        "# isidentifier는 예약어인지는 따로 체크하지는 않음\n",
        "import keyword\n",
        "def valid_identifiers(identifiers):\n",
        "  valid = []\n",
        "  for iden in identifiers:\n",
        "    if iden.isidentifier() and iden not in keyword.kwlist:\n",
        "      valid.append(iden)\n",
        "  return valid\n",
        "\n",
        "identifiers=[\"var1\", \"2things\", \"variable_name\", \"time!\", \"True\", \"test space\"]\n",
        "print(valid_identifiers(identifiers))"
      ],
      "metadata": {
        "colab": {
          "base_uri": "https://localhost:8080/",
          "height": 0
        },
        "id": "Ak4wwwiv13fY",
        "outputId": "a391f0cf-2447-485e-ca2e-cfb21e0cd21e"
      },
      "execution_count": 9,
      "outputs": [
        {
          "output_type": "stream",
          "name": "stdout",
          "text": [
            "['var1', 'variable_name']\n"
          ]
        }
      ]
    },
    {
      "cell_type": "code",
      "source": [
        "# isidentifier는 파이썬의 문자열 매서드로 주어진 문자열이 유효한 식별자인지를 확인\n",
        "# isidentifier는 예약어인지는 따로 체크하지는 않음\n",
        "\n",
        "import keyword\n",
        "def valid_identifiers(identifiers):\n",
        "  valid = []\n",
        "  for iden in identifiers:\n",
        "    if iden.isidentifier() and not keyword.iskeyword(iden):\n",
        "    #if iden.isidentifier() and iden not in keyword.kwlist:      ## 이것도 가능\n",
        "      valid.append(iden)\n",
        "  return valid\n",
        "\n",
        "identifiers=[\"var1\", \"2things\", \"variable_name\", \"time!\", \"True\", \"test space\"]\n",
        "print(valid_identifiers(identifiers))"
      ],
      "metadata": {
        "colab": {
          "base_uri": "https://localhost:8080/",
          "height": 0
        },
        "outputId": "1951076a-a120-4862-b334-c8af03a92d36",
        "id": "QjQ8IExp4npC"
      },
      "execution_count": 10,
      "outputs": [
        {
          "output_type": "stream",
          "name": "stdout",
          "text": [
            "['var1', 'variable_name']\n"
          ]
        }
      ]
    },
    {
      "cell_type": "markdown",
      "source": [
        "### 파이썬은 snake_case (_를 활용)와 CamelCase(대/소문자 활용)를 모두 사용\n",
        " - itemlist: item_list ItemList\n",
        " - loginstatus: login_status loginStatus\n",
        " - 캐멀 케이스(대문자로 시작) 클래스\n",
        " - 스네이크 케이스(소문자로 시작) 뒤에 ()가 있다 - 함수\n",
        " - 스네이크 케이스(소문자로 시작) 뒤에 ()가 없다 - 변수\n"
      ],
      "metadata": {
        "id": "K2jyA2nD7dKr"
      }
    },
    {
      "cell_type": "code",
      "source": [
        "# 연산자\n",
        "a=5\n",
        "b=3\n",
        "c=b%a  # residue\n",
        "d=b//a  # 몫\n",
        "e=b/a   # simple divider\n",
        "\n",
        "print(c, d, e)"
      ],
      "metadata": {
        "colab": {
          "base_uri": "https://localhost:8080/",
          "height": 0
        },
        "id": "Vm5WiRVM78MZ",
        "outputId": "7f4aca9e-1ebb-4334-c999-45dcc7f97610"
      },
      "execution_count": 11,
      "outputs": [
        {
          "output_type": "stream",
          "name": "stdout",
          "text": [
            "3 0 0.6\n"
          ]
        }
      ]
    },
    {
      "cell_type": "code",
      "source": [
        "a=3\n",
        "b=5\n",
        "if a > b:\n",
        "  print(a)\n"
      ],
      "metadata": {
        "id": "4G0gx62lAgbT"
      },
      "execution_count": 14,
      "outputs": []
    },
    {
      "cell_type": "markdown",
      "source": [
        "#### 자료형\n",
        "- 자료형 또는 데이터 타입이란 숫자, 문자 등과 같이 여러 종류의 데이터를 구분하기 위한 분류\n",
        "- 파이썬의 자료형은 크게 숫자(numbers), 시퀀스(sequence), 매핑(mapping) 등으로 나눌 수 있다.\n",
        "- 파이썬의 기본 자료형\n",
        "  - 수치형\n",
        "    - 정수형 : int는 정수(integer)를 나타낸다. 양의 정수와 음의 정수, 숫자 0\n",
        "    - 실수형 : float는 원래 부동소수점수(floating-point number)를 가리키는데, 지금은 단순히 소수점 이하를 표현할 수 있는 수이다.\n",
        "    - 복소수형 : 복소수를 complex로 나타내고 제곱하면 -1이 되는 수 i를 ‘허수(imaginary number)’라고 하는데 허수 i를 j로 표현\n",
        "  - 시퀀스 : 문자열(str), 리스트(list), 튜플(tuple), 사용자 정의 클래스가 시퀀스에 속한다. for 문에서 사용할 수 있는 것들이 바로 시퀀스\n",
        "    - 문자열 : 문자를 한 줄로 표현하며 문자열 인덱스를 이용해 문자열의 일부를 복사\n",
        "    - 리스트 : 대괄호([ ])로 감싸 주고 각 요솟값은 쉼표(,)로 구분\n",
        "    - 튜플 : 튜플은 ( )으로 둘러싸고 각 요솟값은 쉼표(,)로 구분\n",
        "  - 매핑\n",
        "    - 사전 : 딕셔너리(dict)는 키(key)와 값(value)의 짝으로 이뤄지는데 이런 것을 매핑\n",
        "  - 집합 : 집합을 표현하는 세트(set)\n",
        "  - 블린 : 참, 거짓을 표현"
      ],
      "metadata": {
        "id": "Wua6xHLfBKCV"
      }
    },
    {
      "cell_type": "code",
      "source": [
        "# 정수형, 실수형\n",
        "i1=3; i2=3.4\n",
        "f1=3.5\n",
        "#print (i1,i2, f1)\n",
        "\n",
        "# 정수 (int)\n",
        "#print(int(True), int(False), int('10'), int(3.14))\n",
        "#print(int('10'), int(i2), float(i1), str(i2))\n",
        "\n",
        "# 실수 (Float)\n",
        "#print(float(True), float(False), float('10'), float(3.14))\n",
        "\n",
        "# 사칙연산 : + * / // % **\n",
        "a=10; b=2.3\n",
        "#print(a+b,\"\\n\", a-b,\"\\n\", a*b,\"\\n\", a/b,\"\\n\", a//b,\"\\n\", a%b,\"\\n\", a**b,\"\\n\")\n",
        "\n",
        "# String\n",
        "string='by hwooks'\n",
        "a=\"5\"; b=0.5\n",
        "\n",
        "# 문자열 합치기\n",
        "#print(a + string)\n",
        "\n",
        "#2 f-string 사용\n",
        "#print(f\"{a}일 동안 매일 비올 확률 {'%.3f' %b}% {string}\")\n",
        "\n",
        "# 사용자 입력\n",
        "# input('인사말을 입력하세요.')  # input 받은 값을 string으로 처리\n",
        "#a=input()\n",
        "#b=input()\n",
        "#print(a+b)\n",
        "\n",
        "\n",
        "# 사용자 입력 ==> 숫자로 type변경\n",
        "#a=input()\n",
        "#b=input()\n",
        "#print(int(a)+int(b))\n",
        "\n",
        "\n",
        "# 사용자 입력 받을 때 guide string함께 출력 ==> 숫자로 type변경\n",
        "a=input(\"첫 번째 숫자:  \")\n",
        "b=input(\"두 번째 숫자:  \")\n",
        "print(int(a)+int(b))"
      ],
      "metadata": {
        "colab": {
          "base_uri": "https://localhost:8080/",
          "height": 0
        },
        "id": "n8e4zyidCuwW",
        "outputId": "a2e0d445-2ef7-4c5a-cabf-b389adeca286"
      },
      "execution_count": 40,
      "outputs": [
        {
          "output_type": "stream",
          "name": "stdout",
          "text": [
            "첫 번째 숫자:  5\n",
            "두 번째 숫자:  5\n",
            "10\n"
          ]
        }
      ]
    },
    {
      "cell_type": "code",
      "source": [
        "# 실수 + 실수 ==> 실수\n",
        "# 3과 3.3을 입력하고 숫자 연산을 수행하여 6.3을 출력\n",
        "a=input(\"첫 번째 숫자:  \")\n",
        "b=input(\"두 번째 숫자:  \")\n",
        "print(float(a)+float(b))"
      ],
      "metadata": {
        "colab": {
          "base_uri": "https://localhost:8080/",
          "height": 0
        },
        "id": "_NWRkug0JNhF",
        "outputId": "2fedce4b-6694-4b60-9138-1e2c6d360e19"
      },
      "execution_count": 42,
      "outputs": [
        {
          "output_type": "stream",
          "name": "stdout",
          "text": [
            "첫 번째 숫자:  3\n",
            "두 번째 숫자:  3.3\n",
            "6.3\n"
          ]
        }
      ]
    },
    {
      "cell_type": "code",
      "source": [
        "# 정수 + 실수 ==> 실수\n",
        "# 3과 3.3을 입력하고 숫자 연산을 수행하여 6.3을 출력\n",
        "a=input(\"첫 번째 숫자:  \")\n",
        "b=input(\"두 번째 숫자:  \")\n",
        "print(int3(a)+float(b))\n"
      ],
      "metadata": {
        "colab": {
          "base_uri": "https://localhost:8080/",
          "height": 0
        },
        "id": "OGHFekaGH5xz",
        "outputId": "26604f0f-a8cf-43b0-e767-dea6d695a95d"
      },
      "execution_count": 43,
      "outputs": [
        {
          "output_type": "stream",
          "name": "stdout",
          "text": [
            "첫 번째 숫자:  3\n",
            "두 번째 숫자:  3.3\n",
            "6.3\n"
          ]
        }
      ]
    },
    {
      "cell_type": "code",
      "source": [
        "# a=52, b=52.273, a+b를 5252.273으로 계산되도록..\n",
        "a=52; b=52.273\n",
        "print(a+b)\n",
        "a=str(52); b=str(52.273)\n",
        "print(a+b)\n"
      ],
      "metadata": {
        "colab": {
          "base_uri": "https://localhost:8080/",
          "height": 0
        },
        "id": "orDEcCM8KaYW",
        "outputId": "581f51aa-799f-471d-a3fa-1fc21703868b"
      },
      "execution_count": 44,
      "outputs": [
        {
          "output_type": "stream",
          "name": "stdout",
          "text": [
            "104.273\n",
            "5252.273\n"
          ]
        }
      ]
    },
    {
      "cell_type": "code",
      "source": [
        "# 문자열 : \"\", '', \"\"\" \"\"\", ''' '''\n",
        "# p1 = 'python's value is great'\n",
        "p2 = \"python's value is great\"\n",
        "p3 = 'python\\'s value is great'\n",
        "# \\가 waiver로 작용해서 '가 string이 아닌\n",
        "# 자체로 일반 문자로 취급\n",
        "# 이러한 것을 이스케이프라고 함\n",
        "# 인식 추가로 \\s같은 경우 자동 적으로 meta문자로 인식되는데 이경우 \\\\s로 하면 \\s 일반 문자로 적용\n",
        "\n",
        "#print(p1)\n",
        "#print(p2)\n",
        "print(p3)\n"
      ],
      "metadata": {
        "colab": {
          "base_uri": "https://localhost:8080/",
          "height": 0
        },
        "id": "HvCLhaWBPeey",
        "outputId": "54856a77-74ed-4ee8-b3c4-7700809b28c1"
      },
      "execution_count": 48,
      "outputs": [
        {
          "output_type": "stream",
          "name": "stdout",
          "text": [
            "python's value is great\n"
          ]
        }
      ]
    },
    {
      "cell_type": "code",
      "source": [
        "# \\n 행바꿈\n",
        "y1=\"Once you study data analysis, you will need Python\"\n",
        "y2=\"Once you study data analysis\\nyou will need Python\\n\"\n",
        "y3=\"Once you study data analysis\\tyou will need Python\"\n",
        "#print(y1,\"\\n\", y2)\n",
        "print(y1+\"\\n\"+y2+y3)"
      ],
      "metadata": {
        "colab": {
          "base_uri": "https://localhost:8080/",
          "height": 0
        },
        "id": "owWqBwI_RW8h",
        "outputId": "af1a0cde-b759-4b6c-e244-54eb556e241e"
      },
      "execution_count": 54,
      "outputs": [
        {
          "output_type": "stream",
          "name": "stdout",
          "text": [
            "Once you study data analysis, you need Python\n",
            "Once you study data analysis\n",
            "you need Python\n",
            "Once you study data analysis\tyou need Python\n"
          ]
        }
      ]
    },
    {
      "cell_type": "code",
      "source": [
        "# multi행 갖는 string에 대해서 문자 그대로 받아들이는 기능 (triple은 string 중간에 '이 있어도 상관 없어)\n",
        "y1 = '''\n",
        "Once you study data analysis\n",
        "you will need Python\n",
        "'''\n",
        "\n",
        "y2 = '''\n",
        "Once you study data analysis\n",
        "you will need Python's power\n",
        "'''\n",
        "\n",
        "y3 = \"\"\"\n",
        "Once you study data analysis\n",
        "you will need Python\n",
        "\"\"\"\n",
        "\n",
        "y4 = \"\"\"\n",
        "Once you study data analysis\n",
        "you will need Python's power\n",
        "\"\"\"\n",
        "\n",
        "\n",
        "print(y1, y2, y3, y4)"
      ],
      "metadata": {
        "colab": {
          "base_uri": "https://localhost:8080/"
        },
        "id": "G_zsYnhDSP-u",
        "outputId": "e4c99687-2f21-4bd6-d4da-905472d6d5cf"
      },
      "execution_count": 58,
      "outputs": [
        {
          "output_type": "stream",
          "name": "stdout",
          "text": [
            "\n",
            "Once you study data analysis\n",
            "you will need Python\n",
            " \n",
            "Once you study data analysis\n",
            "you will need Python's power\n",
            " \n",
            "Once you study data analysis\n",
            "you will need Python\n",
            " \n",
            "Once you study data analysis\n",
            "you will need Python's power\n",
            "\n"
          ]
        }
      ]
    },
    {
      "cell_type": "code",
      "source": [
        "a1=\"Python\"; a2=\" is easy to learn\";\n",
        "print(a1+a2)\n",
        "print(\"=\"*33)"
      ],
      "metadata": {
        "colab": {
          "base_uri": "https://localhost:8080/"
        },
        "id": "bPxBRWc7S0Fa",
        "outputId": "dc31f688-4516-4480-f9b0-c3206dfc4a1a"
      },
      "execution_count": 65,
      "outputs": [
        {
          "output_type": "stream",
          "name": "stdout",
          "text": [
            "Python is easy to learn\n",
            "=================================\n"
          ]
        }
      ]
    },
    {
      "cell_type": "markdown",
      "source": [
        "Q. 아래와 같이 출력할 수 있는 string을 만드세요.\n",
        "\n",
        "\"What a wonderful world!\"\n",
        "\n",
        "he said loudly"
      ],
      "metadata": {
        "id": "LfI_iWtFUi_u"
      }
    },
    {
      "cell_type": "code",
      "source": [
        "a=\"\"\"\n",
        "\"What a wonderful world!\"\n",
        "he said loudly\n",
        "\"\"\"\n",
        "print(a)"
      ],
      "metadata": {
        "colab": {
          "base_uri": "https://localhost:8080/"
        },
        "id": "E4BIljlnUh0I",
        "outputId": "e88a553c-78a5-499c-8c28-2d2f760f30ee"
      },
      "execution_count": 66,
      "outputs": [
        {
          "output_type": "stream",
          "name": "stdout",
          "text": [
            "\n",
            "\"What a wonderful world!\"\n",
            "he said loudly\n",
            "\n"
          ]
        }
      ]
    },
    {
      "cell_type": "markdown",
      "source": [
        "Q. 다른 타입의 숫자 2개를 입력 받아 큰 수를 출력하세요."
      ],
      "metadata": {
        "id": "e_fXRtB-VSOu"
      }
    },
    {
      "cell_type": "code",
      "source": [
        "#a=15; b=14.59\n",
        "#a=14.59; b=14.59\n",
        "a1=14.59; b1=14\n",
        "a2=int(14.59); b2=int(14)\n",
        "#a=input(\"첫 번째 숫자:  \")\n",
        "#b=input(\"두 번째 숫자:  \")\n",
        "#print(max(float(a),float(b)))\n",
        "\n",
        "#a=float(input(\"첫 번째 숫자:  \"))\n",
        "#b=float(input(\"두 번째 숫자:  \"))\n",
        "\n",
        "if a1 > b1: print(a1)\n",
        "elif b1 > a1: print(b1)\n",
        "else: print(\"There's no max no.\")\n",
        "\n",
        "\n",
        "if a2 > b2: print(a2)\n",
        "elif b2 > a2: print(b2)\n",
        "else: print(\"There's no max no.\")"
      ],
      "metadata": {
        "colab": {
          "base_uri": "https://localhost:8080/"
        },
        "id": "8_dxJ6XFVXrB",
        "outputId": "216aec43-a183-46f1-e3cc-592dbfe67fb1"
      },
      "execution_count": 77,
      "outputs": [
        {
          "output_type": "stream",
          "name": "stdout",
          "text": [
            "14.59\n",
            "There's no max no.\n"
          ]
        }
      ]
    },
    {
      "cell_type": "code",
      "source": [
        "### 자료형 - List\n",
        "# List는 []로 표기하며, []안의 요소는 콤마로 구분하며 순서가 있게 나열\n",
        "\n",
        "list1=[1,2,3,4,5]\n",
        "list2=['a', 'b', 'c']\n",
        "list3=[1, 'a', 'abc', [1,2,3,4,5], ['a', 'b', 'c']]\n",
        "\n",
        "print(list1,\"\\n\", list2, \"\\n\", list3)"
      ],
      "metadata": {
        "colab": {
          "base_uri": "https://localhost:8080/"
        },
        "id": "DAt8cABaXTeR",
        "outputId": "658318c1-41dd-40f4-a831-f5c736ccab67"
      },
      "execution_count": 78,
      "outputs": [
        {
          "output_type": "stream",
          "name": "stdout",
          "text": [
            "[1, 2, 3, 4, 5] \n",
            " ['a', 'b', 'c'] \n",
            " [1, 'a', 'abc', [1, 2, 3, 4, 5], ['a', 'b', 'c']]\n"
          ]
        }
      ]
    },
    {
      "cell_type": "code",
      "source": [
        "# List: 인텍싱\n",
        "list1=[1,2,3,4,5]\n",
        "list1[2]\n",
        "list1[0:2]\n",
        "list1[:4]"
      ],
      "metadata": {
        "colab": {
          "base_uri": "https://localhost:8080/"
        },
        "id": "rou2DybjqGTY",
        "outputId": "1f9d8228-bd8c-4819-ff90-d247594ffba6"
      },
      "execution_count": 79,
      "outputs": [
        {
          "output_type": "execute_result",
          "data": {
            "text/plain": [
              "[1, 2, 3, 4]"
            ]
          },
          "metadata": {},
          "execution_count": 79
        }
      ]
    },
    {
      "cell_type": "code",
      "source": [
        "## List: Nested List에서의 indexing\n",
        "list3=[1, 'a', 'abc', [1,2,3,4,5], ['a', 'b', 'c']]\n",
        "\n",
        "print(list3[3], list3[3][2], list3[4][0])\n"
      ],
      "metadata": {
        "colab": {
          "base_uri": "https://localhost:8080/"
        },
        "id": "wXCzuUV3q6U-",
        "outputId": "fea61e12-1a30-4d85-c66e-608d7909f72f"
      },
      "execution_count": 84,
      "outputs": [
        {
          "output_type": "stream",
          "name": "stdout",
          "text": [
            "[1, 2, 3, 4, 5] 3 a\n"
          ]
        }
      ]
    },
    {
      "cell_type": "code",
      "source": [
        "# 리스트의 수정, 삭제\n",
        "a=[0,1,2,3,4,5,6,7,8,9]\n",
        "b=['a', 'b', 'c']\n",
        "a[0]=1\n",
        "print(a)\n",
        "b[1]='a'\n",
        "print(b)\n",
        "del a[0]\n",
        "print(a)\n",
        "del b[1]\n",
        "print(b)"
      ],
      "metadata": {
        "colab": {
          "base_uri": "https://localhost:8080/"
        },
        "id": "o8o5VjLUrg1d",
        "outputId": "1b631773-804a-4206-b941-44862aad817e"
      },
      "execution_count": 86,
      "outputs": [
        {
          "output_type": "stream",
          "name": "stdout",
          "text": [
            "[1, 1, 2, 3, 4, 5, 6, 7, 8, 9]\n",
            "['a', 'a', 'c']\n",
            "[1, 2, 3, 4, 5, 6, 7, 8, 9]\n",
            "['a', 'c']\n"
          ]
        }
      ]
    },
    {
      "cell_type": "code",
      "source": [
        "# 끝에서부터 indexing -1\n",
        "a=[0,1,2,3,4,5,6,7,8,9]\n",
        "b=['a', 'b', 'c']\n",
        "\n",
        "print(a[-2])\n",
        "print(a[-4:-1])\n",
        "print(a[-4:])"
      ],
      "metadata": {
        "colab": {
          "base_uri": "https://localhost:8080/"
        },
        "id": "yd3bxTENtW44",
        "outputId": "d7a95ae8-f2a7-4c9e-96f9-99c098487634"
      },
      "execution_count": 87,
      "outputs": [
        {
          "output_type": "stream",
          "name": "stdout",
          "text": [
            "8\n",
            "[6, 7, 8]\n",
            "[6, 7, 8, 9]\n"
          ]
        }
      ]
    },
    {
      "cell_type": "code",
      "source": [
        "# 리스트의 확장\n",
        "h=[1,2,3]\n",
        "#h.extend([4,5])   # 여러 항목을 추가 (대괄호 필요)\n",
        "h.extend([4,5])   # 여러 항목을 추가 (대괄호 필요)\n",
        "print(h)\n",
        "\n",
        "h.append(6)       # 단일 항목 추가\n",
        "print(h)\n",
        "\n",
        "h.insert(0,5)   # 지정 인덱스에 추가\n",
        "print(h)"
      ],
      "metadata": {
        "colab": {
          "base_uri": "https://localhost:8080/"
        },
        "id": "xIBnGvClt-v1",
        "outputId": "c1e8424d-f19a-4e6e-deb5-35e7e5a606e8"
      },
      "execution_count": 90,
      "outputs": [
        {
          "output_type": "stream",
          "name": "stdout",
          "text": [
            "[1, 2, 3, 4, 5]\n",
            "[1, 2, 3, 4, 5, 6]\n",
            "[5, 1, 2, 3, 4, 5, 6]\n"
          ]
        }
      ]
    },
    {
      "cell_type": "markdown",
      "source": [
        "list1에서 다음을 수행하세요\n",
        "- 33을 출력\n",
        "- 82를 리스트에 추가\n",
        "- 87의 인덱스 구하기 - 도전\n",
        "- 인덱스 3에서 10까지의 값을 출력하고 list2에 저장한 후 내림차순 정렬하기 - 도전\n",
        "- 39를 11로 변경\n",
        "- [69,45,58] 출력\n",
        "- 짝수 인덱스의 값으로 구성된 리스트 출력하기\n",
        "- 인덱스가 가장 큰수를 삭제하기\n",
        "- 인덱스 3, 5인 값으로 4칙 연산하기\n",
        "\n",
        "list1 = [58, 45, 69, 19,  4, 87, 29, 13, 39, 15, 54, [8, 33, 11], 27, 49, 63, 98, 22, 82]"
      ],
      "metadata": {
        "id": "YF4Sj_cOv7SJ"
      }
    },
    {
      "cell_type": "code",
      "source": [
        "list1=[58, 45, 69, 19, 4, 87, 29, 13, 39, 15, 54, [8, 33, 11], 27, 49, 63, 98, 22, 82]\n",
        "\n",
        "# 33을 출력\n",
        "print(\"\\nQ.33을 출력\")\n",
        "print(list1[11][1])\n",
        "\n",
        "\n",
        "# 82를 리스트에 추가\n",
        "print(\"\\nQ.82를 리스트에 추가\")\n",
        "list1.append(82)\n",
        "print(list1)\n",
        "\n",
        "#87의 인덱스 구하기\n",
        "print(\"\\nQ.87의 인덱스 구하기\")\n",
        "print(list1.index(87))\n",
        "\n",
        "# 인덱스 3에서 10까지의 값을 출력하고 list2에 저장한 후 내림차순 정렬하기 - 도전\n",
        "print(\"\\nQ.인덱스 3에서 10까지의 값을 출력하고 list2에 저장한 후 내림차순 정렬하기 - 도전\")\n",
        "print(list1[3:11])\n",
        "list2=list1[3:11]\n",
        "print(sorted(list2, reverse=True))\n",
        "list2.sort(reverse=True)\n",
        "print(list2)\n",
        "\n",
        "# 39를 11로 변경\n",
        "print(\"\\nQ.39를 11로 변경\")\n",
        "list1[list1.index(39)]=11\n",
        "print(list1)\n",
        "\n",
        "\n",
        "# [69,45,58] 출력\n",
        "print(\"\\nQ.[69,45,58] 출력\")\n",
        "print(list1[-17::-1])\n",
        "print(list1[2::-1])\n",
        "\n",
        "# 짝수 인덱스의 값으로 구성된 리스트 출력하기\n",
        "print(\"\\nQ.짝수 인덱스의 값으로 구성된 리스트 출력하기\")\n",
        "even_list=[]\n",
        "for i in range(len(list1)):\n",
        "  if i%2==0:  even_list.append(list1[i])\n",
        "print(even_list)\n",
        "print(list1[0::2])\n",
        "\n",
        "# 인덱스가 가장 큰수를 삭제하기\n",
        "print(\"\\nQ.인덱스가 가장 큰수를 삭제하기\")\n",
        "del list1[-1]\n",
        "print(list1)\n",
        "\n",
        "# 인덱스 3, 5인 값으로 4칙 연산하기\n",
        "print(\"\\nQ.인덱스 3, 5인 값으로 4칙 연산하기\")\n",
        "print(list1[3]+list1[5], list1[3]-list1[5], list1[3]*list1[5], list1[3]/list1[5])"
      ],
      "metadata": {
        "colab": {
          "base_uri": "https://localhost:8080/"
        },
        "id": "eT5hatacv7GK",
        "outputId": "d3df35c6-9a19-4f89-b2e2-0f009c02b685"
      },
      "execution_count": 131,
      "outputs": [
        {
          "output_type": "stream",
          "name": "stdout",
          "text": [
            "\n",
            "Q.33을 출력\n",
            "33\n",
            "\n",
            "Q.82 를 리스트에 추가\n",
            "[58, 45, 69, 19, 4, 87, 29, 13, 39, 15, 54, [8, 33, 11], 27, 49, 63, 98, 22, 82, 82]\n",
            "\n",
            "Q.87의 인덱스 구하기\n",
            "5\n",
            "\n",
            "Q.인덱스 3에서 10까지의 값을 출력하고 list2에 저장한 후 내림차순 정렬하기 - 도전\n",
            "[19, 4, 87, 29, 13, 39, 15, 54]\n",
            "[87, 54, 39, 29, 19, 15, 13, 4]\n",
            "[87, 54, 39, 29, 19, 15, 13, 4]\n",
            "\n",
            "Q.39를 11로 변경\n",
            "[58, 45, 69, 19, 4, 87, 29, 13, 11, 15, 54, [8, 33, 11], 27, 49, 63, 98, 22, 82, 82]\n",
            "\n",
            "Q.[69,45,58] 출력\n",
            "[69, 45, 58]\n",
            "[69, 45, 58]\n",
            "\n",
            "Q.짝수 인덱스의 값으로 구성된 리스트 출력하기\n",
            "[58, 69, 4, 29, 11, 54, 27, 63, 22, 82]\n",
            "[58, 69, 4, 29, 11, 54, 27, 63, 22, 82]\n",
            "\n",
            "Q.인덱스가 가장 큰수를 삭제하기\n",
            "[58, 45, 69, 19, 4, 87, 29, 13, 11, 15, 54, [8, 33, 11], 27, 49, 63, 98, 22, 82]\n",
            "\n",
            "Q.인덱스 3, 5인 값으로 4칙 연산하기\n",
            "106 -68 1653 0.21839080459770116\n"
          ]
        }
      ]
    },
    {
      "cell_type": "code",
      "source": [
        "list1=[58, 45, 69, 19, 4, 87, 29, 13, 39, 15, 54, [8, 33, 11], 27, 49, 63, 98, 22, 82]\n",
        "print(list1)\n",
        "print(list1[7::-1])\n",
        "print(list1[7::2])\n",
        "print(list1[7::-2])\n"
      ],
      "metadata": {
        "colab": {
          "base_uri": "https://localhost:8080/"
        },
        "id": "lqYuhfzb8-8T",
        "outputId": "8740321d-5204-4904-84d3-65794cb3aab5"
      },
      "execution_count": 132,
      "outputs": [
        {
          "output_type": "stream",
          "name": "stdout",
          "text": [
            "[58, 45, 69, 19, 4, 87, 29, 13, 39, 15, 54, [8, 33, 11], 27, 49, 63, 98, 22, 82]\n",
            "[13, 29, 87, 4, 19, 69, 45, 58]\n",
            "[13, 15, [8, 33, 11], 49, 98, 82]\n",
            "[13, 87, 19, 45]\n"
          ]
        }
      ]
    },
    {
      "cell_type": "markdown",
      "source": [
        "#### sort 와 sorted 차이점\n",
        "\n",
        "1. 메서드 vs 함수:\n",
        "- sort(): 리스트 객체의 내장 메서드입니다. 즉, 리스트에서만 사용할 수 있습니다.\n",
        "- sorted(): 내장 함수로, 어떤 반복 가능한(iterable) 객체에도 사용될 수 있습니다. 예를 들면 리스트, 튜플, 딕셔너리, 문자열 등에 사용할 수 있습니다.\n",
        "\n",
        "2. 반환 값:\n",
        "- sort(): 리스트를 원 위치에서(in-place) 정렬하고 None을 반환합니다. 따라서 원래의 리스트 자체가 변경됩니다.\n",
        "- sorted(): 정렬된 새로운 리스트를 반환합니다. 원래의 객체는 변경되지 않습니다.\n",
        "\n",
        "3. 유용성:\n",
        "- sort(): 리스트에서만 작동하기 때문에 리스트만 정렬할 수 있습니다.\n",
        "- sorted(): 다양한 객체를 정렬할 수 있으며 결과는 항상 리스트로 반환됩니다."
      ],
      "metadata": {
        "id": "b9IvLDzI91Qo"
      }
    },
    {
      "cell_type": "code",
      "source": [
        "# sort() Method   :  반환 X, 변환 O, only List to List\n",
        "my_list = [3, 1, 2]\n",
        "my_list.sort()\n",
        "print(my_list)\n",
        "\n",
        "# sorted() function   :  반환 O, 변환 X , not only for List but for everything, to List\n",
        "my_tuple = (3, 1, 2)\n",
        "new_list=sorted(my_tuple)\n",
        "print(my_tuple)\n",
        "print(new_list)\n",
        "\n"
      ],
      "metadata": {
        "colab": {
          "base_uri": "https://localhost:8080/"
        },
        "id": "lElLkvLHAq8f",
        "outputId": "90ce77fb-cff7-4d09-dda2-3a3ae6934303"
      },
      "execution_count": 133,
      "outputs": [
        {
          "output_type": "stream",
          "name": "stdout",
          "text": [
            "[1, 2, 3]\n",
            "(3, 1, 2)\n",
            "[1, 2, 3]\n"
          ]
        }
      ]
    },
    {
      "cell_type": "code",
      "source": [
        "## sort() Method\n",
        "list=[5,6,9,7,8]\n",
        "new_list=list.sort()\n",
        "print(list)\n",
        "print(new_list)"
      ],
      "metadata": {
        "colab": {
          "base_uri": "https://localhost:8080/"
        },
        "id": "hV5lmhZsEkvl",
        "outputId": "d07d0d48-58af-4cac-dbd7-e6d0209226a3"
      },
      "execution_count": 134,
      "outputs": [
        {
          "output_type": "stream",
          "name": "stdout",
          "text": [
            "[5, 6, 7, 8, 9]\n",
            "None\n"
          ]
        }
      ]
    },
    {
      "cell_type": "code",
      "source": [
        "## sorted() Function\n",
        "list=[5,6,9,7,8]\n",
        "new_list=sorted(list)\n",
        "print(list)\n",
        "print(new_list)"
      ],
      "metadata": {
        "colab": {
          "base_uri": "https://localhost:8080/"
        },
        "id": "E-niRs7-FNVM",
        "outputId": "4d6bf793-be4e-4141-b9fd-70ff11d8f710"
      },
      "execution_count": 135,
      "outputs": [
        {
          "output_type": "stream",
          "name": "stdout",
          "text": [
            "[5, 6, 9, 7, 8]\n",
            "[5, 6, 7, 8, 9]\n"
          ]
        }
      ]
    },
    {
      "cell_type": "code",
      "source": [
        "# Sorted 반환 O, 변환 X , not only for List but for everything, to List\n",
        "list1=[58, 45, 69, 19, 4, 87, 29, 13, 39, 15, 54, [8, 33, 11], 27, 49, 63, 98, 22, 82]\n",
        "list2=list1[3:11]\n",
        "l_sorted=sorted(list2, reverse=True)\n",
        "print(l_sorted)\n",
        "\n",
        "# Sort 반환 X, 변환 O, only List to List\n",
        "list3=list1[3:11]\n",
        "l3_sorted=list3.sort(reverse=True)\n",
        "print(l3_sorted, \"\\t\", list3)\n"
      ],
      "metadata": {
        "colab": {
          "base_uri": "https://localhost:8080/"
        },
        "id": "uud4irTzGJdy",
        "outputId": "5c9798c3-a927-478d-daf1-3a4c8df15016"
      },
      "execution_count": 138,
      "outputs": [
        {
          "output_type": "stream",
          "name": "stdout",
          "text": [
            "[87, 54, 39, 29, 19, 15, 13, 4]\n",
            "None \t [87, 54, 39, 29, 19, 15, 13, 4]\n"
          ]
        }
      ]
    },
    {
      "cell_type": "markdown",
      "source": [
        "Task1_0425. 주어진 숫자 리스트에서 최소값과 최대값을 찾아 출력하세요.\n",
        "\n",
        "numbers = [58, 45, 69, 19, 4, 87, 29, 13, 39, 15]\n",
        "\n",
        "\n",
        "Task2_0425. 주어진 숫자 리스트의 모든 요소의 합계와 평균을 계산하고 출력하세요\n",
        "\n",
        "numbers = [58, 45, 69, 19, 4, 87, 29, 13, 39, 15]\n",
        "\n",
        "Task3_0425. 주어진 리스트에서 특정 요소가 등장하는 모든 인덱스를 리스트로 만들어 출력하세요.\n",
        "\n",
        "items = ['apple', 'banana', 'cherry', 'apple', 'cherry', 'apple']\n",
        "\n",
        "\n",
        "Task4_0425. 주어진 리스트에서 연속해서 반복되는 요소만 제거하고, 결과 리스트를 반환하세요. 단, 처음 등장하는 요소는 유지해야 합니다.\n",
        "\n",
        "예를 들어, ['a', 'a', 'b', 'c', 'c', 'c', 'd', 'e', 'e']가 입력되면, ['a', 'b', 'c', 'd', 'e']를 출력해야 합니다.\n",
        "\n",
        "Task5_0425 주어진 정수 리스트와 회전 횟수 k에 대해 리스트를 오른쪽으로 k만큼 회전시킨 결과를 반환하세요. k가 리스트의 길이보다 클 수 있으며, 이 경우 k를 리스트 길이로 나눈 나머지만큼 실제 회전시키면 됩니다.\n",
        "\n",
        "예를 들어, [1, 2, 3, 4, 5]와 k=2가 주어지면, 결과는 [4, 5, 1, 2, 3]이 되어야 합니다."
      ],
      "metadata": {
        "id": "xEVB59V8HT26"
      }
    },
    {
      "cell_type": "code",
      "source": [
        "import statistics\n",
        "import re\n",
        "\n",
        "# Task1_0425. 주어진 숫자 리스트에서 최소값과 최대값을 찾아 출력하세요.\n",
        "print(\"\\n Task1_0425. 주어진 숫자 리스트에서 최소값과 최대값을 찾아 출력하세요\")\n",
        "numbers = [58, 45, 69, 19, 4, 87, 29, 13, 39, 15]\n",
        "print(\"\\tnumbers의 최소값은:\", min(numbers), \"numbers의 최대값은:\", max(numbers))\n",
        "\n",
        "\n",
        "# Task2_0425. 주어진 숫자 리스트의 모든 요소의 합계와 평균을 계산하고 출력하세요\n",
        "print(\"\\n Task2_0425. 주어진 숫자 리스트의 모든 요소의 합계와 평균을 계산하고 출력하세요\")\n",
        "numbers = [58, 45, 69, 19, 4, 87, 29, 13, 39, 15]\n",
        "sum_nb=sum(numbers); mean_nb=statistics.mean(numbers)\n",
        "print(\"\\tnumbers의 총합계:\", sum_nb, \"numbers의 평균값은:\", mean_nb)\n",
        "\n",
        "\n",
        "# Task3_0425. 주어진 리스트에서 특정 요소 (target) 가 등장하는 모든 인덱스를 리스트로 만들어 출력하세요.\n",
        "print(\"\\n Task3_0425. 주어진 리스트에서 특정 요소 (target) 가 등장하는 모든 인덱스를 리스트로 만들어 출력하세요\")\n",
        "items = ['apple', 'banana', 'cherry', 'apple', 'cherry', 'apple']\n",
        "target='apple'\n",
        "inx_list=[]; i=0\n",
        "for item in items:\n",
        "  if target == item:  inx_list.append(i)\n",
        "  i=i+1\n",
        "print(\"\\t 주어진 리스트에서\", target, \"이 등장하는 모든 인덱스의 리스트는\", inx_list)\n",
        "\n",
        "# Task4_0425. 주어진 리스트에서 연속해서 반복되는 요소만 제거하고, 결과 리스트를 반환하세요. 단, 처음 등장하는 요소는 유지해야 합니다.\n",
        "# 예를 들어, ['a', 'a', 'b', 'c', 'c', 'c', 'd', 'e', 'e']가 입력되면, ['a', 'b', 'c', 'd', 'e']를 출력해야 합니다.\n",
        "print(\"\\n Task4_0425. 주어진 리스트에서 연속해서 반복되는 요소만 제거하고, 결과 리스트를 반환하세요\")\n",
        "\n",
        "uncl_list=['a', 'a', 'b', 'c', 'c', 'c', 'd', 'e', 'e']\n",
        "cleared_list=[]; i=0\n",
        "for  item in uncl_list:\n",
        "  if item not in cleared_list: cleared_list.append(item)\n",
        "\n",
        "print(\"\\t 반복되는 요소가 제거된 결과 리스트:\", cleared_list)\n",
        "\n",
        "# Task5_0425 주어진 정수 리스트와 회전 횟수 k에 대해 리스트를 오른쪽으로 k만큼 회전시킨 결과를 반환하세요. k가 리스트의 길이보다 클 수 있으며, 이 경우 k를 리스트 길이로 나눈 나머지만큼 실제 회전시키면 됩니다.\n",
        "# 예를 들어, [1, 2, 3, 4, 5]와 k=2가 주어지면, 결과는 [4, 5, 1, 2, 3]이 되어야 합니다.\n",
        "print(\"\\n Task5_0425 주어진 정수 리스트와 회전 횟수 k에 대해 리스트를 오른쪽으로 k만큼 회전시킨 결과를 반환하세요\")\n",
        "test_list=[1, 2, 3, 4, 5]\n",
        "shift=int(input(\"회전횟수:  \"))\n",
        "#shift=3\n",
        "nor_shift=shift%(len(test_list))\n",
        "shifted_list=[1, 2, 3, 4, 5]\n",
        "i=0\n",
        "for  item in test_list:\n",
        "  if (i+nor_shift) < len(test_list):\n",
        "    shifted_list[i+nor_shift]=test_list[i]\n",
        "  else:\n",
        "    nor_shift2=(i+nor_shift)%len(test_list)\n",
        "    shifted_list[nor_shift2]=test_list[i]\n",
        "  i=i+1\n",
        "\n",
        "print(\"\\t 원본 리스트는\", test_list, \"\\n\\t\", shift,\"만큼 회전된 리스트는:\", shifted_list)\n"
      ],
      "metadata": {
        "colab": {
          "base_uri": "https://localhost:8080/"
        },
        "id": "IYWY6bdoHksq",
        "outputId": "9123e1d7-a976-4a4e-d469-37c047e43c0b"
      },
      "execution_count": 200,
      "outputs": [
        {
          "output_type": "stream",
          "name": "stdout",
          "text": [
            "\n",
            " Task1_0425. 주어진 숫자 리스트에서 최소값과 최대값을 찾아 출력하세요\n",
            "\tnumbers의 최소값은: 4 numbers의 최대값은: 87\n",
            "\n",
            " Task2_0425. 주어진 숫자 리스트의 모든 요소의 합계와 평균을 계산하고 출력하세요\n",
            "\tnumbers의 총합계: 378 numbers의 평균값은: 37.8\n",
            "\n",
            " Task3_0425. 주어진 리스트에서 특정 요소 (target) 가 등장하는 모든 인덱스를 리스트로 만들어 출력하세요\n",
            "\t 주어진 리스트에서 apple 이 등장하는 모든 인덱스의 리스트는 [0, 3, 5]\n",
            "\n",
            " Task4_0425. 주어진 리스트에서 연속해서 반복되는 요소만 제거하고, 결과 리스트를 반환하세요\n",
            "\t 반복되는 요소가 제거된 결과 리스트: ['a', 'b', 'c', 'd', 'e']\n",
            "\n",
            " Task5_0425 주어진 정수 리스트와 회전 횟수 k에 대해 리스트를 오른쪽으로 k만큼 회전시킨 결과를 반환하세요\n",
            "회전횟수:  3\n",
            "\t 원본 리스트는 [1, 2, 3, 4, 5] \n",
            "\t 3 만큼 회전된 리스트는: [3, 4, 5, 1, 2]\n"
          ]
        }
      ]
    }
  ]
}