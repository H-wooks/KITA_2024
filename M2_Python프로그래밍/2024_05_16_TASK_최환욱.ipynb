{
  "nbformat": 4,
  "nbformat_minor": 0,
  "metadata": {
    "colab": {
      "provenance": []
    },
    "kernelspec": {
      "name": "python3",
      "display_name": "Python 3"
    },
    "language_info": {
      "name": "python"
    }
  },
  "cells": [
    {
      "cell_type": "code",
      "source": [
        "#Task1_0516. '199305, 1923A, a93247'에서 '199305'만 출력하세요\n",
        "import re\n",
        "p = re.compile('^\\d+')\n",
        "text='199305, 1923A, a93247'\n",
        "m1=p.search(text)\n",
        "print(m1.group())\n",
        "\n",
        "p = re.compile('\\d{6}')\n",
        "text='199305, 1923A, a93247'\n",
        "m1=p.search(text)\n",
        "print(m1.group())"
      ],
      "metadata": {
        "colab": {
          "base_uri": "https://localhost:8080/"
        },
        "id": "S7OWtOdb-zrq",
        "outputId": "dba9601a-39c7-4af8-eead-eb2c196230a3"
      },
      "execution_count": null,
      "outputs": [
        {
          "output_type": "stream",
          "name": "stdout",
          "text": [
            "199305\n",
            "199305\n"
          ]
        }
      ]
    },
    {
      "cell_type": "code",
      "source": [
        "# Task2_0516. '99food234, a93456\\n, a9356ba '에서 '99food234'만 출력하세요.\n",
        "import re\n",
        "\n",
        "p = re.compile('\\d{2}\\D{4}\\d{3}')\n",
        "text='99food234, a93456\\n, a9356ba '\n",
        "m1=p.search(text)\n",
        "print(m1.group())"
      ],
      "metadata": {
        "colab": {
          "base_uri": "https://localhost:8080/"
        },
        "id": "IiyxRFIP-zod",
        "outputId": "2ac63a4b-c9db-4ab4-83e1-fc0b6e0174b8"
      },
      "execution_count": null,
      "outputs": [
        {
          "output_type": "stream",
          "name": "stdout",
          "text": [
            "99food234\n"
          ]
        }
      ]
    },
    {
      "cell_type": "code",
      "source": [
        "# Task3_0516. 주어진 문자열이 유효한 이메일 주소인지 확인\n",
        "mailAddr=\"example@example.com\"\n",
        "import re\n",
        "\n",
        "#### @를 기준으로 앞에는 소문자/대문자/숫자/+/-/_/,/./ 모두 가능하며 하나 이상의 문자열 포함\n",
        "#### @를 기준으로 뒤에는 (1) 소문자/대문자/숫자/- 모두 가능하면서 하나 이상 요구, (2) .com과 같이 \".\" 다음에 소문자/대문자/숫자/-/. 하나 이상으로 끝나야 함\n",
        "p = re.compile('^[a-zA-Z0-9+-_.]+@[a-zA-Z0-9-]+\\.[a-zA-Z0-9-.]+$')\n",
        "m1=p.search(mailAddr)\n",
        "if m1:\n",
        "  print(f\"이 메일 주소는 유효합니다.\")\n",
        "else: print(f\"이 메일 주소는 유효하지 않습니다.\")\n"
      ],
      "metadata": {
        "id": "4sG-n5wW-zlh",
        "colab": {
          "base_uri": "https://localhost:8080/"
        },
        "outputId": "bd285aa0-7760-460f-87b2-bedd265d869b"
      },
      "execution_count": 3,
      "outputs": [
        {
          "output_type": "stream",
          "name": "stdout",
          "text": [
            "이 메일 주소는 유효합니다.\n",
            "example@example.com is a valid email address.\n"
          ]
        }
      ]
    },
    {
      "cell_type": "code",
      "source": [
        "# Task4_0516. 주어진 문자열이 올바른 전화번호 형식(010-0000-0000)인지 확인하세요.\n",
        "\n",
        "phoneNum=\"010-1234-5678\"\n",
        "p = re.compile('^010-\\d{4}-\\d{4}$')\n",
        "match=p.search(phoneNum)\n",
        "if match:\n",
        "  print(f\"이 번호는 유효한 전화번호입니다.\")\n",
        "else: print(f\"이 번호는 유효한 전화번호가 아닙니다.\")"
      ],
      "metadata": {
        "id": "PPUekCgG-zh5",
        "colab": {
          "base_uri": "https://localhost:8080/"
        },
        "outputId": "47774b88-3187-4fa4-81db-a4ef2f3a43d5"
      },
      "execution_count": null,
      "outputs": [
        {
          "output_type": "stream",
          "name": "stdout",
          "text": [
            "이 번호는 유효한 전화번호입니다.\n"
          ]
        }
      ]
    },
    {
      "cell_type": "code",
      "source": [
        "# Task5_0516. 문자열에서 모든 HTML 태그를 찾아 리스트로 반환하세요.\n",
        "HTML_str=\"<html><head></head><body></body></html>\"\n",
        "\n",
        "##### HTML 태그란 ?:  태크는 시작 태그 \"< >\" 와 종료 태그 \"< / >\"의 형식의 한쌍을 취한다.\n",
        "import re\n",
        "# pattern=r'<.*>.*?</.*>'\n",
        "# matches = re.findall(pattern,HTML_str)\n",
        "# print(matches)\n",
        "\n",
        "pattern1=r'<.*>.*</.*>'\n",
        "pattern2=r'<\\w*>\\w*</\\w*>'\n",
        "matches = re.findall(pattern1,HTML_str) + re.findall(pattern2,HTML_str)\n",
        "print(matches)"
      ],
      "metadata": {
        "id": "aUpuLuxB-zbe",
        "colab": {
          "base_uri": "https://localhost:8080/"
        },
        "outputId": "af60b36c-204c-4ef3-bb37-ca94e8b2366f"
      },
      "execution_count": 26,
      "outputs": [
        {
          "output_type": "stream",
          "name": "stdout",
          "text": [
            "['<html><head></head><body></body></html>']\n",
            "['<html><head></head><body></body></html>', '<head></head>', '<body></body>']\n"
          ]
        }
      ]
    },
    {
      "cell_type": "code",
      "source": [
        "# Task6_0516. 주어진 비밀번호가 최소 8자, 대문자, 소문자, 숫자, 특수문자를 포함하는지 확인하세요.\n",
        "import re\n",
        "passCode=\"Aa1!aaaa\"\n",
        "\n",
        "p=re.compile('^(?=.*[a-z])(?=.*[A-Z])(?=.*\\d)(?=.*[@$!%*?&])[A-Za-z\\d@$!%*?&]{8,}$')\n",
        "match=p.search(passCode)\n",
        "if match: print(f\"유효한 비밀번호입니다.\")\n",
        "else: print(f\"유효하지 않은 비밀번호입니다.\")"
      ],
      "metadata": {
        "id": "HkbXMMYaP7lx",
        "colab": {
          "base_uri": "https://localhost:8080/"
        },
        "outputId": "0f9f69be-96a0-41a7-da29-a99b86f2f6b0"
      },
      "execution_count": 22,
      "outputs": [
        {
          "output_type": "stream",
          "name": "stdout",
          "text": [
            "유효한 비밀번호입니다.\n"
          ]
        }
      ]
    },
    {
      "cell_type": "code",
      "source": [
        "#Task7_0516. 주어진 문자열이 유효한 URL인지 확인하세요.\n",
        "import requests\n",
        "\n",
        "url = \"https://www.example.com\"\n",
        "\n",
        "p = re.compile('^(https?://)[a-zA-Z0-9-]+\\.[a-zA-Z0-9-_/.?=]*')\n",
        "match=p.search(url)\n",
        "if match:\n",
        "  print(f\"유효한 URL입니다.\")\n",
        "else: print(f\"유효하지 않은  URL입니다.\")\n",
        "\n",
        "if requests.get(url).status_code == 200:\n",
        "  print(f\"유효한 URL입니다.\")\n",
        "else: print(f\"유효하지 않은  URL입니다.\")\n",
        "\n"
      ],
      "metadata": {
        "id": "NsTfSMSWQgpu",
        "colab": {
          "base_uri": "https://localhost:8080/"
        },
        "outputId": "8360ccd5-8a7c-4a10-f721-c405c35aca1a"
      },
      "execution_count": 33,
      "outputs": [
        {
          "output_type": "stream",
          "name": "stdout",
          "text": [
            "유효한 URL입니다.\n",
            "유효한 URL입니다.\n"
          ]
        }
      ]
    },
    {
      "cell_type": "code",
      "source": [
        "#Task8_0516. 주어진 문자열이 유효한 주민등록번호(######-#######) 형식인지 확인하세요.\n",
        "nomID=\"900101-1234567\"\n",
        "\n",
        "p = re.compile(r'\\d{6}-[1234]+\\d{5}')\n",
        "match=p.search(nomID)\n",
        "if match:\n",
        "  print(f\"유효한 주민등록번호입니다.\")\n",
        "else: print(f\"유효하지 않은  주민등록번호입니다.\")\n"
      ],
      "metadata": {
        "id": "dLO_BBQmQjv-",
        "colab": {
          "base_uri": "https://localhost:8080/"
        },
        "outputId": "23b4790b-b582-429b-d609-6a45640b4a5a"
      },
      "execution_count": 37,
      "outputs": [
        {
          "output_type": "stream",
          "name": "stdout",
          "text": [
            "유효한 주민등록번호입니다.\n"
          ]
        }
      ]
    },
    {
      "cell_type": "code",
      "source": [
        "# Task9_0516. 주어진 문자열이 유효한 IPv4 주소인지 확인하세요.\n",
        "\n",
        "IPv4=\"192.168.1.1\"\n",
        "p = re.compile(r'^(([0-9]|[1-9][0-9]|1[0-9]{2}|2[0-4][0-9]|25[0-5])\\.){3}([0-9]|[1-9][0-9]|1[0-9]{2}|2[0-4][0-9]|25[0-5])$')\n",
        "match=p.search(IPv4)\n",
        "if match:\n",
        "  print(f\"유효한 IP번호입니다.\")\n",
        "else: print(f\"유효하지 않은  IP번호입니다.\")\n"
      ],
      "metadata": {
        "id": "TgfH_dxyQjtb",
        "colab": {
          "base_uri": "https://localhost:8080/"
        },
        "outputId": "5a6a35cc-b825-40da-d356-8fbc1e19505b"
      },
      "execution_count": 39,
      "outputs": [
        {
          "output_type": "stream",
          "name": "stdout",
          "text": [
            "유효한 IP번호입니다.\n"
          ]
        }
      ]
    },
    {
      "cell_type": "code",
      "source": [
        "# Task10_0516. 주어진 파일 이름에서 확장자가 .jpg, .jpeg, 또는 .png인지 확인하세요.\n",
        "fileName=\"image.jpg\"\n",
        "\n",
        "p = re.compile(r'^[a-zA-Z0-9-_]+\\.(.+)$')\n",
        "match=p.search(fileName)\n",
        "if match.group(1) == 'jpg':\n",
        "  print(\"'jpg' 확장자를 가집니다.\")\n",
        "elif match.group(1) == 'jpeg':\n",
        "  print(\"'jpeg' 확장자를 가집니다.\")\n",
        "elif match.group(1) == 'png':\n",
        "  print(\"'png' 확장자를 가집니다.\")\n",
        "else: print(f\"기타의 확장자를 가집니다\")\n"
      ],
      "metadata": {
        "id": "UifeXvNHQjqS",
        "colab": {
          "base_uri": "https://localhost:8080/"
        },
        "outputId": "12957583-ce5b-455a-b70c-fc5f6d269377"
      },
      "execution_count": 45,
      "outputs": [
        {
          "output_type": "stream",
          "name": "stdout",
          "text": [
            "'jpg' 확장자를 가집니다.\n"
          ]
        }
      ]
    },
    {
      "cell_type": "code",
      "source": [
        "#Task11_0516. 문자열에서 Python 주석을 제거하세요.\n",
        "\n",
        "code_with_comments = \"\"\"\n",
        "# This is a whole line comment\n",
        "print(\"Hello, world!\")  # This is a side comment\n",
        "# Another comment\n",
        "print(\"Python is fun!\") # Another side comment\n",
        "\"\"\"\n",
        "p=re.compile('(?:#.+)(\\n.+)#[ a-zA-Z]+\\n(?:#.+)(\\n.+)#[ a-zA-Z]+')\n",
        "match=p.search(code_with_comments)\n",
        "\n",
        "print(match.group(1)+match.group(2))"
      ],
      "metadata": {
        "id": "PE5jTpXJQjnE",
        "colab": {
          "base_uri": "https://localhost:8080/"
        },
        "outputId": "5ac73cdd-8807-44dd-8089-66f393264f82"
      },
      "execution_count": 63,
      "outputs": [
        {
          "output_type": "stream",
          "name": "stdout",
          "text": [
            "\n",
            "print(\"Hello, world!\")  \n",
            "print(\"Python is fun!\") \n"
          ]
        }
      ]
    },
    {
      "cell_type": "code",
      "source": [
        "#Task12_0516. 지정된 HTML 문자열 내에서 이메일 주소를 찾아서 그 결과를 출력\n",
        "html = \"\"\"\n",
        "<ul>\n",
        "  <li>Email: example@example.com</li>\n",
        "  <li>Contact: contact@sample.org</li>\n",
        "</ul>\n",
        "\"\"\"\n",
        "p = re.compile('[a-zA-Z0-9+-_.]+@[a-zA-Z0-9-]+\\.[a-zA-Z0-9-.]+')\n",
        "match=p.findall(html)\n",
        "\n",
        "print(match)"
      ],
      "metadata": {
        "id": "y1DFWNH4QjkD",
        "colab": {
          "base_uri": "https://localhost:8080/"
        },
        "outputId": "c13c7d34-2817-4095-fad2-db80d5d96202"
      },
      "execution_count": 57,
      "outputs": [
        {
          "output_type": "stream",
          "name": "stdout",
          "text": [
            "['example@example.com', 'contact@sample.org']\n"
          ]
        }
      ]
    }
  ]
}