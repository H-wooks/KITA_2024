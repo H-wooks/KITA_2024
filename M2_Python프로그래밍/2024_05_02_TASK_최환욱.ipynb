{
  "nbformat": 4,
  "nbformat_minor": 0,
  "metadata": {
    "colab": {
      "provenance": []
    },
    "kernelspec": {
      "name": "python3",
      "display_name": "Python 3"
    },
    "language_info": {
      "name": "python"
    }
  },
  "cells": [
    {
      "cell_type": "code",
      "source": [
        "# Task1_0502. 짝수와 짝수를 입력하면 곱한 값을 출력하고 홀수와 홀수를 입력하면 덧셈 값을 출력하고 그외는 다시 입력하라는 메시지를 출력하세요.\n",
        "import re\n",
        "while 1:\n",
        "  In_Str=input(\"연산을 위한 정수(짝수 혹은 홀수)의 페어를 입력하세요 (계산을 중지하고자 할 때는 '중지'를 입력하세요): \")\n",
        "  In_Spl=[]; In_Spl=re.split(\"[ ,]+\", In_Str)\n",
        "  if In_Spl[0] == \"중지\": print(\"계산 프로그램이 사용자에 의해 중지 되었습니다.\"); break\n",
        "  else:\n",
        "    if int(In_Spl[0])%2 == 0 and int(In_Spl[1])%2 == 0: print(f\"{In_Spl[0]}X{In_Spl[1]}={int(In_Spl[0])*int(In_Spl[1])}\")\n",
        "    if int(In_Spl[0])%2 == 1 and int(In_Spl[1])%2 == 1: print(f\"{In_Spl[0]}+{In_Spl[1]}={int(In_Spl[0])+int(In_Spl[1])}\")\n",
        "    else: print(\"올바른 연산을 위해 짝수의 정수 페어 혹은 홀수의 정수 페어를 입력하세요\")"
      ],
      "metadata": {
        "colab": {
          "base_uri": "https://localhost:8080/"
        },
        "id": "dbXJWjZk4moW",
        "outputId": "2159cf8f-f494-4913-84c6-72be407bfbdb"
      },
      "execution_count": null,
      "outputs": [
        {
          "output_type": "stream",
          "name": "stdout",
          "text": [
            "연산을 위한 정수(짝수 혹은 홀수)의 페어를 입력하세요 (계산을 중지하고자 할 때는 '중지'를 입력하세요): 2 3\n",
            "올바른 연산을 위해 짝수의 정수 페어 혹은 홀수의 정수 페어를 입력하세요\n",
            "연산을 위한 정수(짝수 혹은 홀수)의 페어를 입력하세요 (계산을 중지하고자 할 때는 '중지'를 입력하세요): 2, 3\n",
            "올바른 연산을 위해 짝수의 정수 페어 혹은 홀수의 정수 페어를 입력하세요\n",
            "연산을 위한 정수(짝수 혹은 홀수)의 페어를 입력하세요 (계산을 중지하고자 할 때는 '중지'를 입력하세요): 2, 2\n",
            "2X2=4\n",
            "올바른 연산을 위해 짝수의 정수 페어 혹은 홀수의 정수 페어를 입력하세요\n",
            "연산을 위한 정수(짝수 혹은 홀수)의 페어를 입력하세요 (계산을 중지하고자 할 때는 '중지'를 입력하세요): 5 5\n",
            "5+5=10\n",
            "연산을 위한 정수(짝수 혹은 홀수)의 페어를 입력하세요 (계산을 중지하고자 할 때는 '중지'를 입력하세요): 중지\n",
            "계산 프로그램이 사용자에 의해 중지 되었습니다.\n"
          ]
        }
      ]
    },
    {
      "cell_type": "code",
      "source": [
        "# Task2_0502. 현재 계절 구분 프로그램\n",
        "# - 시나리오 : 3 ~ 5월은 봄, 6 ~ 8월은 여름, 9 ~ 11월은 가을, 12 ~ 2월은 겨울로 구분. 지금 계절을 알려주는 프로그램\n",
        "# - 각 계절별 출력 멘트는 계절에 맞게 창작\n",
        "# - if 조건문으로 datetime 모듈을 import해서 datetime.now 함수를 사용해서 작성\n",
        "\n",
        "# Q. 현재 시각을 오전과 오후로 구분하는 프로그램을 작성하세요.\n",
        "import datetime\n",
        "import pytz\n",
        "tz=pytz.timezone('Asia/Seoul')\n",
        "now=datetime.datetime.now(tz)\n",
        "\n",
        "cur_month=now.month\n",
        "if cur_month >= 3 and cur_month <= 5:\n",
        "  cur_season='싱그러운 봄, 봄!'\n",
        "elif cur_month > 5 and cur_month <= 8:\n",
        "  cur_season='생동감이 넘치는 여름, 여름!'\n",
        "elif cur_month > 8 and cur_month <= 11:\n",
        "  cur_season='온 세상이 갈색으로 물드는 가을, 가을!'\n",
        "else: cur_season='손이 시려운지만 눈이 기다려지는 겨울, 겨울!'\n",
        "print(f\"지금은 {cur_month}월이며 계절은 {cur_season}입니다.\")"
      ],
      "metadata": {
        "colab": {
          "base_uri": "https://localhost:8080/"
        },
        "id": "zSM04MUj4mhT",
        "outputId": "844f83a8-9704-41b0-dd18-ef00a303aaec"
      },
      "execution_count": null,
      "outputs": [
        {
          "output_type": "stream",
          "name": "stdout",
          "text": [
            "지금은 5월이며 계절은 싱그러운 봄, 봄!입니다.\n"
          ]
        }
      ]
    },
    {
      "cell_type": "code",
      "source": [
        "# Task3_0502. 1부터 99까지 아래와 같이 2개의 수를 곱해서 가장 큰 수를 구하세요.\n",
        "# 1*99, 2*98 ...99*1\n",
        "max_num=100\n",
        "max_mult=0\n",
        "in_list=list(range(1,max_num))\n",
        "for i in range(1, max_num):\n",
        "  multi_i=in_list[i-1]*in_list[-i]\n",
        "  #print(in_list[i-1],in_list[-i], multi_i)\n",
        "  if multi_i > max_mult: max_mult=multi_i\n",
        "\n",
        "print(f\"1부터 99까지 1*99, 2*98 ...99*1과 같이 보수의 곱 중 가장 큰 수: {max_mult}\")"
      ],
      "metadata": {
        "colab": {
          "base_uri": "https://localhost:8080/"
        },
        "id": "C3SzOnou4mar",
        "outputId": "b486f1bd-a7cd-473d-9db1-f0bf69de2cce"
      },
      "execution_count": null,
      "outputs": [
        {
          "output_type": "stream",
          "name": "stdout",
          "text": [
            "1부터 99까지 1*99, 2*98 ...99*1과 같이 보수의 곱 중 가장 큰 수: 2500\n"
          ]
        }
      ]
    },
    {
      "cell_type": "code",
      "source": [
        "# Task4_0502. [    ]을 채워서 아래의 출력과 같이 출력하세요.\n",
        "# numbers = [1,2,3,4,5,6,7,8,9]\n",
        "# output = [[], [], []]\n",
        "\n",
        "numbers = [1,2,3,4,5,6,7,8,9]\n",
        "group_no=3; inter=3\n",
        "Rearranged=[numbers[i::inter] for i in range(group_no)]\n",
        "\n",
        "print(f\"주어진 숫자 리스트에서 3-index interval로 3-groups으로 분리: {Rearranged}\")"
      ],
      "metadata": {
        "colab": {
          "base_uri": "https://localhost:8080/"
        },
        "id": "DMCU-c7c4mTQ",
        "outputId": "f4dbe7f1-e0e4-4830-f86d-aefca41c4f04"
      },
      "execution_count": null,
      "outputs": [
        {
          "output_type": "stream",
          "name": "stdout",
          "text": [
            "주어진 숫자 리스트에서 3-index interval로 3-groups으로 분리: [[1, 4, 7], [2, 5, 8], [3, 6, 9]]\n"
          ]
        }
      ]
    },
    {
      "cell_type": "code",
      "source": [
        "# Task5_0502. 주어진 리스트에서 중복된 요소를 제거하고, 남은 요소만을 포함하는 새 리스트를 반환합니다. 순서는 유지해야 합니다.\n",
        "input_list = [1, 2, 2, 3, 4, 4, 4, 5, 6, 7, 7]\n",
        "input_set=set(input_list)\n",
        "clear_list=sorted(list(input_set))\n",
        "print(clear_list)"
      ],
      "metadata": {
        "colab": {
          "base_uri": "https://localhost:8080/"
        },
        "id": "fm_kHK034mLh",
        "outputId": "839e02ab-8ed4-4661-cb43-abaee6b93209"
      },
      "execution_count": null,
      "outputs": [
        {
          "output_type": "stream",
          "name": "stdout",
          "text": [
            "[1, 2, 3, 4, 5, 6, 7]\n"
          ]
        }
      ]
    },
    {
      "cell_type": "code",
      "source": [
        "# Task6_0502. 주어진 문자열을 모스 코드로 변환하는 함수를 작성하세요. 공백은 무시하고 알파벳만 변환하세요\n",
        "# input_text=\"Hello~ World!\"\n",
        "morse_code = {\n",
        "        'A': '.-', 'B': '-...', 'C': '-.-.', 'D': '-..', 'E': '.', 'F': '..-.',\n",
        "        'G': '--.', 'H': '....', 'I': '..', 'J': '.---', 'K': '-.-', 'L': '.-..',\n",
        "        'M': '--', 'N': '-.', 'O': '---', 'P': '.--.', 'Q': '--.-', 'R': '.-.',\n",
        "        'S': '...', 'T': '-', 'U': '..-', 'V': '...-', 'W': '.--', 'X': '-..-',\n",
        "        'Y': '-.--', 'Z': '--..'\n",
        "    }\n",
        "\n",
        "input_str=input(\"모스 코드 변환할 문자열을 입력하세요(알파벳을 제외한 모든 문자는 무시됩니다.): \")\n",
        "input_string= re.sub(r'[ ,~!]+', '', input_str)\n",
        "input_string=input_string.upper()\n",
        "tran_morse=[morse_code[i] for i in input_string]\n",
        "print(f\"주어진 문자열 {input_str}의 변환된 모스 코드: {tran_morse[:]}\")"
      ],
      "metadata": {
        "colab": {
          "base_uri": "https://localhost:8080/"
        },
        "id": "Cacx1sAM4mEj",
        "outputId": "a1d61007-4742-4c27-fdd2-e0628c573927"
      },
      "execution_count": null,
      "outputs": [
        {
          "output_type": "stream",
          "name": "stdout",
          "text": [
            "모스 코드 변환할 문자열을 입력하세요(알파벳을 제외한 모든 문자는 무시됩니다.): Hello~ World!\n",
            "주어진 문자열 Hello~ World!의 변환된 모스 코드: ['....', '.', '.-..', '.-..', '---', '.--', '---', '.-.', '.-..', '-..']\n"
          ]
        }
      ]
    },
    {
      "cell_type": "code",
      "source": [
        "# Task7_0502. 주어진 비대칭 m×n 매트릭스(2차원 리스트)에서, 모든 대각선 상의 합을 계산하는 함수를 작성하세요. 결과는 각 대각선의 합을 리스트로 반환해야 합니다.\n",
        "input_arr = [\n",
        "    [1, 2, 3],\n",
        "    [4, 5, 6],\n",
        "    [7, 8, 9],\n",
        "    [10, 11, 12]\n",
        "]\n",
        "# input_arr = [\n",
        "#     [1,  2,  3,  7],\n",
        "#     [4,  5,  6,  5],\n",
        "#     [7,  8,  9,  1],\n",
        "#     [10, 11, 12, 2]\n",
        "# ]\n",
        "# input_arr = [\n",
        "    # [1,  2,  3,  7, 20],\n",
        "    # [4,  5,  6,  5, 21],\n",
        "    # [7,  8,  9,  1, 34],\n",
        "    # [10, 11, 12, 2, 23]\n",
        "# ]\n",
        "# input_arr = [\n",
        "    # [1,  2,  3,  7, 20],\n",
        "    # [4,  5,  6,  5, 21],\n",
        "    # [7,  8,  9,  1, 34],\n",
        "    # [10, 11, 12, 2, 23],\n",
        "    # [3,  16, 42, 21,3]\n",
        "# ]\n",
        "\n",
        "def cal_sum_diag(input_arr):\n",
        "  row_n=len(input_arr); col_n=len(input_arr[0]); sum_diag_list=[]\n",
        "  # Calculating along with the most out element in an anticlockwise direction\n",
        "  for i in range(row_n):\n",
        "    sum_diag=0; l=0;\n",
        "    for j in range(0,min(i+1, col_n),1):\n",
        "     sum_diag=sum_diag+input_arr[i-l][j]\n",
        "     l += 1\n",
        "    sum_diag_list.append(sum_diag)\n",
        "\n",
        "  l=0\n",
        "  for j in range(1, col_n):\n",
        "    sum_diag=0; k=0\n",
        "    for i in range(row_n-1,row_n-col_n+l,-1):\n",
        "      sum_diag=sum_diag+input_arr[i][j+k]\n",
        "      k += 1\n",
        "    l += 1\n",
        "    sum_diag_list.append(sum_diag)\n",
        "  return sum_diag_list\n",
        "\n",
        "print(f\"주어진 M x N 매트릭스의 대각선 상에 있는 요소의 합을 계산, 각 대각선의 합을 리스트로 출력: {cal_sum_diag(input_arr)}\")"
      ],
      "metadata": {
        "colab": {
          "base_uri": "https://localhost:8080/"
        },
        "id": "-HngxgOfm-U1",
        "outputId": "ae3ade95-aec0-413e-bae3-fdcaac29ee24"
      },
      "execution_count": 1,
      "outputs": [
        {
          "output_type": "stream",
          "name": "stdout",
          "text": [
            "주어진 M x N 매트릭스의 대각선 상에 있는 요소의 합을 계산, 각 대각선의 합을 리스트로 출력: [1, 6, 15, 24, 20, 12]\n"
          ]
        }
      ]
    }
  ]
}