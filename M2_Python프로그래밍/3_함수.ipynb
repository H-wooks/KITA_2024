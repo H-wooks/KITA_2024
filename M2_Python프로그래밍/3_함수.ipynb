{
  "nbformat": 4,
  "nbformat_minor": 0,
  "metadata": {
    "colab": {
      "provenance": []
    },
    "kernelspec": {
      "name": "python3",
      "display_name": "Python 3"
    },
    "language_info": {
      "name": "python"
    }
  },
  "cells": [
    {
      "cell_type": "markdown",
      "source": [
        "파이썬에서 함수는 크게 내장 함수(Built-in Functions)와 외장 함수(External Functions)로 나뉩니다.\n",
        "파이썬 표준 라이브러리: https://docs.python.org/ko/3.10/library/index.html\n",
        "\n",
        "1. 내장 함수 (Built-in Functions):\n",
        "- 내장 함수는 파이썬 인터프리터에 포함되어 있어, 별도의 모듈을 임포트(import)하지 않고도 사용 예를 들어, print(), len(), type(), range(), zip() 등이 내장 함수입니다.\n",
        "- 이러한 함수들은 기본적인 작업을 수행하며, 파이썬 프로그래밍의 기본적인 빌딩 블록(building blocks)으로 작동\n",
        "\n",
        "2. 외장 함수 (External Functions):\n",
        "- 표준 라이브러리에 포함된 모듈과 함수를 가리키는 것으로 모듈을 임포트하여 사용\n",
        "- 파이썬 표준 라이브러리의 os, sys, math, random, datetime 등의 모듈에는 다양한 외장 함수가 포함\n",
        "\n",
        "3. 외부 라이브러리나 패키지\n",
        "- 표준 라이브러리에 포함되지 않아 기본 설치에는 포함되지 않는다.\n",
        "- 이를 사용하려면 먼저 해당 라이브러리나 패키지를 설치\n",
        "- 외부 라이브러리는 통상적으로 파이썬의 패키지 관리자인 pip를 사용하여 설치\n",
        "- 설치 후에는 외장 함수와 마찬가지로 필요한 모듈을 임포트하여 사용\n",
        "- 예: numpy, pandas, requests 등의 외부 라이브러리에 포함된 함수들.\n",
        "\n",
        "3. 사용자 정의 함수(User-Defined Functions):\n",
        "- 사용자가 직접 정의하여 사용하는 함수\n",
        "- def 키워드를 사용하여 함수를 정의하며, 필요에 따라 매개변수와 반환 값을 지정\n",
        "\n",
        "4. 람다 함수(Lambda Functions):\n",
        "- 이름 없는 간단한 함수를 정의할 때 사용하는 익명 함수\n",
        "- lambda 키워드를 사용하여 한 줄로 함수를 정의하며, 주로 간단한 연산이 필요할 때 사용"
      ],
      "metadata": {
        "id": "aNdy3lzSFb1j"
      }
    },
    {
      "cell_type": "markdown",
      "source": [
        "#### 파이썬 패키지,  모듈, 함수, 클래스\n",
        "- 코드 작성 시 이미 만들어져 있는 함수들을 활용하면 보다 효율적이고 빠르게 개발 가능\n",
        "- 이미 만들어져 있고 안정성이 검증된 함수들을 성격에 맞게 하나의 파이썬 파일에 묶어 만들어 놓을 것을 모듈이라 함\n",
        "- 외부 모듈에 있는 함수들을 활용하려면 이 모듈을 먼저 가져와서 사용해야 하는데 이것을 모듈을 임포트한다고 한다.\n",
        "- 파이썬 모듈이 하나의 파이썬 파일이라면 패키지는 디렉토리로 볼 수 있다.\n",
        "\n",
        "패키지\n",
        "1. 라이브러리라고도 부름\n",
        "2. 특정 기능과 관련된 여러 모듈을 한 그룹으로 묶은 것\n",
        "3. 패키지 안에 서브패키지가 있을 수도 있다.\n",
        "4. import 패키지/모듈, from 패키지/모듈 import 서브패키지/모듈\n",
        "  \n",
        "   \n",
        "모듈\n",
        "1. 여러 기능들이 뭉쳐진 하나의. py파일\n",
        "2. 함수, 클래스, 변수 등 포함\n",
        "3. import 모듈\n",
        "\n",
        "함수\n",
        "1. 하나의 기능을 가진 코드의 집합\n",
        "2. 함수를 사용한다 = 함수를 호출한다\n",
        "3. 함수 사용 형태: 함수( )\n",
        "   - 필요한 경우 () 안에 매개변수 또는 옵션\n",
        "4. 종류\n",
        "   - 내장 함수(built in function)\n",
        "   - 외장 함수: import 해주어야 함\n",
        "   \n",
        "클래스   \n",
        "- 파이썬은 객체 지향 언어로클래스를 기반으로 객체를 만들어 사용한다.\n",
        "- 한 파이썬 파일(. py) 내에서 \"class class명():\"을 통해 클래스 선언"
      ],
      "metadata": {
        "id": "u6jHE3bQeGxe"
      }
    },
    {
      "cell_type": "markdown",
      "source": [
        "#### 함수 vs 메소드\n",
        "- 함수 (Function)\n",
        "    - 함수는 특정 작업을 수행하거나 값을 계산하기 위해 정의된 코드의 블록\n",
        "    - 함수는 def 키워드를 사용하여 정의\n",
        "    - 함수는 전역적으로 호출할 수 있거나 다른 함수 내부에서 호출할 수 있다.    \n",
        "- 메소드 (Method)\n",
        "    - 메소드는 객체에 속한 함수, 메소드는 특정 객체의 기능으로 정의\n",
        "    - 메소드는 객체와 연결되어 있으며, . (점) 표기법을 사용하여 해당 객체에 대한 메소드를 호출\n",
        "    - 메소드는 첫 번째 매개변수로 self를 사용하여 객체 자체를 참조 (클래스 내부에서 메소드를 정의할 때)\n",
        "- 주요 차이점\n",
        "    - 정의: 함수는 독립적으로 정의되지만, 메소드는 클래스 내부에서 정의\n",
        "    - 호출: 함수는 이름만으로 호출될 수 있지만, 메소드는 객체를 통해 호출\n",
        "    - 참조: 메소드는 첫 번째 매개변수로 객체 자신을 참조(self), 반면 함수는 이런 자체 참조 매개변수를 갖지 않는다."
      ],
      "metadata": {
        "id": "OAuDLCymeFIb"
      }
    },
    {
      "cell_type": "markdown",
      "source": [
        "- 함수의 종류 및 예제\n",
        "- 패키지, 모듈, 함수, 클래스\n",
        "- 함수 vs 메소드\n",
        "- 내장함수 연습\n",
        "- 외장함수 연습 : 날짜 함수, os\n",
        "- 외부 라이브러리 연습\n",
        "- 람다함수 연습\n",
        "- 사용자 함수 연습\n",
        "- 함수 유형 : 입력 인자와 리턴값에 따른 4가지 형태\n",
        "- 지역변수와 전역변수\n",
        "- 프로그램 작성"
      ],
      "metadata": {
        "id": "VwjIXsvEjEYy"
      }
    },
    {
      "cell_type": "code",
      "source": [
        "# 내장 함수 예제\n",
        "print(\"hello, World!\")    # 출력함수\n",
        "print(len([1,2,3,4,5]))   # 길이 계산 함수\n",
        "print(type(10))           # 타입 확인 함수\n"
      ],
      "metadata": {
        "colab": {
          "base_uri": "https://localhost:8080/"
        },
        "id": "tAxf6SZmFfCO",
        "outputId": "19cffab1-7746-453c-ee3a-d893c457c600"
      },
      "execution_count": null,
      "outputs": [
        {
          "output_type": "stream",
          "name": "stdout",
          "text": [
            "hello, World!\n",
            "5\n",
            "<class 'int'>\n"
          ]
        }
      ]
    },
    {
      "cell_type": "code",
      "source": [
        "# Q. 내장 함수로 다음을 수행하세요\n",
        "a=[1,2,3,4,5]\n",
        "print(sum(a))\n",
        "print(max(a))\n",
        "print(min(a))\n",
        "print(sorted(a))\n",
        "print(list(reversed(a)))"
      ],
      "metadata": {
        "colab": {
          "base_uri": "https://localhost:8080/"
        },
        "id": "W-XNlCvaGStF",
        "outputId": "c1eb190c-62b2-4273-defc-8406fc3a5a2d"
      },
      "execution_count": null,
      "outputs": [
        {
          "output_type": "stream",
          "name": "stdout",
          "text": [
            "15\n",
            "5\n",
            "1\n",
            "[1, 2, 3, 4, 5]\n",
            "[5, 4, 3, 2, 1]\n"
          ]
        }
      ]
    },
    {
      "cell_type": "code",
      "source": [
        "print(type(42))\n",
        "print(abs(-5))\n",
        "print(round(3.12123123,2))\n",
        "print(pow(2,3))"
      ],
      "metadata": {
        "colab": {
          "base_uri": "https://localhost:8080/"
        },
        "id": "N7SA0VEwGSpt",
        "outputId": "b8de255d-736c-479a-87df-710ade0702db"
      },
      "execution_count": null,
      "outputs": [
        {
          "output_type": "stream",
          "name": "stdout",
          "text": [
            "<class 'int'>\n",
            "5\n",
            "3.12\n",
            "8\n"
          ]
        }
      ]
    },
    {
      "cell_type": "code",
      "source": [
        "## 외장 함수 예제\n",
        "import math\n",
        "print(math.sqrt(16))\n",
        "\n",
        "import random\n",
        "print(random.randint(1,10))\n",
        "\n",
        "import datetime\n",
        "print(datetime.datetime.now())"
      ],
      "metadata": {
        "colab": {
          "base_uri": "https://localhost:8080/"
        },
        "id": "o-ThAEQ3GSml",
        "outputId": "5d069d7d-80cd-4e82-f5f3-df9e0462c359"
      },
      "execution_count": null,
      "outputs": [
        {
          "output_type": "stream",
          "name": "stdout",
          "text": [
            "4.0\n",
            "7\n",
            "2024-05-03 06:26:01.838031\n"
          ]
        }
      ]
    },
    {
      "cell_type": "code",
      "source": [
        "# Q. datetime.datetime.now()에서 연도, 월, 일, 시, 분, 초, 마이크로초를 각각 출력하세요\n",
        "\n",
        "import datetime\n",
        "\n",
        "now_get=datetime.datetime.now()\n",
        "\n",
        "print(now_get)\n",
        "print(now_get.year)\n",
        "print(now_get.month)\n",
        "print(now_get.day)\n",
        "print(now_get.hour)\n",
        "print(now_get.minute)\n",
        "print(now_get.second)\n",
        "print(now_get.microsecond)"
      ],
      "metadata": {
        "colab": {
          "base_uri": "https://localhost:8080/"
        },
        "id": "6uOgxG8oGSjj",
        "outputId": "2f4e4c5f-a661-47ea-bc62-61af8790ef57"
      },
      "execution_count": null,
      "outputs": [
        {
          "output_type": "stream",
          "name": "stdout",
          "text": [
            "2024-05-08 07:42:56.415749\n",
            "2024\n",
            "5\n",
            "8\n",
            "7\n",
            "42\n",
            "56\n",
            "415749\n"
          ]
        }
      ]
    },
    {
      "cell_type": "code",
      "source": [
        "# Q. datetime.datetime.now()에서 연도, 월, 일, 시, 분, 초, 마이크로초를 각각 출력하세요\n",
        "\n",
        "from datetime import datetime            ## datetime.datetime에서 앞은 모듈, 뒤는 클래스.. 이 경우 모듈 datetime에서 클래스 datetime을 가져왔으므로 datetime한번만 쓰면 됨\n",
        "\n",
        "now_get=datetime.now()\n",
        "\n",
        "print(now_get)\n",
        "print(now_get.year)\n",
        "print(now_get.month)\n",
        "print(now_get.day)\n",
        "print(now_get.hour)\n",
        "print(now_get.second)\n",
        "print(now_get.microsecond)"
      ],
      "metadata": {
        "colab": {
          "base_uri": "https://localhost:8080/"
        },
        "id": "LM-fSUReGSgh",
        "outputId": "89fad259-71f8-41a7-e434-e43ec084d112"
      },
      "execution_count": null,
      "outputs": [
        {
          "output_type": "stream",
          "name": "stdout",
          "text": [
            "2024-05-03 06:33:37.719609\n",
            "2024\n",
            "5\n",
            "3\n",
            "6\n",
            "37\n",
            "719609\n"
          ]
        }
      ]
    },
    {
      "cell_type": "code",
      "source": [
        "import os\n",
        "print(os.getcwd())\n",
        "os.mkdir('new_folder')\n",
        "os.removedirs('new_folder')\n",
        "print(os.listdir())"
      ],
      "metadata": {
        "colab": {
          "base_uri": "https://localhost:8080/"
        },
        "id": "TlWBwtVHGScs",
        "outputId": "6682706d-2ecf-4801-fb54-d55ed87c8b29"
      },
      "execution_count": null,
      "outputs": [
        {
          "output_type": "stream",
          "name": "stdout",
          "text": [
            "/content/drive/MyDrive/00_KITA_2404/M2_Program\n",
            "['3_함수.ipynb', '0_기초테스트_최환욱', '2024_04_25_TAST_최환욱.ipynb', '2024_04_26_TASK_최환욱.ipynb', '2024_04_29_TASK_최환욱.ipynb', 'User_DataBase.txt', '2024_04_30_TASK_최환욱.ipynb', '1_자료형.ipynb', 'User_DataBase_new.txt', 'Gaussian_Distribution.jpg', '10_File_IO_MakingDB_Plot.ipynb', '0_Codes_toBe_Memorized_정리필요', '2024_05_02_TASK_최환욱.ipynb', '2_제어문.ipynb', 'new_folder']\n"
          ]
        }
      ]
    },
    {
      "cell_type": "code",
      "source": [
        "os.removedirs('new_folder')\n",
        "!ls -la"
      ],
      "metadata": {
        "colab": {
          "base_uri": "https://localhost:8080/"
        },
        "id": "jhS1XxW-I6xa",
        "outputId": "ed6670fc-b204-497b-cc1c-8c969f176dfd"
      },
      "execution_count": null,
      "outputs": [
        {
          "output_type": "stream",
          "name": "stdout",
          "text": [
            "total 2417\n",
            "-rw------- 1 root root 434775 May  3 01:09 0_Codes_toBe_Memorized_정리필요\n",
            "-rw------- 1 root root 193814 Apr 25 00:20 0_기초테스트_최환욱\n",
            "-rw------- 1 root root 172711 May  2 19:14 10_File_IO_MakingDB_Plot.ipynb\n",
            "-rw------- 1 root root 123816 May  2 01:30 1_자료형.ipynb\n",
            "-rw------- 1 root root   6470 Apr 26 09:14 2024_04_25_TAST_최환욱.ipynb\n",
            "-rw------- 1 root root   8869 Apr 27 15:44 2024_04_26_TASK_최환욱.ipynb\n",
            "-rw------- 1 root root   6253 Apr 29 08:26 2024_04_29_TASK_최환욱.ipynb\n",
            "-rw------- 1 root root  12275 May  1 12:17 2024_04_30_TASK_최환욱.ipynb\n",
            "-rw------- 1 root root 673308 May  3 05:42 2024_05_02_TASK_최환욱.ipynb\n",
            "-rw------- 1 root root 765290 May  3 06:13 2_제어문.ipynb\n",
            "-rw------- 1 root root  10601 May  3 06:40 3_함수.ipynb\n",
            "-rw------- 1 root root  62795 May  2 19:13 Gaussian_Distribution.jpg\n",
            "-rw------- 1 root root     85 May  2 19:08 User_DataBase_new.txt\n",
            "-rw------- 1 root root     90 Apr 29 08:57 User_DataBase.txt\n"
          ]
        }
      ]
    },
    {
      "cell_type": "code",
      "source": [
        "!ls -l"
      ],
      "metadata": {
        "colab": {
          "base_uri": "https://localhost:8080/"
        },
        "id": "ji8ouB2ILpov",
        "outputId": "216ed211-e3d2-4c67-f0d7-74afb39896c3"
      },
      "execution_count": null,
      "outputs": [
        {
          "output_type": "stream",
          "name": "stdout",
          "text": [
            "total 2417\n",
            "-rw------- 1 root root 434775 May  3 01:09 0_Codes_toBe_Memorized_정리필요\n",
            "-rw------- 1 root root 193814 Apr 25 00:20 0_기초테스트_최환욱\n",
            "-rw------- 1 root root 172711 May  2 19:14 10_File_IO_MakingDB_Plot.ipynb\n",
            "-rw------- 1 root root 123816 May  2 01:30 1_자료형.ipynb\n",
            "-rw------- 1 root root   6470 Apr 26 09:14 2024_04_25_TAST_최환욱.ipynb\n",
            "-rw------- 1 root root   8869 Apr 27 15:44 2024_04_26_TASK_최환욱.ipynb\n",
            "-rw------- 1 root root   6253 Apr 29 08:26 2024_04_29_TASK_최환욱.ipynb\n",
            "-rw------- 1 root root  12275 May  1 12:17 2024_04_30_TASK_최환욱.ipynb\n",
            "-rw------- 1 root root 673308 May  3 05:42 2024_05_02_TASK_최환욱.ipynb\n",
            "-rw------- 1 root root 765290 May  3 06:13 2_제어문.ipynb\n",
            "-rw------- 1 root root   9767 May  3 06:41 3_함수.ipynb\n",
            "-rw------- 1 root root  62795 May  2 19:13 Gaussian_Distribution.jpg\n",
            "-rw------- 1 root root     85 May  2 19:08 User_DataBase_new.txt\n",
            "-rw------- 1 root root     90 Apr 29 08:57 User_DataBase.txt\n"
          ]
        }
      ]
    },
    {
      "cell_type": "code",
      "source": [
        "# 외부 라이브러리 예제\n",
        "# 먼저 pip를 사용하여 pandas 라이브러리를 설치합니다.\n",
        "# !pip install pandas\n",
        "\n",
        "import pandas as pd\n",
        "\n",
        "#pandas의 DataFrame 객체 생성\n",
        "data={\"name\": ['Alice', 'Bob', 'Challie'], 'Age': [25,30,35]}\n",
        "df=pd.DataFrame(data)         # PD에서 제공하는 모든 method사용 가능한 객체 생성\n",
        "# pandas의 head()함수 사용하여 DataFrame의 처음 5행 출력 (예시에서는 3행만 존재 )\n",
        "print(df.head())\n"
      ],
      "metadata": {
        "colab": {
          "base_uri": "https://localhost:8080/"
        },
        "id": "ylXnCUD1Lpl5",
        "outputId": "b405448c-e8f8-4dd4-daed-420fd329990e"
      },
      "execution_count": null,
      "outputs": [
        {
          "output_type": "stream",
          "name": "stdout",
          "text": [
            "      name  Age\n",
            "0    Alice   25\n",
            "1      Bob   30\n",
            "2  Challie   35\n"
          ]
        }
      ]
    },
    {
      "cell_type": "code",
      "source": [
        "print(df)"
      ],
      "metadata": {
        "colab": {
          "base_uri": "https://localhost:8080/"
        },
        "id": "hSAIJteoLpjD",
        "outputId": "bf86fbf1-2833-49d7-c04c-10c3847bbb78"
      },
      "execution_count": null,
      "outputs": [
        {
          "output_type": "stream",
          "name": "stdout",
          "text": [
            "      name  Age\n",
            "0    Alice   25\n",
            "1      Bob   30\n",
            "2  Challie   35\n"
          ]
        }
      ]
    },
    {
      "cell_type": "code",
      "source": [
        "import numpy as np        ## Python 내장 함수로는 배열 제공 X 이를 위해 numpy를 사용\n",
        "\n",
        "data=[1,2,3,4]\n",
        "arr=np.array(data)\n",
        "print(arr,type(arr))\n"
      ],
      "metadata": {
        "colab": {
          "base_uri": "https://localhost:8080/"
        },
        "id": "5l-FXhXYLpfO",
        "outputId": "d3d6ae59-7ce5-41fb-e8bd-1716062d1462"
      },
      "execution_count": null,
      "outputs": [
        {
          "output_type": "stream",
          "name": "stdout",
          "text": [
            "[1 2 3 4] <class 'numpy.ndarray'>\n"
          ]
        }
      ]
    },
    {
      "cell_type": "code",
      "source": [
        "# 사용자 함수 예제\n",
        "def greet(name):\n",
        "  return f\"Hello, {name}!\"\n",
        "print(greet(\"홍길동\"))      # 출력: Hello, 홍길동"
      ],
      "metadata": {
        "colab": {
          "base_uri": "https://localhost:8080/"
        },
        "id": "0ZidUQ1BI6q3",
        "outputId": "a317c5e1-43e9-417d-e4f9-6b36ea4e284d"
      },
      "execution_count": null,
      "outputs": [
        {
          "output_type": "stream",
          "name": "stdout",
          "text": [
            "Hello, 홍길동!\n"
          ]
        }
      ]
    },
    {
      "cell_type": "markdown",
      "source": [
        "# 람다(Lambda) 함수"
      ],
      "metadata": {
        "id": "kkISQDo7TwEZ"
      }
    },
    {
      "cell_type": "code",
      "source": [
        "# 람다함수는 간단한 한줄의 함수를 작성할 때 유용\n",
        "multiply = lambda x, y: x*y             #lambda가 함수 이름, lambda 뒤가 바로 입력 매개 변수 (x,y) 정의하고 : 뒤에 수행할 action\n",
        "print(multiply(3,4))"
      ],
      "metadata": {
        "colab": {
          "base_uri": "https://localhost:8080/"
        },
        "id": "eY0hVTOfSb9Q",
        "outputId": "7ee58057-2add-4e67-d7e6-480323af019c"
      },
      "execution_count": null,
      "outputs": [
        {
          "output_type": "stream",
          "name": "stdout",
          "text": [
            "12\n"
          ]
        }
      ]
    },
    {
      "cell_type": "code",
      "source": [
        "# 조건 사용\n",
        "is_even = lambda x: True if x%2 == 0 else False\n",
        "print(is_even(4))\n",
        "print(is_even(5))"
      ],
      "metadata": {
        "colab": {
          "base_uri": "https://localhost:8080/"
        },
        "id": "W2YgVPvvSb6Y",
        "outputId": "0b4541ed-f80c-4585-901c-26a80723b2d5"
      },
      "execution_count": null,
      "outputs": [
        {
          "output_type": "stream",
          "name": "stdout",
          "text": [
            "True\n",
            "False\n"
          ]
        }
      ]
    },
    {
      "cell_type": "code",
      "source": [
        "### TASK1_0503. 여러개의 음식을 시에 주문할 수 있는 시스템을 프로그래밍 하시오\n",
        "\n",
        "def display_item():\n",
        "    print(\"\\n\"+\"\\t\"*3+\"저희 식당에 와주셔서 감사드립니다.\"+\"\\n\"+\"\\t\"*3+\"아래 메뉴를 참고 하셔서 음식을 주문하세요\")\n",
        "    print(\"=\" * 100)\n",
        "    print(\"\\t\"*6+\"- 메  뉴 -\")\n",
        "    print(\"\\n 한식\"+\"\\t\"*4+\"양식\"+\"\\t\"*4+\"분식\"+\"\\t\"*4+\"음료\")\n",
        "    print(\" 1.김치찌개:9,000원\"+\"\\t\"*2+\"5.돈 까 스: 10,000원\"+\"\\t\"*2+\" 9.라  면: 4,000원\"+\"\\t\"*2+\"13.커  피: 2,500원\")\n",
        "    print(\" 2.된장찌개:9,000원\"+\"\\t\"*2+\"6.치킨까스: 10,000원\"+\"\\t\"*2+\"10.쫄  면: 6,000원\"+\"\\t\"*2+\"14.콜  라: 2,500원\")\n",
        "    print(\" 3.비 빔 밥:9,000원\"+\"\\t\"*2+\"7.스테이크: 20,000원\"+\"\\t\"*2+\"11.떡뽁이: 6,000원\"+\"\\t\"*2+\"15.사이다: 2,500원\")\n",
        "    print(\" 4.볶 음 밥:9,000원\"+\"\\t\"*2+\"8.스파게티: 12,000원\"+\"\\t\"*2+\"12.순  대: 6,000원\"+\"\\t\"*2+\"16.생  수: 1,000원\")\n",
        "    print(\"\\n\\n밥과 반찬을 추가하기 위해서는 세트를 추가 주문해주시기 바랍니다.세트 주문 시 3,000원이 추가됩니다.\")\n",
        "    print(\"=\" * 100, \"\\n\"*3)\n",
        "\n",
        "\n",
        "def order():\n",
        "    # item별 가격\n",
        "    global prices, item\n",
        "    prices = {1: 9000, 2: 9000, 3: 9000, 4: 9000, 5: 10000, 6: 10000,7: 20000, 8: 12000, 9: 4000, 10: 6000, 11: 6000, 12: 6000,13: 2500, 14: 2500, 15: 2500, 16: 1000}\n",
        "    item = {1:\"김치찌개\",2:\"된장찌개\",3:\"비빔밥\",4:\"볶음밥\",5:\"돈까스\",6:\"치킨까스\",7:\"스테이크\",8:\"스파게티\",9:\"라면\",10:\"쫄면\",11:\"떡뽁이\",12:\"순대\",13:\"커피\",14:\"콜라\",15:\"사이다\",16:\"생수\"}\n",
        "    item_no=[0]*(16+1+1)\n",
        "    ordered_price=0\n",
        "\n",
        "    # 메뉴 선택\n",
        "    menu_choice = input(\"\\n안내해드린 음식 메뉴(1 - 16)를 선택하시거나 종료 하시려면 '종료'을 입력하세요)>>> \")\n",
        "\n",
        "    if menu_choice != '종료':\n",
        "      # 수량 선택\n",
        "      quantity_choice = int(input(\"선택하신 메뉴의 수량을 선택해주세요>>> \"))\n",
        "      item_no[int(menu_choice)-1]=quantity_choice\n",
        "      ordered_price = prices.get(int(menu_choice), 0)*quantity_choice\n",
        "      if 0 < int(menu_choice) <= 12:\n",
        "        # 세트 주문\n",
        "        add_set = input(\"세트(3,000원 추가)를 주문을 하시겠습니까? Y/N >>> \").lower()\n",
        "      else: add_set = 'n'\n",
        "      if add_set == 'y':\n",
        "        quantity_set=int(input(\"세트 메뉴의 수량을 선택해주세요>>> \"))\n",
        "        item_no[-2]=quantity_set\n",
        "        ordered_price += 3000*quantity_set\n",
        "        print(f\"\\n\\n********* 주문하신 {item[int(menu_choice)]}:{item_no[int(menu_choice)-1]}, 세트:{quantity_set}가 장바구니에 담겼습니다, 금액은 {ordered_price}원입니다.\")\n",
        "      else:\n",
        "        print(f\"\\n\\n********* 주문하신 {item[int(menu_choice)]}:{item_no[int(menu_choice)-1]}가 장바구니에 담겼습니다, 금액은 {ordered_price}원입니다.\")\n",
        "    else:item_no[-1]=1            # 사용자가 종료를 입력하면 item_no[17]에 1\n",
        "\n",
        "    return item_no, ordered_price\n",
        "\n",
        "\n",
        "def main():\n",
        "  display_item()\n",
        "  final_order=[0]*(16+1+1)\n",
        "  final_price=0\n",
        "  while True:\n",
        "    ordered_list, ordered_price = order()\n",
        "    if ordered_list[-1] == 1:\n",
        "      final_price += ordered_price\n",
        "      final_order=[x+y for x, y in zip(final_order,ordered_list)]\n",
        "      print(\"\\n주문하신 사항을 확인하세요\")\n",
        "      j=0\n",
        "      for i in final_order[0:17]:\n",
        "        if i >= 1 and j <= 15:\n",
        "          print(f\"{item[j+1]}:{i}, \",end=\"\")\n",
        "        if i >= 1 and j == 16:\n",
        "          print(f\"세트:{i}\",end=\"\")\n",
        "        j += 1\n",
        "      print(f\"\\n결재하실 총 금액은 {final_price}원입니다.\\n감사합니다!\")\n",
        "      break\n",
        "    else:\n",
        "      final_price += ordered_price\n",
        "      final_order=[x+y for x, y in zip(final_order,ordered_list)]\n",
        "      print(\"장바구니에 아래 메뉴가 담겨있습니다.\")\n",
        "      j=0\n",
        "      for i in final_order[0:17]:\n",
        "        if i >= 1 and j <= 15:\n",
        "          print(f\"{item[j+1]}:{i}, \",end=\"\")\n",
        "        if i >= 1 and j == 16:\n",
        "          print(f\"세트:{i}\",end=\"\")\n",
        "        j += 1\n",
        "      print(f\"\\n장바구니에 담긴 총 금액은 {final_price}원입니다!\")\n",
        "\n",
        "\n",
        "\n",
        "if __name__ == \"__main__\":\n",
        "    main()\n",
        "\n"
      ],
      "metadata": {
        "id": "iY6RFlmUSbfD",
        "colab": {
          "base_uri": "https://localhost:8080/"
        },
        "outputId": "cbdc2534-aac3-4be2-80a4-de0ac65c512f"
      },
      "execution_count": null,
      "outputs": [
        {
          "output_type": "stream",
          "name": "stdout",
          "text": [
            "\n",
            "\t\t\t저희 식당에 와주셔서 감사드립니다.\n",
            "\t\t\t아래 메뉴를 참고 하셔서 음식을 주문하세요\n",
            "====================================================================================================\n",
            "\t\t\t\t\t\t- 메  뉴 -\n",
            "\n",
            " 한식\t\t\t\t양식\t\t\t\t분식\t\t\t\t음료\n",
            " 1.김치찌개:9,000원\t\t5.돈 까 스: 10,000원\t\t 9.라  면: 4,000원\t\t13.커  피: 2,500원\n",
            " 2.된장찌개:9,000원\t\t6.치킨까스: 10,000원\t\t10.쫄  면: 6,000원\t\t14.콜  라: 2,500원\n",
            " 3.비 빔 밥:9,000원\t\t7.스테이크: 20,000원\t\t11.떡뽁이: 6,000원\t\t15.사이다: 2,500원\n",
            " 4.볶 음 밥:9,000원\t\t8.스파게티: 12,000원\t\t12.순  대: 6,000원\t\t16.생  수: 1,000원\n",
            "\n",
            "\n",
            "밥과 반찬을 추가하기 위해서는 세트를 추가 주문해주시기 바랍니다.세트 주문 시 3,000원이 추가됩니다.\n",
            "==================================================================================================== \n",
            "\n",
            "\n",
            "\n",
            "\n",
            "안내해드린 음식 메뉴(1 - 16)를 선택하시거나 종료 하시려면 '종료'을 입력하세요)>>> 1\n",
            "선택하신 메뉴의 수량을 선택해주세요>>> 2\n",
            "세트(3,000원 추가)를 주문을 하시겠습니까? Y/N >>> y\n",
            "세트 메뉴의 수량을 선택해주세요>>> 2\n",
            "\n",
            "\n",
            "********* 주문하신 김치찌개:2, 세트:2가 장바구니에 담겼습니다, 금액은 24000원입니다.\n",
            "장바구니에 아래 메뉴가 담겨있습니다.\n",
            "김치찌개:2, 세트:2\n",
            "장바구니에 담긴 총 금액은 24000원입니다!\n",
            "\n",
            "안내해드린 음식 메뉴(1 - 16)를 선택하시거나 종료 하시려면 '종료'을 입력하세요)>>> 7\n",
            "선택하신 메뉴의 수량을 선택해주세요>>> 3\n",
            "세트(3,000원 추가)를 주문을 하시겠습니까? Y/N >>> y\n",
            "세트 메뉴의 수량을 선택해주세요>>> 2\n",
            "\n",
            "\n",
            "********* 주문하신 스테이크:3, 세트:2가 장바구니에 담겼습니다, 금액은 66000원입니다.\n",
            "장바구니에 아래 메뉴가 담겨있습니다.\n",
            "김치찌개:2, 스테이크:3, 세트:4\n",
            "장바구니에 담긴 총 금액은 90000원입니다!\n",
            "\n",
            "안내해드린 음식 메뉴(1 - 16)를 선택하시거나 종료 하시려면 '종료'을 입력하세요)>>> 13\n",
            "선택하신 메뉴의 수량을 선택해주세요>>> 5\n",
            "\n",
            "\n",
            "********* 주문하신 커피:5가 장바구니에 담았습니다, 금액은 12500원입니다.\n",
            "장바구니에 아래 메뉴가 담겨있습니다.\n",
            "김치찌개:2, 스테이크:3, 커피:5, 세트:4\n",
            "장바구니에 담긴 총 금액은 102500원입니다!\n",
            "\n",
            "안내해드린 음식 메뉴(1 - 16)를 선택하시거나 종료 하시려면 '종료'을 입력하세요)>>> 13\n",
            "선택하신 메뉴의 수량을 선택해주세요>>> 3\n",
            "\n",
            "\n",
            "********* 주문하신 커피:3가 장바구니에 담았습니다, 금액은 7500원입니다.\n",
            "장바구니에 아래 메뉴가 담겨있습니다.\n",
            "김치찌개:2, 스테이크:3, 커피:8, 세트:4\n",
            "장바구니에 담긴 총 금액은 110000원입니다!\n",
            "\n",
            "안내해드린 음식 메뉴(1 - 16)를 선택하시거나 종료 하시려면 '종료'을 입력하세요)>>> 종료\n",
            "\n",
            "주문하신 사항을 확인하세요\n",
            "김치찌개:2, 스테이크:3, 커피:8, 세트:4\n",
            "결재하실 총 금액은 110000원입니다.\n",
            "감사합니다!\n"
          ]
        }
      ]
    },
    {
      "cell_type": "markdown",
      "source": [
        "#### 강사님 답안 Task1_0503\n",
        "[시나리오]\n",
        "1. 시작 인터페이스:\n",
        "- 시스템 시작 시, 사용자에게 주문 시작 여부를 질문 (y 또는 n으로 응답).\n",
        "- y 선택 시 주문 프로세스 시작.\n",
        "- n 선택 시 시스템 종료 및 \"감사합니다.\" 메시지 표시.\n",
        "2. 메뉴 표시:\n",
        "- 주문 프로세스 시작 시, 현재 메뉴 항목과 가격 표시.\n",
        "- 각 메뉴 옆에는 선택 번호 제공 (예: 1, 2, 3).\n",
        "- 세트 주문 시 추가 비용 안내 (3000원 추가).\n",
        "3. 주문 입력:\n",
        "- 메뉴 선택 입력 요청.\n",
        "- 메뉴 번호 입력 후 세트 주문 여부 질문 (y는 세트, n은 일반).\n",
        "- 주문 수량 질문 후, 주문 장바구니에 추가.\n",
        "- 주문이 추가된 후 해당 내용 표시.\n",
        "4. 주문 취소:\n",
        "- 잘못 주문했거나 주문 취소 시 0 입력.\n",
        "- 주문 취소 시 \"모든 주문이 취소되었습니다.\" 메시지 표시.\n",
        "5. 주문 요약 및 결제:\n",
        "- 주문 완료하려면 5 입력.\n",
        "- 주문 내역 및 총 금액 요약 표시.\n",
        "- 결제 금액 안내 및 결제 진행 요청.\n",
        "- 결제 완료 후 \"총 금액은 XXX원이 결제되었습니다. 감사합니다.\" 메시지 표시 및 주문 초기화.\n",
        "6. 반복 주문 가능:\n",
        "- 결제 후 추가 주문 진행 가능.\n",
        "- 언제든지 n 입력하여 주문 프로세스 종료 및 시스템 빠져나올 수 있음.\n",
        "\n",
        "[ 함수 구성 및 역할 ]\n",
        "1. display_menu()\n",
        "- 역할: 사용자에게 메뉴 선택지를 표시.\n",
        "- 세부 기능: 메뉴 아이템과 각각의 가격, 세트 주문 시 추가 비용을 표시.\n",
        "- 시나리오 연결: 사용자가 주문 프로세스를 시작할 때, 어떤 메뉴를 선택할 수 있는지 표시.\n",
        "2. display_order_summary()\n",
        "- 역할: 현재 주문 상태를 요약하여 표시.\n",
        "- 세부 기능: 선택된 메뉴 항목, 수량, 세트 여부, 각 항목의 가격과 총 주문 금액을 계산하여 표시.\n",
        "- 시나리오 연결: 주문을 마친 후, 사용자가 자신의 주문 내역을 확인하고 최종 결제하기 전에 전체 주문 내용 검토.\n",
        "3. add_order(menu_id, is_set)\n",
        "- 역할: 사용자의 메뉴 선택을 주문 목록에 추가.\n",
        "- 세부 기능: 메뉴 ID와 세트 여부에 따라 주문을 추가하고, 추가된 주문 정보를 사용자에게 전달.\n",
        "- 시나리오 연결: 사용자가 메뉴를 선택하고 주문 수량을 입력할 때, 해당 주문을 시스템에 추가 및 확인.\n",
        "4. process_order()\n",
        "- 역할: 주문 프로세스의 메인 컨트롤러.\n",
        "- 세부 기능: 사용자의 입력을 받아 메뉴 선택, 주문, 주문 취소, 결제를 처리하고, 프로세스의 시작과 종료를 관리.\n",
        "- 시나리오 연결: 전체 주문 프로세스를 실행하고, 사용자의 각 선택에 따라 적절한 행동을 지시하며, 필요에 따라 다른 함수들을 호출.\n",
        "\n",
        "[ 시나리오의 흐름과 함수 연결 ]\n",
        "1. 시작: 사용자가 주문을 시작하겠다고 응답하면 (y 입력), display_menu() 함수가 호출되어 사용 가능한 메뉴를 표시.\n",
        "2. 메뉴 선택: 사용자가 메뉴 번호를 입력하고, 세트 여부를 선택하면 add_order() 함수가 호출되어 주문을 추가.\n",
        "3. 주문 확인: 주문을 추가할 때마다 display_order_summary() 함수가 호출되어 현재까지의 주문 상태를 확인.\n",
        "4. 주문 수정 또는 결제: 사용자가 주문을 취소하거나 변경할 수 있고, 최종적으로 결제를 원할 때 process_order() 함수 내에서 결제를 진행.\n",
        "4. 종료: 주문 결제가 완료되면, 사용자가 추가 주문을 원하지 않을 경우 (n 입력), 시스템이 종료.\n",
        "\n",
        "이러한 구조화된 접근 방식은 코드의 각 부분이 시나리오의 어떤 단계와 연결되는지 명확하게 정의하며, 시스템의 유지 관리와 확장성을 개선."
      ],
      "metadata": {
        "id": "_GDxlvqAnH9w"
      }
    },
    {
      "cell_type": "code",
      "source": [
        "##### 전역 변수 test\n",
        "\n",
        "orders={}\n",
        "\n",
        "\n",
        "def dummy():\n",
        "  global orders\n",
        "  orders={(1,1):4, (2,1):3}\n",
        "\n",
        "def add_2():\n",
        "  orders[(1,1)] = orders.get((1,1), 0) + 3\n",
        "\n",
        "def main():\n",
        "  dummy()\n",
        "  add_2()\n",
        "  print(orders[(1,1)])\n",
        "\n",
        "if __name__ == \"__main__\":\n",
        "    main()\n"
      ],
      "metadata": {
        "id": "zVlDmzw9j7ZO"
      },
      "execution_count": null,
      "outputs": []
    },
    {
      "cell_type": "code",
      "execution_count": null,
      "metadata": {
        "colab": {
          "base_uri": "https://localhost:8080/"
        },
        "id": "phEwpEsz6bAa",
        "outputId": "9ee72ae4-2cd0-49c4-ad51-7e32cc8a469d"
      },
      "outputs": [
        {
          "output_type": "stream",
          "name": "stdout",
          "text": [
            "● 주문을 하시겠습니까? (y 또는 n) >> y\n",
            "\n",
            "♣♣♣ KITA 식당에 오신 것을 환영합니다 ♣♣♣\n",
            "========================================\n",
            "           - 메뉴 -\n",
            "  1. 불고기 비빔밥 : 12000원\n",
            "  2. 야채 비빔밥 : 8000원\n",
            "  3. 전주 비빔밥 : 10000원\n",
            "\n",
            "  세트 주문시 : 3000원 추가 (세트는 밥과 반찬이 추가됩니다.)\n",
            "========================================\n",
            "\n",
            "■장바구니\n",
            " 불고기 비빔밥 0개: 0원\n",
            " 불고기 비빔밥 세트 0개: 0원\n",
            " 야채 비빔밥 0개: 0원\n",
            " 야채 비빔밥 세트 0개: 0원\n",
            " 전주 비빔밥 0개: 0원\n",
            " 전주 비빔밥 세트 0개: 0원\n",
            " 총 금액 0원\n",
            "\n",
            "● 주문할 메뉴를 골라주세요. (불고기 비빔밥:1, 야채 비빔밥:2, 전주 비빔밥:3,             전체 취소:0, 결재:5) >> 2\n",
            "\n",
            "●3000원을 추가해 세트로 주문하시겠습니까?                 (일반주문시:n, 세트주문시:y)\n",
            "ㅛ\n",
            "★올바른 선택을 입력하세요 (y 또는 n).★\n",
            "\n",
            "♣♣♣ KITA 식당에 오신 것을 환영합니다 ♣♣♣\n",
            "========================================\n",
            "           - 메뉴 -\n",
            "  1. 불고기 비빔밥 : 12000원\n",
            "  2. 야채 비빔밥 : 8000원\n",
            "  3. 전주 비빔밥 : 10000원\n",
            "\n",
            "  세트 주문시 : 3000원 추가 (세트는 밥과 반찬이 추가됩니다.)\n",
            "========================================\n",
            "\n",
            "■장바구니\n",
            " 불고기 비빔밥 0개: 0원\n",
            " 불고기 비빔밥 세트 0개: 0원\n",
            " 야채 비빔밥 0개: 0원\n",
            " 야채 비빔밥 세트 0개: 0원\n",
            " 전주 비빔밥 0개: 0원\n",
            " 전주 비빔밥 세트 0개: 0원\n",
            " 총 금액 0원\n",
            "\n",
            "● 주문할 메뉴를 골라주세요. (불고기 비빔밥:1, 야채 비빔밥:2, 전주 비빔밥:3,             전체 취소:0, 결재:5) >> 3\n",
            "\n",
            "●3000원을 추가해 세트로 주문하시겠습니까?                 (일반주문시:n, 세트주문시:y)\n",
            "y\n",
            "\n",
            "● 전주 비빔밥 세트 몇 개 주문 하시겠습니까?\n",
            "2\n",
            "\n",
            "전주 비빔밥 세트 2개가 장바구니에 담겼습니다.\n",
            "\n",
            "\n",
            "♣♣♣ KITA 식당에 오신 것을 환영합니다 ♣♣♣\n",
            "========================================\n",
            "           - 메뉴 -\n",
            "  1. 불고기 비빔밥 : 12000원\n",
            "  2. 야채 비빔밥 : 8000원\n",
            "  3. 전주 비빔밥 : 10000원\n",
            "\n",
            "  세트 주문시 : 3000원 추가 (세트는 밥과 반찬이 추가됩니다.)\n",
            "========================================\n",
            "\n",
            "■장바구니\n",
            " 불고기 비빔밥 0개: 0원\n",
            " 불고기 비빔밥 세트 0개: 0원\n",
            " 야채 비빔밥 0개: 0원\n",
            " 야채 비빔밥 세트 0개: 0원\n",
            " 전주 비빔밥 0개: 0원\n",
            " 전주 비빔밥 세트 2개: 26000원\n",
            " 총 금액 26000원\n",
            "\n",
            "● 주문할 메뉴를 골라주세요. (불고기 비빔밥:1, 야채 비빔밥:2, 전주 비빔밥:3,             전체 취소:0, 결재:5) >> 5\n",
            "\n",
            "●주문하려면 결제해주세요. 결제금액은 26000원 입니다.\n",
            "\n",
            "결제를 완료하려면 아무 키나 누르세요...\n",
            "\n",
            "총 금액 26000원이 결제 되었습니다. 감사합니다.\n",
            "● 주문을 하시겠습니까? (y 또는 n) >> n\n",
            "감사합니다.\n"
          ]
        }
      ],
      "source": [
        "### TASK1_0503. 강사님 답안.\n",
        "# 메뉴 아이템과 가격 설정\n",
        "menu_items = {\n",
        "    '1': (\"불고기 비빔밥\", 12000),\n",
        "    '2': (\"야채 비빔밥\", 8000),\n",
        "    '3': (\"전주 비빔밥\", 10000)\n",
        "}\n",
        "set_price = 3000\n",
        "orders = {}\n",
        "price_total = 0\n",
        "\n",
        "def display_menu():\n",
        "    print(\"\\n♣♣♣ KITA 식당에 오신 것을 환영합니다 ♣♣♣\")\n",
        "    print(\"========================================\")\n",
        "    print(\"           - 메뉴 -\")\n",
        "    for key, (name, price) in menu_items.items():\n",
        "        print(f\"  {key}. {name} : {price}원\")\n",
        "    print(\"\\n  세트 주문시 : 3000원 추가 (세트는 밥과 반찬이 추가됩니다.)\")\n",
        "    print(\"========================================\")\n",
        "\n",
        "def display_order_summary():\n",
        "    global price_total  # 전역 변수 price_total 사용 선언\n",
        "    print(\"\\n■장바구니\")\n",
        "    price_total = 0\n",
        "    for key, (name, price) in menu_items.items():\n",
        "        count = orders.get((key, False), 0)\n",
        "        count_set = orders.get((key, True), 0)\n",
        "        print(f\" {name} {count}개: {count * price}원\")\n",
        "        print(f\" {name} 세트 {count_set}개: {count_set * (price + set_price)}원\")\n",
        "        price_total += (count * price) + (count_set * (price + set_price))\n",
        "    print(f\" 총 금액 {price_total}원\\n\")\n",
        "\n",
        "def add_order(menu_id, is_set):\n",
        "    item_name, item_price = menu_items[menu_id]\n",
        "    if is_set:\n",
        "        item_price += set_price\n",
        "    num = input(f\"\\n● {item_name}{' 세트' if is_set else ''} 몇 개 주문 하시겠습니까?\\n\")\n",
        "    if num.isdigit() and int(num) > 0:\n",
        "        orders[(menu_id, is_set)] = orders.get((menu_id, is_set), 0) + int(num) # orders는 {(menu_id, is_set):개수}\n",
        "        print(f\"\\n{item_name}{' 세트' if is_set else ''} {num}개가 장바구니에 담겼습니다.\\n\")\n",
        "    else:\n",
        "        print('★양수만 입력하세요.★')\n",
        "\n",
        "def process_order():\n",
        "    while True:\n",
        "        msg = input(\"● 주문을 하시겠습니까? (y 또는 n) >> \").strip().lower()\n",
        "        if msg == 'y':\n",
        "          while True:\n",
        "            display_menu()\n",
        "            display_order_summary()\n",
        "            choice = input(\"● 주문할 메뉴를 골라주세요. (불고기 비빔밥:1, 야채 비빔밥:2, 전주 비빔밥:3, \\\n",
        "            전체 취소:0, 결재:5) >> \").strip().lower()\n",
        "            if choice in menu_items:\n",
        "                set_choice = input(\"\\n●3000원을 추가해 세트로 주문하시겠습니까? \\\n",
        "                (일반주문시:n, 세트주문시:y)\\n\").strip().lower()\n",
        "                if set_choice in ['y', 'n']:\n",
        "                    add_order(choice, set_choice == 'y')\n",
        "                else:\n",
        "                    print('★올바른 선택을 입력하세요 (y 또는 n).★')\n",
        "            elif choice == '0':\n",
        "                orders.clear()\n",
        "                print('\\n모든 주문이 취소되었습니다.')\n",
        "            elif choice == '5':\n",
        "                if price_total > 0:\n",
        "                    print(f'\\n●주문하려면 결제해주세요. 결제금액은 {price_total}원 입니다.\\n')\n",
        "                    input(\"결제를 완료하려면 아무 키나 누르세요...\")  # 사용자가 결제를 확인할 수 있도록 입력 대기\n",
        "                    print(f\"\\n총 금액 {price_total}원이 결제 되었습니다. 감사합니다.\")\n",
        "                    orders.clear()\n",
        "                    break\n",
        "                else:\n",
        "                    print('★메뉴를 고르고 주문해주세요!★')\n",
        "            else:\n",
        "                print('★메뉴의 지정된 숫자로 입력하세요★')\n",
        "        else:\n",
        "          print('감사합니다.')\n",
        "          break\n",
        "if __name__ == \"__main__\":\n",
        "    process_order()"
      ]
    },
    {
      "cell_type": "code",
      "source": [
        "# Task2_0503. 내장함수 5개를 활용해서 사용자 함수로 간단한 프로그램을 만드세요.\n",
        "\n",
        "# Task에 사용된 내장 함수\n",
        "# (1) format()\n",
        "# (2) print()\n",
        "# (3) open()\n",
        "# (4) range()\n",
        "# (5) str()\n",
        "# (6) filter()\n",
        "# (7) sorted()\n",
        "# (8) enumerate ....\n",
        "#\n",
        "## PC 용량 확보 프로그램: PC내 용량이 크고 사용 빈도수가 낮은 파일삭제 프로그램\n",
        "## - 시나리오 -\n",
        "## (i) 파일 name/path/size/freq-per-month/priority report 로부터 판단 (ii) 사용 빈도로 sorting해서 빈도가 높은 순서로 판단 (iii) 중요도가 상이면 삭제 하지 않음\n",
        "## 이를 위해 dummy 파일들 생성시키고 삭제, 위 시나리오 실행을 위해 fake report 생성\n",
        "## 삭제 우선 순위: (i) 중요도가 상인 파일은 삭제 대상에서 제외 (ii) 각 파일별 사용 빈도로 정렬 (reverse: 빈도가 낮을수록 상위순위)\n",
        "## (iii) 각 파일별 용량 기준 정렬(용량이 클 수록 상위 순위) (iv) (ii)과 (iii)의 순위의 합이 낮을 수록 삭제 대상 우선 순위 준다.\n",
        "## (iv) 과정에서 동순위가 존재할 경우 용량이 큰 순서로 우선 삭제 대상으로\n",
        "import re\n",
        "import os\n",
        "\n",
        "global report_path, del_no\n",
        "report_path='/content/drive/MyDrive/00_KITA_2404/M2_Program'\n",
        "os.chdir(report_path)\n",
        "del_no=1             # 상위 1개 삭제\n",
        "\n",
        "def mk_dummy_file():\n",
        "  for i in range(5):\n",
        "    dummy_file=report_path+\"/dummy0\"+str(i+1)\n",
        "    with open(dummy_file, 'w') as f: pass\n",
        "\n",
        "def read_report(report):\n",
        "  DB_list=[]\n",
        "  with open(report, 'r') as fin:\n",
        "    for line in fin:\n",
        "      if re.search(\"^\\s*#\", line):\n",
        "        line2 = re.sub(\"[#]\", \"\", line)\n",
        "        hd=re.split('\\s+', line2)\n",
        "        hd=list(filter(None, hd))\n",
        "      else:\n",
        "        splited_line=[];\n",
        "        splited_line=re.split('\\s+', line)\n",
        "        splited_line=list(filter(None, splited_line))\n",
        "        dict1={}\n",
        "        for i in range(len(splited_line)):\n",
        "          dict1[hd[i]]=splited_line[i]\n",
        "        DB_list.append(dict1)\n",
        "  return DB_list\n",
        "\n",
        "def preparation():\n",
        "  mk_dummy_file()\n",
        "\n",
        "\n",
        "def sorting(in_list):\n",
        "  sort_freq=sorted(in_list, key=lambda x: int(x['freq_of_use']))\n",
        "  sort_size=sorted(in_list, key=lambda x: int(x['size']), reverse=True)\n",
        "  return sort_freq, sort_size\n",
        "\n",
        "def determine_del(DB_or, DB_f, DB_s):\n",
        "  for i in range(len(DB_or)):\n",
        "    cur_name=DB_or[i]['name']\n",
        "    index1=[index for index, item in enumerate(DB_f) if item['name']==cur_name]\n",
        "    index2=[index for index, item in enumerate(DB_s) if item['name']==cur_name]\n",
        "    DB_or[i]['del_prio']=index1[0]+index2[0]\n",
        "  return DB_or\n",
        "\n",
        "def del_file(DB):\n",
        "  DB_del=sorted(DB, key=lambda x: (-int(x['del_prio']),int(x['size'])), reverse=True)\n",
        "  for i in range(del_no):\n",
        "    del_fname=DB_del[i]['path']+\"/\"+ DB_del[i]['name']\n",
        "    if os.path.isfile(del_fname): os.remove(del_fname)\n",
        "      #print(\"okay\", del_fname)\n",
        "\n",
        "def main():\n",
        "  report_file='{}/{}'.format(report_path,\"Report_File_Use_Freq.txt\")\n",
        "  DB=read_report(report_file)\n",
        "  ## priority가 상이면 삭제 대상에서 삭제\n",
        "  [DB.remove(item) for i, item in enumerate(DB) if item['priority']=='상']\n",
        "  DB_f, DB_s =sorting(DB)\n",
        "  DB_new=determine_del(DB,DB_f,DB_s)\n",
        "  del_file(DB_new)\n",
        "\n",
        "\n",
        "if __name__ == \"__main__\":\n",
        "  preparation()\n",
        "  main()\n",
        "\n",
        "\n"
      ],
      "metadata": {
        "id": "jNuk6gCmSb3i"
      },
      "execution_count": null,
      "outputs": []
    },
    {
      "cell_type": "code",
      "source": [
        "print(dir(__builtins__))\n",
        "print(len(dir(__builtins__)))"
      ],
      "metadata": {
        "colab": {
          "base_uri": "https://localhost:8080/"
        },
        "id": "BSu8D5vLANDC",
        "outputId": "527a6274-1ee1-4822-f288-f9d4ddac3726"
      },
      "execution_count": null,
      "outputs": [
        {
          "output_type": "stream",
          "name": "stdout",
          "text": [
            "['ArithmeticError', 'AssertionError', 'AttributeError', 'BaseException', 'BlockingIOError', 'BrokenPipeError', 'BufferError', 'BytesWarning', 'ChildProcessError', 'ConnectionAbortedError', 'ConnectionError', 'ConnectionRefusedError', 'ConnectionResetError', 'DeprecationWarning', 'EOFError', 'Ellipsis', 'EncodingWarning', 'EnvironmentError', 'Exception', 'False', 'FileExistsError', 'FileNotFoundError', 'FloatingPointError', 'FutureWarning', 'GeneratorExit', 'IOError', 'ImportError', 'ImportWarning', 'IndentationError', 'IndexError', 'InterruptedError', 'IsADirectoryError', 'KeyError', 'KeyboardInterrupt', 'LookupError', 'MemoryError', 'ModuleNotFoundError', 'NameError', 'None', 'NotADirectoryError', 'NotImplemented', 'NotImplementedError', 'OSError', 'OverflowError', 'PendingDeprecationWarning', 'PermissionError', 'ProcessLookupError', 'RecursionError', 'ReferenceError', 'ResourceWarning', 'RuntimeError', 'RuntimeWarning', 'StopAsyncIteration', 'StopIteration', 'SyntaxError', 'SyntaxWarning', 'SystemError', 'SystemExit', 'TabError', 'TimeoutError', 'True', 'TypeError', 'UnboundLocalError', 'UnicodeDecodeError', 'UnicodeEncodeError', 'UnicodeError', 'UnicodeTranslateError', 'UnicodeWarning', 'UserWarning', 'ValueError', 'Warning', 'ZeroDivisionError', '__IPYTHON__', '__build_class__', '__debug__', '__doc__', '__import__', '__loader__', '__name__', '__package__', '__spec__', 'abs', 'aiter', 'all', 'anext', 'any', 'ascii', 'bin', 'bool', 'breakpoint', 'bytearray', 'bytes', 'callable', 'chr', 'classmethod', 'compile', 'complex', 'copyright', 'credits', 'delattr', 'dict', 'dir', 'display', 'divmod', 'enumerate', 'eval', 'exec', 'execfile', 'filter', 'float', 'format', 'frozenset', 'get_ipython', 'getattr', 'globals', 'hasattr', 'hash', 'help', 'hex', 'id', 'input', 'int', 'isinstance', 'issubclass', 'iter', 'len', 'license', 'list', 'locals', 'map', 'max', 'memoryview', 'min', 'next', 'object', 'oct', 'open', 'ord', 'pow', 'print', 'property', 'range', 'repr', 'reversed', 'round', 'runfile', 'set', 'setattr', 'slice', 'sorted', 'staticmethod', 'str', 'sum', 'super', 'tuple', 'type', 'vars', 'zip']\n",
            "158\n"
          ]
        }
      ]
    },
    {
      "cell_type": "code",
      "source": [
        "# Task2_0503. 강사님 답안\n",
        "# Task에 사용된 내장 함수\n",
        "# len()\n",
        "#\n",
        "\n",
        "def string_statistics(user_input):\n",
        "  #문자열 길이 반환\n",
        "  lenth = len(user_input)\n",
        "  #가장 많이 등장하는 문자 찾기\n",
        "  from collections import Counter\n",
        "  frequency = Counter(user_input)\n",
        "  most_common = frequency.most_common(1)[0][0]             # 상위 최빈 word 1개를 반환\n",
        "  most_common_no = frequency.most_common(1)[0][1]             # 상위 최빈 word 1개를 반환\n",
        "  # 숫자 개수 세기\n",
        "  num_count = sum(c.isdigit() for c in user_input)    # digit인 경우 (True)인 경우만 sum\n",
        "  # 대문자 개수 세기\n",
        "  uppercase_count = sum(c.isupper() for c in user_input)    # 대문자인 경우 (True)인 경우만 sum\n",
        "  # 소문자 개수 세기\n",
        "  lowercase_count = sum(c.islower() for c in user_input)    # 소문자인 경우 (True)인 경우만 sum\n",
        "  #결과 출력\n",
        "  print(f\"입력된 문자열의 길이: {lenth}\")\n",
        "  print(f\"가장 자주 등장하는 문자: {most_common}\")\n",
        "  print(f\"가장 자주 등장하는 문자의 횟수: {most_common_no}\")\n",
        "  print(f\"숫자의 개수: {num_count}\")\n",
        "  print(f\"대문자의 개수: {uppercase_count}\")\n",
        "  print(f\"소문자의 개수: {lowercase_count}\")\n",
        "\n",
        "#사용자 입력 받기\n",
        "user_input = input(\"문자열을 입력하세요: \")\n",
        "string_statistics(user_input)\n",
        "####MyNameNameNameNameName is wh333333333333333333333333333 333333333333\n"
      ],
      "metadata": {
        "colab": {
          "base_uri": "https://localhost:8080/"
        },
        "id": "d5c8zavgABGg",
        "outputId": "c5577770-e93d-40d4-e2ce-c7e0e3538528"
      },
      "execution_count": null,
      "outputs": [
        {
          "output_type": "stream",
          "name": "stdout",
          "text": [
            "문자열을 입력하세요: MyNameNameNameNameName is wh333333333333333333333333333 333333333333 \n",
            "입력된 문자열의 길이: 69\n",
            "가장 자주 등장하는 문자: 3\n",
            "가장 자주 등장하는 문자의 횟수: 39\n",
            "숫자의 개수: 39\n",
            "대문자의 개수: 6\n",
            "소문자의 개수: 20\n"
          ]
        }
      ]
    },
    {
      "cell_type": "code",
      "source": [
        "# Task3_0503. 외장 함수 3개 이상을 활용해서 간단한 프로그램을 만드세요.\n",
        "\n",
        "# [예시] 문서관리 프로그램\n",
        "\n",
        "# (1) random\n",
        "# (2) matplotlib\n",
        "# (3) numpy\n",
        "# (4) os\n",
        "#\n",
        "\n",
        "#### 프로그램 설명: random 함수를 이용해서 (표준) 정규 분포를 생성하는데, 생성 횟수를 2000개, 10000, 10만, 100만개에 따라서 얼마나 표준 정규 분포를 잘 따라 가는지 검증\n",
        "#### (1) 이를 검증하기 위해서 난수 필드를 위 횟수만큼 생성해서 histogram 그래프를 그리고 이때 히스토 그램 그래프는 density로 정규화 시켜야 한다.\n",
        "#### (2) 검증을 위한 reference는 Standard Normal Distribution 수학적 수식을 위해 reference line을 그려 히스토 그램 그래프와 비교 할 수 있는 프로그램 생성\n",
        "\n",
        "import random\n",
        "import matplotlib.pyplot as plt\n",
        "import matplotlib\n",
        "import numpy as np\n",
        "import os\n",
        "\n",
        "Legend_List=[2000, 10000, 100000, 1000000]\n",
        "fig = plt.figure(figsize=(8,6))                    # fig = plt.figure(figsize=(6, 8))\n",
        "fig.suptitle('Gaussian Distribution (Standard Normal Distribution) vs. # of RV ',fontweight =\"bold\", color='b')\n",
        "\n",
        "x=np.arange(-5, 5, 0.01)\n",
        "def gaussian(x, mean, sigma):\n",
        "  return (1/np.sqrt(2*np.pi*sigma**2))*np.exp(-(x-mean)**2/(2*sigma**2))\n",
        "\n",
        "for i in range(len(Legend_List)):\n",
        "  ax_handle='ax{i+1}'\n",
        "  ax_handle=fig.add_subplot(2,2,i+1); ax_handle.plot(x,gaussian(x,0,1),lw=2 ,color='g')\n",
        "\n",
        "  mean=0; std_dev=1; gaussian_field=[]\n",
        "  k=1\n",
        "  while k <= Legend_List[i]:\n",
        "    k += 1\n",
        "    gaussian_field.append(random.gauss(mean, std_dev))\n",
        "  #ax_handle.hist(gaussian_field, density=True, bins=1000, alpha=0.9, color='k', label='# of RV:'+ str(Legend_List[i]))\n",
        "  ax_handle.hist(gaussian_field, density=True, bins=1000, alpha=0.3, color='k')\n",
        "  ax_handle.set_xlabel('Value', weight='bold')\n",
        "  ax_handle.set_ylabel('P(x): Frequency', weight='bold')\n",
        "  ax_handle.set_title('# of RV:'+ str(Legend_List[i]))\n",
        "  #plt.legend(loc='best',framealpha=1, facecolor='w', edgecolor='w')\n",
        "  plt.axvline(x=0, color='k', linestyle='--', linewidth=1.5)\n",
        "  plt.axvline(x=-3, color='b', linestyle='--', linewidth=1.5)\n",
        "  plt.axvline(x=3, color='r', linestyle='--', linewidth=1.5)\n",
        "  #plt.xscale=(linear)           # 'log', 'linear', 'symlog'\n",
        "  #plt.xlim=([-5,5]); plt.ylim=([0,0.5])\n",
        "  plt.axis([-5, 5, 0, 0.8])        # X, Y축의 범위: [xmin, xmax, ymin, ymax]\n",
        "  #plt.grid()\n",
        "\n",
        "  # plt.xlabel('Value')\n",
        "  # plt.ylabel('density')\n",
        "  # plt.legend(legend)\n",
        "\n",
        "fig.tight_layout()\n",
        "plt.show()\n",
        "\n",
        "os.chdir('/content/drive/MyDrive/00_KITA_2404/M2_Program')\n",
        "cur_path=os.getcwd();               ## cur_path=%pwd\n",
        "figure_file=cur_path+'/'+'Gaussian_Distribution.jpg'\n",
        "fig.savefig(figure_file)\n",
        "\n"
      ],
      "metadata": {
        "id": "INoni9vVUqEP",
        "colab": {
          "base_uri": "https://localhost:8080/",
          "height": 609
        },
        "outputId": "cee33822-4d45-4751-a514-d4f77e796329"
      },
      "execution_count": null,
      "outputs": [
        {
          "output_type": "display_data",
          "data": {
            "text/plain": [
              "<Figure size 800x600 with 4 Axes>"
            ],
            "image/png": "[encoded data removed]"
          },
          "metadata": {}
        }
      ]
    },
    {
      "cell_type": "code",
      "source": [
        "# Task3_0503. 강사님 답안\n",
        "import os\n",
        "import datetime\n",
        "import shutil\n",
        "\n",
        "def daily_scheduler():\n",
        "  #현재 날짜와 시간을 가져옴\n",
        "  today = datetime.datetime.now()\n",
        "  date_string=today.strftime(\"%Y-%m-%d %H:%M:%S\")\n",
        "  print(f\"오늘의 날짜와 시간: {date_string}\")\n",
        "  # 작업 파일의 이름을 정합니다.\n",
        "  filename=f\"tasks_{today.strftime('%Y%m%d')}.txt\"\n",
        "  #파일이 이미 존재하는지 확인\n",
        "  if os.path.exists(filename):\n",
        "    print(f\"'{filename}' 파일이 이미 존재합니다. 백업을 생성합니다.\")\n",
        "    # 백업 파일 생성\n",
        "    shutil.copy(filename, filename+\".bak\")\n",
        "  else:\n",
        "    print(f\"'{filename}' 파일이 존재하지 않습니다. 새로운 파일을 생성합니다.\")\n",
        "  #사용자로 부터 오늘의 주요 작업을 입력 받습니다.\n",
        "  task=input(\"오늘의 주요 작업을 입력하세요: \")\n",
        "  #작업내용을 파일에 저장합니다.\n",
        "  with open(filename, 'a') as file:\n",
        "    file.write(f\"{date_string}: {task}\\n\")\n",
        "  print(f\"'{filename}' 파일에 작업이 저장되었습니다.\")\n",
        "\n",
        "if __name__ == \"__main__\":\n",
        "  daily_scheduler()"
      ],
      "metadata": {
        "colab": {
          "base_uri": "https://localhost:8080/"
        },
        "id": "GMQhYZ_oFdbr",
        "outputId": "c552fc0f-045a-4c0c-8dbc-ec126e684372"
      },
      "execution_count": null,
      "outputs": [
        {
          "output_type": "stream",
          "name": "stdout",
          "text": [
            "오늘의 날짜와 시간: 2024-05-07 03:32:48\n",
            "'tasks_20240507.txt' 파일이 존재하지 않습니다. 새로운 파일을 생성합니다.\n",
            "오늘의 주요 작업을 입력하세요: 수업 수강\n",
            "'tasks_20240507.txt' 파일에 작업이 저장되었습니다.\n"
          ]
        }
      ]
    },
    {
      "cell_type": "code",
      "source": [
        "%pwd\n",
        "!cat /content/tasks_20240507.txt\n",
        "!ls"
      ],
      "metadata": {
        "colab": {
          "base_uri": "https://localhost:8080/"
        },
        "id": "s75UBwD-FiVL",
        "outputId": "4c46c256-8402-4d0b-8afa-8e1f3e34b885"
      },
      "execution_count": null,
      "outputs": [
        {
          "output_type": "stream",
          "name": "stdout",
          "text": [
            "2024-05-07 03:32:48: 수업 수강\n",
            "drive  sample_data  tasks_20240507.txt\n"
          ]
        }
      ]
    },
    {
      "cell_type": "code",
      "source": [
        "# Task4_0503. 리스트를 작성하고 람다함수를 이용해서 한번에 함수를 적용하여 결과값을 출력하세요\n",
        "## EX\n",
        "#numbers=[1,2,3,4]\n",
        "#squared_numbers=map(lambda x: x*x, numbers)\n",
        "#print(list(squared_numbers))\n",
        "\n",
        "#EX1\n",
        "DB = [\"lee, 2000\", \"kim, 2000\", \"choi, 2001\", \"park, 2001\"]\n",
        "name = list(map(lambda x: x.split(',')[0], DB))\n",
        "birth = list(map(lambda x: x.split(',')[1], DB))\n",
        "print(name,birth)\n",
        "\n",
        "\n",
        "#EX2\n",
        "l1 = [1,2,3]\n",
        "l2 = [2,3,4]\n",
        "print(list(map(lambda x,y :x + y, l1 , l2)))\n",
        "\n",
        "#EX3\n",
        "###### 리스트의 각 요소를 [:][0] 오름차순, [:][1]로 내림차순 정렬\n",
        "list1 = [[1,2],[3,9],[2,7],[2,1],[2,4],[3,1]]\n",
        "list1.sort(key=lambda x:(x[0],-x[1]))\n",
        "print(list1)\n",
        "\n",
        "#EX4  학생별 점수를 내림차순으로 정렬\n",
        "score_list = [\n",
        "    (\"A학생\", 60),\n",
        "    (\"B학생\", 80),\n",
        "    (\"C학생\", 50),\n",
        "    (\"D학생\", 70),\n",
        "]\n",
        "score_list.sort(key = lambda x : -x[1])\n",
        "print(score_list)\n",
        "\n",
        "\n",
        "# EX5 List안의 Dict에 대해서 특정 key값에 대한 value로 정렬 1순위 정렬(내림) + 2순위 정렬(오름)\n",
        "list_test=[{\"name\":\"dummy1\", \"size\":\"200\",\"freq\":23},{\"name\":\"dummy2\", \"size\":\"300\",\"freq\":10},{\"name\":\"dummy3\", \"size\":\"100\",\"freq\":23} ]\n",
        "sorted_freq_size=sorted(list_test, key=lambda x: (-int(x['freq']),int(x['size'])))\n",
        "print(sorted_freq_size)\n",
        "\n",
        "#EX6\n",
        "### 글자수로 sorting\n",
        "string1 = ['  cat ', ' tiger1 ', '    dog2', 'snake   ']\n",
        "print(sorted(string1, key=lambda x : len(x.strip())))\n",
        "\n",
        "#EX7\n",
        "# 원소가 3의 배수라면 string으로 변환\n",
        "list2 = [1, 2, 3, 4, 5, 6, 7, 8, 9, 10]\n",
        "results2=list(map(lambda x: str(x) if x % 3 == 0 else x, list2))\n",
        "print(results2)\n",
        "\n",
        "\n",
        "#EX8\n",
        "# 5 < 원소 < 10을 만족하는 원소만 반환\n",
        "list3 = [8, 3, 2, 10, 15, 7, 1, 9, 0, 11]\n",
        "results3=list(filter(lambda x: x > 5 and x < 10, list3))\n",
        "print(results3)"
      ],
      "metadata": {
        "colab": {
          "base_uri": "https://localhost:8080/"
        },
        "id": "CHEjjBGHVAhb",
        "outputId": "1db05b87-9979-4958-ee85-d69b0ff922dc"
      },
      "execution_count": null,
      "outputs": [
        {
          "output_type": "stream",
          "name": "stdout",
          "text": [
            "['lee', 'kim', 'choi', 'park'] [' 2000', ' 2000', ' 2001', ' 2001']\n",
            "[3, 5, 7]\n",
            "[[1, 2], [2, 7], [2, 4], [2, 1], [3, 9], [3, 1]]\n",
            "[('B학생', 80), ('D학생', 70), ('A학생', 60), ('C학생', 50)]\n",
            "[{'name': 'dummy3', 'size': '100', 'freq': 23}, {'name': 'dummy1', 'size': '200', 'freq': 23}, {'name': 'dummy2', 'size': '300', 'freq': 10}]\n",
            "['  cat ', '    dog2', 'snake   ', ' tiger1 ']\n",
            "[1, 2, '3', 4, 5, '6', 7, 8, '9', 10]\n",
            "[8, 7, 9]\n"
          ]
        }
      ]
    },
    {
      "cell_type": "code",
      "source": [
        "# Task4_0503. 강사님 답안\n",
        "## EX\n",
        "#numbers=[1,2,3,4]\n",
        "#squared_numbers=map(lambda x: x*x, numbers)\n",
        "#print(list(squared_numbers))\n",
        "\n",
        "#짝수\n",
        "numbers=[1,2,3,4,5]\n",
        "filtered_num=filter(lambda x: x % 2 ==0, numbers)\n",
        "print(list(filtered_num))\n"
      ],
      "metadata": {
        "colab": {
          "base_uri": "https://localhost:8080/"
        },
        "id": "_OFBfxJyI_Mw",
        "outputId": "723f1d10-0500-43a9-dba4-9e55ca847fbb"
      },
      "execution_count": null,
      "outputs": [
        {
          "output_type": "stream",
          "name": "stdout",
          "text": [
            "[2, 4]\n"
          ]
        }
      ]
    },
    {
      "cell_type": "code",
      "source": [
        "# Task5_0503. 외부 라이브러리를 임포트해서 간단한 프로그램을 만드세요\n",
        "# from bs4 import BeautifulSoup\n",
        "# html_doc = \"<html><head><title>Hello World</title></head></html>\"\n",
        "# soup = BeautifulSoup(html_doc, 'html.parser')\n",
        "# print(soup.title.text)\n",
        "\n",
        "#%pip list > /content/drive/MyDrive/00_KITA_2404/M2_Program/pip_list.txt\n",
        "\n",
        "## 해당 library가 install되어 있는지 학인\n",
        "%pip list\n",
        "\n",
        "## PyPI(python package index)로부터 Faker 인스톨\n",
        "## Faker는 테스트용 가짜 데이터를 생성할 때 사용하는 라이브러리\n",
        "## 50개의 name/addr/좋아하는색상/메일주소 fake data를 생성\n",
        "\n",
        "%pip install Faker\n",
        "\n",
        "from faker import Faker\n",
        "\n",
        "fake = Faker('ko-KR')\n",
        "fake_db = [(fake.name(), fake.address(),fake.color_name(),fake.email()) for i in range(50)]\n",
        "print(fake_db, len(fake_db))"
      ],
      "metadata": {
        "id": "dnd8kwPYV125",
        "colab": {
          "base_uri": "https://localhost:8080/"
        },
        "outputId": "b31b6742-a56d-4797-cbf3-de6b937a33c1"
      },
      "execution_count": null,
      "outputs": [
        {
          "output_type": "stream",
          "name": "stdout",
          "text": [
            "Package                          Version\n",
            "-------------------------------- ---------------------\n",
            "absl-py                          1.4.0\n",
            "aiohttp                          3.9.5\n",
            "aiosignal                        1.3.1\n",
            "alabaster                        0.7.16\n",
            "albumentations                   1.3.1\n",
            "altair                           4.2.2\n",
            "annotated-types                  0.6.0\n",
            "anyio                            3.7.1\n",
            "appdirs                          1.4.4\n",
            "argon2-cffi                      23.1.0\n",
            "argon2-cffi-bindings             21.2.0\n",
            "array_record                     0.5.1\n",
            "arviz                            0.15.1\n",
            "astropy                          5.3.4\n",
            "astunparse                       1.6.3\n",
            "async-timeout                    4.0.3\n",
            "atpublic                         4.1.0\n",
            "attrs                            23.2.0\n",
            "audioread                        3.0.1\n",
            "autograd                         1.6.2\n",
            "Babel                            2.14.0\n",
            "backcall                         0.2.0\n",
            "beautifulsoup4                   4.12.3\n",
            "bidict                           0.23.1\n",
            "bigframes                        1.4.0\n",
            "bleach                           6.1.0\n",
            "blinker                          1.4\n",
            "blis                             0.7.11\n",
            "blosc2                           2.0.0\n",
            "bokeh                            3.3.4\n",
            "bqplot                           0.12.43\n",
            "branca                           0.7.2\n",
            "build                            1.2.1\n",
            "CacheControl                     0.14.0\n",
            "cachetools                       5.3.3\n",
            "catalogue                        2.0.10\n",
            "certifi                          2024.2.2\n",
            "cffi                             1.16.0\n",
            "chardet                          5.2.0\n",
            "charset-normalizer               3.3.2\n",
            "chex                             0.1.86\n",
            "click                            8.1.7\n",
            "click-plugins                    1.1.1\n",
            "cligj                            0.7.2\n",
            "cloudpathlib                     0.16.0\n",
            "cloudpickle                      2.2.1\n",
            "cmake                            3.27.9\n",
            "cmdstanpy                        1.2.2\n",
            "colorcet                         3.1.0\n",
            "colorlover                       0.3.0\n",
            "colour                           0.1.5\n",
            "community                        1.0.0b1\n",
            "confection                       0.1.4\n",
            "cons                             0.4.6\n",
            "contextlib2                      21.6.0\n",
            "contourpy                        1.2.1\n",
            "cryptography                     42.0.5\n",
            "cufflinks                        0.17.3\n",
            "cupy-cuda12x                     12.2.0\n",
            "cvxopt                           1.3.2\n",
            "cvxpy                            1.3.4\n",
            "cycler                           0.12.1\n",
            "cymem                            2.0.8\n",
            "Cython                           3.0.10\n",
            "dask                             2023.8.1\n",
            "datascience                      0.17.6\n",
            "db-dtypes                        1.2.0\n",
            "dbus-python                      1.2.18\n",
            "debugpy                          1.6.6\n",
            "decorator                        4.4.2\n",
            "defusedxml                       0.7.1\n",
            "distributed                      2023.8.1\n",
            "distro                           1.7.0\n",
            "dlib                             19.24.4\n",
            "dm-tree                          0.1.8\n",
            "docstring_parser                 0.16\n",
            "docutils                         0.18.1\n",
            "dopamine-rl                      4.0.6\n",
            "duckdb                           0.10.2\n",
            "earthengine-api                  0.1.400\n",
            "easydict                         1.13\n",
            "ecos                             2.0.13\n",
            "editdistance                     0.6.2\n",
            "eerepr                           0.0.4\n",
            "en-core-web-sm                   3.7.1\n",
            "entrypoints                      0.4\n",
            "et-xmlfile                       1.1.0\n",
            "etils                            1.7.0\n",
            "etuples                          0.3.9\n",
            "exceptiongroup                   1.2.1\n",
            "Faker                            25.0.1\n",
            "fastai                           2.7.15\n",
            "fastcore                         1.5.33\n",
            "fastdownload                     0.0.7\n",
            "fastjsonschema                   2.19.1\n",
            "fastprogress                     1.0.3\n",
            "fastrlock                        0.8.2\n",
            "filelock                         3.14.0\n",
            "fiona                            1.9.6\n",
            "firebase-admin                   5.3.0\n",
            "Flask                            2.2.5\n",
            "flatbuffers                      24.3.25\n",
            "flax                             0.8.3\n",
            "folium                           0.14.0\n",
            "fonttools                        4.51.0\n",
            "frozendict                       2.4.2\n",
            "frozenlist                       1.4.1\n",
            "fsspec                           2023.6.0\n",
            "future                           0.18.3\n",
            "gast                             0.5.4\n",
            "gcsfs                            2023.6.0\n",
            "GDAL                             3.6.4\n",
            "gdown                            5.1.0\n",
            "geemap                           0.32.0\n",
            "gensim                           4.3.2\n",
            "geocoder                         1.38.1\n",
            "geographiclib                    2.0\n",
            "geopandas                        0.13.2\n",
            "geopy                            2.3.0\n",
            "gin-config                       0.5.0\n",
            "glob2                            0.7\n",
            "google                           2.0.3\n",
            "google-ai-generativelanguage     0.6.2\n",
            "google-api-core                  2.11.1\n",
            "google-api-python-client         2.84.0\n",
            "google-auth                      2.27.0\n",
            "google-auth-httplib2             0.1.1\n",
            "google-auth-oauthlib             1.2.0\n",
            "google-cloud-aiplatform          1.48.0\n",
            "google-cloud-bigquery            3.21.0\n",
            "google-cloud-bigquery-connection 1.12.1\n",
            "google-cloud-bigquery-storage    2.24.0\n",
            "google-cloud-core                2.3.3\n",
            "google-cloud-datastore           2.15.2\n",
            "google-cloud-firestore           2.11.1\n",
            "google-cloud-functions           1.13.3\n",
            "google-cloud-iam                 2.15.0\n",
            "google-cloud-language            2.13.3\n",
            "google-cloud-resource-manager    1.12.3\n",
            "google-cloud-storage             2.8.0\n",
            "google-cloud-translate           3.11.3\n",
            "google-colab                     1.0.0\n",
            "google-crc32c                    1.5.0\n",
            "google-generativeai              0.5.2\n",
            "google-pasta                     0.2.0\n",
            "google-resumable-media           2.7.0\n",
            "googleapis-common-protos         1.63.0\n",
            "googledrivedownloader            0.4\n",
            "graphviz                         0.20.3\n",
            "greenlet                         3.0.3\n",
            "grpc-google-iam-v1               0.13.0\n",
            "grpcio                           1.63.0\n",
            "grpcio-status                    1.48.2\n",
            "gspread                          6.0.2\n",
            "gspread-dataframe                3.3.1\n",
            "gym                              0.25.2\n",
            "gym-notices                      0.0.8\n",
            "h5netcdf                         1.3.0\n",
            "h5py                             3.9.0\n",
            "holidays                         0.47\n",
            "holoviews                        1.17.1\n",
            "html5lib                         1.1\n",
            "httpimport                       1.3.1\n",
            "httplib2                         0.22.0\n",
            "huggingface-hub                  0.20.3\n",
            "humanize                         4.7.0\n",
            "hyperopt                         0.2.7\n",
            "ibis-framework                   8.0.0\n",
            "idna                             3.7\n",
            "imageio                          2.31.6\n",
            "imageio-ffmpeg                   0.4.9\n",
            "imagesize                        1.4.1\n",
            "imbalanced-learn                 0.10.1\n",
            "imgaug                           0.4.0\n",
            "importlib_metadata               7.1.0\n",
            "importlib_resources              6.4.0\n",
            "imutils                          0.5.4\n",
            "inflect                          7.0.0\n",
            "iniconfig                        2.0.0\n",
            "intel-openmp                     2023.2.4\n",
            "ipyevents                        2.0.2\n",
            "ipyfilechooser                   0.6.0\n",
            "ipykernel                        5.5.6\n",
            "ipyleaflet                       0.18.2\n",
            "ipython                          7.34.0\n",
            "ipython-genutils                 0.2.0\n",
            "ipython-sql                      0.5.0\n",
            "ipytree                          0.2.2\n",
            "ipywidgets                       7.7.1\n",
            "itsdangerous                     2.2.0\n",
            "jax                              0.4.26\n",
            "jaxlib                           0.4.26+cuda12.cudnn89\n",
            "jeepney                          0.7.1\n",
            "jieba                            0.42.1\n",
            "Jinja2                           3.1.3\n",
            "joblib                           1.4.0\n",
            "jsonpickle                       3.0.4\n",
            "jsonschema                       4.19.2\n",
            "jsonschema-specifications        2023.12.1\n",
            "jupyter-client                   6.1.12\n",
            "jupyter-console                  6.1.0\n",
            "jupyter_core                     5.7.2\n",
            "jupyter-server                   1.24.0\n",
            "jupyterlab_pygments              0.3.0\n",
            "jupyterlab_widgets               3.0.10\n",
            "kaggle                           1.6.12\n",
            "kagglehub                        0.2.4\n",
            "keras                            2.15.0\n",
            "keyring                          23.5.0\n",
            "kiwisolver                       1.4.5\n",
            "langcodes                        3.4.0\n",
            "language_data                    1.2.0\n",
            "launchpadlib                     1.10.16\n",
            "lazr.restfulclient               0.14.4\n",
            "lazr.uri                         1.0.6\n",
            "lazy_loader                      0.4\n",
            "libclang                         18.1.1\n",
            "librosa                          0.10.1\n",
            "lightgbm                         4.1.0\n",
            "linkify-it-py                    2.0.3\n",
            "llvmlite                         0.41.1\n",
            "locket                           1.0.0\n",
            "logical-unification              0.4.6\n",
            "lxml                             4.9.4\n",
            "malloy                           2023.1067\n",
            "marisa-trie                      1.1.0\n",
            "Markdown                         3.6\n",
            "markdown-it-py                   3.0.0\n",
            "MarkupSafe                       2.1.5\n",
            "matplotlib                       3.7.1\n",
            "matplotlib-inline                0.1.7\n",
            "matplotlib-venn                  0.11.10\n",
            "mdit-py-plugins                  0.4.0\n",
            "mdurl                            0.1.2\n",
            "miniKanren                       1.0.3\n",
            "missingno                        0.5.2\n",
            "mistune                          0.8.4\n",
            "mizani                           0.9.3\n",
            "mkl                              2023.2.0\n",
            "ml-dtypes                        0.2.0\n",
            "mlxtend                          0.22.0\n",
            "more-itertools                   10.1.0\n",
            "moviepy                          1.0.3\n",
            "mpmath                           1.3.0\n",
            "msgpack                          1.0.8\n",
            "multidict                        6.0.5\n",
            "multipledispatch                 1.0.0\n",
            "multitasking                     0.0.11\n",
            "murmurhash                       1.0.10\n",
            "music21                          9.1.0\n",
            "natsort                          8.4.0\n",
            "nbclassic                        1.0.0\n",
            "nbclient                         0.10.0\n",
            "nbconvert                        6.5.4\n",
            "nbformat                         5.10.4\n",
            "nest-asyncio                     1.6.0\n",
            "networkx                         3.3\n",
            "nibabel                          4.0.2\n",
            "nltk                             3.8.1\n",
            "notebook                         6.5.5\n",
            "notebook_shim                    0.2.4\n",
            "numba                            0.58.1\n",
            "numexpr                          2.10.0\n",
            "numpy                            1.25.2\n",
            "oauth2client                     4.1.3\n",
            "oauthlib                         3.2.2\n",
            "opencv-contrib-python            4.8.0.76\n",
            "opencv-python                    4.8.0.76\n",
            "opencv-python-headless           4.9.0.80\n",
            "openpyxl                         3.1.2\n",
            "opt-einsum                       3.3.0\n",
            "optax                            0.2.2\n",
            "orbax-checkpoint                 0.4.4\n",
            "osqp                             0.6.2.post8\n",
            "packaging                        24.0\n",
            "pandas                           2.0.3\n",
            "pandas-datareader                0.10.0\n",
            "pandas-gbq                       0.19.2\n",
            "pandas-stubs                     2.0.3.230814\n",
            "pandocfilters                    1.5.1\n",
            "panel                            1.3.8\n",
            "param                            2.1.0\n",
            "parso                            0.8.4\n",
            "parsy                            2.1\n",
            "partd                            1.4.1\n",
            "pathlib                          1.0.1\n",
            "patsy                            0.5.6\n",
            "peewee                           3.17.3\n",
            "pexpect                          4.9.0\n",
            "pickleshare                      0.7.5\n",
            "Pillow                           9.4.0\n",
            "pip                              23.1.2\n",
            "pip-tools                        6.13.0\n",
            "platformdirs                     4.2.1\n",
            "plotly                           5.15.0\n",
            "plotnine                         0.12.4\n",
            "pluggy                           1.5.0\n",
            "polars                           0.20.2\n",
            "pooch                            1.8.1\n",
            "portpicker                       1.5.2\n",
            "prefetch-generator               1.0.3\n",
            "preshed                          3.0.9\n",
            "prettytable                      3.10.0\n",
            "proglog                          0.1.10\n",
            "progressbar2                     4.2.0\n",
            "prometheus_client                0.20.0\n",
            "promise                          2.3\n",
            "prompt-toolkit                   3.0.43\n",
            "prophet                          1.1.5\n",
            "proto-plus                       1.23.0\n",
            "protobuf                         3.20.3\n",
            "psutil                           5.9.5\n",
            "psycopg2                         2.9.9\n",
            "ptyprocess                       0.7.0\n",
            "py-cpuinfo                       9.0.0\n",
            "py4j                             0.10.9.7\n",
            "pyarrow                          14.0.2\n",
            "pyarrow-hotfix                   0.6\n",
            "pyasn1                           0.6.0\n",
            "pyasn1_modules                   0.4.0\n",
            "pycocotools                      2.0.7\n",
            "pycparser                        2.22\n",
            "pydantic                         2.7.1\n",
            "pydantic_core                    2.18.2\n",
            "pydata-google-auth               1.8.2\n",
            "pydot                            1.4.2\n",
            "pydot-ng                         2.0.0\n",
            "pydotplus                        2.0.2\n",
            "PyDrive                          1.3.1\n",
            "PyDrive2                         1.6.3\n",
            "pyerfa                           2.0.1.4\n",
            "pygame                           2.5.2\n",
            "Pygments                         2.16.1\n",
            "PyGObject                        3.42.1\n",
            "PyJWT                            2.3.0\n",
            "pymc                             5.10.4\n",
            "pymystem3                        0.2.0\n",
            "PyOpenGL                         3.1.7\n",
            "pyOpenSSL                        24.1.0\n",
            "pyparsing                        3.1.2\n",
            "pyperclip                        1.8.2\n",
            "pyproj                           3.6.1\n",
            "pyproject_hooks                  1.1.0\n",
            "pyshp                            2.3.1\n",
            "PySocks                          1.7.1\n",
            "pytensor                         2.18.6\n",
            "pytest                           7.4.4\n",
            "python-apt                       0.0.0\n",
            "python-box                       7.1.1\n",
            "python-dateutil                  2.8.2\n",
            "python-louvain                   0.16\n",
            "python-slugify                   8.0.4\n",
            "python-utils                     3.8.2\n",
            "pytz                             2023.4\n",
            "pyviz_comms                      3.0.2\n",
            "PyWavelets                       1.6.0\n",
            "PyYAML                           6.0.1\n",
            "pyzmq                            24.0.1\n",
            "qdldl                            0.1.7.post2\n",
            "qudida                           0.0.4\n",
            "ratelim                          0.1.6\n",
            "referencing                      0.35.0\n",
            "regex                            2023.12.25\n",
            "requests                         2.31.0\n",
            "requests-oauthlib                1.3.1\n",
            "requirements-parser              0.9.0\n",
            "rich                             13.7.1\n",
            "rpds-py                          0.18.0\n",
            "rpy2                             3.4.2\n",
            "rsa                              4.9\n",
            "safetensors                      0.4.3\n",
            "scikit-image                     0.19.3\n",
            "scikit-learn                     1.2.2\n",
            "scipy                            1.11.4\n",
            "scooby                           0.9.2\n",
            "scs                              3.2.4.post1\n",
            "seaborn                          0.13.1\n",
            "SecretStorage                    3.3.1\n",
            "Send2Trash                       1.8.3\n",
            "sentencepiece                    0.1.99\n",
            "setuptools                       67.7.2\n",
            "shapely                          2.0.4\n",
            "six                              1.16.0\n",
            "sklearn-pandas                   2.2.0\n",
            "smart-open                       6.4.0\n",
            "sniffio                          1.3.1\n",
            "snowballstemmer                  2.2.0\n",
            "sortedcontainers                 2.4.0\n",
            "soundfile                        0.12.1\n",
            "soupsieve                        2.5\n",
            "soxr                             0.3.7\n",
            "spacy                            3.7.4\n",
            "spacy-legacy                     3.0.12\n",
            "spacy-loggers                    1.0.5\n",
            "Sphinx                           5.0.2\n",
            "sphinxcontrib-applehelp          1.0.8\n",
            "sphinxcontrib-devhelp            1.0.6\n",
            "sphinxcontrib-htmlhelp           2.0.5\n",
            "sphinxcontrib-jsmath             1.0.1\n",
            "sphinxcontrib-qthelp             1.0.7\n",
            "sphinxcontrib-serializinghtml    1.1.10\n",
            "SQLAlchemy                       2.0.29\n",
            "sqlglot                          20.11.0\n",
            "sqlparse                         0.5.0\n",
            "srsly                            2.4.8\n",
            "stanio                           0.5.0\n",
            "statsmodels                      0.14.2\n",
            "StrEnum                          0.4.15\n",
            "sympy                            1.12\n",
            "tables                           3.8.0\n",
            "tabulate                         0.9.0\n",
            "tbb                              2021.12.0\n",
            "tblib                            3.0.0\n",
            "tenacity                         8.2.3\n",
            "tensorboard                      2.15.2\n",
            "tensorboard-data-server          0.7.2\n",
            "tensorflow                       2.15.0\n",
            "tensorflow-datasets              4.9.4\n",
            "tensorflow-estimator             2.15.0\n",
            "tensorflow-gcs-config            2.15.0\n",
            "tensorflow-hub                   0.16.1\n",
            "tensorflow-io-gcs-filesystem     0.37.0\n",
            "tensorflow-metadata              1.15.0\n",
            "tensorflow-probability           0.23.0\n",
            "tensorstore                      0.1.45\n",
            "termcolor                        2.4.0\n",
            "terminado                        0.18.1\n",
            "text-unidecode                   1.3\n",
            "textblob                         0.17.1\n",
            "tf_keras                         2.15.1\n",
            "tf-slim                          1.1.0\n",
            "thinc                            8.2.3\n",
            "threadpoolctl                    3.5.0\n",
            "tifffile                         2024.4.24\n",
            "tinycss2                         1.3.0\n",
            "tokenizers                       0.19.1\n",
            "toml                             0.10.2\n",
            "tomli                            2.0.1\n",
            "toolz                            0.12.1\n",
            "torch                            2.2.1+cu121\n",
            "torchaudio                       2.2.1+cu121\n",
            "torchdata                        0.7.1\n",
            "torchsummary                     1.5.1\n",
            "torchtext                        0.17.1\n",
            "torchvision                      0.17.1+cu121\n",
            "tornado                          6.3.3\n",
            "tqdm                             4.66.2\n",
            "traitlets                        5.7.1\n",
            "traittypes                       0.2.1\n",
            "transformers                     4.40.1\n",
            "triton                           2.2.0\n",
            "tweepy                           4.14.0\n",
            "typer                            0.9.4\n",
            "types-pytz                       2024.1.0.20240417\n",
            "types-setuptools                 69.5.0.20240423\n",
            "typing_extensions                4.11.0\n",
            "tzdata                           2024.1\n",
            "tzlocal                          5.2\n",
            "uc-micro-py                      1.0.3\n",
            "uritemplate                      4.1.1\n",
            "urllib3                          2.0.7\n",
            "vega-datasets                    0.9.0\n",
            "wadllib                          1.3.6\n",
            "wasabi                           1.1.2\n",
            "wcwidth                          0.2.13\n",
            "weasel                           0.3.4\n",
            "webcolors                        1.13\n",
            "webencodings                     0.5.1\n",
            "websocket-client                 1.8.0\n",
            "Werkzeug                         3.0.2\n",
            "wheel                            0.43.0\n",
            "widgetsnbextension               3.6.6\n",
            "wordcloud                        1.9.3\n",
            "wrapt                            1.14.1\n",
            "xarray                           2023.7.0\n",
            "xarray-einstats                  0.7.0\n",
            "xgboost                          2.0.3\n",
            "xlrd                             2.0.1\n",
            "xyzservices                      2024.4.0\n",
            "yarl                             1.9.4\n",
            "yellowbrick                      1.5\n",
            "yfinance                         0.2.38\n",
            "zict                             3.0.0\n",
            "zipp                             3.18.1\n",
            "Requirement already satisfied: Faker in /usr/local/lib/python3.10/dist-packages (25.0.1)\n",
            "Requirement already satisfied: python-dateutil>=2.4 in /usr/local/lib/python3.10/dist-packages (from Faker) (2.8.2)\n",
            "Requirement already satisfied: six>=1.5 in /usr/local/lib/python3.10/dist-packages (from python-dateutil>=2.4->Faker) (1.16.0)\n",
            "[('김정자', '제주특별자치도 서천군 압구정거리 (주원강최동)', 'WhiteSmoke', 'bagseonghun@example.org'), ('김수진', '전라남도 양주시 가락길', 'Silver', 'gimujin@example.net'), ('윤예지', '부산광역시 북구 언주67길', 'Pink', 'gmun@example.com'), ('문경자', '세종특별자치시 서대문구 반포대가', 'PapayaWhip', 'jihuncoe@example.com'), ('최주원', '충청북도 고성군 압구정117길', 'LightGoldenRodYellow', 'iyeongsig@example.net'), ('김수진', '충청남도 영동군 석촌호수거리 (정남김정읍)', 'LimeGreen', 'jiugim@example.org'), ('송광수', '제주특별자치도 정선군 도산대75로 (지은이이마을)', 'Coral', 'ogsunim@example.com'), ('심영진', '서울특별시 성북구 강남대로 (건우심최읍)', 'Indigo', 'sunog77@example.net'), ('송수빈', '대구광역시 성북구 봉은사가 (도윤권박면)', 'CadetBlue', 'hyeonji90@example.com'), ('김성수', '전라남도 부천시 오정구 백제고분로 (성호양마을)', 'MediumSeaGreen', 'sunoggang@example.org'), ('엄민준', '인천광역시 강남구 서초중앙가 (민준안동)', 'Snow', 'ggim@example.com'), ('강윤서', '울산광역시 금천구 삼성가 (진호박류마을)', 'OldLace', 'yeeuncoe@example.com'), ('성상현', '제주특별자치도 옥천군 봉은사거리', 'Bisque', 'jinhogim@example.org'), ('민현정', '제주특별자치도 금산군 봉은사9거리', 'DarkSlateGray', 'jangyeongsu@example.net'), ('오민지', '충청남도 과천시 서초중앙84로 (현우김박리)', 'Cornsilk', 'yeongsig51@example.org'), ('김민재', '서울특별시 용산구 개포로', 'OrangeRed', 'jihyeha@example.org'), ('권광수', '대전광역시 강동구 가락25가', 'MediumTurquoise', 'guseonyeong@example.org'), ('신수민', '경기도 양구군 백제고분97거리 (준호김면)', 'PaleGreen', 'minsu66@example.org'), ('장수민', '경상북도 아산시 서초중앙3로 (영미고문마을)', 'MidnightBlue', 'gseo@example.net'), ('박중수', '울산광역시 마포구 잠실길 (광수이리)', 'Cyan', 'jihunsong@example.org'), ('박지현', '경기도 수원시 팔달구 선릉1가 (도윤유김동)', 'DarkCyan', 'coeyeongsig@example.net'), ('최성민', '충청남도 고성군 언주85가 (옥순백우면)', 'PaleGoldenRod', 'seongmini@example.org'), ('김영희', '세종특별자치시 중랑구 양재천거리 (지훈남김리)', 'Lime', 'jinhogim@example.com'), ('이현지', '경상남도 춘천시 반포대길 (상현김김읍)', 'LightSkyBlue', 'ugim@example.com'), ('안진우', '충청북도 제천시 삼성길 (광수이최읍)', 'BurlyWood', 'yeongjin75@example.net'), ('안성수', '대구광역시 강서구 가락186길 (영진한리)', 'Turquoise', 'ieunseo@example.com'), ('장하은', '강원도 양평군 강남대거리 (경희김읍)', 'Maroon', 'ihyeonji@example.org'), ('김미경', '충청남도 제천시 영동대90가', 'LavenderBlush', 'xi@example.com'), ('홍예진', '전라남도 태안군 가락14길', 'SteelBlue', 'gangogja@example.org'), ('송은영', '제주특별자치도 제천시 잠실5거리 (은지전면)', 'Blue', 'yeongsigi@example.net'), ('송주원', '충청북도 의정부시 반포대21거리 (영길박마을)', 'DarkOrchid', 'cbag@example.com'), ('노현우', '충청북도 양평군 선릉길 (영진장읍)', 'NavajoWhite', 'gimgyeongsu@example.org'), ('최상훈', '대전광역시 성동구 개포68길 (정웅서박읍)', 'LightSkyBlue', 'kgim@example.com'), ('이정순', '울산광역시 송파구 언주1거리 (경희김박마을)', 'DarkTurquoise', 'minsu16@example.com'), ('이성민', '경상남도 청주시 청원구 개포58가', 'SkyBlue', 'jinu55@example.net'), ('노수빈', '경기도 천안시 서북구 개포로', 'AntiqueWhite', 'minhyeonju@example.net'), ('김지민', '대구광역시 강서구 반포대가', 'DarkBlue', 'cgim@example.com'), ('이도윤', '충청북도 제천시 잠실거리', 'Navy', 'seoyuncoe@example.net'), ('이정희', '서울특별시 도봉구 언주가 (성훈윤동)', 'Bisque', 'gimyeongsu@example.net'), ('박미경', '서울특별시 관악구 반포대가 (지아이황리)', 'Aqua', 'gjo@example.org'), ('이민석', '세종특별자치시 강동구 백제고분80로 (도현김읍)', 'Azure', 'yeongsunhong@example.net'), ('박영식', '경상남도 하남시 백제고분77로 (경수장동)', 'Yellow', 'ugim@example.net'), ('이채원', '울산광역시 북구 개포31거리 (춘자김마을)', 'LightCyan', 'sca@example.org'), ('임성민', '광주광역시 강북구 압구정50거리', 'CornflowerBlue', 'yeongjin86@example.net'), ('김은지', '충청남도 태백시 오금길', 'PaleGoldenRod', 'si@example.net'), ('김하은', '부산광역시 광진구 백제고분581가', 'Ivory', 'yeonghogim@example.org'), ('이민석', '대구광역시 양천구 서초대1가', 'LimeGreen', 'yeonggil07@example.org'), ('김현정', '충청북도 천안시 동남구 영동대8거리', 'MediumSpringGreen', 'yeongsuseo@example.net'), ('박은지', '경기도 부여군 석촌호수203길', 'Yellow', 'ijiweon@example.net'), ('최은영', '세종특별자치시 광진구 서초대길', 'LightSkyBlue', 'hanhyeonsug@example.org')] 50\n"
          ]
        }
      ]
    },
    {
      "cell_type": "markdown",
      "source": [
        "## Faker description\n",
        "- 항목/설명\n",
        "  - fake.name()\t이름\n",
        "  - fake.address()\t주소\n",
        "  - fake.postcode()\t우편 번호\n",
        "  - fake.country()\t국가명\n",
        "  - fake.company()\t회사명\n",
        "  - fake.job()\t직업명\n",
        "  - fake.phone_number()\t휴대전화 번호\n",
        "  - fake.email()\t이메일 주소\n",
        "  - fake.user_name()\t사용자명\n",
        "  - fake.pyint(min_value=0, max_value=100)\t0부터 100 사이의 임의의 숫자\n",
        "  - fake.ipv4_private()\tIP 주소\n",
        "  - fake.text()\t임의의 문장 (한글 임의의 문장은 fake.catch_phrase() 사용)\n",
        "  - fake.color_name()\t색상명"
      ],
      "metadata": {
        "id": "TK_I4tDlvyg8"
      }
    },
    {
      "cell_type": "code",
      "source": [
        "#\n",
        "from bs4 import BeautifulSoup\n",
        "html_doc = \"<html><head><title>Hello World</title></head></html>\"\n",
        "soup = BeautifulSoup(html_doc, 'html.parser')\n",
        "print(soup.title.text)\n",
        "print(soup.title.string)"
      ],
      "metadata": {
        "colab": {
          "base_uri": "https://localhost:8080/"
        },
        "id": "XPkNxzWeDNms",
        "outputId": "3c895906-a1de-4b57-da3f-86775c385e36"
      },
      "execution_count": null,
      "outputs": [
        {
          "output_type": "stream",
          "name": "stdout",
          "text": [
            "Hello World\n",
            "Hello World\n"
          ]
        }
      ]
    },
    {
      "cell_type": "code",
      "source": [
        "# Task5_0503. 강사님 답안\n",
        "# from bs4 import BeautifulSoup\n",
        "# html_doc = \"<html><head><title>Hello World</title></head></html>\"\n",
        "# soup = BeautifulSoup(html_doc, 'html.parser')\n",
        "# print(soup.title.text)\n",
        "!pip install requests -q      # quiet 모드로 설치"
      ],
      "metadata": {
        "id": "VwXfx22fKspw"
      },
      "execution_count": null,
      "outputs": []
    },
    {
      "cell_type": "code",
      "source": [
        "# Task5_0503. 강사님 답안\n",
        "import requests\n",
        "from bs4 import BeautifulSoup\n",
        "\n",
        "\n",
        "def fetch_website_content(url):\n",
        "  # URL에서 데이터를 가져옵니다.\n",
        "  response = requests.get(url)\n",
        "  if response.status_code == 200:   # 정상 처리될 때 200, 문제가 있을때 400, 500....\n",
        "    # HTML 내용을 BeautifulSoup 객체\n",
        "    soup=BeautifulSoup(response.text, 'html.parser')\n",
        "\n",
        "    # dPwp: 페이지 타이틀을 출력합니다.\n",
        "    print(\"Page Title:\", soup.title.string if soup.title else \"No title found\")\n",
        "  else:\n",
        "    print(\"Failed to retrieve the webpage\")\n",
        "    print(\"Status code:\", response.status_code)\n",
        "\n",
        "\n",
        "\n",
        "if __name__ == \"__main__\":\n",
        "  url=input(\"저장하고 싶은 웹사이트의 URL을 입력하세요: \")\n",
        "  fetch_website_content(url)"
      ],
      "metadata": {
        "colab": {
          "base_uri": "https://localhost:8080/",
          "height": 240
        },
        "id": "JDZWZZRNK_tA",
        "outputId": "4d180c3e-a643-4c28-e797-676246a55286"
      },
      "execution_count": null,
      "outputs": [
        {
          "output_type": "stream",
          "name": "stdout",
          "text": [
            "http://news.naver.com/\n"
          ]
        },
        {
          "output_type": "error",
          "ename": "NameError",
          "evalue": "name 'uri' is not defined",
          "traceback": [
            "\u001b[0;31m---------------------------------------------------------------------------\u001b[0m",
            "\u001b[0;31mNameError\u001b[0m                                 Traceback (most recent call last)",
            "\u001b[0;32m<ipython-input-50-c56d240c180f>\u001b[0m in \u001b[0;36m<cell line: 9>\u001b[0;34m()\u001b[0m\n\u001b[1;32m      7\u001b[0m \u001b[0mdomainName\u001b[0m \u001b[0;34m=\u001b[0m \u001b[0;34m'{uri.scheme}://{uri.netloc}/'\u001b[0m\u001b[0;34m.\u001b[0m\u001b[0mformat\u001b[0m\u001b[0;34m(\u001b[0m\u001b[0muri\u001b[0m\u001b[0;34m=\u001b[0m\u001b[0mparsed_uri\u001b[0m\u001b[0;34m)\u001b[0m\u001b[0;34m\u001b[0m\u001b[0;34m\u001b[0m\u001b[0m\n\u001b[1;32m      8\u001b[0m \u001b[0mprint\u001b[0m\u001b[0;34m(\u001b[0m\u001b[0mdomainName\u001b[0m\u001b[0;34m)\u001b[0m\u001b[0;34m\u001b[0m\u001b[0;34m\u001b[0m\u001b[0m\n\u001b[0;32m----> 9\u001b[0;31m \u001b[0mprint\u001b[0m\u001b[0;34m(\u001b[0m\u001b[0;34m{\u001b[0m\u001b[0muri\u001b[0m\u001b[0;34m.\u001b[0m\u001b[0mnetloc\u001b[0m\u001b[0;34m}\u001b[0m\u001b[0;34m)\u001b[0m\u001b[0;34m\u001b[0m\u001b[0;34m\u001b[0m\u001b[0m\n\u001b[0m\u001b[1;32m     10\u001b[0m \u001b[0;34m\u001b[0m\u001b[0m\n\u001b[1;32m     11\u001b[0m \u001b[0;31m# def fetch_website_content(url):\u001b[0m\u001b[0;34m\u001b[0m\u001b[0;34m\u001b[0m\u001b[0m\n",
            "\u001b[0;31mNameError\u001b[0m: name 'uri' is not defined"
          ]
        }
      ]
    },
    {
      "cell_type": "code",
      "source": [
        "# 함수 호출\n",
        "def my_function():\n",
        "  print(\"hello from a function\")\n",
        "\n",
        "my_function()"
      ],
      "metadata": {
        "colab": {
          "base_uri": "https://localhost:8080/"
        },
        "id": "ry2i8u9EhCzM",
        "outputId": "cfa558a5-b1ec-4e59-f6d0-b3a0182fd264"
      },
      "execution_count": null,
      "outputs": [
        {
          "output_type": "stream",
          "name": "stdout",
          "text": [
            "hello from a function\n"
          ]
        }
      ]
    },
    {
      "cell_type": "code",
      "source": [
        "#메소드 호출\n",
        "class MyClass:\n",
        "  def my_method(self):\n",
        "    print(\"hello from a method\")\n",
        "\n",
        "obj=MyClass()\n",
        "obj.my_method()       # 클래스 객체를 통해서 호출해야\n"
      ],
      "metadata": {
        "colab": {
          "base_uri": "https://localhost:8080/"
        },
        "id": "H2PNWMIVhClq",
        "outputId": "3932cba1-c3c6-4e8a-f71c-8b7a666051c3"
      },
      "execution_count": null,
      "outputs": [
        {
          "output_type": "stream",
          "name": "stdout",
          "text": [
            "hello from a method\n"
          ]
        }
      ]
    },
    {
      "cell_type": "markdown",
      "source": [
        "#### 내장 함수"
      ],
      "metadata": {
        "id": "8Z4gPo4tozXw"
      }
    },
    {
      "cell_type": "code",
      "source": [
        "print(abs(-3))\n",
        "print(all([1,2,3,0]))     # 모두 참이면 참\n",
        "print(any([12,3,4,5,0]))  # 1나라도 참이면 참\n",
        "print(chr(65)) # 아스키코드\n",
        "print(float(3))\n",
        "print(int(3.9))\n",
        "print(max(1,3))\n",
        "print(min(1,2))\n",
        "print(pow(10,2))\n",
        "print(round(2.5664,2))"
      ],
      "metadata": {
        "colab": {
          "base_uri": "https://localhost:8080/"
        },
        "id": "gmnl4MXGhP4V",
        "outputId": "a9494c22-76ea-483f-92be-bc6a28a82856"
      },
      "execution_count": null,
      "outputs": [
        {
          "output_type": "stream",
          "name": "stdout",
          "text": [
            "3\n",
            "False\n",
            "True\n",
            "A\n",
            "3.0\n",
            "3\n",
            "3\n",
            "1\n",
            "100\n",
            "2.57\n"
          ]
        }
      ]
    },
    {
      "cell_type": "code",
      "source": [
        "### POW가 객체인지 아닌지 판별\n",
        "## 함수가 다른 객체와 마찬가지로 변수에 할당되거나, 다른 함수로 전달되거나 다른 함수로부터 반환될 수 있다.\n",
        "my_pow = pow\n",
        "result=my_pow(2,3)            # my_pow가 없음에도 물구하고 객체로 취급 받기 때문에 이와 같은 결과를 볼 수 있다.\n",
        "print(result)\n",
        "\n",
        "\n",
        "### 함수를 인자로 전달 가능\n",
        "def apply_func(func,x,y):\n",
        "  return func(x,y)\n",
        "result=apply_func(pow, 3,4)\n",
        "print(result)"
      ],
      "metadata": {
        "colab": {
          "base_uri": "https://localhost:8080/"
        },
        "id": "nP-w87-OkN1p",
        "outputId": "6c0bc539-cfa2-4de3-af0e-5b717921103a"
      },
      "execution_count": null,
      "outputs": [
        {
          "output_type": "stream",
          "name": "stdout",
          "text": [
            "8\n",
            "81\n"
          ]
        }
      ]
    },
    {
      "cell_type": "code",
      "source": [
        "age=30\n",
        "print(' I am '+str(age)+'years old')"
      ],
      "metadata": {
        "colab": {
          "base_uri": "https://localhost:8080/"
        },
        "id": "WKfkpcL3lmBR",
        "outputId": "c7745a8f-2bb9-48bd-af62-ba53b6217708"
      },
      "execution_count": null,
      "outputs": [
        {
          "output_type": "stream",
          "name": "stdout",
          "text": [
            " I am 30years old\n"
          ]
        }
      ]
    },
    {
      "cell_type": "markdown",
      "source": [
        "## sort, sorted 모두 key, reverse 매개변수를 갖고 있다.\n",
        "- reverse: 기본값은 reverse=False, reverse=True를 매개 변수로 입력하면 내림차순 정렬\n",
        "- key: 정렬을 목적으로 하는 함수를 값으로 넣는다. lambda를 이용할 수 있고, key값을 기준으로 정렬되고 기본값은 오름 차순"
      ],
      "metadata": {
        "id": "07n5RJCTmUz8"
      }
    },
    {
      "cell_type": "code",
      "source": [
        "my_list=[3,4,5,1]\n",
        "print(sorted(my_list))\n",
        "my_list               # my_list는 그대로 변동 X"
      ],
      "metadata": {
        "colab": {
          "base_uri": "https://localhost:8080/"
        },
        "id": "URijouRZmTuo",
        "outputId": "214c69fc-74b4-4f11-f689-aa91264111f4"
      },
      "execution_count": null,
      "outputs": [
        {
          "output_type": "stream",
          "name": "stdout",
          "text": [
            "[1, 3, 4, 5]\n"
          ]
        },
        {
          "output_type": "execute_result",
          "data": {
            "text/plain": [
              "[3, 4, 5, 1]"
            ]
          },
          "metadata": {},
          "execution_count": 17
        }
      ]
    },
    {
      "cell_type": "code",
      "source": [
        "# Q. students=[('Alice',90), ('Bob',85), ('Charlie',88)] 를 점수를 기준으로 정렬하세요\n",
        "students=[('Alice',90), ('Bob',85), ('Charlie',88)]\n",
        "students.sort(key=lambda x: x[1])\n",
        "print(students)\n",
        "\n",
        "\n",
        "\n",
        "students=[('Alice','1반',90), ('Bob','2반',85), ('Charlie','2반',88)]\n",
        "students.sort(key=lambda x: x[1])\n",
        "stud_new=sorted(students, key=lambda x: x[2], reverse=True)\n",
        "print(stud_new)\n",
        "\n",
        "\n",
        "students=[('Alice','1반',90), ('Bob','2반',85), ('Charlie','2반',88)]\n",
        "students.sort(key=lambda x: (-x[2],x[1]))\n",
        "print(students)"
      ],
      "metadata": {
        "colab": {
          "base_uri": "https://localhost:8080/"
        },
        "id": "J8j-J8N5nJCz",
        "outputId": "c41728b4-521c-4595-8542-3ffb3d558e74"
      },
      "execution_count": null,
      "outputs": [
        {
          "output_type": "stream",
          "name": "stdout",
          "text": [
            "[('Bob', 85), ('Charlie', 88), ('Alice', 90)]\n",
            "[('Alice', '1반', 90), ('Charlie', '2반', 88), ('Bob', '2반', 85)]\n",
            "[('Alice', '1반', 90), ('Charlie', '2반', 88), ('Bob', '2반', 85)]\n"
          ]
        }
      ]
    },
    {
      "cell_type": "code",
      "source": [
        "my_string='Python'\n",
        "print(type(my_string))"
      ],
      "metadata": {
        "colab": {
          "base_uri": "https://localhost:8080/"
        },
        "id": "MDqcagrOrfWw",
        "outputId": "6ce13cfd-707a-494f-af43-2bbb3949ffb6"
      },
      "execution_count": null,
      "outputs": [
        {
          "output_type": "stream",
          "name": "stdout",
          "text": [
            "<class 'str'>\n"
          ]
        }
      ]
    },
    {
      "cell_type": "code",
      "source": [
        "print(list(range(5)))\n",
        "print(list(range(1,6)))\n",
        "print(list(range(1,6,2)))\n",
        "print(list(range(0,-10,-1)))"
      ],
      "metadata": {
        "colab": {
          "base_uri": "https://localhost:8080/"
        },
        "id": "p2-17qTgtq4r",
        "outputId": "639fe99b-12a1-4304-b724-7dd2fa863dbd"
      },
      "execution_count": null,
      "outputs": [
        {
          "output_type": "stream",
          "name": "stdout",
          "text": [
            "[0, 1, 2, 3, 4]\n",
            "[1, 2, 3, 4, 5]\n",
            "[1, 3, 5]\n",
            "[0, -1, -2, -3, -4, -5, -6, -7, -8, -9]\n"
          ]
        }
      ]
    },
    {
      "cell_type": "code",
      "source": [
        "# Q. 실행 가능한 숫자를 문자열('5+5')입력으로 받아 문자열을 실행한 결과값을 출력하세요\n",
        "print(eval(input('연산이 가능한 문자열을 입력하세요.> ')))\n",
        "expression=input('연산이 가능한 문자열을 입력하세요.> ') ## string type을 int나 float으로 안바꿔도 된다.\n",
        "print(eval(expression))"
      ],
      "metadata": {
        "colab": {
          "base_uri": "https://localhost:8080/"
        },
        "id": "h1TZhsoYurzy",
        "outputId": "f117340f-81ad-44eb-c52e-94028ef81476"
      },
      "execution_count": null,
      "outputs": [
        {
          "output_type": "stream",
          "name": "stdout",
          "text": [
            "연산이 가능한 문자열을 입력하세요.> 5+4\n",
            "9\n"
          ]
        }
      ]
    },
    {
      "cell_type": "code",
      "source": [
        "data=[1,2,3,4]\n",
        "operation = input(\"실행할 리스트 연산을 입력하세요 > \")           #예 data.append(6) or data.pop()  ......\n",
        "eval(operation)\n",
        "print(data)"
      ],
      "metadata": {
        "colab": {
          "base_uri": "https://localhost:8080/"
        },
        "id": "uQ15dmDwvSzf",
        "outputId": "fef53c2d-765e-4af1-dbd5-6cf033b7ff4d"
      },
      "execution_count": null,
      "outputs": [
        {
          "output_type": "stream",
          "name": "stdout",
          "text": [
            "실행할 리스트 연산을 입력하세요 > data.append(4)\n",
            "[1, 2, 3, 4, 4]\n"
          ]
        }
      ]
    },
    {
      "cell_type": "code",
      "source": [
        "for idx, element in enumerate(['ele1', 'ele2', 'ele3']):\n",
        "  print(idx+1, element)"
      ],
      "metadata": {
        "colab": {
          "base_uri": "https://localhost:8080/"
        },
        "id": "FJIuQAkExHmc",
        "outputId": "34f8820e-3f0c-454d-9c48-bc293d3935ce"
      },
      "execution_count": null,
      "outputs": [
        {
          "output_type": "stream",
          "name": "stdout",
          "text": [
            "1 ele1\n",
            "2 ele2\n",
            "3 ele3\n"
          ]
        }
      ]
    },
    {
      "cell_type": "code",
      "source": [
        "#Q. enumerate와 f-string을 이용해서 특정 리스트에서 원하는 형태로 출력하세요 (인덱스와 value를 믹스해서...)\n",
        "list_fr=['사과', '딸기', '참외', '배', '살구']\n",
        "\n",
        "print(\"내가 좋아하는 과일 순위\")\n",
        "for i, item in enumerate(list_fr):\n",
        "  print(f\"{i}번째 좋아하는 과일: {item}\")"
      ],
      "metadata": {
        "colab": {
          "base_uri": "https://localhost:8080/"
        },
        "id": "8p2MU5CaxILg",
        "outputId": "b35125dc-c91d-4a95-aa31-d6234a498d69"
      },
      "execution_count": null,
      "outputs": [
        {
          "output_type": "stream",
          "name": "stdout",
          "text": [
            "내가 좋아하는 과일 순위\n",
            "0번째 좋아하는 과일: 사과\n",
            "1번째 좋아하는 과일: 딸기\n",
            "2번째 좋아하는 과일: 참외\n",
            "3번째 좋아하는 과일: 배\n",
            "4번째 좋아하는 과일: 살구\n"
          ]
        }
      ]
    },
    {
      "cell_type": "code",
      "source": [
        "# Task1_0507. 튜플 형태인 strings를 다양한 문자가 포함된 순서로 정렬하세요.\n",
        "#각각의 string을 set으로 해서 len가 큰 순서로 sort\n",
        "strings=('a', 'ca', 'bar', 'aaaa', 'ababa')\n",
        "\n",
        "str_new=sorted(strings, key=lambda x: (-len(set(x)), -len(x)))\n",
        "print(str_new)"
      ],
      "metadata": {
        "colab": {
          "base_uri": "https://localhost:8080/"
        },
        "id": "pP11cUKbrfOI",
        "outputId": "8e231ee0-53cf-4bf5-ccbc-c74a41fd97e4"
      },
      "execution_count": null,
      "outputs": [
        {
          "output_type": "stream",
          "name": "stdout",
          "text": [
            "['bar', 'ababa', 'ca', 'aaaa', 'a']\n"
          ]
        }
      ]
    },
    {
      "cell_type": "code",
      "source": [
        "# Task1_0507. Option 2\n",
        "#각각의 string을 set으로 해서 len가 큰 순서로 sort\n",
        "strings=('a', 'ca', 'bar', 'aaaa', 'ababa')\n",
        "strings=list(strings)\n",
        "strings.sort(key=lambda x: (-len(set(x)), -len(x)))\n",
        "print(strings)"
      ],
      "metadata": {
        "colab": {
          "base_uri": "https://localhost:8080/"
        },
        "id": "BUB_Mkflmj6a",
        "outputId": "4958142e-df5a-489e-a591-2b13cd2323cc"
      },
      "execution_count": null,
      "outputs": [
        {
          "output_type": "stream",
          "name": "stdout",
          "text": [
            "['bar', 'ababa', 'ca', 'aaaa', 'a']\n"
          ]
        }
      ]
    },
    {
      "cell_type": "code",
      "source": [
        "# Task2_0507. eval 함수를 활용하여 a, b 변수와 연산자를 입력하면 사칙연산을 수행하는 코드를 작성하세요 (1) eval 사용하는 경우, (2) eval을 사용하지 않고..\n",
        "\n",
        "### Option1: Using EVAL()\n",
        "a1=3; b1=4\n",
        "expression=input('수식을 입력하세요.> ') ## string type을 int나 float으로 안바꿔도 된다.\n",
        "print(\"Option1 - \",expression, \":\", eval(expression))\n",
        "\n",
        "\n",
        "#### Option2: w/o EVAL()\n",
        "import re\n",
        "DB={'a1':3, 'b1':4}\n",
        "expression=input('변수 a1, b1을 이용하여 사칙 연산을 수행을 위한 수식을 입력하세요.> ').replace(\" \",\"\")\n",
        "match_str=re.search(\"[\\+\\-\\*\\/\\%]+\", expression)\n",
        "if match_str.group() == \"+\":\n",
        "  print(f\"Option2 - {expression}={DB[list1[0]] + DB[list1[1]]}\")\n",
        "elif match_str.group() == \"-\":\n",
        "  print(f\"Option2 - {expression}={DB[list1[0]] - DB[list1[1]]}\")\n",
        "elif match_str.group() == \"*\":\n",
        "  print(f\"Option2 - {expression}={DB[list1[0]] * DB[list1[1]]}\")\n",
        "elif match_str.group() == \"/\":\n",
        "  print(f\"Option2 - {expression}={DB[list1[0]] / DB[list1[1]]}\")\n",
        "elif match_str.group() == \"%\":\n",
        "  print(f\"Option2 - {expression}={DB[list1[0]] % DB[list1[1]]}\")\n",
        "else: print(\"사칙연산을 위한 수식을 다시 입력하세요\")\n",
        "\n",
        "#a1 + b1\n",
        "#a1 - b1\n",
        "#a1 * b1\n",
        "#a1 / b1\n",
        "#a1 % b1"
      ],
      "metadata": {
        "colab": {
          "base_uri": "https://localhost:8080/"
        },
        "id": "JVpZbtkxsrks",
        "outputId": "aa2bd021-b97a-40a9-8e2b-1e4755b81636"
      },
      "execution_count": null,
      "outputs": [
        {
          "output_type": "stream",
          "name": "stdout",
          "text": [
            "수식을 입력하세요.> a1 / b1\n",
            "Option1 -  a1 / b1 : 0.75\n",
            "변수 a1, b1을 이용하여 사칙 연산을 수행을 위한 수식을 입력하세요.> a1 / b1\n",
            "Option2 - a1/b1=0.75\n"
          ]
        }
      ]
    },
    {
      "cell_type": "code",
      "source": [
        "# Task2_0507. 강사님 답안\n",
        "\n",
        "#### Option2: w/o EVAL()\n",
        "expression=input('변수 a1, b1을 이용하여 사칙 연산을 수행을 위한 수식을 입력하세요.> ').replace(\" \",\"\")\n",
        "maths=['+', '-', '*', '/']\n",
        "math={'+':lambda a,b:a+b, '-':lambda a,b:a-b, '*':lambda a,b:a*b, '/':lambda a,b:a/b}\n",
        "\n",
        "expression_list=list(expression)\n",
        "for i in expression_list:\n",
        "  if i in maths:\n",
        "    num=expression.split(i)\n",
        "    print(math[i](int(num[0]),int(num[1])))\n"
      ],
      "metadata": {
        "colab": {
          "base_uri": "https://localhost:8080/"
        },
        "id": "Dv7PPVuZoT5w",
        "outputId": "658faa6d-41f8-4b6a-ff66-9c33db4d4b4e"
      },
      "execution_count": null,
      "outputs": [
        {
          "output_type": "stream",
          "name": "stdout",
          "text": [
            "변수 a1, b1을 이용하여 사칙 연산을 수행을 위한 수식을 입력하세요.> 5*5\n",
            "25\n"
          ]
        }
      ]
    },
    {
      "cell_type": "code",
      "source": [
        "a1=3; b1=4\n",
        "import re\n",
        "DB={'a1':3, 'b1':4}\n",
        "expression='a1/b1'\n",
        "match_str=re.search(\"[\\+\\-\\*\\/\\%]+\", expression)\n",
        "if re.search(\"[\\+\\-\\*\\/\\%]+\", expression):\n",
        "  print(\"match\", match_str.group())\n"
      ],
      "metadata": {
        "colab": {
          "base_uri": "https://localhost:8080/"
        },
        "id": "Q-v05_z6HK1x",
        "outputId": "1187c113-e363-4e97-9781-8624b567cfbd"
      },
      "execution_count": null,
      "outputs": [
        {
          "output_type": "stream",
          "name": "stdout",
          "text": [
            "match /\n"
          ]
        }
      ]
    },
    {
      "cell_type": "code",
      "source": [
        "#Task3_0507. list1에 대해서 아래와 같이 출력하는 코드를 작성하세요.\n",
        "list1 = ['김부장', '이차장', '김과장', '이대리', '오사원', '김인턴']\n",
        "\n",
        "# 인사평가 1번째 해당자는 김부장입니다. 회의실A로 오시기 바랍니다.\n",
        "# 인사평가 2번째 해당자는 이차장입니다. 회의실A로 오시기 바랍니다.\n",
        "# 인사평가 3번째 해당자는 김과장입니다. 회의실A로 오시기 바랍니다.\n",
        "# 인사평가 4번째 해당자는 이대리입니다. 회의실A로 오시기 바랍니다.\n",
        "# 인사평가 5번째 해당자는 오사원입니다. 회의실A로 오시기 바랍니다.\n",
        "# 인사평가 6번째 해당자는 김인턴입니다. 회의실A로 오시기 바랍니다.\n",
        "\n",
        "for i, item in enumerate(list1):\n",
        "  print(f\"인사평가 {i+1}번째 해당자는 {item}입니다. 회의실A로 오시기 바랍니다.\")\n",
        "\n"
      ],
      "metadata": {
        "colab": {
          "base_uri": "https://localhost:8080/"
        },
        "id": "vH_CK8rjsrej",
        "outputId": "4fefd837-d6c4-4870-f4bd-9182566646ff"
      },
      "execution_count": null,
      "outputs": [
        {
          "output_type": "stream",
          "name": "stdout",
          "text": [
            "인사평가 1번째 해당자는 김부장입니다. 회의실A로 오시기 바랍니다.\n",
            "인사평가 2번째 해당자는 이차장입니다. 회의실A로 오시기 바랍니다.\n",
            "인사평가 3번째 해당자는 김과장입니다. 회의실A로 오시기 바랍니다.\n",
            "인사평가 4번째 해당자는 이대리입니다. 회의실A로 오시기 바랍니다.\n",
            "인사평가 5번째 해당자는 오사원입니다. 회의실A로 오시기 바랍니다.\n",
            "인사평가 6번째 해당자는 김인턴입니다. 회의실A로 오시기 바랍니다.\n"
          ]
        }
      ]
    },
    {
      "cell_type": "code",
      "source": [
        "# Task4_0507. 주어진 문자열 리스트의 요소들을 대문자로 변환하세요.\n",
        "words = [\"hello\", \"world\", \"python\", \"map\"]\n",
        "words_new=[i.upper() for i in words]\n",
        "print(words_new)"
      ],
      "metadata": {
        "colab": {
          "base_uri": "https://localhost:8080/"
        },
        "id": "DL46WPOBsrbG",
        "outputId": "371af7d6-bd37-4153-ef36-79e69fdc3207"
      },
      "execution_count": null,
      "outputs": [
        {
          "output_type": "stream",
          "name": "stdout",
          "text": [
            "['HELLO', 'WORLD', 'PYTHON', 'MAP']\n"
          ]
        }
      ]
    },
    {
      "cell_type": "code",
      "source": [
        "# Task4_0507. 강사님 답안 option1\n",
        "words = [\"hello\", \"world\", \"python\", \"map\"]\n",
        "for i in range(len(words)):\n",
        "  words[i]=words[i].upper()\n",
        "print(words)"
      ],
      "metadata": {
        "colab": {
          "base_uri": "https://localhost:8080/"
        },
        "id": "_VCI0eHEvWER",
        "outputId": "2dabb48f-d352-4078-8405-097e14d7d05a"
      },
      "execution_count": null,
      "outputs": [
        {
          "output_type": "stream",
          "name": "stdout",
          "text": [
            "['HELLO', 'WORLD', 'PYTHON', 'MAP']\n"
          ]
        }
      ]
    },
    {
      "cell_type": "code",
      "source": [
        "# Task4_0507. 강사님 답안 option2\n",
        "words = [\"hello\", \"world\", \"python\", \"map\"]\n",
        "results=[]\n",
        "for item in words:\n",
        "  item.upper()\n",
        "  results.append(item.upper())\n",
        "print(results)"
      ],
      "metadata": {
        "colab": {
          "base_uri": "https://localhost:8080/"
        },
        "id": "s00eozK3wRfy",
        "outputId": "b5f4d4de-bf63-42cc-ba42-1581e15e5e8b"
      },
      "execution_count": null,
      "outputs": [
        {
          "output_type": "stream",
          "name": "stdout",
          "text": [
            "['HELLO', 'WORLD', 'PYTHON', 'MAP']\n"
          ]
        }
      ]
    },
    {
      "cell_type": "code",
      "source": [
        "# Task4_0507. 강사님 추가 str.upper ---> str 클라스의 method\n",
        "words = [\"hello\", \"world\", \"python\", \"map\"]\n",
        "upper_words=list(map(str.upper, words))     # words라는 list에 str.upper method를 map을 통해 적용\n",
        "print(upper_words)"
      ],
      "metadata": {
        "colab": {
          "base_uri": "https://localhost:8080/"
        },
        "id": "NVGkl46avV8o",
        "outputId": "aeb7abfc-4a62-47cb-9000-4923436f0d4d"
      },
      "execution_count": null,
      "outputs": [
        {
          "output_type": "stream",
          "name": "stdout",
          "text": [
            "['HELLO', 'WORLD', 'PYTHON', 'MAP']\n"
          ]
        }
      ]
    },
    {
      "cell_type": "code",
      "source": [
        "# Task5_0507. 주어진 리스트에서 'p'로 시작하는 단어만 필터링하세요.\n",
        "\n",
        "words = [\"python\", \"is\", \"powerful\", \"programming\", \"language\", \"pandas\"]\n",
        "words_new=[i for i in words if i[0]=='p']\n",
        "print(words_new)"
      ],
      "metadata": {
        "colab": {
          "base_uri": "https://localhost:8080/"
        },
        "id": "Rf39dacMsrXg",
        "outputId": "9fa7e6d6-fa10-4955-d4f3-bf3ccc79404a"
      },
      "execution_count": null,
      "outputs": [
        {
          "output_type": "stream",
          "name": "stdout",
          "text": [
            "['python', 'powerful', 'programming', 'pandas']\n"
          ]
        }
      ]
    },
    {
      "cell_type": "code",
      "source": [
        "# Task5_0507. 강사님 답안 option1\n",
        "words = [\"python\", \"is\", \"powerful\", \"programming\", \"language\", \"pandas\"]\n",
        "words_new=[i for i in words if i.startswith('p')]\n",
        "print(words_new)\n",
        "\n",
        "# Task5_0507. 강사님 답안 option2\n",
        "words = [\"python\", \"is\", \"powerful\", \"programming\", \"language\", \"pandas\"]\n",
        "words_new=list(filter(lambda x: x.startswith('p'), words))\n",
        "print(words_new)"
      ],
      "metadata": {
        "colab": {
          "base_uri": "https://localhost:8080/"
        },
        "id": "2IJB8dBPwr6o",
        "outputId": "e79fa280-c6d7-4dab-d598-d71814dffda1"
      },
      "execution_count": null,
      "outputs": [
        {
          "output_type": "stream",
          "name": "stdout",
          "text": [
            "['python', 'powerful', 'programming', 'pandas']\n",
            "['python', 'powerful', 'programming', 'pandas']\n"
          ]
        }
      ]
    },
    {
      "cell_type": "code",
      "source": [
        "# Task6_0507. 내장함수를 이용해서 list = [0,1,2,3,4,5,6]에서 2를 삭제 후 출력하세요.(2가지 방법)\n",
        "\n",
        "\n",
        "# Option1\n",
        "list1 = [0,1,2,3,4,5,6]\n",
        "list1.remove(2)\n",
        "print(list1)\n",
        "\n",
        "# Option2\n",
        "list1 = [0,1,2,3,4,5,6]\n",
        "del list1[2]\n",
        "print(list1)\n",
        "\n",
        "# Option2\n",
        "list1 = [10,2,2,1,7,6,11]\n",
        "list1.pop(2)       # index\n",
        "print(list1)\n",
        "\n",
        "# Option3\n",
        "list1 = [0,1,2,3,4,5,6]\n",
        "list2=[value for index, value in enumerate(list1) if value != 2]\n",
        "print(list2)\n",
        "\n",
        "# Option4\n",
        "list1 = [0,1,2,3,4,5,6]\n",
        "list2=list(filter(lambda x: x != 2, list1))\n",
        "print(list2)"
      ],
      "metadata": {
        "colab": {
          "base_uri": "https://localhost:8080/"
        },
        "id": "aFxwwf4a0shG",
        "outputId": "ec7f03b6-090f-4f14-e0e1-64f8b5aeae78"
      },
      "execution_count": null,
      "outputs": [
        {
          "output_type": "stream",
          "name": "stdout",
          "text": [
            "[0, 1, 3, 4, 5, 6]\n",
            "[0, 1, 3, 4, 5, 6]\n",
            "[10, 2, 1, 7, 6, 11]\n",
            "[0, 1, 3, 4, 5, 6]\n",
            "[0, 1, 3, 4, 5, 6]\n"
          ]
        }
      ]
    },
    {
      "cell_type": "code",
      "source": [
        "# Task7_0507. 내장함수를 이용하여 동일한 개수로 이루어진 자료형을 화살표 좌측에서 우측으로 변환하세요.\n",
        "\n",
        "# [1,2,3],[4,5,6] -> [(1,4),(2,5),(3,6)]\\\n",
        "# [1,2,3],[4,5,6] [7,8,9] -> [(1,4,7),(2,5,8),(3,6,9)]\\\n",
        "# ('abc','def') -> [('a','d'),('b','e'),('c','f')]\n",
        "\n",
        "# [1,2,3],[4,5,6] -> [(1,4),(2,5),(3,6)]\n",
        "L1=[1,2,3]; L2=[4,5,6]\n",
        "unified1=[(i,j) for i, j in zip(L1, L2)]\n",
        "print(unified1)\n",
        "\n",
        "# [1,2,3],[4,5,6] [7,8,9] -> [(1,4,7),(2,5,8),(3,6,9)]\n",
        "L1=[1,2,3]; L2=[4,5,6]; L3=[7,8,9]\n",
        "unified2=[(i,j,k) for i, j, k in zip(L1, L2, L3)]\n",
        "print(unified2)\n",
        "\n",
        "# ('abc','def') -> [('a','d'),('b','e'),('c','f')]\n",
        "L1=('abc','def')\n",
        "unified3=[(i,j) for i, j in zip(L1[0], L1[1])]\n",
        "print(unified3)"
      ],
      "metadata": {
        "colab": {
          "base_uri": "https://localhost:8080/"
        },
        "id": "Sg-YNPx90ul5",
        "outputId": "bfc7b183-b917-473d-df03-0209fb240ee3"
      },
      "execution_count": null,
      "outputs": [
        {
          "output_type": "stream",
          "name": "stdout",
          "text": [
            "[(1, 4), (2, 5), (3, 6)]\n",
            "[(1, 4, 7), (2, 5, 8), (3, 6, 9)]\n",
            "[('a', 'd'), ('b', 'e'), ('c', 'f')]\n"
          ]
        }
      ]
    },
    {
      "cell_type": "code",
      "source": [
        "# Task7_0507. 강사님 답안\n",
        "# [1,2,3],[4,5,6] -> [(1,4),(2,5),(3,6)]\n",
        "L1=[1,2,3]; L2=[4,5,6]\n",
        "unified1=[i for i in zip(L1, L2)]\n",
        "print(unified1)\n",
        "\n",
        "# [1,2,3],[4,5,6] [7,8,9] -> [(1,4,7),(2,5,8),(3,6,9)]\n",
        "L1=[1,2,3]; L2=[4,5,6]; L3=[7,8,9]\n",
        "unified2=[i for i in zip(L1, L2, L3)]\n",
        "print(unified2)\n",
        "\n",
        "# ('abc','def') -> [('a','d'),('b','e'),('c','f')]\n",
        "L1=('abc','def')\n",
        "unified3=[i for i in zip(L1[0], L1[1])]\n",
        "print(unified3)"
      ],
      "metadata": {
        "colab": {
          "base_uri": "https://localhost:8080/"
        },
        "id": "q7mJk4eD0CJY",
        "outputId": "daaf0575-aa2f-4bf8-e175-9d2c2f9e12c9"
      },
      "execution_count": null,
      "outputs": [
        {
          "output_type": "stream",
          "name": "stdout",
          "text": [
            "[(1, 4), (2, 5), (3, 6)]\n",
            "[(1, 4, 7), (2, 5, 8), (3, 6, 9)]\n",
            "[('a', 'd'), ('b', 'e'), ('c', 'f')]\n"
          ]
        }
      ]
    },
    {
      "cell_type": "code",
      "source": [
        "# Task8_0507. url에서 호스트 도메인(news.naver.com)을 추출하여 출력하세요.\n",
        "\n",
        "url = 'http://news.naver.com/main/read.nhn?mode=LSD&mid=shm&sid1=105&oid=028&aid=0002334601'\n",
        "\n",
        "## Option1\n",
        "import requests\n",
        "from bs4 import BeautifulSoup\n",
        "from urllib.request import urlopen\n",
        "import urllib\n",
        "\n",
        "url = 'http://news.naver.com/main/read.nhn?mode=LSD&mid=shm&sid1=105&oid=028&aid=0002334601'\n",
        "parsed_uri = urllib.request.urlparse(url)\n",
        "print()\n",
        "print(f\"호스트 도메인: {parsed_uri.netloc}\")\n",
        "#domainName = '{uri.scheme}://{uri.netloc}/'.format(uri=parsed_uri)\n",
        "#print(\"The domain name is : \")\n",
        "#print(domainName)\n",
        "\n",
        "## Option2\n",
        "import re\n",
        "url = 'http://news.naver.com/main/read.nhn?mode=LSD&mid=shm&sid1=105&oid=028&aid=0002334601'\n",
        "list_split = re.split('[/]+', url)\n",
        "print(f\"호스트 도메인: {list_split[1]}\")"
      ],
      "metadata": {
        "colab": {
          "base_uri": "https://localhost:8080/"
        },
        "id": "VNvZs_yo3YaO",
        "outputId": "d3f2b654-81a9-45f5-96c5-a225e3b9a00c"
      },
      "execution_count": null,
      "outputs": [
        {
          "output_type": "stream",
          "name": "stdout",
          "text": [
            "\n",
            "호스트 도메인: news.naver.com\n",
            "호스트 도메인: news.naver.com\n"
          ]
        }
      ]
    },
    {
      "cell_type": "code",
      "source": [
        "print(range(10), type(range(10)))        # range(10)자체가 클래스라 direct로는 출력이 안됨\n",
        "print([i for i in range(10)])\n",
        "print(type([i for i in range(10)]))"
      ],
      "metadata": {
        "colab": {
          "base_uri": "https://localhost:8080/"
        },
        "id": "5To6JR9-i1bI",
        "outputId": "76726823-49a0-4c93-cbdf-738ba0ee044d"
      },
      "execution_count": null,
      "outputs": [
        {
          "output_type": "stream",
          "name": "stdout",
          "text": [
            "range(0, 10) <class 'range'>\n",
            "[0, 1, 2, 3, 4, 5, 6, 7, 8, 9]\n",
            "<class 'list'>\n"
          ]
        }
      ]
    },
    {
      "cell_type": "code",
      "source": [
        "print(list(range(10)))"
      ],
      "metadata": {
        "colab": {
          "base_uri": "https://localhost:8080/"
        },
        "id": "-CRfZ_g91veA",
        "outputId": "3c6c2282-06e5-48d9-985a-e027f5f645a9"
      },
      "execution_count": null,
      "outputs": [
        {
          "output_type": "stream",
          "name": "stdout",
          "text": [
            "[0, 1, 2, 3, 4, 5, 6, 7, 8, 9]\n"
          ]
        }
      ]
    },
    {
      "cell_type": "code",
      "source": [
        "print(divmod(7,3))              # 몫과 나머지를 한꺼번에 tuple로 반환"
      ],
      "metadata": {
        "colab": {
          "base_uri": "https://localhost:8080/"
        },
        "id": "jco7smL12vu8",
        "outputId": "b300e69c-c87d-4fd0-ee9f-dc651453fa37"
      },
      "execution_count": null,
      "outputs": [
        {
          "output_type": "stream",
          "name": "stdout",
          "text": [
            "(2, 1)\n"
          ]
        }
      ]
    },
    {
      "cell_type": "code",
      "source": [
        "# Q. 150분을 시간과 분으로 변환해서 출력하세요\n",
        "A=150\n",
        "(h,m)=divmod(A,60)\n",
        "print(f\"{h}시간 {m}분\")\n",
        "\n",
        "A=150\n",
        "h,m=divmod(A,60)\n",
        "print(f\"{h}시간 {m}분\")\n",
        "\n",
        "\n",
        "def convert_time(i):\n",
        "  (h,m)=divmod(A,60)\n",
        "  return h,m\n",
        "\n",
        "h,m=convert_time(A)\n",
        "print(f\"{h}시간 {m}분\")"
      ],
      "metadata": {
        "colab": {
          "base_uri": "https://localhost:8080/"
        },
        "id": "Md4BZxCD3Pp1",
        "outputId": "9d9b5df8-a89e-4662-a274-002c2a37b7fd"
      },
      "execution_count": null,
      "outputs": [
        {
          "output_type": "stream",
          "name": "stdout",
          "text": [
            "2시간 30분\n",
            "2시간 30분\n",
            "2시간 30분\n"
          ]
        }
      ]
    },
    {
      "cell_type": "code",
      "source": [
        "list1=[1,2,3,4,5,5,6]\n",
        "print(list1)\n",
        "list1.clear()\n",
        "print(list1)"
      ],
      "metadata": {
        "colab": {
          "base_uri": "https://localhost:8080/"
        },
        "id": "EMl857RU3E29",
        "outputId": "e7de0332-79ce-4dd5-c6b2-2944fdd00e14"
      },
      "execution_count": null,
      "outputs": [
        {
          "output_type": "stream",
          "name": "stdout",
          "text": [
            "[1, 2, 3, 4, 5, 5, 6]\n",
            "[]\n"
          ]
        }
      ]
    },
    {
      "cell_type": "code",
      "source": [
        "# Q. URL에서 쿼리문을 추출하여 출력하세요\n",
        "# url에서 '?' 뒤에 표시되는 문자열을 쿼리 문자열이라고 하며 변수 = 값 사이 &로 구분되어 나열된다.\n",
        "url = 'http://news.naver.com/main/read.nhn?mode=LSD&mid=shm&sid1=105&oid=028&aid=0002334601'\n",
        "\n",
        "split1=url.split('/')\n",
        "split2=split1[-1].split('?')\n",
        "result=split2[-1]\n",
        "print(result)\n",
        "#변수-값 pair\n",
        "split3=result.split('&')\n",
        "for item in split3:\n",
        "  split4=item.split(\"=\")\n",
        "  print(f\"{split4[0]} = {split4[1]}\")\n",
        "\n"
      ],
      "metadata": {
        "colab": {
          "base_uri": "https://localhost:8080/"
        },
        "id": "bLOytVsv5Y7A",
        "outputId": "33358fe5-a090-4dc9-dede-a9843be3f7b1"
      },
      "execution_count": null,
      "outputs": [
        {
          "output_type": "stream",
          "name": "stdout",
          "text": [
            "mode=LSD&mid=shm&sid1=105&oid=028&aid=0002334601\n",
            "mode = LSD\n",
            "mid = shm\n",
            "sid1 = 105\n",
            "oid = 028\n",
            "aid = 0002334601\n"
          ]
        }
      ]
    },
    {
      "cell_type": "code",
      "source": [
        "# Q. List안에 단어가 있으면 해당 제목을 출력\n",
        "x=input(\"제목을 입력하세요: \").lower()\n",
        "t_list=['Hello World!', 'Nice Day', 'HappyBin', 'enDing_Story']\n",
        "n_title=[print(i) for i in t_list if i.lower() == x]"
      ],
      "metadata": {
        "colab": {
          "base_uri": "https://localhost:8080/"
        },
        "id": "PM5ToxnO-Jms",
        "outputId": "c384faf4-2a5b-44e8-b227-fd62399c9b48"
      },
      "execution_count": null,
      "outputs": [
        {
          "name": "stdout",
          "output_type": "stream",
          "text": [
            "제목을 입력하세요: n\n"
          ]
        }
      ]
    },
    {
      "cell_type": "code",
      "source": [
        "# Q. 강사님 답안\n",
        "x=input(\"제목을 입력하세요: \").lower()\n",
        "tlist=['Hello World!', 'Nice Day', 'HappyBin', 'enDing_Story']\n",
        "n_tlist=[]\n",
        "\n",
        "for i in range(len(tlist)):\n",
        "  n_tlist.append(tlist[i].lower())\n",
        "  if x in n_tlist[i]:\n",
        "    print(tlist[i])\n"
      ],
      "metadata": {
        "colab": {
          "base_uri": "https://localhost:8080/"
        },
        "id": "V-h5-8wC-h3D",
        "outputId": "a3c061cf-ff4c-4a43-9a0e-f3d9ba2e1eda"
      },
      "execution_count": null,
      "outputs": [
        {
          "output_type": "stream",
          "name": "stdout",
          "text": [
            "제목을 입력하세요: n\n",
            "Nice Day\n",
            "HappyBin\n",
            "enDing_Story\n"
          ]
        }
      ]
    },
    {
      "cell_type": "code",
      "source": [
        "# Q. 강사님 답안\n",
        "x=input(\"제목을 입력하세요: \").lower()\n",
        "tlist=['Hello World!', 'Nice Day', 'HappyBin', 'enDing_Story']\n",
        "n_tlist=[]\n",
        "\n",
        "for i in range(len(tlist)):\n",
        "  n_tlist.append(tlist[i].lower())\n",
        "  if x == n_tlist[i]:\n",
        "    print(tlist[i])\n"
      ],
      "metadata": {
        "colab": {
          "base_uri": "https://localhost:8080/"
        },
        "id": "z80TYQ7-BakT",
        "outputId": "37bd89e9-4f30-4284-c824-0aa0d9535017"
      },
      "execution_count": null,
      "outputs": [
        {
          "name": "stdout",
          "output_type": "stream",
          "text": [
            "제목을 입력하세요: n\n"
          ]
        }
      ]
    },
    {
      "cell_type": "code",
      "source": [
        "# @. 영어 이름을 적으면 앞에 글자를 대문자로 바꾸어 주는 프로그램\n",
        "# 단 중간에 한깐씩 띄워주어야 함 ex) kim dong wan\n",
        "in_name=input(\"이름을 영문으로 입력해주세요: \").lower()\n",
        "name_new=in_name.title()\n",
        "print(f\"Your name is {name_new}\")"
      ],
      "metadata": {
        "colab": {
          "base_uri": "https://localhost:8080/"
        },
        "id": "LUYwhe3lBqUp",
        "outputId": "a2899d54-1e66-4f42-a446-859151ddb1dd"
      },
      "execution_count": null,
      "outputs": [
        {
          "output_type": "stream",
          "name": "stdout",
          "text": [
            "이름을 영문으로 입력해주세요: choi hwan wook\n",
            "Your name is Choi Hwan Wook\n"
          ]
        }
      ]
    },
    {
      "cell_type": "code",
      "source": [
        "# 문자열에서 좌우 공백 제거\n",
        "txt=\"     양쪽에 공백이 있는 문자열입니다.   \"\n",
        "ret1=txt.lstrip()\n",
        "ret2=txt.rstrip()\n",
        "ret3=txt.strip()\n",
        "print('<'+ret1+'>')\n",
        "print('<'+ret2+'>')\n",
        "print('<'+ret3+'>')"
      ],
      "metadata": {
        "colab": {
          "base_uri": "https://localhost:8080/"
        },
        "id": "JJkQYRIFD__3",
        "outputId": "bc179811-dd6d-465e-9160-e148eaffb682"
      },
      "execution_count": null,
      "outputs": [
        {
          "output_type": "stream",
          "name": "stdout",
          "text": [
            "<양쪽에 공백이 있는 문자열입니다.   >\n",
            "<     양쪽에 공백이 있는 문자열입니다.>\n",
            "<양쪽에 공백이 있는 문자열입니다.>\n"
          ]
        }
      ]
    },
    {
      "cell_type": "code",
      "source": [
        "# join : 특정 문자로 결합\n",
        "loglist=['2016/08/26 10:12:11', '200', 'OK', '이 또한 지나가리라']\n",
        "bond=';'\n",
        "log=bond.join(loglist)\n",
        "print(log)"
      ],
      "metadata": {
        "colab": {
          "base_uri": "https://localhost:8080/"
        },
        "id": "RSxteIlyD_5g",
        "outputId": "9e3cbaf3-68a0-4859-fa55-2682bada07ee"
      },
      "execution_count": null,
      "outputs": [
        {
          "output_type": "stream",
          "name": "stdout",
          "text": [
            "2016/08/26 10:12:11;200;OK;이 또한 지나가리라\n"
          ]
        }
      ]
    },
    {
      "cell_type": "code",
      "source": [
        "# replace 특정 문자(열)을 다른 문자(열)로 바꾸기\n",
        "txt = \"My password is 1234\"\n",
        "ret1=txt.replace('1', '0')\n",
        "ret2=txt.replace('1', '0')\n",
        "\n",
        "print(ret1)\n",
        "print(ret2)\n",
        "\n",
        "txt=\"매일 많은 일들이 일어납니다\"\n",
        "ret3=txt.replace(\"많은 일들이\", \"아침 일찍\")\n",
        "print(ret3)"
      ],
      "metadata": {
        "colab": {
          "base_uri": "https://localhost:8080/"
        },
        "id": "ZFlR4WtSEz2L",
        "outputId": "ed9793ce-10de-4fd3-cdaa-29ee7c257738"
      },
      "execution_count": null,
      "outputs": [
        {
          "output_type": "stream",
          "name": "stdout",
          "text": [
            "My password is 0234\n",
            "My password is 0234\n",
            "매일 아침 일찍 일어납니다\n"
          ]
        }
      ]
    },
    {
      "cell_type": "code",
      "source": [
        "# Q. 입력된 문장에서 \"bad\"를 'good'로 교체해서 출력 # 입력 예ㅣ this is a bad exam\n",
        "sent=input(\"문장을 입력하세요: \")\n",
        "print(sent)\n",
        "print(sent.replace('bad', 'good'))"
      ],
      "metadata": {
        "colab": {
          "base_uri": "https://localhost:8080/"
        },
        "id": "V22icxs5FUg3",
        "outputId": "387a69f6-8d52-434d-b52b-383c13b9d761"
      },
      "execution_count": null,
      "outputs": [
        {
          "output_type": "stream",
          "name": "stdout",
          "text": [
            "문장을 입력하세요: this is a bad exam\n",
            "this is a bad exam\n",
            "this is a good exam\n"
          ]
        }
      ]
    },
    {
      "cell_type": "code",
      "source": [
        "# 코드값에 대응하는 문자 얻기\n",
        "val = int(input('문자 코드값을 입력하세요: '))\n",
        "ch = chr(val)\n",
        "print('코드값: %d 문자: %s' %(val, ch))"
      ],
      "metadata": {
        "colab": {
          "base_uri": "https://localhost:8080/"
        },
        "id": "3wscVA36FUYH",
        "outputId": "8655090a-e3f2-43e8-811e-56d12606a322"
      },
      "execution_count": null,
      "outputs": [
        {
          "output_type": "stream",
          "name": "stdout",
          "text": [
            "문자 코드값을 입력하세요: 65\n",
            "코드값: 65 문자: A\n"
          ]
        }
      ]
    },
    {
      "cell_type": "code",
      "source": [
        "# 코드값에 대응하는 문자 얻기\n",
        "while True:\n",
        "  val = int(input('문자 코드값을 입력하세요(종료하시려면 0 입력): '))\n",
        "  if val != 0:\n",
        "    ch = chr(val)\n",
        "    print('코드값: %d 문자: %s' %(val, ch))\n",
        "  else:\n",
        "    print(\"프로그램을 종료합니다\")\n",
        "    break"
      ],
      "metadata": {
        "colab": {
          "base_uri": "https://localhost:8080/"
        },
        "id": "63yhbtULFUPE",
        "outputId": "7d1697c4-9ec6-4ca1-f77b-80137f6904f6"
      },
      "execution_count": null,
      "outputs": [
        {
          "output_type": "stream",
          "name": "stdout",
          "text": [
            "문자 코드값을 입력하세요(종료하시려면 0 입력):  45\n",
            "코드값: 45 문자: -\n",
            "문자 코드값을 입력하세요(종료하시려면 0 입력): 67\n",
            "코드값: 67 문자: C\n",
            "문자 코드값을 입력하세요(종료하시려면 0 입력): 122\n",
            "코드값: 122 문자: z\n",
            "문자 코드값을 입력하세요(종료하시려면 0 입력): 0\n",
            "프로그램을 종료합니다\n"
          ]
        }
      ]
    },
    {
      "cell_type": "code",
      "source": [
        "# 문자열이 문자인지 검사\n",
        "txt1='A'\n",
        "txt2='안녕'\n",
        "txt3='Warcraft Tree'\n",
        "txt4='3PO'\n",
        "ret1=txt1.isalpha()\n",
        "ret2=txt2.isalpha()\n",
        "ret3=txt3.isalpha()           ## 공백이 포함되어 있으면 false\n",
        "ret4=txt4.isalpha()           ## 숫자가 포함되어 있으면 false\n",
        "print(ret1)\n",
        "print(ret2)\n",
        "print(ret3)\n",
        "print(ret4)"
      ],
      "metadata": {
        "colab": {
          "base_uri": "https://localhost:8080/"
        },
        "id": "5Q2NVqm2KtOK",
        "outputId": "33619a22-89a8-42ac-823d-07ca81510241"
      },
      "execution_count": null,
      "outputs": [
        {
          "output_type": "stream",
          "name": "stdout",
          "text": [
            "True\n",
            "True\n",
            "False\n",
            "False\n"
          ]
        }
      ]
    },
    {
      "cell_type": "code",
      "source": [
        "# 문자열이 문자인지 검사\n",
        "txt1='010-1234-5678'\n",
        "txt2='R2D2'\n",
        "txt3='1212'\n",
        "txt4='12 2'\n",
        "ret1=txt1.isdigit()           # - 포함되어 있어 false\n",
        "ret2=txt2.isdigit()           # R/D char 포함되어 있어 false\n",
        "ret3=txt3.isdigit()\n",
        "ret4=txt4.isdigit()           ## 공백이 포함되어 있으면 false\n",
        "print(ret1)\n",
        "print(ret2)\n",
        "print(ret3)\n",
        "print(ret4)"
      ],
      "metadata": {
        "colab": {
          "base_uri": "https://localhost:8080/"
        },
        "id": "bTxNUGZKM9zd",
        "outputId": "8d15609b-5ce7-41d5-ec25-f793672198fb"
      },
      "execution_count": null,
      "outputs": [
        {
          "output_type": "stream",
          "name": "stdout",
          "text": [
            "False\n",
            "False\n",
            "True\n",
            "False\n"
          ]
        }
      ]
    },
    {
      "cell_type": "code",
      "source": [
        "# isalnum() : 문자열이 문자 또는 숫자인지 검사: 영어/한글 혹은 숫자로 되어 있으면 True, 아니면 False return\n",
        "\n",
        "txt1='안녕하세요?'\n",
        "txt2='1. Title-제목을 넣으세요'\n",
        "txt3='3피오R2D2'\n",
        "txt4='12 2'\n",
        "ret1=txt1.isalnum()           # ? 포함되어 있어 false\n",
        "ret2=txt2.isalnum()           # ./공백/-이 포함되어 있어 false\n",
        "ret3=txt3.isalnum()\n",
        "ret4=txt4.isalnum()           ## 공백이 포함되어 있으면 false\n",
        "print(ret1)\n",
        "print(ret2)\n",
        "print(ret3)\n",
        "print(ret4)\n",
        "\n",
        "\n"
      ],
      "metadata": {
        "colab": {
          "base_uri": "https://localhost:8080/"
        },
        "id": "vPjkxgcOO3k0",
        "outputId": "88472797-92be-4826-ab77-e27ac90a79ea"
      },
      "execution_count": null,
      "outputs": [
        {
          "output_type": "stream",
          "name": "stdout",
          "text": [
            "False\n",
            "False\n",
            "True\n",
            "False\n"
          ]
        }
      ]
    },
    {
      "cell_type": "code",
      "source": [
        "txt1='A lot of Things occur each day'\n",
        "\n",
        "ret1=txt1.upper()           # 모두 대문자\n",
        "ret2=txt1.lower()           # 모두 소문자\n",
        "ret3=txt1.title()           # 각 단어의 첫 글자만 대문자\n",
        "ret4=txt1.capitalize()           ## 문자열의 첫 글자만 대문자\n",
        "print(ret1)\n",
        "print(ret2)\n",
        "print(ret3)\n",
        "print(ret4)\n"
      ],
      "metadata": {
        "colab": {
          "base_uri": "https://localhost:8080/"
        },
        "id": "ns4oZQWpQv-z",
        "outputId": "739fc927-6c3a-445e-cde0-27520568a7de"
      },
      "execution_count": null,
      "outputs": [
        {
          "output_type": "stream",
          "name": "stdout",
          "text": [
            "A LOT OF THINGS OCCUR EACH DAY\n",
            "a lot of things occur each day\n",
            "A Lot Of Things Occur Each Day\n",
            "A lot of things occur each day\n"
          ]
        }
      ]
    },
    {
      "cell_type": "code",
      "source": [
        "# Q. numbers 내부에 들어가있는 숫자가 몇번 등장하는지를 출력하는 코드를 작성하세요\n",
        "numbers=[3,6,3,5,8,2,9,7,4,3,6,3,5,8,2,9,7,4]\n",
        "for i in set(numbers):\n",
        "  print(f\"{i}는 {numbers.count(i)} 번 들어가 있습니다.\")"
      ],
      "metadata": {
        "colab": {
          "base_uri": "https://localhost:8080/"
        },
        "id": "OTLoamGMR8vG",
        "outputId": "ffd7fe48-38e2-43ae-b26c-8ec3dcaca75b"
      },
      "execution_count": null,
      "outputs": [
        {
          "output_type": "stream",
          "name": "stdout",
          "text": [
            "2는 2 번 들어가 있습니다.\n",
            "3는 4 번 들어가 있습니다.\n",
            "4는 2 번 들어가 있습니다.\n",
            "5는 2 번 들어가 있습니다.\n",
            "6는 2 번 들어가 있습니다.\n",
            "7는 2 번 들어가 있습니다.\n",
            "8는 2 번 들어가 있습니다.\n",
            "9는 2 번 들어가 있습니다.\n"
          ]
        }
      ]
    },
    {
      "cell_type": "code",
      "source": [
        "# Q. 강사님 답안, numbers 내부에 들어가있는 숫자가 몇번 등장하는지를 출력하는 코드를 작성하세요\n",
        "numbers=[3,6,3,5,8,2,9,7,4,3,6,3,5,8,2,9,7,4]\n",
        "counter={}\n",
        "for i in numbers:\n",
        "  if i in counter:\n",
        "    counter[i] += 1\n",
        "  else:\n",
        "    counter[i] =1\n",
        "\n",
        "print(counter)"
      ],
      "metadata": {
        "colab": {
          "base_uri": "https://localhost:8080/"
        },
        "id": "mu9H2-LkTKLQ",
        "outputId": "1563b93a-5b35-4dd4-8895-805d2fd844ba"
      },
      "execution_count": null,
      "outputs": [
        {
          "output_type": "stream",
          "name": "stdout",
          "text": [
            "{3: 4, 6: 2, 5: 2, 8: 2, 2: 2, 9: 2, 7: 2, 4: 2}\n"
          ]
        }
      ]
    },
    {
      "cell_type": "code",
      "source": [
        "## list의 모든 요소를 실수형으로 변경\n",
        "### list를 for 문을 돌리지 않고도 일괄 적용가능\n",
        "a =[1,2,3,4,5]\n",
        "a_float=list(map(float,a))\n",
        "print(a_float)"
      ],
      "metadata": {
        "colab": {
          "base_uri": "https://localhost:8080/"
        },
        "id": "4rgiOzStlyih",
        "outputId": "67df692d-02ad-4994-c167-7def60e113ec"
      },
      "execution_count": null,
      "outputs": [
        {
          "output_type": "stream",
          "name": "stdout",
          "text": [
            "[1.0, 2.0, 3.0, 4.0, 5.0]\n"
          ]
        }
      ]
    },
    {
      "cell_type": "code",
      "source": [
        "# Q. 데이터를 입력하지 않으면 종료되는 코딩을 수행하세요\n",
        "while True:\n",
        "  input_s=input(\"데이터 입력: \")\n",
        "  if input_s == '':\n",
        "    break\n",
        "  else:\n",
        "    print(input_s)"
      ],
      "metadata": {
        "colab": {
          "base_uri": "https://localhost:8080/"
        },
        "id": "vklYzNDOlyTs",
        "outputId": "26fa39a7-767e-4b13-f0a4-c1283e8f4686"
      },
      "execution_count": null,
      "outputs": [
        {
          "name": "stdout",
          "output_type": "stream",
          "text": [
            "데이터 입력: asdfasdf\n",
            "asdfasdf\n",
            "데이터 입력: asdfasdf\n",
            "asdfasdf\n",
            "데이터 입력: sdsfg\n",
            "sdsfg\n",
            "데이터 입력: \n"
          ]
        }
      ]
    },
    {
      "cell_type": "code",
      "source": [
        "# Q. 데이터를 입력하지 않으면 종료되는 코딩을 수행하세요\n",
        "while True:\n",
        "  input_s=input(\"데이터 입력: \")\n",
        "  if not input_s:\n",
        "    break\n",
        "  else:\n",
        "    print(input_s)"
      ],
      "metadata": {
        "colab": {
          "base_uri": "https://localhost:8080/"
        },
        "id": "UTnJDvGFmoR0",
        "outputId": "724581f9-f557-41d5-b2d9-6820219c2913"
      },
      "execution_count": null,
      "outputs": [
        {
          "name": "stdout",
          "output_type": "stream",
          "text": [
            "데이터 입력: \n"
          ]
        }
      ]
    },
    {
      "cell_type": "markdown",
      "source": [
        "#### 외장 함수 (External Functions):\n",
        "[ 날짜 함수 ]\n",
        "\n",
        "날짜와 시간을 처리하기 위한 주요 라이브러리는 datetime입니다. 이 라이브러리는 날짜, 시간, 시간대와 관련된 다양한 클래스와 함수를 제공하며, 날짜와 시간 연산에 매우 유용\n",
        "- datetime.date: 날짜(연, 월, 일)를 표현하는 클래스\n",
        "    - today(): 오늘의 날짜를 반환\n",
        "- datetime.time: 시간(시, 분, 초, 마이크로초)을 표현하는 클래스\n",
        "- datetime.datetime: 날짜와 시간을 모두 포함하는 클래스\n",
        "    - now(): 현재의 날짜와 시간을 반환\n",
        "- datetime.timedelta: 두 날짜/시간 간의 차이를 표현하는 클래스\n",
        "- datetime.tzinfo: 시간대 정보를 위한 기본 클래스\n",
        "\n",
        "datetime 모듈의 날짜와 시간 객체들을 문자열 형식으로 포맷팅하거나 문자열로부터 날짜와 시간 객체를 생성하기 위해 사용하는 주요 메서드는 strftime()와 strptime()\n",
        "- strftime() (String Format Time)\n",
        "    - 날짜와 시간 객체를 문자열로 변환하는 데 사용\n",
        "    - 사용자가 지정한 형식 문자열을 기반으로 날짜와 시간 정보를 문자열로 표현\n",
        "- strptime() (String Parse Time)\n",
        "    - 문자열을 날짜와 시간 객체로 변환하는 데 사용\n",
        "    - 주어진 형식 문자열을 기반으로 문자열에서 날짜와 시간 정보를 파싱\n",
        "\n",
        "    포맷 코드 표<BR>\n",
        "포맷코드   설명   예<BR>\n",
        "%a   요일 줄임말   Sun, Mon, ... Sat<BR>\n",
        "%A   요일   Sunday, Monday, ..., Saturday<BR>\n",
        "%w   요일을 숫자로 표시, 월요일일요일, 06   0, 1, ..., 6<BR>\n",
        "%d   일   01, 02, ..., 31<BR>\n",
        "%b   월 줄임말   Jan, Feb, ..., Dec<BR>\n",
        "%B   월   January, February, …, December<BR>\n",
        "%m   숫자 월   01, 02, ..., 12<BR>\n",
        "%y   두 자릿수 연도   01, 02, ..., 99<BR>\n",
        "%Y   네 자릿수 연도   0001, 0002, ..., 2017, 2018, 9999<BR>\n",
        "%H   시간(24시간)   00, 01, ..., 23<BR>\n",
        "%I   시간(12시간)   01, 02, ..., 12<BR>\n",
        "%p   AM, PM   AM, PM<BR>\n",
        "%M   분   00, 01, ..., 59<BR>\n",
        "%S   초   00, 01, ..., 59<BR>\n",
        "%Z   시간대   대한민국 표준시<BR>\n",
        "%j   1월 1일부터 경과한 일수   001, 002, ..., 366<BR>\n",
        "%U   1년중 주차, 월요일이 한 주의 시작으로   00, 01, ..., 53<BR>\n",
        "%W   1년중 주차, 월요일이 한 주의 시작으로   00, 01, ..., 53<BR>\n",
        "%c   날짜, 요일, 시간을 출력, 현재 시간대 기준   Sat May 19 11:14:27 2018<BR>\n",
        "%x   날짜를 출력, 현재 시간대 기준   05/19/18<BR>\n",
        "%X   시간을 출력, 현재 시간대 기준   '11:44:22'"
      ],
      "metadata": {
        "id": "XsKy7ItxnztN"
      }
    },
    {
      "cell_type": "code",
      "source": [
        "import datetime\n",
        "now=datetime.datetime.now()\n",
        "print(now)                            # 2024-05-08 05:27:19.435785\n",
        "today=datetime.date.today()           # 2024-05-08\n",
        "print(today)\n",
        "d=datetime.datetime(2023,11,2,14,29,45)   #2023-11-02 14:29:45\n",
        "print(d)\n",
        "delta=datetime.timedelta(days=7)\n",
        "new_date=today + delta\n",
        "print(new_date)                         #2024-05-15\n",
        "\n",
        "date1=datetime.date(2023,1,1)\n",
        "date2=datetime.date(2023,12,31)\n",
        "diff = date2-date1\n",
        "print(diff.days)                        #364"
      ],
      "metadata": {
        "colab": {
          "base_uri": "https://localhost:8080/"
        },
        "id": "a3UDcpEAnCn0",
        "outputId": "5fc3774b-be2e-4ff4-bc62-9421c9cfd1a7"
      },
      "execution_count": null,
      "outputs": [
        {
          "output_type": "stream",
          "name": "stdout",
          "text": [
            "2024-05-08 05:27:19.435785\n",
            "2024-05-08\n",
            "2023-11-02 14:29:45\n",
            "2024-05-15\n",
            "364\n"
          ]
        }
      ]
    },
    {
      "cell_type": "code",
      "source": [
        "\n",
        "2024-05-08\n",
        "2023-11-02 14:29:45\n",
        "2024-05-15\n",
        "364"
      ],
      "metadata": {
        "id": "Z2kadBwSprlK"
      },
      "execution_count": null,
      "outputs": []
    },
    {
      "cell_type": "code",
      "source": [
        "import datetime\n",
        "now=datetime.datetime.now()\n",
        "\n",
        "print(now,type(now))\n",
        "formatted=now.strftime(\"%Y-%m-%d %H:%m:%S\")\n",
        "print(formatted,type(formatted))\n",
        "datetime"
      ],
      "metadata": {
        "colab": {
          "base_uri": "https://localhost:8080/"
        },
        "id": "EYTPWQtjprSL",
        "outputId": "efb1efc7-6769-4677-b29d-ecbbe4550be1"
      },
      "execution_count": null,
      "outputs": [
        {
          "output_type": "stream",
          "name": "stdout",
          "text": [
            "2024-05-08 05:40:26.798081 <class 'datetime.datetime'>\n",
            "2024-05-08 05:05:26 <class 'str'>\n"
          ]
        },
        {
          "output_type": "execute_result",
          "data": {
            "text/plain": [
              "<module 'datetime' from '/usr/lib/python3.10/datetime.py'>"
            ]
          },
          "metadata": {},
          "execution_count": 21
        }
      ]
    },
    {
      "cell_type": "code",
      "source": [
        "import datetime\n",
        "\n",
        "date_string=\"2023-11-02 14:45:30\"\n",
        "print(date_string, type(date_string))\n",
        "dt=datetime.datetime.strptime(date_string, \"%Y-%m-%d %H:%M:%S\")\n",
        "print(dt,type(dt))"
      ],
      "metadata": {
        "colab": {
          "base_uri": "https://localhost:8080/"
        },
        "id": "KqxUf5iCprIu",
        "outputId": "75ed49a3-813f-4a92-9185-a69949ae70ac"
      },
      "execution_count": null,
      "outputs": [
        {
          "output_type": "stream",
          "name": "stdout",
          "text": [
            "2023-11-02 14:45:30 <class 'str'>\n",
            "2023-11-02 14:45:30 <class 'datetime.datetime'>\n"
          ]
        }
      ]
    },
    {
      "cell_type": "markdown",
      "source": [
        "time 모듈\n",
        "- 시스템 시간에 접근하거나 간단한 타이머 기능을 구현\n",
        "- 함수와 같이 프로그램을 일정 시간 동안 중지시키는 데 사용\n",
        "- 시간을 연도, 월, 일, 시, 분, 초 등의 구성 요소로 변환하고 다룰 수 있는 struct_time 객체를 제공\n",
        "- time 모듈은 날짜와 시간을 처리하는 다양한 프로그래밍 요구에 대응할 수 있는 기본적인 기능을 제공하지만, 더 복잡한 날짜 시간 처리나 시간대 변환 등은 datetime 모듈 또는 외부 라이브러리를 사용"
      ],
      "metadata": {
        "id": "XC0_9OZPu9pc"
      }
    },
    {
      "cell_type": "code",
      "source": [
        "## localtime()함수는 파이썬의 time 모듈에 포함되어 있으며, 이 함수는 초로 표시되는 시간을 구조화된 시간 튜플 형태로 반환\n",
        "import time\n",
        "local_time = time.localtime()\n",
        "print(local_time)\n",
        "print(local_time.tm_mon, local_time.tm_sec)"
      ],
      "metadata": {
        "colab": {
          "base_uri": "https://localhost:8080/"
        },
        "id": "ko04nO4wu8K3",
        "outputId": "9028dcba-2bb0-4620-df0a-1c74099869d7"
      },
      "execution_count": null,
      "outputs": [
        {
          "output_type": "stream",
          "name": "stdout",
          "text": [
            "time.struct_time(tm_year=2024, tm_mon=5, tm_mday=8, tm_hour=5, tm_min=49, tm_sec=31, tm_wday=2, tm_yday=129, tm_isdst=0)\n",
            "5 31\n"
          ]
        }
      ]
    },
    {
      "cell_type": "code",
      "source": [
        "# 현재 시간을 1970년 1월 1일 0:0:0부터 현재까지의 초(sec.)로 표현한 값을 반환\n",
        "import time\n",
        "time.time()\n"
      ],
      "metadata": {
        "colab": {
          "base_uri": "https://localhost:8080/"
        },
        "id": "eCink4MBvrMH",
        "outputId": "2716b2ef-b00a-4877-ba46-19a597cf9030"
      },
      "execution_count": null,
      "outputs": [
        {
          "output_type": "execute_result",
          "data": {
            "text/plain": [
              "1715147286.6091053"
            ]
          },
          "metadata": {},
          "execution_count": 26
        }
      ]
    },
    {
      "cell_type": "code",
      "source": [
        "# 초로 표현된 시간을 구조화된 시간 튜플 형태로 변환\n",
        "t=time.time()\n",
        "time.localtime(t)"
      ],
      "metadata": {
        "colab": {
          "base_uri": "https://localhost:8080/"
        },
        "id": "c23xhO-QvrIp",
        "outputId": "f326e3d4-ec7c-4c13-d1d5-011ff39af389"
      },
      "execution_count": null,
      "outputs": [
        {
          "output_type": "execute_result",
          "data": {
            "text/plain": [
              "time.struct_time(tm_year=2024, tm_mon=5, tm_mday=8, tm_hour=5, tm_min=50, tm_sec=24, tm_wday=2, tm_yday=129, tm_isdst=0)"
            ]
          },
          "metadata": {},
          "execution_count": 29
        }
      ]
    },
    {
      "cell_type": "code",
      "source": [
        "## strftim함수는 시간에 관계된 것을 세밀하게 표현할 수 있는 여러 가지 포맷 코드 제공\n",
        "## time.localtime()함수는 초로 표현된 시간을 구조화된 시간 튜플 형태로 변환\n",
        "\n",
        "import time\n",
        "d= time.strftime('%d', time.localtime(time.time()))\n",
        "m= time.strftime('%m', time.localtime(time.time()))\n",
        "y= time.strftime('%Y', time.localtime(time.time()))\n",
        "a= time.strftime('%A', time.localtime(time.time()))        # 요일\n",
        "\n",
        "print(d, m, y,a)"
      ],
      "metadata": {
        "colab": {
          "base_uri": "https://localhost:8080/"
        },
        "id": "fSukxZItvrE-",
        "outputId": "5be4a2f4-eecd-4837-c9d4-1a708b2ea08c"
      },
      "execution_count": null,
      "outputs": [
        {
          "output_type": "stream",
          "name": "stdout",
          "text": [
            "08 05 2024 Wednesday\n"
          ]
        }
      ]
    },
    {
      "cell_type": "code",
      "source": [
        "## Q. 1609160537.371015를 \"\" 포맷으로 변환하세요\n",
        "import time\n",
        "time1=1609160537.371015\n",
        "time2=time.localtime(time_in)\n",
        "print(time2)\n",
        "time_out=time.strftime('%a %b %d %H:%M:%S %Y', time2)\n",
        "print(time_out)"
      ],
      "metadata": {
        "colab": {
          "base_uri": "https://localhost:8080/"
        },
        "id": "YDRdjsTKvq5L",
        "outputId": "357bf753-78a2-4a20-9a3e-0323364aa56e"
      },
      "execution_count": null,
      "outputs": [
        {
          "output_type": "stream",
          "name": "stdout",
          "text": [
            "time.struct_time(tm_year=2020, tm_mon=12, tm_mday=28, tm_hour=13, tm_min=2, tm_sec=17, tm_wday=0, tm_yday=363, tm_isdst=0)\n",
            "Mon Dec 28 13:02:17 2020\n"
          ]
        }
      ]
    },
    {
      "cell_type": "code",
      "source": [
        "## Q. 1609160537.371015를 \"\" 포맷으로 변환하세요\n",
        "import time\n",
        "time1=1609160537.371015\n",
        "time2=time.localtime(time_in)\n",
        "print(time2)\n",
        "time_out=time.asctime(time2)\n",
        "print(time_out)"
      ],
      "metadata": {
        "colab": {
          "base_uri": "https://localhost:8080/"
        },
        "id": "PoPNNY7i18dR",
        "outputId": "27463dd7-304c-4dac-a9a2-242f61cc9c8f"
      },
      "execution_count": null,
      "outputs": [
        {
          "output_type": "stream",
          "name": "stdout",
          "text": [
            "time.struct_time(tm_year=2020, tm_mon=12, tm_mday=28, tm_hour=13, tm_min=2, tm_sec=17, tm_wday=0, tm_yday=363, tm_isdst=0)\n",
            "Mon Dec 28 13:02:17 2020\n"
          ]
        }
      ]
    },
    {
      "cell_type": "code",
      "source": [
        "import time\n",
        "t =time.time()\n",
        "print(t, type(t))               ## 실수 형태로 나옴\n",
        "s=str(t)\n",
        "print(s, type(s))"
      ],
      "metadata": {
        "colab": {
          "base_uri": "https://localhost:8080/"
        },
        "id": "3HGxlT7018aM",
        "outputId": "ddca06e7-a2dc-4ba8-debb-ab126c548507"
      },
      "execution_count": null,
      "outputs": [
        {
          "output_type": "stream",
          "name": "stdout",
          "text": [
            "1715149245.951296 <class 'float'>\n",
            "1715149245.951296 <class 'str'>\n"
          ]
        }
      ]
    },
    {
      "cell_type": "code",
      "source": [
        "## timestamp ==> datetime\n",
        "from datetime import datetime\n",
        "t = time.time()\n",
        "print(t, type(t))\n",
        "d=datetime.fromtimestamp(t)\n",
        "print(d,type(d\n",
        "             ))"
      ],
      "metadata": {
        "colab": {
          "base_uri": "https://localhost:8080/"
        },
        "id": "AuN1BacL18XH",
        "outputId": "a09e64f3-0bc2-41e9-8cb5-0aa3450eba59"
      },
      "execution_count": null,
      "outputs": [
        {
          "output_type": "stream",
          "name": "stdout",
          "text": [
            "1715149583.8433974 <class 'float'>\n",
            "2024-05-08 06:26:23.843397 <class 'datetime.datetime'>\n"
          ]
        }
      ]
    },
    {
      "cell_type": "code",
      "source": [
        "## datetime ==> str\n",
        "from datetime import datetime\n",
        "\n",
        "s=datetime.now()\n",
        "print(s, type(s))\n",
        "s1=s.strftime('%Y-%m-%d %H:%M:%S')\n",
        "print(s1,type(s1))\n",
        "s2=s.strftime('%Y-%b-%d %H:%M:%S')\n",
        "print(s2,type(s2))"
      ],
      "metadata": {
        "colab": {
          "base_uri": "https://localhost:8080/"
        },
        "id": "GD4cRw_S18UL",
        "outputId": "cb2b2ef4-a6d7-47c1-c47b-38362328ba95"
      },
      "execution_count": null,
      "outputs": [
        {
          "output_type": "stream",
          "name": "stdout",
          "text": [
            "2024-05-08 06:33:29.139743 <class 'datetime.datetime'>\n",
            "2024-05-08 06:33:29 <class 'str'>\n",
            "2024-May-08 06:33:29 <class 'str'>\n"
          ]
        }
      ]
    },
    {
      "cell_type": "code",
      "source": [
        "## datetime ==> str\n",
        "from datetime import datetime\n",
        "from time import time\n",
        "\n",
        "t=time()\n",
        "d=datetime.fromtimestamp(t)\n",
        "print(d, type(d))\n",
        "s1=d.strftime('%Y-%m-%d %H:%M:%S')\n",
        "print(s1,type(s1))\n",
        "s2=d.strftime('%Y-%b-%d %H:%M:%S')\n",
        "print(s2,type(s2))\n",
        "\n",
        "s3=d.strftime('%Y-%b-%d %X')  ## %H:%M:%S 대신에 %X해도 동일한 결과\n",
        "print(s3,type(s3))"
      ],
      "metadata": {
        "colab": {
          "base_uri": "https://localhost:8080/"
        },
        "id": "TGKewZ2518Q-",
        "outputId": "09fbd8d3-4a7e-432c-88bd-825987052ea0"
      },
      "execution_count": null,
      "outputs": [
        {
          "output_type": "stream",
          "name": "stdout",
          "text": [
            "2024-05-08 06:39:12.903533 <class 'datetime.datetime'>\n",
            "2024-05-08 06:39:12 <class 'str'>\n",
            "2024-May-08 06:39:12 <class 'str'>\n",
            "2024-May-08 06:39:12 <class 'str'>\n"
          ]
        }
      ]
    },
    {
      "cell_type": "code",
      "source": [
        "## str ==> datetime형태로 변환: strptime()\n",
        "from datetime import datetime\n",
        "from time import time\n",
        "\n",
        "s = '2024-05-08 06:39:12'\n",
        "print(s, type(s))\n",
        "d = datetime.strptime(s, '%Y-%m-%d %X')\n",
        "print(d, type(d))"
      ],
      "metadata": {
        "colab": {
          "base_uri": "https://localhost:8080/"
        },
        "id": "u8QMSO3W7Bhy",
        "outputId": "a582d145-c1ca-4c68-c7a1-3a1ebc0d6eb9"
      },
      "execution_count": null,
      "outputs": [
        {
          "output_type": "stream",
          "name": "stdout",
          "text": [
            "2024-05-08 06:39:12 <class 'str'>\n",
            "2024-05-08 06:39:12 <class 'datetime.datetime'>\n"
          ]
        }
      ]
    },
    {
      "cell_type": "code",
      "source": [
        "# datetime ==> timestamp\n",
        "from datetime import datetime\n",
        "import time\n",
        "\n",
        "d=datetime.today()\n",
        "print(d,type(d))\n",
        "\n",
        "timestamp=time.mktime(d.timetuple())        # 그냥은 안되고 타임튜블로 바꾸고, mktime으로 변환\n",
        "print(timestamp, type(timestamp))"
      ],
      "metadata": {
        "colab": {
          "base_uri": "https://localhost:8080/"
        },
        "id": "mwMfJcAY18N3",
        "outputId": "130b916f-537e-4f15-a370-7bae154ff23e"
      },
      "execution_count": null,
      "outputs": [
        {
          "output_type": "stream",
          "name": "stdout",
          "text": [
            "2024-05-08 06:46:26.709992 <class 'datetime.datetime'>\n",
            "1715150786.0 <class 'float'>\n"
          ]
        }
      ]
    },
    {
      "cell_type": "code",
      "source": [
        "# str ==> datetime ==> timestamp\n",
        "s = '2024-05-08 06:39:12'\n",
        "d = datetime.strptime(s, '%Y-%m-%d %X')\n",
        "timestamp=time.mktime(d.timetuple())\n",
        "print(timestamp, type(timestamp))"
      ],
      "metadata": {
        "colab": {
          "base_uri": "https://localhost:8080/"
        },
        "id": "Afz9Ul-q8WWH",
        "outputId": "2fa72416-f989-4264-f23c-e6f4a3c47655"
      },
      "execution_count": null,
      "outputs": [
        {
          "output_type": "stream",
          "name": "stdout",
          "text": [
            "1715150352.0 <class 'float'>\n"
          ]
        }
      ]
    },
    {
      "cell_type": "code",
      "source": [
        "# Task1_0508. title() 함수를 사용하지 않고 동일한 결과를 출력하세요.\n",
        "# w/o .title()\n",
        "# 단 중간에 한깐씩 띄워주어야 함 ex) kim dong wan\n",
        "# choi hwan wook ====> Choi Hwan Wook\n",
        "\n",
        "\n",
        "in_name=input(\"이름을 영문으로 입력해주세요: \").lower()\n",
        "inname_split=[]; inname_split=in_name.strip().split(\" \")\n",
        "for i in inname_split:\n",
        "  k=0\n",
        "  for j in i:\n",
        "    if k == 0:\n",
        "      print(j.upper(),end=\"\")\n",
        "    else: print(j,end=\"\")\n",
        "    k += 1\n",
        "  print(\" \",end=\"\")"
      ],
      "metadata": {
        "colab": {
          "base_uri": "https://localhost:8080/"
        },
        "id": "yRlKEuu4Cj1-",
        "outputId": "9a551a55-2967-4e67-8802-5d1507f71a82"
      },
      "execution_count": null,
      "outputs": [
        {
          "output_type": "stream",
          "name": "stdout",
          "text": [
            "이름을 영문으로 입력해주세요: choi hwan wook\n",
            "Choi Hwan Wook "
          ]
        }
      ]
    },
    {
      "cell_type": "code",
      "source": [
        "# Task2_0507. join 함수를 이용해서 ['a','b','c']을 아래와 같이 출력하세요.\n",
        "# a::b::c\n",
        "list1=['a','b','c']\n",
        "bond='::'\n",
        "print(bond.join(list1))"
      ],
      "metadata": {
        "colab": {
          "base_uri": "https://localhost:8080/"
        },
        "id": "NQPowA3OJf-g",
        "outputId": "1b82a45a-7856-435f-8d79-ff7f827b16d1"
      },
      "execution_count": null,
      "outputs": [
        {
          "output_type": "stream",
          "name": "stdout",
          "text": [
            "a::b::c\n"
          ]
        }
      ]
    },
    {
      "cell_type": "code",
      "source": [
        "# Task3_0508. 다음을 수행하세요.\n",
        "# - 사용자로부터 문자열을 입력받습니다.\n",
        "# - 입력받은 문자열이 숫자로만 이루어져 있는지 확인합니다.\n",
        "# - 만약 숫자로만 이루어져 있다면, 그 숫자를 정수로 변환하여 100을 더한 결과를 출력합니다.\n",
        "# - 숫자가 아닌 문자가 포함되어 있다면, 사용자에게 숫자만 입력하라는 메시지를 출력합니다.\n",
        "# - 연산이 수행이 완료될 때까지 반복하고 수행이 완료되면 break 합니다.\n",
        "\n",
        "while True:\n",
        "  str1 = input('연산을 위한 문자열을 입력하세요(숫자로만 이루어져야 합니다.): ')\n",
        "  if str1.isdigit():\n",
        "\n",
        "    print(f'결과값: {int(str1)+100}')\n",
        "    print(\"연산 수행이 완료되어 프로그램을 종료합니다.\")\n",
        "    break\n",
        "  else:\n",
        "    print(\"연산을 위해 숫자로만 이뤄진 문자열을 입력하세요\")"
      ],
      "metadata": {
        "colab": {
          "base_uri": "https://localhost:8080/"
        },
        "id": "BHyOTWSxJfr-",
        "outputId": "2226813c-00c8-4e79-ab3a-d501663029b5"
      },
      "execution_count": null,
      "outputs": [
        {
          "output_type": "stream",
          "name": "stdout",
          "text": [
            "연산을 위한 문자열을 입력하세요(숫자로만 이루어져야 합니다.): ㅁㄴㅇㄹ\n",
            "연산을 위해 숫자로만 이뤄진 문자열을 입력하세요\n",
            "연산을 위한 문자열을 입력하세요(숫자로만 이루어져야 합니다.): adsfds\n",
            "연산을 위해 숫자로만 이뤄진 문자열을 입력하세요\n",
            "연산을 위한 문자열을 입력하세요(숫자로만 이루어져야 합니다.): asdf\n",
            "연산을 위해 숫자로만 이뤄진 문자열을 입력하세요\n",
            "연산을 위한 문자열을 입력하세요(숫자로만 이루어져야 합니다.): 123213423\n",
            "결과값: 123213523\n",
            "연산 수행이 완료되어 프로그램을 종료합니다.\n"
          ]
        }
      ]
    },
    {
      "cell_type": "code",
      "source": [
        "# Task4_0508. 문자와 숫자로만 구성된 아이디만 유효한 규칙을 만들려고 한다. 아래 사항을 참조하여 프로그램을 작성하세요.\n",
        "# 사용자로부터 문자열을 입력받습니다.\n",
        "# 입력받은 문자열이 알파벳과 숫자로만 이루어져 있는지 확인합니다.\n",
        "# 만약 조건을 만족한다면 \"유효한 아이디입니다\"라고 출력합니다.\n",
        "# 그렇지 않다면, \"아이디는 알파벳과 숫자만 포함할 수 있습니다\"라고 메시지를 출력하고 다시 입력하도록 한다.\n",
        "\n",
        "\n",
        "while True:\n",
        "  str1 = input('새로운 아이디를 입력하세요(아이디는 알파벳과 숫자로만 이루어져야 합니다.): ')\n",
        "  if str1.isalnum():\n",
        "    print(f'{str1}은 유효한 아이디입니다.\\n')\n",
        "    cont=input(\"아이디로 사용하시겠습니까? (Y/N): \").lower()\n",
        "    if cont == 'y':\n",
        "      print(\"아이디로 채택되었습니다. 프로그램을 종료합니다.\")\n",
        "      break\n",
        "  else:\n",
        "    print(\"아이디는 알파벳과 숫자로만 이루어져야 합니다. 다시 입력하세요\\n\")"
      ],
      "metadata": {
        "colab": {
          "base_uri": "https://localhost:8080/"
        },
        "id": "Z6vveH7xObjk",
        "outputId": "d5875a5c-ef11-43ba-e75f-1ddfab5d36b7"
      },
      "execution_count": null,
      "outputs": [
        {
          "output_type": "stream",
          "name": "stdout",
          "text": [
            "새로운 아이디를 입력하세요(아이디는 알파벳과 숫자로만 이루어져야 합니다.): asdfasdf2\n",
            "asdfasdf2은 유효한 아이디입니다.\n",
            "\n",
            "아이디로 사용하시겠습니까? (Y/N): n\n",
            "새로운 아이디를 입력하세요(아이디는 알파벳과 숫자로만 이루어져야 합니다.): asdfgasdf29)\n",
            "아이디는 알파벳과 숫자로만 이루어져야 합니다. 다시 입력하세요\n",
            "\n",
            "새로운 아이디를 입력하세요(아이디는 알파벳과 숫자로만 이루어져야 합니다.): asdfasdf22143234\n",
            "asdfasdf22143234은 유효한 아이디입니다.\n",
            "\n",
            "아이디로 사용하시겠습니까? (Y/N): y\n",
            "아이로 채택되었습니다. 프로그램을 종료합니다.\n",
            "\n"
          ]
        }
      ]
    },
    {
      "cell_type": "code",
      "source": [
        "# Task5_0508. 코딩을 한줄로 작성해서 동일한 결과를 출력하세요.\n",
        "# list = []\n",
        "# for i in range(0,20,2):\n",
        "#     list.append(i*i)\n",
        "# print(list)\n",
        "\n",
        "[i*i for i in range(0,20,2)]\n",
        "\n"
      ],
      "metadata": {
        "colab": {
          "base_uri": "https://localhost:8080/"
        },
        "id": "wNEWJcGwStAH",
        "outputId": "1959d0f2-8584-4204-b9df-dda63ccc5d1c"
      },
      "execution_count": null,
      "outputs": [
        {
          "output_type": "execute_result",
          "data": {
            "text/plain": [
              "[0, 4, 16, 36, 64, 100, 144, 196, 256, 324]"
            ]
          },
          "metadata": {},
          "execution_count": 109
        }
      ]
    },
    {
      "cell_type": "code",
      "source": [
        "## Task6_0508. 유닉스 타임스탬프를 받아서 해당 시간을 datetime.datetime 객체로 변환하고,\n",
        "## 그 결과를 출력하는 사용자 함수를 작성하여 임의의 타임스탬프를 입력하여 결과를 출력하세요.\n",
        "import time\n",
        "from datetime import datetime\n",
        "\n",
        "def Tstamp2DateTime(TimeStamp):\n",
        "  DateTime=datetime.fromtimestamp(TimeStamp)\n",
        "  return DateTime\n",
        "\n",
        "def main():\n",
        "  time_s=time.time()\n",
        "  DateTime=Tstamp2DateTime(time_s)\n",
        "  Time_Out=DateTime.strftime('%Y-%m-%d %H:%M:%S')\n",
        "  print(Time_Out)\n",
        "  print(DateTime)\n",
        "if __name__ == \"__main__\":\n",
        "  main()"
      ],
      "metadata": {
        "colab": {
          "base_uri": "https://localhost:8080/"
        },
        "id": "oMzCEXfV5Rm0",
        "outputId": "2a287269-77de-404f-9733-6d4729053fc9"
      },
      "execution_count": null,
      "outputs": [
        {
          "output_type": "stream",
          "name": "stdout",
          "text": [
            "2024-05-09 01:12:41\n",
            "2024-05-09 01:12:41.218533\n"
          ]
        }
      ]
    },
    {
      "cell_type": "code",
      "source": [
        "## Task7_0508. datetime 객체를 문자열로 변환하는 사용자 함수를 작성하여 datetime 객체를 \"YYYY-MM-DD HH:MM:SS\" 형식의 문자열로 변환하고 출력하세요.\n",
        "from datetime import datetime\n",
        "import pytz\n",
        "\n",
        "def DateTime2Str(DateTime):\n",
        "  TimeOut=DateTime.strftime('%Y-%m-%d %H:%M:%S')\n",
        "  print(TimeOut, type(TimeOut))\n",
        "\n",
        "tz=pytz.timezone('Asia/Seoul')\n",
        "DateTime=datetime.now(tz)\n",
        "print(DateTime,type(DateTime))\n",
        "DateTime2Str(DateTime)"
      ],
      "metadata": {
        "colab": {
          "base_uri": "https://localhost:8080/"
        },
        "id": "tOZ8vBFx6XYp",
        "outputId": "3b570ef5-12e9-45cc-e16b-b6cb10c9a64e"
      },
      "execution_count": null,
      "outputs": [
        {
          "output_type": "stream",
          "name": "stdout",
          "text": [
            "2024-05-09 14:04:36.285399+09:00 <class 'datetime.datetime'>\n",
            "2024-05-09 14:04:36 <class 'str'>\n"
          ]
        }
      ]
    },
    {
      "cell_type": "code",
      "source": [
        "## Task8_0508. 올해 경과된 날짜수 계산하세요.\n",
        "from datetime import datetime\n",
        "\n",
        "DateTime=datetime.now()\n",
        "#print(DateTime,type(DateTime))\n",
        "TimeOut=DateTime.strftime('%Y-%m-%d %H:%M:%S')\n",
        "PassDay=DateTime.strftime('%j')\n",
        "\n",
        "print(f\"오늘의 '년-월-일 및 시간'은 {TimeOut} 이며 1월 1일부터 {PassDay}일 경과되었습니다.\")"
      ],
      "metadata": {
        "colab": {
          "base_uri": "https://localhost:8080/"
        },
        "id": "Lec3fkhg9rl6",
        "outputId": "fe16c556-a24a-42ff-c789-ad69df11f86d"
      },
      "execution_count": null,
      "outputs": [
        {
          "output_type": "stream",
          "name": "stdout",
          "text": [
            "오늘의 '년-월-일 및 시간'은 2024-05-09 01:21:55 이며 1월 1일부터 130일 경과되었습니다.\n"
          ]
        }
      ]
    },
    {
      "cell_type": "code",
      "source": [
        "# 강사님 답안\n",
        "## Task8_0508. 올해 경과된 날짜수 계산하세요.\n",
        "import datetime\n",
        "\n",
        "DateTime=datetime.date.today()\n",
        "S_Y=datetime.date(DateTime.year,1,1)\n",
        "day_passed=(DateTime-S_Y).days\n",
        "\n",
        "print(f\"오늘의 '년-월-일 및 시간'은 {DateTime} 이며 1월 1일부터 {day_passed}일 경과되었습니다.\")\n"
      ],
      "metadata": {
        "colab": {
          "base_uri": "https://localhost:8080/"
        },
        "id": "b9JOiuD_8vO3",
        "outputId": "74977f00-dc68-448d-d008-71e60727bd2c"
      },
      "execution_count": null,
      "outputs": [
        {
          "output_type": "stream",
          "name": "stdout",
          "text": [
            "오늘의 '년-월-일 및 시간'은 2024-05-09 이며 1월 1일부터 129일 경과되었습니다.\n"
          ]
        }
      ]
    },
    {
      "cell_type": "code",
      "source": [
        "# 강사님 답안\n",
        "## 오늘은 올해 몇일째 되는 날인가?\n",
        "import time\n",
        "\n",
        "numday=time.localtime(time.time())\n",
        "print(numday)\n",
        "numday.tm_yday\n"
      ],
      "metadata": {
        "colab": {
          "base_uri": "https://localhost:8080/"
        },
        "id": "MVZzvIAF-HAC",
        "outputId": "1cfe11e2-4e85-435b-fe9c-7485fcb4426a"
      },
      "execution_count": null,
      "outputs": [
        {
          "output_type": "stream",
          "name": "stdout",
          "text": [
            "time.struct_time(tm_year=2024, tm_mon=5, tm_mday=9, tm_hour=1, tm_min=31, tm_sec=51, tm_wday=3, tm_yday=130, tm_isdst=0)\n"
          ]
        },
        {
          "output_type": "execute_result",
          "data": {
            "text/plain": [
              "130"
            ]
          },
          "metadata": {},
          "execution_count": 7
        }
      ]
    },
    {
      "cell_type": "code",
      "source": [
        "## Task9_0508. 현재 요일을 \"년-월-일 오늘은 무슨 요일입니다.\"와 같은 형태로 출력하세요\n",
        "from datetime import datetime\n",
        "\n",
        "week_dict={'0':'일', '1':'월', '2':'화', '3':'수', '4':'목', '5':'금', '6':'토'}\n",
        "DateTime=datetime.now()\n",
        "#print(DateTime,type(DateTime))\n",
        "TimeOut=DateTime.strftime('%Y-%m-%d')\n",
        "DayWeek=DateTime.strftime('%A')\n",
        "DayWeek2=DateTime.strftime('%w')\n",
        "print(DayWeek, DayWeek2)\n",
        "\n",
        "print(f\"{TimeOut} 오늘은 {DayWeek}입니다.\")\n",
        "print(f\"{TimeOut} 오늘은 {week_dict[DayWeek2]}요일입니다.\")"
      ],
      "metadata": {
        "colab": {
          "base_uri": "https://localhost:8080/"
        },
        "id": "yQvQ9gV49reb",
        "outputId": "ec60a10d-aca5-4e5d-b175-cdca18a980e8"
      },
      "execution_count": null,
      "outputs": [
        {
          "output_type": "stream",
          "name": "stdout",
          "text": [
            "Thursday 4\n",
            "2024-05-09 오늘은 Thursday입니다.\n",
            "2024-05-09 오늘은 목요일입니다.\n"
          ]
        }
      ]
    },
    {
      "cell_type": "code",
      "source": [
        "##강사님 답안\n",
        "## Task9_0508. 현재 요일을 \"년-월-일 오늘은 무슨 요일입니다.\"와 같은 형태로 출력하세요\n",
        "import time\n",
        "\n",
        "weekdays = ['월요일','화요일','수요일','목요일','금요일','토요일','일요일']\n",
        "t = time.localtime()\n",
        "today = f'{t.tm_year}-{t.tm_mon}-{t.tm_mday}'\n",
        "week = weekdays[t.tm_wday]\n",
        "# print('%s 오늘은 %s입니다' %(today, week))\n",
        "print(f'{today} 오늘은 {week}입니다.')\n",
        "\n",
        "print(t)"
      ],
      "metadata": {
        "colab": {
          "base_uri": "https://localhost:8080/"
        },
        "id": "SNFQAFgkAIh8",
        "outputId": "5079aecb-f5c4-4687-8b57-cd488559e454"
      },
      "execution_count": null,
      "outputs": [
        {
          "output_type": "stream",
          "name": "stdout",
          "text": [
            "2024-5-9 오늘은 목요일입니다.\n",
            "time.struct_time(tm_year=2024, tm_mon=5, tm_mday=9, tm_hour=1, tm_min=40, tm_sec=12, tm_wday=3, tm_yday=130, tm_isdst=0)\n"
          ]
        }
      ]
    },
    {
      "cell_type": "code",
      "source": [
        "## Task10_0508. 1에서 백만까지 더하는데 걸리는 프로그램 실행 시간을 밀리초(ms) 단위로 구하세요\n",
        "%%time\n",
        "sum=0\n",
        "for i in range(1,1000001):\n",
        "  sum += i\n",
        "print(sum)"
      ],
      "metadata": {
        "colab": {
          "base_uri": "https://localhost:8080/"
        },
        "id": "wIbPYHUD-Ix3",
        "outputId": "3ca0b485-847d-4407-e5c7-09875bbfceaa"
      },
      "execution_count": null,
      "outputs": [
        {
          "output_type": "stream",
          "name": "stdout",
          "text": [
            "500000500000\n",
            "CPU times: user 127 ms, sys: 0 ns, total: 127 ms\n",
            "Wall time: 129 ms\n"
          ]
        }
      ]
    },
    {
      "cell_type": "code",
      "source": [
        "!pip install pytz"
      ],
      "metadata": {
        "colab": {
          "base_uri": "https://localhost:8080/"
        },
        "id": "SYVKpnefGQzQ",
        "outputId": "17a630a1-f3a2-4570-fcef-e4fa12453a69"
      },
      "execution_count": null,
      "outputs": [
        {
          "output_type": "stream",
          "name": "stdout",
          "text": [
            "Requirement already satisfied: pytz in /usr/local/lib/python3.10/dist-packages (2023.4)\n"
          ]
        }
      ]
    },
    {
      "cell_type": "code",
      "source": [
        "import datetime\n",
        "import pytz\n",
        "\n",
        "tz=pytz.timezone('Asia/Seoul');\n",
        "now=datetime.datetime.now()\n",
        "now_KST=datetime.datetime.now(tz)\n",
        "print(now, now_KST)"
      ],
      "metadata": {
        "colab": {
          "base_uri": "https://localhost:8080/"
        },
        "id": "1CG2qXz3GHsu",
        "outputId": "467fa066-f917-4c4b-8f98-4974d4413f3c"
      },
      "execution_count": null,
      "outputs": [
        {
          "output_type": "stream",
          "name": "stdout",
          "text": [
            "2024-05-09 02:05:51.223555 2024-05-09 11:05:51.224549+09:00\n"
          ]
        }
      ]
    },
    {
      "cell_type": "code",
      "source": [
        "## Task10_0508. Option1\n",
        "import time\n",
        "start_t=time.time()\n",
        "\n",
        "sum=0\n",
        "for i in range(1,1000001):\n",
        "  sum += i\n",
        "\n",
        "end_t=time.time()\n",
        "print(f\"총 합계: {sum}, 소요시간: {(end_t-start_t)*1000}\")"
      ],
      "metadata": {
        "colab": {
          "base_uri": "https://localhost:8080/"
        },
        "id": "m1qSInMEZCHg",
        "outputId": "b37970d5-c0fc-4d11-e230-fcb65bc9458b"
      },
      "execution_count": null,
      "outputs": [
        {
          "output_type": "stream",
          "name": "stdout",
          "text": [
            "총 합계: 500000500000, 소요시간: 453.993558883667\n"
          ]
        }
      ]
    },
    {
      "cell_type": "code",
      "source": [
        "## 외장함수 : 파이썬을 설치할 때 자동으로 설치\n",
        "## pickle은 객체의 형태를 유지하면서 파일에 저장하고 볼러올 수 있게 하는 모듈\n",
        "\n",
        "import pickle\n",
        "\n",
        "f = open('test3.txt','wb')\n",
        "data={1:'python', 2:'you need'}\n",
        "pickle.dump(data,f)\n",
        "f.close()"
      ],
      "metadata": {
        "id": "JZzZ3f2LBw-n"
      },
      "execution_count": null,
      "outputs": []
    },
    {
      "cell_type": "code",
      "source": [
        "!ls"
      ],
      "metadata": {
        "colab": {
          "base_uri": "https://localhost:8080/"
        },
        "id": "39VzZDIJHzAF",
        "outputId": "0697b533-4329-4617-c32d-7a1e60380c1a"
      },
      "execution_count": null,
      "outputs": [
        {
          "output_type": "stream",
          "name": "stdout",
          "text": [
            "drive  sample_data  test3.txt\n"
          ]
        }
      ]
    },
    {
      "cell_type": "code",
      "source": [
        "!cat /content/test3.txt"
      ],
      "metadata": {
        "colab": {
          "base_uri": "https://localhost:8080/"
        },
        "id": "5B9qcQioH2U-",
        "outputId": "158899db-706c-4eda-fc5b-08bb587a567b"
      },
      "execution_count": null,
      "outputs": [
        {
          "output_type": "stream",
          "name": "stdout",
          "text": [
            "�\u0004�\u001d\u0000\u0000\u0000\u0000\u0000\u0000\u0000}�(K\u0001�\u0006python�K\u0002�\byou need�u."
          ]
        }
      ]
    },
    {
      "cell_type": "code",
      "source": [
        "## 외장함수 : 파이썬을 설치할 때 자동으로 설치\n",
        "## pickle은 객체의 형태를 유지하면서 파일에 저장하고 볼러올 수 있게 하는 모듈\n",
        "import pickle\n",
        "\n",
        "with open('test3.txt','wb') as f:\n",
        "  data={1:'python', 2:'you need'}\n",
        "  pickle.dump(data,f)\n"
      ],
      "metadata": {
        "id": "ar0a_XeZCXyx"
      },
      "execution_count": null,
      "outputs": []
    },
    {
      "cell_type": "code",
      "source": [
        "!cat /content/test3.txt"
      ],
      "metadata": {
        "colab": {
          "base_uri": "https://localhost:8080/"
        },
        "id": "JXC9qdhdIjsy",
        "outputId": "fd2120e8-114c-43eb-c602-c1539902dbaf"
      },
      "execution_count": null,
      "outputs": [
        {
          "output_type": "stream",
          "name": "stdout",
          "text": [
            "�\u0004�\u001d\u0000\u0000\u0000\u0000\u0000\u0000\u0000}�(K\u0001�\u0006python�K\u0002�\byou need�u."
          ]
        }
      ]
    },
    {
      "cell_type": "code",
      "source": [
        "import pickle\n",
        "\n",
        "with open('test3.txt','rb') as f:\n",
        "  data=pickle.load(f)\n",
        "\n",
        "print(data)"
      ],
      "metadata": {
        "colab": {
          "base_uri": "https://localhost:8080/"
        },
        "id": "HPXcX-g4I0xV",
        "outputId": "e8759932-effe-4d71-9d98-75b14a26b1c6"
      },
      "execution_count": null,
      "outputs": [
        {
          "output_type": "stream",
          "name": "stdout",
          "text": [
            "{1: 'python', 2: 'you need'}\n"
          ]
        }
      ]
    },
    {
      "cell_type": "code",
      "source": [
        "import os\n",
        "os.environ['PATH']"
      ],
      "metadata": {
        "colab": {
          "base_uri": "https://localhost:8080/",
          "height": 35
        },
        "id": "V2qlVv-cI0uV",
        "outputId": "9e468967-b38b-4435-dd8e-f19c7635c580"
      },
      "execution_count": null,
      "outputs": [
        {
          "output_type": "execute_result",
          "data": {
            "text/plain": [
              "'/opt/bin:/usr/local/nvidia/bin:/usr/local/cuda/bin:/usr/local/sbin:/usr/local/bin:/usr/sbin:/usr/bin:/sbin:/bin:/tools/node/bin:/tools/google-cloud-sdk/bin'"
            ],
            "application/vnd.google.colaboratory.intrinsic+json": {
              "type": "string"
            }
          },
          "metadata": {},
          "execution_count": 13
        }
      ]
    },
    {
      "cell_type": "code",
      "source": [
        "!ls /         # root dir"
      ],
      "metadata": {
        "colab": {
          "base_uri": "https://localhost:8080/"
        },
        "id": "fBTJUzmbI0f4",
        "outputId": "3895792b-7ce5-423f-fad8-988c608bfa34"
      },
      "execution_count": null,
      "outputs": [
        {
          "output_type": "stream",
          "name": "stdout",
          "text": [
            "bin\t\t\t    datalab  kaggle  libx32\t\t       opt   sbin  tools\n",
            "boot\t\t\t    dev      lib     media\t\t       proc  srv   usr\n",
            "content\t\t\t    etc      lib32   mnt\t\t       root  sys   var\n",
            "cuda-keyring_1.0-1_all.deb  home     lib64   NGC-DL-CONTAINER-LICENSE  run   tmp\n"
          ]
        }
      ]
    },
    {
      "cell_type": "code",
      "source": [
        "import os\n",
        "print(os.getcwd())\n",
        "\n",
        "%pwd"
      ],
      "metadata": {
        "colab": {
          "base_uri": "https://localhost:8080/",
          "height": 54
        },
        "id": "BQCTUuVxLKXT",
        "outputId": "b3a7b122-98a0-4ea6-fcc3-1074a9cf2f26"
      },
      "execution_count": null,
      "outputs": [
        {
          "output_type": "stream",
          "name": "stdout",
          "text": [
            "/content\n"
          ]
        },
        {
          "output_type": "execute_result",
          "data": {
            "text/plain": [
              "'/content'"
            ],
            "application/vnd.google.colaboratory.intrinsic+json": {
              "type": "string"
            }
          },
          "metadata": {},
          "execution_count": 8
        }
      ]
    },
    {
      "cell_type": "code",
      "source": [
        "!ls"
      ],
      "metadata": {
        "colab": {
          "base_uri": "https://localhost:8080/"
        },
        "id": "Mlm4dDW0LX1m",
        "outputId": "317ffc48-f406-442c-c824-3b5bab4cd1a6"
      },
      "execution_count": null,
      "outputs": [
        {
          "output_type": "stream",
          "name": "stdout",
          "text": [
            "drive  sample_data  test3.txt\n"
          ]
        }
      ]
    },
    {
      "cell_type": "code",
      "source": [
        "!mkdir test\n",
        "!ls -la"
      ],
      "metadata": {
        "colab": {
          "base_uri": "https://localhost:8080/"
        },
        "id": "sy2IS5lBLwEO",
        "outputId": "6f200833-703e-46cc-fcc1-7db505532be0"
      },
      "execution_count": null,
      "outputs": [
        {
          "output_type": "stream",
          "name": "stdout",
          "text": [
            "mkdir: cannot create directory ‘test’: File exists\n",
            "total 28\n",
            "drwxr-xr-x 1 root root 4096 May  9 02:28 .\n",
            "drwxr-xr-x 1 root root 4096 May  9 01:12 ..\n",
            "drwxr-xr-x 4 root root 4096 May  7 13:21 .config\n",
            "drwx------ 6 root root 4096 May  9 01:12 drive\n",
            "drwxr-xr-x 1 root root 4096 May  7 13:22 sample_data\n",
            "drwxr-xr-x 2 root root 4096 May  9 02:28 test\n",
            "-rw-r--r-- 1 root root   40 May  9 02:23 test3.txt\n"
          ]
        }
      ]
    },
    {
      "cell_type": "code",
      "source": [
        "!rmdir test\n",
        "ls -la"
      ],
      "metadata": {
        "colab": {
          "base_uri": "https://localhost:8080/",
          "height": 185
        },
        "id": "7S8MMh8tLwA3",
        "outputId": "3b088873-c4f5-4f1a-c36a-9fda58100fd1"
      },
      "execution_count": null,
      "outputs": [
        {
          "output_type": "stream",
          "name": "stdout",
          "text": [
            "rmdir: failed to remove 'test': No such file or directory\n"
          ]
        },
        {
          "output_type": "error",
          "ename": "NameError",
          "evalue": "name 'ls' is not defined",
          "traceback": [
            "\u001b[0;31m---------------------------------------------------------------------------\u001b[0m",
            "\u001b[0;31mNameError\u001b[0m                                 Traceback (most recent call last)",
            "\u001b[0;32m<ipython-input-14-8d036b06fc95>\u001b[0m in \u001b[0;36m<cell line: 2>\u001b[0;34m()\u001b[0m\n\u001b[1;32m      1\u001b[0m \u001b[0mget_ipython\u001b[0m\u001b[0;34m(\u001b[0m\u001b[0;34m)\u001b[0m\u001b[0;34m.\u001b[0m\u001b[0msystem\u001b[0m\u001b[0;34m(\u001b[0m\u001b[0;34m'rmdir test'\u001b[0m\u001b[0;34m)\u001b[0m\u001b[0;34m\u001b[0m\u001b[0;34m\u001b[0m\u001b[0m\n\u001b[0;32m----> 2\u001b[0;31m \u001b[0mls\u001b[0m \u001b[0;34m-\u001b[0m\u001b[0mla\u001b[0m\u001b[0;34m\u001b[0m\u001b[0;34m\u001b[0m\u001b[0m\n\u001b[0m",
            "\u001b[0;31mNameError\u001b[0m: name 'ls' is not defined"
          ]
        }
      ]
    },
    {
      "cell_type": "code",
      "source": [
        "import os\n",
        "os.mkdir('test')\n",
        "!ls -la"
      ],
      "metadata": {
        "colab": {
          "base_uri": "https://localhost:8080/"
        },
        "id": "G6b7zQOxLv98",
        "outputId": "4785db14-7b6f-47f0-bf48-10528f6e9d4a"
      },
      "execution_count": null,
      "outputs": [
        {
          "output_type": "stream",
          "name": "stdout",
          "text": [
            "total 28\n",
            "drwxr-xr-x 1 root root 4096 May  9 02:32 .\n",
            "drwxr-xr-x 1 root root 4096 May  9 01:12 ..\n",
            "drwxr-xr-x 4 root root 4096 May  7 13:21 .config\n",
            "drwx------ 6 root root 4096 May  9 01:12 drive\n",
            "drwxr-xr-x 1 root root 4096 May  7 13:22 sample_data\n",
            "drwxr-xr-x 2 root root 4096 May  9 02:32 test\n",
            "-rw-r--r-- 1 root root   40 May  9 02:23 test3.txt\n"
          ]
        }
      ]
    },
    {
      "cell_type": "code",
      "source": [
        "os.chdir('/content/test')"
      ],
      "metadata": {
        "id": "UG0_7czOLv7N"
      },
      "execution_count": null,
      "outputs": []
    },
    {
      "cell_type": "code",
      "source": [
        "!pwd\n",
        "!touch test1.txt"
      ],
      "metadata": {
        "colab": {
          "base_uri": "https://localhost:8080/"
        },
        "id": "cwa3CE62Lv4O",
        "outputId": "4c1474aa-f9de-46c6-b042-679bbbe1439f"
      },
      "execution_count": null,
      "outputs": [
        {
          "output_type": "stream",
          "name": "stdout",
          "text": [
            "/content/test\n"
          ]
        }
      ]
    },
    {
      "cell_type": "code",
      "source": [
        "!ls"
      ],
      "metadata": {
        "colab": {
          "base_uri": "https://localhost:8080/"
        },
        "id": "z1jtXAV4M5aQ",
        "outputId": "68ddacea-939d-4a99-d00d-8cd3bbd0eb90"
      },
      "execution_count": null,
      "outputs": [
        {
          "output_type": "stream",
          "name": "stdout",
          "text": [
            "test1.txt1\n"
          ]
        }
      ]
    },
    {
      "cell_type": "code",
      "source": [
        "os.rename('test1.txt1', 'test1.txt')\n",
        "os.rename('test1.txt', 'test_new.txt')"
      ],
      "metadata": {
        "id": "UoaDYtVPM5Xg"
      },
      "execution_count": null,
      "outputs": []
    },
    {
      "cell_type": "code",
      "source": [
        "!ls"
      ],
      "metadata": {
        "colab": {
          "base_uri": "https://localhost:8080/"
        },
        "id": "zrk9M_YmM5Ua",
        "outputId": "7926aee4-b99b-4467-9329-a24791a36157"
      },
      "execution_count": null,
      "outputs": [
        {
          "output_type": "stream",
          "name": "stdout",
          "text": [
            "test_new.txt\n"
          ]
        }
      ]
    },
    {
      "cell_type": "code",
      "source": [
        "!touch test2.txt"
      ],
      "metadata": {
        "id": "RNji58GXM5RP"
      },
      "execution_count": null,
      "outputs": []
    },
    {
      "cell_type": "code",
      "source": [
        "ls -la"
      ],
      "metadata": {
        "colab": {
          "base_uri": "https://localhost:8080/"
        },
        "id": "yhRC36D2M5NI",
        "outputId": "6c00f212-666c-45dc-8387-4d18c006ce9d"
      },
      "execution_count": null,
      "outputs": [
        {
          "output_type": "stream",
          "name": "stdout",
          "text": [
            "total 8\n",
            "drwxr-xr-x 2 root root 4096 May  9 02:35 \u001b[0m\u001b[01;34m.\u001b[0m/\n",
            "drwxr-xr-x 1 root root 4096 May  9 02:32 \u001b[01;34m..\u001b[0m/\n",
            "-rw-r--r-- 1 root root    0 May  9 02:35 test2.txt\n",
            "-rw-r--r-- 1 root root    0 May  9 02:33 test_new.txt\n"
          ]
        }
      ]
    },
    {
      "cell_type": "code",
      "source": [
        "# glob()함수는 인자로 받은 패턴과 이름이 일치하는 모든 파일과 디렉토리의 리스트를 반환\n",
        "import glob\n",
        "glob.glob('/content/test/*.txt')"
      ],
      "metadata": {
        "colab": {
          "base_uri": "https://localhost:8080/"
        },
        "id": "Y70GgTKEM5El",
        "outputId": "b5cde15f-fe44-43f6-ea83-25cf74bb6863"
      },
      "execution_count": null,
      "outputs": [
        {
          "output_type": "execute_result",
          "data": {
            "text/plain": [
              "['/content/test/test2.txt', '/content/test/test_new.txt']"
            ]
          },
          "metadata": {},
          "execution_count": 28
        }
      ]
    },
    {
      "cell_type": "code",
      "source": [
        "with open('mydata.txt','w') as f:\n",
        "    f.write(\n",
        "'''\n",
        "a lot of things occur each day\n",
        "we've got to live with on our way\n",
        "there's so much misery on the screen\n",
        "with commercials in between\n",
        "\n",
        "and the russians won't be so late\n",
        "uncle sam don't want to wait\n",
        "no matter if you're black or white\n",
        "you never ever had a right\n",
        "\n",
        "and look up to the eternal skies\n",
        "see warfare even there\n",
        "what once has been a paradise\n",
        "now destruction and despair\n",
        "\n",
        "in other worlds the children die\n",
        "lacking food ill from a fly\n",
        "oppressed by troops to tame their land\n",
        "it's all the same again\n",
        "\n",
        "\n",
        "if any man is free on earth\n",
        "then tormentors steal his birth\n",
        "they slam gun butts in his face\n",
        "and leave his woman choked in mace\n",
        "\n",
        "so stand up for our human rights\n",
        "push back this pest of hate\n",
        "raise you voice pass on the light\n",
        "unite! it's not too late\n",
        "\n",
        "how many tears flow away\n",
        "to become a sea of fears\n",
        "how many hearts are torn apart\n",
        "till another torment starts\n",
        "\n",
        "but before the world\n",
        "turns into a sun\n",
        "all cruelty and violence\n",
        "on earth will be dead and gone\n",
        "\n",
        "so stand up for our human rights\n",
        "push back this pest of hate\n",
        "raise you voice pass on the light\n",
        "unite! it's not too late\n",
        "''')\n",
        "with open('mydata.txt', 'r') as f:\n",
        "    data = f.read()\n",
        "    #print(data)\n",
        "\n",
        "words_list=data\n",
        "words_list=data.replace(',','').replace('.','').replace('\\n','').replace(\"'\",'').replace('!','').lower().split(' ')\n",
        "len(words_list)"
      ],
      "metadata": {
        "colab": {
          "base_uri": "https://localhost:8080/"
        },
        "id": "Db5IyzahNjl8",
        "outputId": "1dba5c26-e185-42ac-99af-531384e9390c"
      },
      "execution_count": null,
      "outputs": [
        {
          "output_type": "execute_result",
          "data": {
            "text/plain": [
              "178"
            ]
          },
          "metadata": {},
          "execution_count": 3
        }
      ]
    },
    {
      "cell_type": "code",
      "source": [
        "import re\n",
        "## mydata.txt 읽기\n",
        "with open('mydata.txt', 'r') as f:\n",
        "    data = f.read()\n",
        "    #print(data)\n",
        "\n",
        "## 읽어드린 data에서 문장부호 등 불필요한 부분 삭제 후에 모두 소문자로 변환\n",
        "words_list=re.sub(r'[.,!#\\n\\']', '', data).lower()\n",
        "## 공백으로 split\n",
        "words_list = words_list.split()\n",
        "\n",
        "print(words_list )"
      ],
      "metadata": {
        "colab": {
          "base_uri": "https://localhost:8080/"
        },
        "id": "L2w__yD9Nji0",
        "outputId": "35ad883b-c4a4-43ee-dd8c-469d199911a0"
      },
      "execution_count": null,
      "outputs": [
        {
          "output_type": "stream",
          "name": "stdout",
          "text": [
            "['a', 'lot', 'of', 'things', 'occur', 'each', 'dayweve', 'got', 'to', 'live', 'with', 'on', 'our', 'waytheres', 'so', 'much', 'misery', 'on', 'the', 'screenwith', 'commercials', 'in', 'betweenand', 'the', 'russians', 'wont', 'be', 'so', 'lateuncle', 'sam', 'dont', 'want', 'to', 'waitno', 'matter', 'if', 'youre', 'black', 'or', 'whiteyou', 'never', 'ever', 'had', 'a', 'rightand', 'look', 'up', 'to', 'the', 'eternal', 'skiessee', 'warfare', 'even', 'therewhat', 'once', 'has', 'been', 'a', 'paradisenow', 'destruction', 'and', 'despairin', 'other', 'worlds', 'the', 'children', 'dielacking', 'food', 'ill', 'from', 'a', 'flyoppressed', 'by', 'troops', 'to', 'tame', 'their', 'landits', 'all', 'the', 'same', 'againif', 'any', 'man', 'is', 'free', 'on', 'earththen', 'tormentors', 'steal', 'his', 'birththey', 'slam', 'gun', 'butts', 'in', 'his', 'faceand', 'leave', 'his', 'woman', 'choked', 'in', 'maceso', 'stand', 'up', 'for', 'our', 'human', 'rightspush', 'back', 'this', 'pest', 'of', 'hateraise', 'you', 'voice', 'pass', 'on', 'the', 'lightunite', 'its', 'not', 'too', 'latehow', 'many', 'tears', 'flow', 'awayto', 'become', 'a', 'sea', 'of', 'fearshow', 'many', 'hearts', 'are', 'torn', 'aparttill', 'another', 'torment', 'startsbut', 'before', 'the', 'worldturns', 'into', 'a', 'sunall', 'cruelty', 'and', 'violenceon', 'earth', 'will', 'be', 'dead', 'and', 'goneso', 'stand', 'up', 'for', 'our', 'human', 'rightspush', 'back', 'this', 'pest', 'of', 'hateraise', 'you', 'voice', 'pass', 'on', 'the', 'lightunite', 'its', 'not', 'too', 'late']\n"
          ]
        }
      ]
    },
    {
      "cell_type": "code",
      "source": [
        "Q. 주어진 텍스트에서 단어 빈도를 아래와 같이 출력하세요.\n",
        "\n",
        " ======================================\\\n",
        "가장 많이 나온 단어 5개를 뽑아 봤습니다.\\\n",
        "[the] -> [8]회 나타남\\\n",
        "[a  ] -> [6]회 나타남\\\n",
        "[on ] -> [5]회 나타남\\\n",
        "[of ] -> [4]회 나타남\\\n",
        "[to ] -> [4]회 나타남"
      ],
      "metadata": {
        "id": "YRfxWQrWNjfr"
      },
      "execution_count": null,
      "outputs": []
    },
    {
      "cell_type": "code",
      "source": [
        "### Q. 주어진 텍스트에서 단어 빈도가 높은 5개에 대해 출력하는 프로그램\n",
        "import re\n",
        "\n",
        "with open('mydata.txt', 'r') as f:\n",
        "    data = f.read()\n",
        "words_list=re.sub(r'[.,!#\\n\\']', '', data).lower()\n",
        "words_list = words_list.split()\n",
        "\n",
        "#print(words_list)\n",
        "words_set=set(words_list)\n",
        "#print(words_set)\n",
        "words_db={}\n",
        "for W in words_set:\n",
        "  words_db[W]=words_list.count(W)\n",
        "words_db2=sorted(words_db.items(), key=lambda x: -x[1])    ### .item으로 부르니까 얘는 list안에 tuple형태로 out된다.\n",
        "\n",
        "i=1\n",
        "print(\"=\"*40,\"\\n가장 많이 나온 단어 5개를 뽑아 봤습니다\")\n",
        "for ckey in words_db2:\n",
        "  if i <= 5:\n",
        "    print(f\"[{ckey[0]}] --> {ckey[1]}회 나타남\")\n",
        "  i += 1"
      ],
      "metadata": {
        "colab": {
          "base_uri": "https://localhost:8080/"
        },
        "id": "Gpw8yigDNjca",
        "outputId": "09976887-69fa-472c-df29-78abc51ffa8e"
      },
      "execution_count": null,
      "outputs": [
        {
          "output_type": "stream",
          "name": "stdout",
          "text": [
            "======================================== \n",
            "가장 많이 나온 단어 5개를 뽑아 봤습니다\n",
            "[the] --> 8회 나타남\n",
            "[a] --> 6회 나타남\n",
            "[on] --> 5회 나타남\n",
            "[to] --> 4회 나타남\n",
            "[of] --> 4회 나타남\n"
          ]
        }
      ]
    },
    {
      "cell_type": "code",
      "source": [
        "### Q. 주어진 텍스트에서 단어 빈도가 높은 5개에 대해 출력하는 프로그램\n",
        "import re\n",
        "\n",
        "with open('mydata.txt', 'r') as f:\n",
        "    data = f.read()\n",
        "words_list=re.sub(r'[.,!#\\n\\']', '', data).lower()\n",
        "words_list = words_list.split()\n",
        "\n",
        "#print(words_list)\n",
        "words_set=set(words_list)\n",
        "#print(words_set)\n",
        "words_db={}\n",
        "for W in words_set:\n",
        "  words_db[W]=words_list.count(W)\n",
        "words_db2=sorted(words_db.items(), key=lambda x: -x[1])    ### .item으로 부르니까 얘는 list안에 tuple형태로 out된다.\n",
        "words_db2=dict(words_db2)     # dict로 변경\n",
        "\n",
        "\n",
        "i=1\n",
        "print(\"=\"*40,\"\\n가장 많이 나온 단어 5개를 뽑아 봤습니다\")\n",
        "for ckey in words_db2:\n",
        "  if i <= 5:\n",
        "    print(f\"[{ckey}] --> {words_db2[ckey]}회 나타남\")\n",
        "  i += 1"
      ],
      "metadata": {
        "colab": {
          "base_uri": "https://localhost:8080/"
        },
        "id": "JK_WDz04pug_",
        "outputId": "a49f3f05-0b02-498c-8de0-d753402d6cf7"
      },
      "execution_count": null,
      "outputs": [
        {
          "output_type": "stream",
          "name": "stdout",
          "text": [
            "======================================== \n",
            "가장 많이 나온 단어 5개를 뽑아 봤습니다\n",
            "[the] --> 8회 나타남\n",
            "[a] --> 6회 나타남\n",
            "[on] --> 5회 나타남\n",
            "[to] --> 4회 나타남\n",
            "[of] --> 4회 나타남\n"
          ]
        }
      ]
    },
    {
      "cell_type": "code",
      "source": [
        "### Q. 주어진 텍스트에서 단어 빈도가 높은 5개에 대해 출력하는 프로그램\n",
        "import re\n",
        "\n",
        "with open('mydata.txt', 'r') as f:\n",
        "    data = f.read()\n",
        "words_list=re.sub(r'[.,!#\\n\\']', '', data).lower()\n",
        "words_list = words_list.split()\n",
        "\n",
        "words_db={}\n",
        "for word in words_list:\n",
        "  if word in words_db:\n",
        "    words_db[word] += 1\n",
        "  else:\n",
        "    words_db[word] = 1\n",
        "words_db2=sorted(words_db.items(), key=lambda x: -x[1])    ### .item으로 부르니까 얘는 list안에 tuple형태로 out된다.\n",
        "words_db2=dict(words_db2)     # dict로 변경\n",
        "\n",
        "i=1\n",
        "print(\"=\"*40,\"\\n가장 많이 나온 단어 5개를 뽑아 봤습니다\")\n",
        "for ckey in words_db2:\n",
        "  if i <= 5:\n",
        "    print(f\"[{ckey}] --> {words_db2[ckey]}회 나타남\")\n",
        "  i += 1"
      ],
      "metadata": {
        "colab": {
          "base_uri": "https://localhost:8080/"
        },
        "id": "YRcGojTvpuRj",
        "outputId": "3e605285-8b60-4dcc-c439-3cf33044a56d"
      },
      "execution_count": null,
      "outputs": [
        {
          "output_type": "stream",
          "name": "stdout",
          "text": [
            "======================================== \n",
            "가장 많이 나온 단어 5개를 뽑아 봤습니다\n",
            "[the] --> 8회 나타남\n",
            "[a] --> 6회 나타남\n",
            "[on] --> 5회 나타남\n",
            "[of] --> 4회 나타남\n",
            "[to] --> 4회 나타남\n"
          ]
        }
      ]
    },
    {
      "cell_type": "code",
      "source": [
        "a={1:1, 2:3, 4:5}\n",
        "print(a)"
      ],
      "metadata": {
        "colab": {
          "base_uri": "https://localhost:8080/"
        },
        "id": "tm7O8-MUZqLd",
        "outputId": "ad0e1874-701a-446b-9f7b-065e596fc207"
      },
      "execution_count": null,
      "outputs": [
        {
          "output_type": "stream",
          "name": "stdout",
          "text": [
            "{1: 1, 2: 3, 4: 5}\n"
          ]
        }
      ]
    },
    {
      "cell_type": "code",
      "source": [
        "### F-string연습\n",
        "name = 'John'\n",
        "age = 23\n",
        "balance = 1234.567\n",
        "\n",
        "# 문자열 정렬\n",
        "formatted_string=f\"{name:<10} is {age:>3} years old.\"\n",
        "print(formatted_string)\n",
        "\n",
        "# 숫자 정밀도 및 포맷\n",
        "formatted_num=f\"{balance:.2f}\"\n",
        "print(formatted_num)\n",
        "\n",
        "formatted_num=f\"{balance:10.2f}\"\n",
        "print(formatted_num)\n",
        "\n",
        "formatted_num=f\"{balance:<10.2f}\"\n",
        "print(formatted_num)\n",
        "\n",
        "formatted_num=f\"{balance:>10.2f}\"\n",
        "print(formatted_num)\n",
        "\n",
        "# 숫자 자리수 채우기\n",
        "formatted_num_padded=f\"{age:04}\"\n",
        "print(formatted_num_padded)"
      ],
      "metadata": {
        "colab": {
          "base_uri": "https://localhost:8080/"
        },
        "id": "ZSL_EQHiaurv",
        "outputId": "b2396f89-264f-44a3-d87b-11de44bdc1bb"
      },
      "execution_count": null,
      "outputs": [
        {
          "output_type": "stream",
          "name": "stdout",
          "text": [
            "John       is  23 years old.\n",
            "1234.57\n",
            "   1234.57\n",
            "1234.57   \n",
            "   1234.57\n",
            "0023\n"
          ]
        }
      ]
    },
    {
      "cell_type": "markdown",
      "source": [
        "#### 외부 라이브러리 연습\n",
        "- seaborn: 데이터 전처리, 시각화 도구"
      ],
      "metadata": {
        "id": "HkkPC1PzdqWl"
      }
    },
    {
      "cell_type": "code",
      "source": [
        "import pandas as pd\n",
        "import seaborn as sns\n",
        "titanic=sns.load_dataset('titanic')\n",
        "titanic.head()\n",
        "print(titanic.survived)"
      ],
      "metadata": {
        "colab": {
          "base_uri": "https://localhost:8080/"
        },
        "id": "chH_Tu63dpCe",
        "outputId": "9f87da94-43c6-453b-9644-0bdac04e5509"
      },
      "execution_count": null,
      "outputs": [
        {
          "output_type": "stream",
          "name": "stdout",
          "text": [
            "0      0\n",
            "1      1\n",
            "2      1\n",
            "3      1\n",
            "4      0\n",
            "      ..\n",
            "886    0\n",
            "887    1\n",
            "888    0\n",
            "889    1\n",
            "890    0\n",
            "Name: survived, Length: 891, dtype: int64\n"
          ]
        }
      ]
    },
    {
      "cell_type": "code",
      "source": [
        "import numpy as np\n",
        "ar=np.arange(200,301)\n",
        "print(ar,type(ar))"
      ],
      "metadata": {
        "colab": {
          "base_uri": "https://localhost:8080/"
        },
        "id": "8Jl6a-gNwIY4",
        "outputId": "c0c5ab7b-548f-471b-8472-4b952c5bebbe"
      },
      "execution_count": null,
      "outputs": [
        {
          "output_type": "stream",
          "name": "stdout",
          "text": [
            "[200 201 202 203 204 205 206 207 208 209 210 211 212 213 214 215 216 217\n",
            " 218 219 220 221 222 223 224 225 226 227 228 229 230 231 232 233 234 235\n",
            " 236 237 238 239 240 241 242 243 244 245 246 247 248 249 250 251 252 253\n",
            " 254 255 256 257 258 259 260 261 262 263 264 265 266 267 268 269 270 271\n",
            " 272 273 274 275 276 277 278 279 280 281 282 283 284 285 286 287 288 289\n",
            " 290 291 292 293 294 295 296 297 298 299 300] <class 'numpy.ndarray'>\n"
          ]
        }
      ]
    },
    {
      "cell_type": "markdown",
      "source": [
        "함수 arg에\n",
        "def sum(*arg): 가변적인 인자값"
      ],
      "metadata": {
        "id": "Ca7yW-njwup-"
      }
    },
    {
      "cell_type": "code",
      "source": [
        "## 가변적인 인자값 *arg\n",
        "def sum1(*args):\n",
        "  sum=0\n",
        "  for i in args:\n",
        "    sum += i\n",
        "\n",
        "  return sum\n",
        "\n",
        "\n",
        "sum1(200, 201, 202, 203, 204, 205, 206, 207, 208, 209, 210, 211, 212,\n",
        "       213, 214, 215, 216, 217, 218, 219, 220, 221, 222, 223, 224, 225,\n",
        "       226, 227, 228, 229, 230, 231, 232, 233, 234, 235, 236, 237, 238,\n",
        "       239, 240, 241, 242, 243, 244, 245, 246, 247, 248, 249, 250, 251,\n",
        "       252, 253, 254, 255, 256, 257, 258, 259, 260, 261, 262, 263, 264,\n",
        "       265, 266, 267, 268, 269, 270, 271, 272, 273, 274, 275, 276, 277,\n",
        "       278, 279, 280, 281, 282, 283, 284, 285, 286, 287, 288, 289, 290,\n",
        "       291, 292, 293, 294, 295, 296, 297, 298, 299, 300)"
      ],
      "metadata": {
        "colab": {
          "base_uri": "https://localhost:8080/"
        },
        "id": "8vlwdUEnwdCs",
        "outputId": "9803278d-e3ba-41a5-e72a-20ba5d54c2db"
      },
      "execution_count": null,
      "outputs": [
        {
          "output_type": "execute_result",
          "data": {
            "text/plain": [
              "25250"
            ]
          },
          "metadata": {},
          "execution_count": 9
        }
      ]
    },
    {
      "cell_type": "code",
      "source": [
        "sum = lambda a, b: a+b\n",
        "sum(3,4)"
      ],
      "metadata": {
        "colab": {
          "base_uri": "https://localhost:8080/"
        },
        "id": "BFcm3bCHwmGm",
        "outputId": "2a3e1685-6dcf-4956-8648-a95a829e5717"
      },
      "execution_count": null,
      "outputs": [
        {
          "output_type": "execute_result",
          "data": {
            "text/plain": [
              "7"
            ]
          },
          "metadata": {},
          "execution_count": 3
        }
      ]
    },
    {
      "cell_type": "code",
      "source": [
        "mylist=[lambda a,b:a+b, lambda a,b:a*b]\n",
        "print(mylist[0](3,4))\n",
        "print(mylist[1](3,4))"
      ],
      "metadata": {
        "colab": {
          "base_uri": "https://localhost:8080/"
        },
        "id": "gaiA1xWnwmC5",
        "outputId": "b4a8597f-99bd-4abc-e27d-863f1a942180"
      },
      "execution_count": null,
      "outputs": [
        {
          "output_type": "stream",
          "name": "stdout",
          "text": [
            "7\n",
            "12\n"
          ]
        }
      ]
    },
    {
      "cell_type": "code",
      "source": [
        "# lambda 함수를 이용하여 사칙연산\n",
        "mylist=[lambda a,b:a+b, lambda a,b:a-b, lambda a,b:a*b, lambda a,b:a/b]\n",
        "print(mylist[0](3,4))\n",
        "print(mylist[1](3,4))\n",
        "print(mylist[2](3,4))\n",
        "print(mylist[3](3,4))"
      ],
      "metadata": {
        "colab": {
          "base_uri": "https://localhost:8080/"
        },
        "id": "7M5nR3MYwl_t",
        "outputId": "48c9fe32-0128-4742-e7ba-00c1b20f1daa"
      },
      "execution_count": null,
      "outputs": [
        {
          "output_type": "stream",
          "name": "stdout",
          "text": [
            "7\n",
            "-1\n",
            "12\n",
            "0.75\n"
          ]
        }
      ]
    },
    {
      "cell_type": "code",
      "source": [
        "# lambda 함수를 이용하여 사칙연산\n",
        "mylist=[lambda a,b:a+b, lambda a,b:a-b, lambda a,b:a*b, lambda a,b:a/b]\n",
        "for i in range(0,4):\n",
        "  print(mylist[i](3,4))\n",
        "\n",
        "print(mylist[0](3,4))\n",
        "print(mylist[1](3,4))\n",
        "print(mylist[2](3,4))\n",
        "print(mylist[3](3,4))"
      ],
      "metadata": {
        "colab": {
          "base_uri": "https://localhost:8080/"
        },
        "id": "Dx0W-ffzwl8T",
        "outputId": "b1c1a302-664e-4a93-eb6d-a8c05df17731"
      },
      "execution_count": null,
      "outputs": [
        {
          "output_type": "stream",
          "name": "stdout",
          "text": [
            "7\n",
            "-1\n",
            "12\n",
            "0.75\n",
            "7\n",
            "-1\n",
            "12\n",
            "0.75\n"
          ]
        }
      ]
    },
    {
      "cell_type": "markdown",
      "source": [
        "### 사용자 함수 연습"
      ],
      "metadata": {
        "id": "QK_L923UzlKq"
      }
    },
    {
      "cell_type": "code",
      "source": [
        "# 반복문으로 팩토리얼 구하는 사용자 함수 작성, 5!, 10! 구하라\n",
        "import math\n",
        "def cal_fac(x):\n",
        "  y = range(1, x+1)\n",
        "  return math.prod(y)   # x5: 1*2*3*4*5\n",
        "\n",
        "print(cal_fac(5), cal_fac(10))"
      ],
      "metadata": {
        "colab": {
          "base_uri": "https://localhost:8080/"
        },
        "id": "dykmufnOwl5F",
        "outputId": "be7c1cd8-7118-43ca-dc57-75ea9e356758"
      },
      "execution_count": null,
      "outputs": [
        {
          "output_type": "stream",
          "name": "stdout",
          "text": [
            "120 3628800\n"
          ]
        }
      ]
    },
    {
      "cell_type": "code",
      "source": [
        "# 반복문으로 팩토리얼 구하는 사용자 함수 작성, 5!, 10! 구하라\n",
        "def cal_fac(n):\n",
        "  result=1\n",
        "  for i in range(1, n+1):\n",
        "    result *= i\n",
        "  return result\n",
        "\n",
        "print(cal_fac(5), cal_fac(10))"
      ],
      "metadata": {
        "colab": {
          "base_uri": "https://localhost:8080/"
        },
        "id": "i37ndJbNze7j",
        "outputId": "be390d48-5f25-48e7-f243-8440d4f7b705"
      },
      "execution_count": null,
      "outputs": [
        {
          "output_type": "stream",
          "name": "stdout",
          "text": [
            "120 3628800\n"
          ]
        }
      ]
    },
    {
      "cell_type": "code",
      "source": [
        "### 함수 인자..\n",
        "def add_txt(t1, t2='파이썬'):       ## 기본 인자값이 들어가 있어서 값이 안들어와도 default 값이 자동적으로..\n",
        "  print(t1+' : '+t2)\n",
        "\n",
        "add_txt('베스트')                     ### 인자값이 1만 입력되더라도 자동으로 default값이 t2로 들어간다\n",
        "add_txt(t2='대한민국', t1='1등')      ### 인자 넣을때 t1/t2 인자의 title을 함께 넣어주고 선서를 바꿔 입력하더라도 함수가 정의 되어 있는대로 수행"
      ],
      "metadata": {
        "colab": {
          "base_uri": "https://localhost:8080/"
        },
        "id": "R6YYZSVx0NzL",
        "outputId": "5b8584c1-4b63-45cc-cdfa-ad2b58f79122"
      },
      "execution_count": null,
      "outputs": [
        {
          "output_type": "stream",
          "name": "stdout",
          "text": [
            "베스트 : 파이썬\n",
            "1등 : 대한민국\n"
          ]
        }
      ]
    },
    {
      "cell_type": "code",
      "source": [
        "def func1(*args):   # 인자의 갯수가 불명확한 경우 가변 인자 사용; args는 내부적으로는 튜플로 처리\n",
        "  print(args)\n",
        "def func2(width, height, **kwargs):       # 키워드 인자가 불명확한 경우 **kwargs를 사용 함수 내부에서 dict 사전으로 처리\n",
        "  print(kwargs)\n",
        "\n",
        "func1()\n",
        "func1(3,5,7, 8,9)\n",
        "func2(10,20)\n",
        "func2(10, 20, depth=50, color_='blue')"
      ],
      "metadata": {
        "colab": {
          "base_uri": "https://localhost:8080/"
        },
        "id": "eDp4IX-Q0NwU",
        "outputId": "961aef05-7911-4174-c08a-a1cf56071875"
      },
      "execution_count": null,
      "outputs": [
        {
          "output_type": "stream",
          "name": "stdout",
          "text": [
            "()\n",
            "(3, 5, 7, 8, 9)\n",
            "{}\n",
            "{'depth': 50, 'color_': 'blue'}\n"
          ]
        }
      ]
    },
    {
      "cell_type": "code",
      "source": [
        "def func2(width, height, **kwargs):\n",
        "  return width, height, kwargs\n",
        "\n",
        "func2(10, 20, depth=50, color='blue')"
      ],
      "metadata": {
        "colab": {
          "base_uri": "https://localhost:8080/"
        },
        "id": "TZXX5OEY0NtW",
        "outputId": "9d7b9a62-4dc5-4869-b33e-cbbaba4338d4"
      },
      "execution_count": null,
      "outputs": [
        {
          "output_type": "execute_result",
          "data": {
            "text/plain": [
              "(10, 20, {'depth': 50, 'color': 'blue'})"
            ]
          },
          "metadata": {},
          "execution_count": 28
        }
      ]
    },
    {
      "cell_type": "code",
      "source": [
        "# 가변적인 인풋\n",
        "list1=[]\n",
        "\n",
        "def listtch(*args):\n",
        "  for i in args:\n",
        "    i =float(i)\n",
        "    list1.append(i)\n",
        "  return list1\n",
        "\n",
        "listtch(1,2,3,4,5)"
      ],
      "metadata": {
        "colab": {
          "base_uri": "https://localhost:8080/"
        },
        "id": "ec1RyRFR0Np4",
        "outputId": "1632f8d4-b36a-4d8e-ea68-27b4ab3d7bc8"
      },
      "execution_count": null,
      "outputs": [
        {
          "output_type": "execute_result",
          "data": {
            "text/plain": [
              "[1.0, 2.0, 3.0, 4.0, 5.0]"
            ]
          },
          "metadata": {},
          "execution_count": 34
        }
      ]
    },
    {
      "cell_type": "markdown",
      "source": [
        "### 함수 유형\n",
        "- 입력 인자와 리턴값 여부에 따른 함수 유형"
      ],
      "metadata": {
        "id": "cPZNEeCC83FP"
      }
    },
    {
      "cell_type": "code",
      "source": [
        "# 입력 값이 없고 결과값만 있는 함수\n",
        "def say():\n",
        "  return \"hi\"\n",
        "a =say()\n",
        "print(a)"
      ],
      "metadata": {
        "colab": {
          "base_uri": "https://localhost:8080/"
        },
        "id": "zO4cUvku0Nmm",
        "outputId": "ffcded34-f1f2-4299-b7ac-a3213250dd41"
      },
      "execution_count": null,
      "outputs": [
        {
          "output_type": "stream",
          "name": "stdout",
          "text": [
            "hi\n"
          ]
        }
      ]
    },
    {
      "cell_type": "code",
      "source": [
        "# 입력값은 있지만, 결과 값이 없는 함수\n",
        "# 결과값은 오직 return으로만 돌려받을 수 있음\n",
        "def add(a,b):\n",
        "  print('%d, %d의 합은 %d입니다.'%(a,b,a+b))\n",
        "a=add(2,3)\n",
        "print(a)"
      ],
      "metadata": {
        "colab": {
          "base_uri": "https://localhost:8080/"
        },
        "id": "4aBxUbyD9eZz",
        "outputId": "04e72d64-0ce1-4956-91ba-4f6ea7174853"
      },
      "execution_count": null,
      "outputs": [
        {
          "output_type": "stream",
          "name": "stdout",
          "text": [
            "2, 3의 합은 5입니다.\n",
            "None\n"
          ]
        }
      ]
    },
    {
      "cell_type": "code",
      "source": [
        "# 입력 값이 없고 결과값도 없는 함수\n",
        "def say():\n",
        "  print(\"hi\")\n",
        "a =say()\n",
        "print(a)"
      ],
      "metadata": {
        "colab": {
          "base_uri": "https://localhost:8080/"
        },
        "id": "a3sFp18Y-DZf",
        "outputId": "c13b2fef-1b4b-4e75-be6a-dd509fd77b92"
      },
      "execution_count": null,
      "outputs": [
        {
          "output_type": "stream",
          "name": "stdout",
          "text": [
            "hi\n",
            "None\n"
          ]
        }
      ]
    },
    {
      "cell_type": "code",
      "source": [
        "# 입력값 출력값 모두 있는 함수\n",
        "def add(a,b):\n",
        "  return a+b\n",
        "\n",
        "a=add(2,3)\n",
        "print(a)"
      ],
      "metadata": {
        "colab": {
          "base_uri": "https://localhost:8080/"
        },
        "id": "78YZHdzr9eWZ",
        "outputId": "49045f1f-fc7e-4b75-d1c2-630ea2dbfe52"
      },
      "execution_count": null,
      "outputs": [
        {
          "output_type": "stream",
          "name": "stdout",
          "text": [
            "5\n"
          ]
        }
      ]
    },
    {
      "cell_type": "code",
      "source": [
        "# 입력값 출력값 모두 있는 함수\n",
        "def max1(a,b,c):\n",
        "  if a > b:\n",
        "    if a > c:\n",
        "      return a\n",
        "    elif c>=a:\n",
        "      return c\n",
        "  elif a <= b:\n",
        "    if b > c:\n",
        "      return b\n",
        "    elif c >= b:\n",
        "      return c\n",
        "\n",
        "print(\"가장 큰 수는 %d입니다.\" %(max(1,2,3)))"
      ],
      "metadata": {
        "colab": {
          "base_uri": "https://localhost:8080/"
        },
        "id": "2VQ_uPKy9eRz",
        "outputId": "e4a62f93-6e23-4e94-f938-86141e190fb0"
      },
      "execution_count": null,
      "outputs": [
        {
          "output_type": "stream",
          "name": "stdout",
          "text": [
            "가장 큰 수는 3입니다.\n"
          ]
        }
      ]
    },
    {
      "cell_type": "code",
      "source": [
        "def math1(x,y,z):\n",
        "  if z == '+':\n",
        "    return x+y\n",
        "  elif z == '-':\n",
        "    return x-y\n",
        "  elif z == '*':\n",
        "    return x*y\n",
        "  elif z == '/':\n",
        "    return x/y\n",
        "  elif z == '%':\n",
        "    return x%y\n",
        "  elif z == '**':\n",
        "    return x**y\n",
        "  elif z == '//':\n",
        "    return x//y\n",
        "\n",
        "math1(1,4,'/')"
      ],
      "metadata": {
        "colab": {
          "base_uri": "https://localhost:8080/"
        },
        "id": "A126II6W9eOG",
        "outputId": "c85804ed-92d4-47f3-cd03-817eaaf34906"
      },
      "execution_count": null,
      "outputs": [
        {
          "output_type": "execute_result",
          "data": {
            "text/plain": [
              "0.25"
            ]
          },
          "metadata": {},
          "execution_count": 51
        }
      ]
    },
    {
      "cell_type": "code",
      "source": [
        "def math1(x,y,z):\n",
        "  expr=f'{x} {z} {y}'\n",
        "  print(eval(expr))\n",
        "\n",
        "math1(1,4,'/')"
      ],
      "metadata": {
        "colab": {
          "base_uri": "https://localhost:8080/"
        },
        "id": "qYGrbz2__itR",
        "outputId": "6b3ace8a-6b00-4ccb-c464-f7f7a25828b4"
      },
      "execution_count": null,
      "outputs": [
        {
          "output_type": "stream",
          "name": "stdout",
          "text": [
            "0.25\n"
          ]
        }
      ]
    },
    {
      "cell_type": "code",
      "source": [
        "# 함수의 반환 값은 언제나 하나임. 결과 값은 튜플 값 하나로 반환됨\n",
        "def add_and_mul(a,b):\n",
        "  return a+b, a*b\n",
        "result=add_and_mul(3,4)\n",
        "print(result)\n",
        "\n",
        "a,b=add_and_mul(3,4)\n",
        "print(a,b)\n"
      ],
      "metadata": {
        "colab": {
          "base_uri": "https://localhost:8080/"
        },
        "id": "cPXzPEhV_iqO",
        "outputId": "60c85abb-ae4e-4a74-b371-2d60850d2536"
      },
      "execution_count": null,
      "outputs": [
        {
          "output_type": "stream",
          "name": "stdout",
          "text": [
            "(7, 12)\n",
            "7 12\n"
          ]
        }
      ]
    },
    {
      "cell_type": "markdown",
      "source": [
        "#### 지역변수와 전역변수\n",
        "- 지역변수는 함수 내부에서만 유효하고\n",
        "- 전역변수는 코드 전반에 걸쳐 유효\n",
        "- 함수의 인자는 지역변수"
      ],
      "metadata": {
        "id": "0jBR0tuJC-Rf"
      }
    },
    {
      "cell_type": "code",
      "source": [
        "strdata='전역변수'\n",
        "\n",
        "def func1():\n",
        "  strdata='지역변수'\n",
        "  print(strdata)      # 지역 변수가 출력됨\n",
        "\n",
        "func1()\n",
        "print(strdata)        # 전역 변수가 출력됨"
      ],
      "metadata": {
        "colab": {
          "base_uri": "https://localhost:8080/"
        },
        "id": "m4ORSX4c_im3",
        "outputId": "ec099084-2963-4993-9f27-5e86379910d3"
      },
      "execution_count": null,
      "outputs": [
        {
          "output_type": "stream",
          "name": "stdout",
          "text": [
            "지역변수\n",
            "전역변수\n"
          ]
        }
      ]
    },
    {
      "cell_type": "code",
      "source": [
        "para=10\n",
        "\n",
        "def func1():\n",
        "  para=1\n",
        "  print(para)      # 지역 변수가 출력됨\n",
        "\n",
        "func1()\n",
        "print(para)        # 전역 변수가 출력됨"
      ],
      "metadata": {
        "colab": {
          "base_uri": "https://localhost:8080/"
        },
        "id": "Lw8NaEsKD9Ub",
        "outputId": "ba15b6e1-47eb-4ddf-c871-438646cbd0f8"
      },
      "execution_count": null,
      "outputs": [
        {
          "output_type": "stream",
          "name": "stdout",
          "text": [
            "1\n",
            "10\n"
          ]
        }
      ]
    },
    {
      "cell_type": "code",
      "source": [
        "para=10\n",
        "\n",
        "def func1():\n",
        "  global para\n",
        "  para=50\n",
        "  print(para)      # 지역 변수가 전역 변수 처리됨\n",
        "\n",
        "print(para)\n",
        "func1()\n",
        "print(para)        # 전역 변수 값도 수정되어 출력"
      ],
      "metadata": {
        "colab": {
          "base_uri": "https://localhost:8080/"
        },
        "id": "KcJ7WgBED9M4",
        "outputId": "7493cb27-0cd6-45fe-94a1-f3377917b983"
      },
      "execution_count": null,
      "outputs": [
        {
          "output_type": "stream",
          "name": "stdout",
          "text": [
            "10\n",
            "50\n",
            "50\n"
          ]
        }
      ]
    },
    {
      "cell_type": "code",
      "source": [
        "# Task1_0509. 주어진 텍스트에서 문자 빈도를 아래와 같이 출력하세요.(사용자 함수 사용)\n",
        "# 가장 많이 나온 문자 5개를 뽑아 봤습니다.\\\n",
        "# [e] -> [97]회 나타남\\\n",
        "# [t] -> [85]회 나타남\\\n",
        "# [a] -> [78]회 나타남\\\n",
        "# [o] -> [73]회 나타남\\\n",
        "# [s] -> [60]회 나타남\n",
        "\n",
        "import re\n",
        "\n",
        "def WordFreq(textList):\n",
        "  letterCount={}\n",
        "  for letter in set(textList):\n",
        "    letterCount[letter]=textList.count(letter)\n",
        "  return letterCount\n",
        "\n",
        "def SortnOut(letterCount):\n",
        "  print(\"가장 많이 나온 문자 5개 출력\")\n",
        "  sortedLetter=sorted(letterCount.items(), key=lambda x: -x[1])          # list안 tuple형태 tuple의 두번째 요소를 기준으로 내림차순 정렬\n",
        "  i=1\n",
        "  for letter in sortedLetter:\n",
        "    if i <= 5:\n",
        "      print(f\"[{letter[0]}] --> [{letter[1]}]회 나타남\")\n",
        "    i += 1\n",
        "\n",
        "with open('mydata.txt', 'r') as f:\n",
        "    data = f.read()\n",
        "textList=re.sub(r'[ .,!#\\n\\']', '', data).lower()\n",
        "\n",
        "letterCount=WordFreq(textList)\n",
        "SortnOut(letterCount)"
      ],
      "metadata": {
        "id": "8i-mhUftvOwQ",
        "colab": {
          "base_uri": "https://localhost:8080/"
        },
        "outputId": "49295d54-fd80-443a-a6b0-2ac02717c844"
      },
      "execution_count": null,
      "outputs": [
        {
          "output_type": "stream",
          "name": "stdout",
          "text": [
            "가장 많이 나온 문자 5개 출력\n",
            "[e] --> [97]회 나타남\n",
            "[t] --> [85]회 나타남\n",
            "[a] --> [78]회 나타남\n",
            "[o] --> [73]회 나타남\n",
            "[s] --> [60]회 나타남\n"
          ]
        }
      ]
    },
    {
      "cell_type": "code",
      "source": [
        "import os\n",
        "import re\n",
        "print(os.getcwd())\n",
        "\n",
        "os.chdir('/content/drive/MyDrive/00_KITA_2404/M2_Program')\n",
        "%pwd\n",
        "os.path.exists('mydata.txt')\n",
        "if os.path.exists('mydata.txt'):\n",
        "  with open('mydata.txt', 'r') as f:\n",
        "    data=f.read()\n",
        "\n",
        "wordList=re.sub(r'[.,!#\\n\\']', '', data).lower().split()\n",
        "letterList=re.sub(r'[ .,!#\\n\\']', '', data).lower()\n",
        "print(len(data))\n",
        "print(len(letterList))\n",
        "print(len(wordList))\n",
        "print(len(set(letterList)))"
      ],
      "metadata": {
        "colab": {
          "base_uri": "https://localhost:8080/"
        },
        "id": "q_Pm0vH33fqg",
        "outputId": "90be1a07-f952-4fd7-d2ff-139ce2d00959"
      },
      "execution_count": 16,
      "outputs": [
        {
          "output_type": "stream",
          "name": "stdout",
          "text": [
            "/content/drive/MyDrive/00_KITA_2404/M2_Program\n",
            "1073\n",
            "840\n",
            "178\n",
            "22\n"
          ]
        }
      ]
    },
    {
      "cell_type": "code",
      "source": [
        "# Task2_0509.  람다함수와 적합한 내장함수를 사용하여 아래와 같이 출력하세요.\n",
        "# [1,2,3,4,5] -> [1,4,9,16,25]\\\n",
        "# [1,2,3,4,5] -> [1,2]\n",
        "list1=[1,2,3,4,5]\n",
        "\n",
        "list2=list(map(lambda x: x*x, list1))\n",
        "print(list2)\n",
        "\n",
        "list3=list(filter(lambda x:x<3, list1))\n",
        "print(list3)"
      ],
      "metadata": {
        "id": "y8uVWThbzTIR",
        "colab": {
          "base_uri": "https://localhost:8080/"
        },
        "outputId": "fa4e7f50-790b-4012-e425-2e007b1488e1"
      },
      "execution_count": null,
      "outputs": [
        {
          "output_type": "stream",
          "name": "stdout",
          "text": [
            "[1, 4, 9, 16, 25]\n",
            "[1, 2]\n"
          ]
        }
      ]
    },
    {
      "cell_type": "code",
      "source": [
        "# Task3_0509. [1,-3,2,0,-5,6] 에서 양수만 필터링해서 출력하세요(내장함수, 사용자함수 각각 이용)\n",
        "\n",
        "## Option 1 w/ 내장 함수\n",
        "list1=[1,-3,2,0,-5,6]\n",
        "list2=list(filter(lambda x:x>0, list1))\n",
        "print(list2)\n",
        "\n",
        "# Option2 사용자 함수\n",
        "def filterPositive(List1):\n",
        "  list2=[]\n",
        "  for i in List1:\n",
        "    if i > 0: list2.append(i)\n",
        "  print(list2)\n",
        "\n",
        "filterPositive(list1)\n",
        "\n",
        "### 간단한 for문\n",
        "list1=[1,-3,2,0,-5,6]\n",
        "list3=[i for i in list1 if i > 0]\n",
        "print(list3)\n"
      ],
      "metadata": {
        "id": "UUtfai3qzUNr",
        "colab": {
          "base_uri": "https://localhost:8080/"
        },
        "outputId": "ce67bf16-9ef1-4a4b-a32f-4b480f3998c0"
      },
      "execution_count": 17,
      "outputs": [
        {
          "output_type": "stream",
          "name": "stdout",
          "text": [
            "[1, 2, 6]\n",
            "[1, 2, 6]\n",
            "[1, 2, 6]\n"
          ]
        }
      ]
    },
    {
      "cell_type": "code",
      "source": [
        "# Task4_0509. **args를 이용하여 아래와 같이 출력할 수 있는 사용자 함수 func2를 작성하세요.\n",
        "\n",
        "# Width: 100\\\n",
        "# Height: 200\\\n",
        "# Other arguments: {'color': 'red', 'thickness': 5}\n",
        "\n",
        "# Width: 100\\\n",
        "# Height: 200\\\n",
        "# Other arguments: {'color': 'red', 'thickness': 5, 'type': 'large'}\n",
        "\n",
        "def func1(width, height, **kwargs):\n",
        "  print(f\"\\nWidth: {width}\\nHeight: {height}\\nOther arguments: {kwargs}\")\n",
        "\n",
        "func1(100, 200, color='red', thickness=5)\n",
        "func1(100, 200, color='red', thickness=5, type='large')\n"
      ],
      "metadata": {
        "id": "bVCtL7YR8kkx",
        "colab": {
          "base_uri": "https://localhost:8080/"
        },
        "outputId": "001a6140-3be9-4ee9-931f-e05be4caed20"
      },
      "execution_count": null,
      "outputs": [
        {
          "output_type": "stream",
          "name": "stdout",
          "text": [
            "\n",
            "Width: 100\n",
            "Height: 200\n",
            "Other arguments: {'color': 'red', 'thickness': 5}\n",
            "\n",
            "Width: 100\n",
            "Height: 200\n",
            "Other arguments: {'color': 'red', 'thickness': 5, 'type': 'large'}\n"
          ]
        }
      ]
    },
    {
      "cell_type": "code",
      "source": [
        "# Task5_0509. 아래와 같은 결과를 얻을 수 있도록 사용자 함수 func3를 작성하세요.\n",
        "\n",
        "# Width: 100, Height: 200, Color: blue, Thickness: 1\\\n",
        "# Width: 100, Height: 200, Color: red, Thickness: 15\n",
        "\n",
        "\n",
        "def func3(width, height, color, thickness):\n",
        "  print(f\"\\nWidth: {width}, Height: {height}, Color: {color}, Thickness: {thickness}\")\n",
        "\n",
        "func3(100, 200, 'blue', 1)\n",
        "func3(100, 200, 'red', 15)"
      ],
      "metadata": {
        "id": "gr70-rp08mMk",
        "colab": {
          "base_uri": "https://localhost:8080/"
        },
        "outputId": "5435e0ed-a017-4cb9-d23b-600680243604"
      },
      "execution_count": null,
      "outputs": [
        {
          "output_type": "stream",
          "name": "stdout",
          "text": [
            "\n",
            "Width: 100, Height: 200, Color: blue, Thickness: 1\n",
            "\n",
            "Width: 100, Height: 200, Color: red, Thickness: 15\n"
          ]
        }
      ]
    },
    {
      "cell_type": "code",
      "source": [
        "# Task6_0509. 입력으로 들어오는 모든 수의 평균 값을 계산해 주는\n",
        "# 함수를 작성한 후 1,2,3을 입력한 결과를 출력하세요.\n",
        "\n",
        "\n",
        "def func1(*args):\n",
        "  mean=sum(args)/len(args)\n",
        "  print(f\"입력된 {args}의 평균값은 {mean}입니다\")\n",
        "\n",
        "func1(1,2,3)\n",
        "\n"
      ],
      "metadata": {
        "id": "JPYiILET8qsQ",
        "colab": {
          "base_uri": "https://localhost:8080/"
        },
        "outputId": "2435531b-a5d1-49fe-c345-4f51badbb6fa"
      },
      "execution_count": null,
      "outputs": [
        {
          "output_type": "stream",
          "name": "stdout",
          "text": [
            "입력된 (1, 2, 3)의 평균값은 2.0입니다\n"
          ]
        }
      ]
    },
    {
      "cell_type": "code",
      "source": [
        "# Task7_0509. 원의 면적과 둘레의 길이를 구하는 사용자 함수를 작성하여\n",
        "# 반지름이 5와 10일때 면적과 둘레를 구하세요(반올림:round())\n",
        "from math import *\n",
        "\n",
        "def CalGeoCircle(radius):\n",
        "  areaCircle=pi*radius*radius\n",
        "  periCircle=2*pi*radius\n",
        "  print(f\"\\n반지름이 {radius}인 원의 둘레: {round(periCircle,2)}, 면적: {round(areaCircle,2)} \")\n",
        "\n",
        "CalGeoCircle(5)\n",
        "CalGeoCircle(10)"
      ],
      "metadata": {
        "id": "0XjAE-4V8qmD",
        "colab": {
          "base_uri": "https://localhost:8080/"
        },
        "outputId": "49295066-8113-44ea-d174-ab70d2f0c270"
      },
      "execution_count": 20,
      "outputs": [
        {
          "output_type": "stream",
          "name": "stdout",
          "text": [
            "\n",
            "반지름이 5인 원의 둘레: 31.42, 면적: 78.54 \n",
            "\n",
            "반지름이 10인 원의 둘레: 62.83, 면적: 314.16 \n"
          ]
        }
      ]
    },
    {
      "cell_type": "code",
      "source": [
        "# Task8_0509. 게시물의 총 건수와 한 페이지에 보여 줄 게시물 수를 입력시\n",
        "# 총 페이지 수를 출력하는 프로그램을 작성하세요.\n",
        "import math\n",
        "\n",
        "def CalPage(noIssues, issuesPerPage):\n",
        "  noPage=noIssues/issuesPerPage\n",
        "  print(f\"\\n게시물의 총 건수:{noIssues}, 페이지당 게시물 수: {issuesPerPage}일 때 총 페이지 수는 {math.ceil(noPage)}입니다.\")\n",
        "\n",
        "CalPage(20, 4)\n",
        "\n",
        "CalPage(20, 5)\n",
        "CalPage(20, 6)"
      ],
      "metadata": {
        "id": "_M84A4mO8svj",
        "colab": {
          "base_uri": "https://localhost:8080/"
        },
        "outputId": "a0fddac5-27e4-47a0-c2f4-fd9fdabe1cb4"
      },
      "execution_count": null,
      "outputs": [
        {
          "output_type": "stream",
          "name": "stdout",
          "text": [
            "\n",
            "게시물의 총 건수:20, 페이지당 게시물 수: 4일 때 총 페이지 수는 5입니다.\n",
            "\n",
            "게시물의 총 건수:20, 페이지당 게시물 수: 5일 때 총 페이지 수는 4입니다.\n",
            "\n",
            "게시물의 총 건수:20, 페이지당 게시물 수: 6일 때 총 페이지 수는 4입니다.\n"
          ]
        }
      ]
    },
    {
      "cell_type": "code",
      "source": [
        "# Task9_0509. 위의 문제를 *args를 사용한 사용자 함수 bignum을 작성하여\n",
        "# bignum(20,1,30)과 bignum(20,10,50,70, 100)의 결과를 출력하세요.\n",
        "\n",
        "#### Option1 using max()\n",
        "def MaxFind1(*arg):\n",
        "  print(f\"입력된 값들 중 가장 큰 수는 {max(list(arg))}\")\n",
        "\n",
        "\n",
        "#### Option2 using for loop & if\n",
        "def MaxFind2(*arg):\n",
        "  list1=list(arg)\n",
        "  maxNo=float('-inf')\n",
        "  for i in list1:\n",
        "    if i > maxNo:\n",
        "      maxNo=i\n",
        "  print(f\"입력된 값들 중 가장 큰 수는 {maxNo}\")\n",
        "\n",
        "\n",
        "MaxFind1(20, 1,30)\n",
        "MaxFind1(20,10,50,70, 100)\n",
        "\n",
        "MaxFind2(20, 1,30)\n",
        "MaxFind2(20,10,50,70, 100)"
      ],
      "metadata": {
        "id": "K4RFbZNV8tu0",
        "colab": {
          "base_uri": "https://localhost:8080/"
        },
        "outputId": "4bff4e0f-39a2-4346-da2b-e97e04489220"
      },
      "execution_count": null,
      "outputs": [
        {
          "output_type": "stream",
          "name": "stdout",
          "text": [
            "입력된 값들 중 가장 큰 수는 30\n",
            "입력된 값들 중 가장 큰 수는 100\n",
            "입력된 값들 중 가장 큰 수는 30\n",
            "입력된 값들 중 가장 큰 수는 100\n"
          ]
        }
      ]
    },
    {
      "cell_type": "code",
      "source": [
        "# Task10_0509. 연산자를 choice로 가변적인 숫자들을 *args로 사용한 사용자 함수 cal을 이용하여 다음을 수행하세요.\n",
        "\n",
        "def CalMath(choice, *arg):\n",
        "  list1=list(arg)\n",
        "  expression=f'{list1[0]}'\n",
        "  for i in range(1,len(list1)):\n",
        "    expression += f'{choice}{list1[i]}'\n",
        "  if '/' in choice and 0 in list1:\n",
        "    print('\"ZeroDivisionError\": 예외 상황이 발생했습니다.')\n",
        "  else: print(eval(expression))\n",
        "\n",
        "CalMath('*',1,2,3,4,5)\n",
        "CalMath('+',1,2,3,4,5,6,7)\n",
        "CalMath('-',1,2,3,4,5,6,7)\n",
        "CalMath('/',1,2,3,4,5,6,7)\n",
        "CalMath('%',1,2,3,4,5,6,7)\n",
        "CalMath('/',1,2,0,4,5,6,7)\n"
      ],
      "metadata": {
        "id": "virlcGA8B38L",
        "colab": {
          "base_uri": "https://localhost:8080/"
        },
        "outputId": "f8b6e185-90b3-4929-95ce-2be27c661768"
      },
      "execution_count": null,
      "outputs": [
        {
          "output_type": "stream",
          "name": "stdout",
          "text": [
            "120\n",
            "28\n",
            "-26\n",
            "0.0001984126984126984\n",
            "1\n",
            "\"ZeroDivisionError\": 예외 상황이 발생했습니다.\n"
          ]
        }
      ]
    }
  ]
}