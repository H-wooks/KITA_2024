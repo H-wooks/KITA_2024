{
  "nbformat": 4,
  "nbformat_minor": 0,
  "metadata": {
    "colab": {
      "provenance": []
    },
    "kernelspec": {
      "name": "python3",
      "display_name": "Python 3"
    },
    "language_info": {
      "name": "python"
    }
  },
  "cells": [
    {
      "cell_type": "code",
      "source": [
        "# Task1_0507. 튜플 형태인 strings를 다양한 문자가 포함된 순서로 정렬하세요.\n",
        "#각각의 string을 set으로 해서 len가 큰 순서로 sort\n",
        "strings=('a', 'ca', 'bar', 'aaaa', 'ababa')\n",
        "\n",
        "str_new=sorted(strings, key=lambda x: (-len(set(x)), -len(x)))\n",
        "print(str_new)"
      ],
      "metadata": {
        "colab": {
          "base_uri": "https://localhost:8080/"
        },
        "id": "pP11cUKbrfOI",
        "outputId": "8e231ee0-53cf-4bf5-ccbc-c74a41fd97e4"
      },
      "execution_count": null,
      "outputs": [
        {
          "output_type": "stream",
          "name": "stdout",
          "text": [
            "['bar', 'ababa', 'ca', 'aaaa', 'a']\n"
          ]
        }
      ]
    },
    {
      "cell_type": "code",
      "source": [
        "# Task2_0507. eval 함수를 활용하여 a, b 변수와 연산자를 입력하면 사칙연산을 수행하는 코드를 작성하세요 (1) eval 사용하는 경우, (2) eval을 사용하지 않고..\n",
        "\n",
        "### Option1: Using EVAL()\n",
        "# a1=3; b1=4\n",
        "# expression=input('수식을 입력하세요.> ') ## string type을 int나 float으로 안바꿔도 된다.\n",
        "# print(eval(expression))\n",
        "\n",
        "\n",
        "#### Option2: w/o EVAL()\n",
        "import re\n",
        "a1=3; b1=4\n",
        "expression=input('수식을 입력하세요.> ').replace(\" \",\"\")\n",
        "list1=[]\n",
        "list1=re.split(\"[\\*]+\",expression)\n",
        "print(list1)\n",
        "\n",
        "if re.search(\"\\*\", expression):\n",
        "  print(int(list1[0]))\n",
        "  print(int(list1[0])*int(list1[1]))\n",
        "\n",
        "\n",
        "# if re.search(\"\\+\", expression):\n",
        "#   print(list1[0]+list1[1])\n",
        "# elif re.search(\"-\", expression):\n",
        "#   print(list1[0]-list1[1])\n",
        "# elif re.search(\"/\", expression):\n",
        "#   print(list1[0]/list1[1])\n",
        "# elif re.search(\"%\", expression):\n",
        "#   print(list1[0]%list1[1])\n",
        "# else: print(\"사칙연산을 위한 수식을 다시 입력하세요\")\n",
        "\n",
        "\n",
        "print(expression)\n",
        "\n",
        "#a1 * b1"
      ],
      "metadata": {
        "colab": {
          "base_uri": "https://localhost:8080/",
          "height": 258
        },
        "id": "JVpZbtkxsrks",
        "outputId": "a1e7c7b3-9805-45a1-9c46-ee368f310b96"
      },
      "execution_count": null,
      "outputs": [
        {
          "output_type": "stream",
          "name": "stdout",
          "text": [
            "수식을 입력하세요.> a1 * b1\n",
            "['a1', 'b1']\n"
          ]
        },
        {
          "output_type": "error",
          "ename": "ValueError",
          "evalue": "invalid literal for int() with base 10: 'a1'",
          "traceback": [
            "\u001b[0;31m---------------------------------------------------------------------------\u001b[0m",
            "\u001b[0;31mValueError\u001b[0m                                Traceback (most recent call last)",
            "\u001b[0;32m<ipython-input-66-d8f2b79e94d1>\u001b[0m in \u001b[0;36m<cell line: 17>\u001b[0;34m()\u001b[0m\n\u001b[1;32m     16\u001b[0m \u001b[0;34m\u001b[0m\u001b[0m\n\u001b[1;32m     17\u001b[0m \u001b[0;32mif\u001b[0m \u001b[0mre\u001b[0m\u001b[0;34m.\u001b[0m\u001b[0msearch\u001b[0m\u001b[0;34m(\u001b[0m\u001b[0;34m\"\\*\"\u001b[0m\u001b[0;34m,\u001b[0m \u001b[0mexpression\u001b[0m\u001b[0;34m)\u001b[0m\u001b[0;34m:\u001b[0m\u001b[0;34m\u001b[0m\u001b[0;34m\u001b[0m\u001b[0m\n\u001b[0;32m---> 18\u001b[0;31m   \u001b[0mprint\u001b[0m\u001b[0;34m(\u001b[0m\u001b[0mint\u001b[0m\u001b[0;34m(\u001b[0m\u001b[0mlist1\u001b[0m\u001b[0;34m[\u001b[0m\u001b[0;36m0\u001b[0m\u001b[0;34m]\u001b[0m\u001b[0;34m)\u001b[0m\u001b[0;34m)\u001b[0m\u001b[0;34m\u001b[0m\u001b[0;34m\u001b[0m\u001b[0m\n\u001b[0m\u001b[1;32m     19\u001b[0m   \u001b[0mprint\u001b[0m\u001b[0;34m(\u001b[0m\u001b[0mint\u001b[0m\u001b[0;34m(\u001b[0m\u001b[0mlist1\u001b[0m\u001b[0;34m[\u001b[0m\u001b[0;36m0\u001b[0m\u001b[0;34m]\u001b[0m\u001b[0;34m)\u001b[0m\u001b[0;34m*\u001b[0m\u001b[0mint\u001b[0m\u001b[0;34m(\u001b[0m\u001b[0mlist1\u001b[0m\u001b[0;34m[\u001b[0m\u001b[0;36m1\u001b[0m\u001b[0;34m]\u001b[0m\u001b[0;34m)\u001b[0m\u001b[0;34m)\u001b[0m\u001b[0;34m\u001b[0m\u001b[0;34m\u001b[0m\u001b[0m\n\u001b[1;32m     20\u001b[0m \u001b[0;34m\u001b[0m\u001b[0m\n",
            "\u001b[0;31mValueError\u001b[0m: invalid literal for int() with base 10: 'a1'"
          ]
        }
      ]
    },
    {
      "cell_type": "code",
      "source": [
        "#Task3_0507. list1에 대해서 아래와 같이 출력하는 코드를 작성하세요.\n",
        "list1 = ['김부장', '이차장', '김과장', '이대리', '오사원', '김인턴']\n",
        "\n",
        "# 인사평가 1번째 해당자는 김부장입니다. 회의실A로 오시기 바랍니다.\n",
        "# 인사평가 2번째 해당자는 이차장입니다. 회의실A로 오시기 바랍니다.\n",
        "# 인사평가 3번째 해당자는 김과장입니다. 회의실A로 오시기 바랍니다.\n",
        "# 인사평가 4번째 해당자는 이대리입니다. 회의실A로 오시기 바랍니다.\n",
        "# 인사평가 5번째 해당자는 오사원입니다. 회의실A로 오시기 바랍니다.\n",
        "# 인사평가 6번째 해당자는 김인턴입니다. 회의실A로 오시기 바랍니다.\n",
        "\n",
        "for i, item in enumerate(list1):\n",
        "  print(f\"인사평가 {i+1}번째 해당자는 {item}입니다. 회의실A로 오시기 바랍니다.\")\n",
        "\n"
      ],
      "metadata": {
        "colab": {
          "base_uri": "https://localhost:8080/"
        },
        "id": "vH_CK8rjsrej",
        "outputId": "4fefd837-d6c4-4870-f4bd-9182566646ff"
      },
      "execution_count": null,
      "outputs": [
        {
          "output_type": "stream",
          "name": "stdout",
          "text": [
            "인사평가 1번째 해당자는 김부장입니다. 회의실A로 오시기 바랍니다.\n",
            "인사평가 2번째 해당자는 이차장입니다. 회의실A로 오시기 바랍니다.\n",
            "인사평가 3번째 해당자는 김과장입니다. 회의실A로 오시기 바랍니다.\n",
            "인사평가 4번째 해당자는 이대리입니다. 회의실A로 오시기 바랍니다.\n",
            "인사평가 5번째 해당자는 오사원입니다. 회의실A로 오시기 바랍니다.\n",
            "인사평가 6번째 해당자는 김인턴입니다. 회의실A로 오시기 바랍니다.\n"
          ]
        }
      ]
    },
    {
      "cell_type": "code",
      "source": [
        "# Task4_0507. 주어진 문자열 리스트의 요소들을 대문자로 변환하세요.\n",
        "words = [\"hello\", \"world\", \"python\", \"map\"]\n",
        "words_new=[i.upper() for i in words]\n",
        "print(words_new)"
      ],
      "metadata": {
        "colab": {
          "base_uri": "https://localhost:8080/"
        },
        "id": "DL46WPOBsrbG",
        "outputId": "371af7d6-bd37-4153-ef36-79e69fdc3207"
      },
      "execution_count": null,
      "outputs": [
        {
          "output_type": "stream",
          "name": "stdout",
          "text": [
            "['HELLO', 'WORLD', 'PYTHON', 'MAP']\n"
          ]
        }
      ]
    },
    {
      "cell_type": "code",
      "source": [
        "# Task5_0507. 주어진 리스트에서 'p'로 시작하는 단어만 필터링하세요.\n",
        "\n",
        "words = [\"python\", \"is\", \"powerful\", \"programming\", \"language\", \"pandas\"]\n",
        "words_new=[i for i in words if i[0]=='p']\n",
        "print(words_new)"
      ],
      "metadata": {
        "colab": {
          "base_uri": "https://localhost:8080/"
        },
        "id": "Rf39dacMsrXg",
        "outputId": "9fa7e6d6-fa10-4955-d4f3-bf3ccc79404a"
      },
      "execution_count": null,
      "outputs": [
        {
          "output_type": "stream",
          "name": "stdout",
          "text": [
            "['python', 'powerful', 'programming', 'pandas']\n"
          ]
        }
      ]
    },
    {
      "cell_type": "code",
      "source": [
        "# Task6_0507. 내장함수를 이용해서 list = [0,1,2,3,4,5,6]에서 2를 삭제 후 출력하세요.(2가지 방법)\n",
        "\n",
        "\n",
        "# Option1\n",
        "list1 = [0,1,2,3,4,5,6]\n",
        "list1.remove(2)\n",
        "print(list1)\n",
        "\n",
        "# Option2\n",
        "list1 = [0,1,2,3,4,5,6]\n",
        "del list1[2]\n",
        "print(list1)\n",
        "\n",
        "# Option3\n",
        "list1 = [0,1,2,3,4,5,6]\n",
        "list2=[value for index, value in enumerate(list1) if value != 2]\n",
        "print(list2)\n",
        "\n",
        "# Option4\n",
        "list1 = [0,1,2,3,4,5,6]\n",
        "list2=list(filter(lambda x: x != 2, list1))\n",
        "print(list2)"
      ],
      "metadata": {
        "colab": {
          "base_uri": "https://localhost:8080/"
        },
        "id": "aFxwwf4a0shG",
        "outputId": "e08d9276-1b25-4e8c-aa89-7ea30b11a902"
      },
      "execution_count": null,
      "outputs": [
        {
          "output_type": "stream",
          "name": "stdout",
          "text": [
            "[0, 1, 3, 4, 5, 6]\n",
            "[0, 1, 3, 4, 5, 6]\n",
            "[0, 1, 3, 4, 5, 6]\n",
            "[0, 1, 3, 4, 5, 6]\n"
          ]
        }
      ]
    },
    {
      "cell_type": "code",
      "source": [
        "# Task7_0507. 내장함수를 이용하여 동일한 개수로 이루어진 자료형을 화살표 좌측에서 우측으로 변환하세요.\n",
        "\n",
        "# [1,2,3],[4,5,6] -> [(1,4),(2,5),(3,6)]\\\n",
        "# [1,2,3],[4,5,6] [7,8,9] -> [(1,4,7),(2,5,8),(3,6,9)]\\\n",
        "# ('abc','def') -> [('a','d'),('b','e'),('c','f')]\n",
        "\n",
        "# [1,2,3],[4,5,6] -> [(1,4),(2,5),(3,6)]\n",
        "L1=[1,2,3]; L2=[4,5,6]\n",
        "unified1=[(i,j) for i, j in zip(L1, L2)]\n",
        "print(unified1)\n",
        "\n",
        "# [1,2,3],[4,5,6] [7,8,9] -> [(1,4,7),(2,5,8),(3,6,9)]\n",
        "L1=[1,2,3]; L2=[4,5,6]; L3=[7,8,9]\n",
        "unified2=[(i,j,k) for i, j, k in zip(L1, L2, L3)]\n",
        "print(unified2)\n",
        "\n",
        "# ('abc','def') -> [('a','d'),('b','e'),('c','f')]\n",
        "L1=('abc','def')\n",
        "unified3=[(i,j) for i, j in zip(L1[0], L1[1])]\n",
        "print(unified3)"
      ],
      "metadata": {
        "colab": {
          "base_uri": "https://localhost:8080/"
        },
        "id": "Sg-YNPx90ul5",
        "outputId": "bfc7b183-b917-473d-df03-0209fb240ee3"
      },
      "execution_count": null,
      "outputs": [
        {
          "output_type": "stream",
          "name": "stdout",
          "text": [
            "[(1, 4), (2, 5), (3, 6)]\n",
            "[(1, 4, 7), (2, 5, 8), (3, 6, 9)]\n",
            "[('a', 'd'), ('b', 'e'), ('c', 'f')]\n"
          ]
        }
      ]
    },
    {
      "cell_type": "code",
      "source": [
        "# Task8_0507. url에서 호스트 도메인(news.naver.com)을 추출하여 출력하세요.\n",
        "\n",
        "url = 'http://news.naver.com/main/read.nhn?mode=LSD&mid=shm&sid1=105&oid=028&aid=0002334601'\n",
        "\n",
        "## Option1\n",
        "import requests\n",
        "from bs4 import BeautifulSoup\n",
        "from urllib.request import urlopen\n",
        "import urllib\n",
        "\n",
        "url = 'http://news.naver.com/main/read.nhn?mode=LSD&mid=shm&sid1=105&oid=028&aid=0002334601'\n",
        "parsed_uri = urllib.request.urlparse(url)\n",
        "print()\n",
        "print(f\"호스트 도메인: {parsed_uri.netloc}\")\n",
        "#domainName = '{uri.scheme}://{uri.netloc}/'.format(uri=parsed_uri)\n",
        "#print(\"The domain name is : \")\n",
        "#print(domainName)\n",
        "\n",
        "## Option2\n",
        "import re\n",
        "url = 'http://news.naver.com/main/read.nhn?mode=LSD&mid=shm&sid1=105&oid=028&aid=0002334601'\n",
        "list_split = re.split('[/]+', url)\n",
        "print(f\"호스트 도메인: {list_split[1]}\")"
      ],
      "metadata": {
        "colab": {
          "base_uri": "https://localhost:8080/"
        },
        "id": "VNvZs_yo3YaO",
        "outputId": "d3f2b654-81a9-45f5-96c5-a225e3b9a00c"
      },
      "execution_count": null,
      "outputs": [
        {
          "output_type": "stream",
          "name": "stdout",
          "text": [
            "\n",
            "호스트 도메인: news.naver.com\n",
            "호스트 도메인: news.naver.com\n"
          ]
        }
      ]
    }
  ]
}