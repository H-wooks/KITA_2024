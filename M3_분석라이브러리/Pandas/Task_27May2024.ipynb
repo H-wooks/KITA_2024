{
  "nbformat": 4,
  "nbformat_minor": 0,
  "metadata": {
    "colab": {
      "provenance": []
    },
    "kernelspec": {
      "name": "python3",
      "display_name": "Python 3"
    },
    "language_info": {
      "name": "python"
    }
  },
  "cells": [
    {
      "cell_type": "code",
      "source": [
        "# Task1_0527. 4개의 Series를 결합하여 데이터프레임을 생성하여 출력하세요.\n",
        "# - 출력한 데이터프레임에서 추출하고 싶은 5개의 데이터를 인덱싱하여 출력\n",
        "# - null값을 3개 추가\n",
        "# - null값의 개수를 확인하고 삭제\n",
        "# - 2개의 데이터를 수정\n",
        "# - 1개의 행을 삭제\n",
        "\n",
        "\n",
        "# (i) 4개의 Series를 결합하여 데이터프레임을 생성하여 출력하세요.\n",
        "persData1=('Hwooks','96', 46, '남', '1978.01.18'); sr1=pd.Series(persData1)\n",
        "persData2=('John','00', 42, '남', '1982.01.18'); sr2=pd.Series(persData2)\n",
        "persData3=('James','11', 31, '여', '1993.01.18'); sr3=pd.Series(persData3)\n",
        "persData4=('Jane','23', 19, '여', '2005.01.18'); sr4=pd.Series(persData4)\n",
        "df=pd.concat([sr1, sr2, sr3, sr4], axis=1)\n",
        "df.index=['name','학번', '나이','성별', '생년월일']\n",
        "df.columns=['person1','person2','person3','person4']\n",
        "print(df)\n",
        "print()\n",
        "\n",
        "# (ii) 출력한 데이터프레임에서 추출하고 싶은 5개의 데이터를 인덱싱하여 출력\n",
        "print(df.iloc[0,0])\n",
        "print(df.iloc[0,3])\n",
        "print(df.loc['학번','person3'])\n",
        "# print(df.iloc['학번','person3']) ## 에러 발생\n",
        "print(df.iloc[1,1])\n",
        "#print(df.loc[1,1])               ## 에러 발생\n",
        "#print(df.iloc[0,'person1'])      ## 에러 발생\n",
        "print(df.iloc[0:4,0])\n",
        "print(df.iloc[:])\n",
        "#print(df.at[0,'person1'])         ## 에러발생\n",
        "print(df.at['학번','person1'])\n",
        "print(df.iloc[2,3])\n",
        "#print(df.at[2,3])                  ## 에러 발생 ==> at을 iloc 처럼은 못쓴다.\n",
        "\n",
        "## (iii) null값을 3개 추가\n",
        "df.iloc[1,3]=None\n",
        "df.iloc[2,1]=np.nan\n",
        "df.iloc[4,0]=None\n",
        "\n",
        "print(df)\n",
        "\n",
        "# (iv) null값의 개수를 확인하고 삭제\n",
        "numNull=df.isnull().sum()           ## 이렇게 하면 column별 null 값을 반환\n",
        "print(numNull)\n",
        "numNull=df.isnull().sum().sum()     ## 두번해야지 전체 null 값을 반환\n",
        "print(numNull)\n",
        "\n",
        "numNull=df.iloc[:,0].isnull().sum()           ## 1st column별 null 값을 반환\n",
        "print(numNull)\n",
        "\n",
        "numNull=df.iloc[:,1].isnull().sum()           ## 2nd column별 null 값을 반환\n",
        "print(numNull)\n",
        "\n",
        "numNull=df.iloc[:,2].isnull().sum()           ## 3rd column별 null 값을 반환\n",
        "print(numNull)\n",
        "\n",
        "numNull=df.iloc[:,3].isnull().sum()           ## 4th column별 null 값을 반환\n",
        "print(numNull)\n",
        "\n",
        "numNull=df.iloc[0].isnull().sum()           ## 이렇게 하면 1st 열 null 값을 반환\n",
        "print(numNull)\n",
        "numNull=df.iloc[1].isnull().sum()           ## 이렇게 하면 2nd 열 null 값을 반환\n",
        "print(numNull)\n",
        "numNull=df.iloc[2].isnull().sum()           ## 이렇게 하면 3rd 열 null 값을 반환\n",
        "print(numNull)\n",
        "numNull=df.iloc[3].isnull().sum()           ## 이렇게 하면 4th 열 null 값을 반환\n",
        "print(numNull)\n",
        "numNull=df.iloc[4].isnull().sum()           ## 이렇게 하면 5th 열 null 값을 반환\n",
        "print(numNull)\n",
        "\n",
        "\n",
        "filled_df=df.fillna(0)\n",
        "print(filled_df)\n",
        "# (v) 2개의 데이터를 수정\n",
        "df.iloc[1,3]='23'\n",
        "df.iloc[2,1]=42\n",
        "df.iloc[4,0]='1978.01.18'\n",
        "\n",
        "# (vi) 1개의 행을 삭제\n",
        "#df.drop(['person2'], axis=1, inplace=True)           ## 가능\n",
        "#df.drop([0], axis=0, inplace=True)                    ## Error label로만 indexing 가능\n",
        "df.drop([\"학번\"], axis=0, inplace=True)              ## 가능\n",
        "print(df)"
      ],
      "metadata": {
        "colab": {
          "base_uri": "https://localhost:8080/"
        },
        "id": "VnPvRQqfyYeg",
        "outputId": "89f366aa-f022-4a64-8794-d5c541b9e39c"
      },
      "execution_count": null,
      "outputs": [
        {
          "output_type": "stream",
          "name": "stdout",
          "text": [
            "         person1     person2     person3     person4\n",
            "name      Hwooks        John       James        Jane\n",
            "학번            96          00          11          23\n",
            "나이            46          42          31          19\n",
            "성별             남           남           여           여\n",
            "생년월일  1978.01.18  1982.01.18  1993.01.18  2005.01.18\n",
            "\n",
            "Hwooks\n",
            "Jane\n",
            "11\n",
            "00\n",
            "name    Hwooks\n",
            "학번          96\n",
            "나이          46\n",
            "성별           남\n",
            "Name: person1, dtype: object\n",
            "         person1     person2     person3     person4\n",
            "name      Hwooks        John       James        Jane\n",
            "학번            96          00          11          23\n",
            "나이            46          42          31          19\n",
            "성별             남           남           여           여\n",
            "생년월일  1978.01.18  1982.01.18  1993.01.18  2005.01.18\n",
            "96\n",
            "19\n",
            "     person1     person2     person3     person4\n",
            "name  Hwooks        John       James        Jane\n",
            "학번        96          00          11        None\n",
            "나이        46         NaN          31          19\n",
            "성별         남           남           여           여\n",
            "생년월일    None  1982.01.18  1993.01.18  2005.01.18\n",
            "person1    1\n",
            "person2    1\n",
            "person3    0\n",
            "person4    1\n",
            "dtype: int64\n",
            "3\n",
            "1\n",
            "1\n",
            "0\n",
            "1\n",
            "0\n",
            "1\n",
            "1\n",
            "0\n",
            "1\n",
            "     person1     person2     person3     person4\n",
            "name  Hwooks        John       James        Jane\n",
            "학번        96          00          11           0\n",
            "나이        46           0          31          19\n",
            "성별         남           남           여           여\n",
            "생년월일       0  1982.01.18  1993.01.18  2005.01.18\n",
            "         person1     person2     person3     person4\n",
            "name      Hwooks        John       James        Jane\n",
            "나이            46          42          31          19\n",
            "성별             남           남           여           여\n",
            "생년월일  1978.01.18  1982.01.18  1993.01.18  2005.01.18\n"
          ]
        }
      ]
    },
    {
      "cell_type": "code",
      "source": [
        "# Task2_0527. 학생별 성적 데이터셋으로 의미있게 데이터 셋을 수정하세요.(아래 사항 반영)\n",
        "# - S1 ~ S10은 평균 점수를 기준으로 1등급에서 10등급이고 등급간 점수 차는 5점\n",
        "# - 결시자가 국어 3명, 수학 2명 있음\n",
        "# - 영어, 수학의 평균 점수가 국어 대비 5점 낮음\n",
        "import pandas as pd\n",
        "import numpy as np\n",
        "df = np.random.randint(1,5,size=(10,5))\n",
        "df=pd.DataFrame(df,index=['s1','s2','s3','s4','s5','s6','s7','s8','s9','s10'],\n",
        "               columns=['국어','영어','수학','과학','사회'])\n",
        "df"
      ],
      "metadata": {
        "id": "gDF379kVybsB"
      },
      "execution_count": null,
      "outputs": []
    },
    {
      "cell_type": "code",
      "source": [
        "# Task3_0527. df1에서 결측값 처리 후 딕셔너리, 리스트로 변환하여 출력하세요.\n",
        "df1 = pd.DataFrame({\n",
        "    \"Name\": [\"Alice\", \"Bob\", \"Charlie\", \"David\", \"Eve\"],\n",
        "    \"Math\": [85, np.nan, 88, 90, 76],\n",
        "    \"English\": [92, 85, 89, np.nan, 80],\n",
        "    \"Science\": [78, 90, 95, 85, 89],\n",
        "    \"History\": [88, 92, 85, 91, np.nan]\n",
        "})"
      ],
      "metadata": {
        "id": "5ka11INn3ivq"
      },
      "execution_count": null,
      "outputs": []
    },
    {
      "cell_type": "code",
      "source": [
        "# Task4_0527. df2에서 아래와 같이 데이터 필터링 및 정렬 후 배열, 딕셔너리, 리스트로 변환하여 출력하세요.\n",
        "# - Math 점수가 80 이상인 학생만 선택\n",
        "# - English 점수를 기준으로 내림차순 정렬\n",
        "df2 = pd.DataFrame({\n",
        "    \"Name\": [\"Alice\", \"Bob\", \"Charlie\", \"David\", \"Eve\"],\n",
        "    \"Math\": [85, 79, 88, 90, 76],\n",
        "    \"English\": [92, 85, 89, 93, 80],\n",
        "    \"Science\": [78, 90, 95, 85, 89],\n",
        "    \"History\": [88, 92, 85, 91, 84]\n",
        "})"
      ],
      "metadata": {
        "id": "SH6EOhEC3isV"
      },
      "execution_count": null,
      "outputs": []
    },
    {
      "cell_type": "code",
      "source": [
        "# Task5_0527. df3에서 각 학생의 평균 점수 계산 후 배열, 딕셔너리, 리스트로 변환하여 출력하세요.\n",
        "df3 = pd.DataFrame({\n",
        "    \"Name\": [\"Alice\", \"Bob\", \"Charlie\", \"David\", \"Eve\", \"Alice\", \"Bob\", \"Charlie\", \"David\", \"Eve\"],\n",
        "    \"Subject\": [\"Math\", \"Math\", \"Math\", \"Math\", \"Math\", \"English\", \"English\", \"English\", \"English\", \"English\"],\n",
        "    \"Score\": [85, 79, 88, 90, 76, 92, 85, 89, 93, 80]\n",
        "})"
      ],
      "metadata": {
        "id": "QaUbPbtF3ipU"
      },
      "execution_count": null,
      "outputs": []
    },
    {
      "cell_type": "code",
      "source": [
        "# Task6_0527. df4에서 특정 열의 데이터 타입을 변환한 후 변환된 타입을 확인하세요.\n",
        "df4 = pd.DataFrame({\n",
        "    'A': ['1', '2', '3', '4'],\n",
        "    'B': ['5.1', '6.2', '7.3', '8.4'],\n",
        "    'C': ['2021-01-01', '2021-02-01', '2021-03-01', '2021-04-01']\n",
        "})"
      ],
      "metadata": {
        "id": "ISxcZonB3imG"
      },
      "execution_count": null,
      "outputs": []
    },
    {
      "cell_type": "code",
      "source": [
        "# Task7_0527. df5에서 나이가 25 이상인 행을 출력하세요.\n",
        "df5 = pd.DataFrame({\n",
        "    'Name': ['Alice', 'Bob', 'Charlie', 'David', 'Eve'],\n",
        "    'Age': [24, 27, 22, 32, 29],\n",
        "    'City': ['New York', 'Los Angeles', 'Chicago', 'Houston', 'Phoenix']\n",
        "})"
      ],
      "metadata": {
        "id": "726wePpZ3ijD"
      },
      "execution_count": null,
      "outputs": []
    }
  ]
}