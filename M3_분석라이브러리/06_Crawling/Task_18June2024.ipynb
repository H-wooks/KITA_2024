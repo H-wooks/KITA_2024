{
 "cells": [
  {
   "cell_type": "code",
   "execution_count": 1,
   "metadata": {},
   "outputs": [],
   "source": [
    "from bs4 import BeautifulSoup\n",
    "\n",
    "html_doc = \"\"\"\n",
    "<html><head><title>The Dormouse's story</title></head>\n",
    "<body>\n",
    "<p class=\"title\"><b>The Dormouse's story</b></p>\n",
    "<a href=\"http://example.com/elsie\" class=\"sister\" id=\"link1\">Elsie</a>\n",
    "<a href=\"http://example.com/lacie\" class=\"sister\" id=\"link2\">Lacie</a>\n",
    "<a href=\"http://example.com/tillie\" class=\"sister\" id=\"link3\">Tillie</a>\n",
    "</body></html>\n",
    "\"\"\""
   ]
  },
  {
   "cell_type": "markdown",
   "metadata": {},
   "source": [
    "Task6_0618. 주어진 HTML 문서에서 모든  <a>  태그를 추출하세요."
   ]
  },
  {
   "cell_type": "code",
   "execution_count": 2,
   "metadata": {},
   "outputs": [
    {
     "name": "stdout",
     "output_type": "stream",
     "text": [
      "<a class=\"sister\" href=\"http://example.com/elsie\" id=\"link1\">Elsie</a>\n",
      "<a class=\"sister\" href=\"http://example.com/lacie\" id=\"link2\">Lacie</a>\n",
      "<a class=\"sister\" href=\"http://example.com/tillie\" id=\"link3\">Tillie</a>\n"
     ]
    }
   ],
   "source": [
    "## <a> 하이퍼링크를 정의. href 속성을 사용하여 링크 대상 URL을 지정\n",
    "\n",
    "soup = BeautifulSoup(html_doc,'html.parser')\n",
    "links=soup.find_all('a')\n",
    "for link in links:\n",
    "  print(link)"
   ]
  },
  {
   "cell_type": "markdown",
   "metadata": {},
   "source": [
    "Task7_0618. 주어진 HTML 문서에서 모든  <p>  태그를 추출하세요"
   ]
  },
  {
   "cell_type": "code",
   "execution_count": 3,
   "metadata": {},
   "outputs": [
    {
     "name": "stdout",
     "output_type": "stream",
     "text": [
      "<p class=\"title\"><b>The Dormouse's story</b></p>\n",
      "['title']\n",
      "The Dormouse's story\n"
     ]
    }
   ],
   "source": [
    "## <p> 단락을 정의\n",
    "soup = BeautifulSoup(html_doc,'html.parser')\n",
    "parags=soup.find_all('p')\n",
    "for parag in parags:\n",
    "  print(parag)\n",
    "  print(parag.get('class'))\n",
    "  print(parag.text)"
   ]
  },
  {
   "cell_type": "markdown",
   "metadata": {},
   "source": [
    "Task8_0618. 주어진 HTML 문서에서 모든 링크의 URL을 추출하세요"
   ]
  },
  {
   "cell_type": "code",
   "execution_count": 4,
   "metadata": {},
   "outputs": [
    {
     "name": "stdout",
     "output_type": "stream",
     "text": [
      "http://example.com/elsie\n",
      "http://example.com/lacie\n",
      "http://example.com/tillie\n"
     ]
    }
   ],
   "source": [
    "## <a> 하이퍼링크를 정의. href 속성을 사용하여 링크 대상 URL을 지정\n",
    "soup = BeautifulSoup(html_doc,'html.parser')\n",
    "links=soup.find_all('a')\n",
    "for link in links:\n",
    "  print(link.get('href'))"
   ]
  },
  {
   "cell_type": "markdown",
   "metadata": {},
   "source": [
    "Task9_0618. 주어진 HTML 문서에서 클래스가 sister인 모든 태그를 추출하세요"
   ]
  },
  {
   "cell_type": "code",
   "execution_count": 5,
   "metadata": {},
   "outputs": [
    {
     "name": "stdout",
     "output_type": "stream",
     "text": [
      "\n",
      "\n",
      "<a class=\"sister\" href=\"http://example.com/elsie\" id=\"link1\">Elsie</a>\n",
      "link1\n",
      "http://example.com/elsie\n",
      "Elsie\n",
      "\n",
      "\n",
      "<a class=\"sister\" href=\"http://example.com/lacie\" id=\"link2\">Lacie</a>\n",
      "link2\n",
      "http://example.com/lacie\n",
      "Lacie\n",
      "\n",
      "\n",
      "<a class=\"sister\" href=\"http://example.com/tillie\" id=\"link3\">Tillie</a>\n",
      "link3\n",
      "http://example.com/tillie\n",
      "Tillie\n"
     ]
    }
   ],
   "source": [
    "soup = BeautifulSoup(html_doc,'html.parser')\n",
    "sister_tags = soup.find_all(class_='sister')\n",
    "\n",
    "for sister in sister_tags:\n",
    "  print('\\n')\n",
    "  print(sister)\n",
    "  print(sister.get('id'))\n",
    "  print(sister.get('href'))\n",
    "  print(sister.text)"
   ]
  },
  {
   "cell_type": "markdown",
   "metadata": {},
   "source": [
    "Task10_0618. 주어진 HTML 문서에서 ID가 link1인 태그를 추출하세요"
   ]
  },
  {
   "cell_type": "code",
   "execution_count": 6,
   "metadata": {},
   "outputs": [
    {
     "name": "stdout",
     "output_type": "stream",
     "text": [
      "\n",
      "\n",
      "<a class=\"sister\" href=\"http://example.com/elsie\" id=\"link1\">Elsie</a>\n",
      "link1\n",
      "http://example.com/elsie\n",
      "Elsie\n"
     ]
    }
   ],
   "source": [
    "soup = BeautifulSoup(html_doc,'html.parser')\n",
    "ID_tags = soup.find_all(id='link1')\n",
    "\n",
    "for ID in ID_tags:\n",
    "  print('\\n')\n",
    "  print(ID)\n",
    "  print(ID.get('id'))\n",
    "  print(ID.get('href'))\n",
    "  print(ID.text)"
   ]
  },
  {
   "cell_type": "markdown",
   "metadata": {},
   "source": [
    "Task11_0618. 주어진 HTML 문서에서 모든 텍스트를 추출하세요."
   ]
  },
  {
   "cell_type": "code",
   "execution_count": 9,
   "metadata": {},
   "outputs": [
    {
     "name": "stdout",
     "output_type": "stream",
     "text": [
      "\n",
      "The Dormouse's story\n",
      "\n",
      "The Dormouse's story\n",
      "Elsie\n",
      "Lacie\n",
      "Tillie\n",
      "\n",
      "\n"
     ]
    }
   ],
   "source": [
    "soup = BeautifulSoup(html_doc,'html.parser')\n",
    "# 모든 텍스트 추출\n",
    "all_text = soup.get_text()\n",
    "print(all_text)"
   ]
  },
  {
   "cell_type": "markdown",
   "metadata": {},
   "source": [
    "Task12_0618. 주어진 HTML 문서에서 href 속성이 http://example.com/lacie인 태그를 추출하세요."
   ]
  },
  {
   "cell_type": "code",
   "execution_count": 8,
   "metadata": {},
   "outputs": [
    {
     "name": "stdout",
     "output_type": "stream",
     "text": [
      "<a class=\"sister\" href=\"http://example.com/lacie\" id=\"link2\">Lacie</a>\n",
      "http://example.com/lacie\n"
     ]
    }
   ],
   "source": [
    "## <a> 하이퍼링크를 정의. href 속성을 사용하여 링크 대상 URL을 지정\n",
    "soup = BeautifulSoup(html_doc,'html.parser')\n",
    "links=soup.find_all('a')\n",
    "for link in links:\n",
    "  if link.get('href')=='http://example.com/lacie':\n",
    "    print(link)\n",
    "    print(link.get('href'))"
   ]
  },
  {
   "cell_type": "code",
   "execution_count": 7,
   "metadata": {},
   "outputs": [
    {
     "name": "stdout",
     "output_type": "stream",
     "text": [
      "<a class=\"sister\" href=\"http://example.com/lacie\" id=\"link2\">Lacie</a>\n"
     ]
    }
   ],
   "source": [
    "## 강사님 답안\n",
    "soup = BeautifulSoup(html_doc,'html.parser')\n",
    "lacie_tag=soup.find(href='http://example.com/lacie')\n",
    "print(lacie_tag)"
   ]
  },
  {
   "cell_type": "markdown",
   "metadata": {},
   "source": [
    "Task13_0618. 주어진 HTML 문서에서 ID가 link1인 태그의 부모 태그를 추출하세요."
   ]
  },
  {
   "cell_type": "code",
   "execution_count": 10,
   "metadata": {},
   "outputs": [
    {
     "name": "stdout",
     "output_type": "stream",
     "text": [
      "ID가 link1인 태그: \n",
      "\n",
      "<a class=\"sister\" href=\"http://example.com/elsie\" id=\"link1\">Elsie</a>\n",
      "\n",
      "\n",
      "부모 태그: \n",
      "\n",
      "<body>\n",
      "<p class=\"title\"><b>The Dormouse's story</b></p>\n",
      "<a class=\"sister\" href=\"http://example.com/elsie\" id=\"link1\">Elsie</a>\n",
      "<a class=\"sister\" href=\"http://example.com/lacie\" id=\"link2\">Lacie</a>\n",
      "<a class=\"sister\" href=\"http://example.com/tillie\" id=\"link3\">Tillie</a>\n",
      "</body> \n",
      "\n",
      "부모 태그의 name: \n",
      "\n",
      "body\n",
      "부모 태그의 class: \n",
      "\n",
      "None\n",
      "부모 태그의 ID: \n",
      "\n",
      "None\n",
      "부모 태그의 text: \n",
      "\n",
      "\n",
      "The Dormouse's story\n",
      "Elsie\n",
      "Lacie\n",
      "Tillie\n",
      "\n"
     ]
    }
   ],
   "source": [
    "soup = BeautifulSoup(html_doc, 'html.parser')\n",
    "tag_link1 = soup.find(id='link1')\n",
    "print(\"ID가 link1인 태그: \\n\")\n",
    "print(tag_link1)\n",
    "parent_tag = tag_link1.parent\n",
    "print(\"\\n\\n부모 태그: \\n\")\n",
    "print(parent_tag,'\\n')\n",
    "print(\"부모 태그의 name: \\n\")\n",
    "print(parent_tag.name)\n",
    "print(\"부모 태그의 class: \\n\")\n",
    "print(parent_tag.get('class'))\n",
    "print(\"부모 태그의 ID: \\n\")\n",
    "print(parent_tag.get('id'))\n",
    "print(\"부모 태그의 text: \\n\")\n",
    "print(parent_tag.text)"
   ]
  },
  {
   "cell_type": "code",
   "execution_count": null,
   "metadata": {},
   "outputs": [],
   "source": [
    "from bs4 import BeautifulSoup\n",
    "\n",
    "html_doc = \"\"\"\n",
    "    <html><head><title>The Dormouse's story</title></head>\n",
    "    <body>\n",
    "        <p class=\"title\"><b>The Dormouse's story</b></p>\n",
    "        <a href=\"http://example.com/elsie\" class=\"sister\" id=\"link1\">Elsie</a>\n",
    "        <a href=\"http://example.com/lacie\" class=\"sister\" id=\"link2\">Lacie</a>\n",
    "        <a href=\"http://example.com/tillie\" class=\"sister\" id=\"link3\">Tillie</a>\n",
    "    </body></html>\n",
    "\"\"\""
   ]
  },
  {
   "cell_type": "markdown",
   "metadata": {},
   "source": [
    "Task14_0618. 주어진 HTML 문서에서 ID가 link1인 태그의 다음 형제 태그를 추출하세요."
   ]
  },
  {
   "cell_type": "code",
   "execution_count": 11,
   "metadata": {},
   "outputs": [
    {
     "name": "stdout",
     "output_type": "stream",
     "text": [
      "ID가 link1인 태그의 다음 형제 태그: \n",
      "\n",
      "<a class=\"sister\" href=\"http://example.com/lacie\" id=\"link2\">Lacie</a>\n",
      "다음 형제 태그의 name: \n",
      "\n",
      "a\n",
      "다음 형제 태그의 class: \n",
      "\n",
      "['sister']\n",
      "다음 형제 태그의 ID: \n",
      "\n",
      "link2\n",
      "다음 형제 태그의 text: \n",
      "\n",
      "Lacie\n"
     ]
    }
   ],
   "source": [
    "soup = BeautifulSoup(html_doc, 'html.parser')\n",
    "tag_link1 = soup.find(id='link1')\n",
    "# 다음 형제 태그 추출\n",
    "next_sibling_tag = tag_link1.find_next_sibling()\n",
    "print(\"ID가 link1인 태그의 다음 형제 태그: \\n\")\n",
    "print(next_sibling_tag)\n",
    "print(\"다음 형제 태그의 name: \\n\")\n",
    "print(next_sibling_tag.name)\n",
    "print(\"다음 형제 태그의 class: \\n\")\n",
    "print(next_sibling_tag.get('class'))\n",
    "print(\"다음 형제 태그의 ID: \\n\")\n",
    "print(next_sibling_tag.get('id'))\n",
    "print(\"다음 형제 태그의 text: \\n\")\n",
    "print(next_sibling_tag.text)"
   ]
  },
  {
   "cell_type": "code",
   "execution_count": 12,
   "metadata": {},
   "outputs": [
    {
     "name": "stdout",
     "output_type": "stream",
     "text": [
      "ID가 link2인 태그의 이전 형제 태그: \n",
      "\n",
      "<a class=\"sister\" href=\"http://example.com/elsie\" id=\"link1\">Elsie</a>\n",
      "이전 형제 태그의 name: \n",
      "\n",
      "a\n",
      "이전 형제 태그의 class: \n",
      "\n",
      "['sister']\n",
      "이전 형제 태그의 ID: \n",
      "\n",
      "link1\n",
      "이전 형제 태그의 text: \n",
      "\n",
      "Elsie\n"
     ]
    }
   ],
   "source": [
    "soup = BeautifulSoup(html_doc, 'html.parser')\n",
    "tag_link2 = soup.find(id='link2')\n",
    "# 이전 형제 태그 추출\n",
    "prev_sibling_tag = tag_link2.find_previous_sibling()\n",
    "print(\"ID가 link2인 태그의 이전 형제 태그: \\n\")\n",
    "print(prev_sibling_tag)\n",
    "print(\"이전 형제 태그의 name: \\n\")\n",
    "print(prev_sibling_tag.name)\n",
    "print(\"이전 형제 태그의 class: \\n\")\n",
    "print(prev_sibling_tag.get('class'))\n",
    "print(\"이전 형제 태그의 ID: \\n\")\n",
    "print(prev_sibling_tag.get('id'))\n",
    "print(\"이전 형제 태그의 text: \\n\")\n",
    "print(prev_sibling_tag.text)"
   ]
  },
  {
   "cell_type": "code",
   "execution_count": 15,
   "metadata": {},
   "outputs": [
    {
     "name": "stdout",
     "output_type": "stream",
     "text": [
      "<p> 태그의 부모 태그: body\n",
      "<a> 태그의 부모 태그: body\n",
      "<p> 태그와 <a> 태그는 형제 태그인가요? 예\n"
     ]
    }
   ],
   "source": [
    "soup = BeautifulSoup(html_doc, 'html.parser')\n",
    "## <p>, <a> 태그의 부모 태그 확인\n",
    "p_tag=soup.find('p')\n",
    "a_tag=soup.find('a')\n",
    "\n",
    "parent_p=p_tag.parent.name\n",
    "parent_a=a_tag.parent.name\n",
    "\n",
    "are_siblings=p_tag.find_next_sibling() == a_tag\n",
    "\n",
    "print(f\"<p> 태그의 부모 태그: {parent_p}\")\n",
    "print(f\"<a> 태그의 부모 태그: {parent_a}\")\n",
    "print(f\"<p> 태그와 <a> 태그는 형제 태그인가요? {'예' if are_siblings else '아니요'}\")"
   ]
  },
  {
   "cell_type": "code",
   "execution_count": 17,
   "metadata": {},
   "outputs": [
    {
     "name": "stdout",
     "output_type": "stream",
     "text": [
      "<p class=\"title\"><b>The Dormouse's story</b></p>\n",
      "b\n"
     ]
    }
   ],
   "source": [
    "## 자식 TAG 확인\n",
    "p_tag=soup.find('p', class_='title')\n",
    "print(p_tag)\n",
    "children_p=p_tag.children\n",
    "for child in children_p:\n",
    "    print(child.name)"
   ]
  },
  {
   "cell_type": "markdown",
   "metadata": {},
   "source": [
    "Task15_0618. 주어진 HTML 문서에서 ID가 link1인 태그의 href 속성 값을 추출하세요."
   ]
  },
  {
   "cell_type": "code",
   "execution_count": 20,
   "metadata": {},
   "outputs": [
    {
     "name": "stdout",
     "output_type": "stream",
     "text": [
      "ID가 link1인 태그의 href 속성 값: \n",
      "\n",
      "http://example.com/elsie\n"
     ]
    }
   ],
   "source": [
    "soup = BeautifulSoup(html_doc, 'html.parser')\n",
    "tag_link1 = soup.find(id='link1')\n",
    "#href_value = tag_link1.get('href')\n",
    "href_value = tag_link1['href']\n",
    "print(\"ID가 link1인 태그의 href 속성 값: \\n\")\n",
    "print(href_value)"
   ]
  }
 ],
 "metadata": {
  "kernelspec": {
   "display_name": "myenv",
   "language": "python",
   "name": "python3"
  },
  "language_info": {
   "codemirror_mode": {
    "name": "ipython",
    "version": 3
   },
   "file_extension": ".py",
   "mimetype": "text/x-python",
   "name": "python",
   "nbconvert_exporter": "python",
   "pygments_lexer": "ipython3",
   "version": "3.10.11"
  }
 },
 "nbformat": 4,
 "nbformat_minor": 2
}
